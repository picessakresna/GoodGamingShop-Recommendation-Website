{
  "cells": [
    {
      "cell_type": "markdown",
      "metadata": {
        "id": "view-in-github",
        "colab_type": "text"
      },
      "source": [
        "<a href=\"https://colab.research.google.com/github/picessakresna/TID046302-Data-Science-Programming/blob/main/Cheatsheet/code/matplotlib.ipynb\" target=\"_parent\"><img src=\"https://colab.research.google.com/assets/colab-badge.svg\" alt=\"Open In Colab\"/></a>"
      ]
    },
    {
      "cell_type": "markdown",
      "metadata": {
        "id": "Pgczp6gwi4LY"
      },
      "source": [
        "# Matplotlib"
      ]
    },
    {
      "cell_type": "markdown",
      "metadata": {
        "id": "SzWCHdH9i7md"
      },
      "source": [
        "Matplotlib is a Python 2D plotting library which produces\n",
        "publication-quality figures in a variety of hardcopy formats\n",
        "and interactive environments across\n",
        "platforms."
      ]
    },
    {
      "cell_type": "markdown",
      "metadata": {
        "id": "rV7JukdzjILt"
      },
      "source": [
        "## Prepare The Data"
      ]
    },
    {
      "cell_type": "markdown",
      "metadata": {
        "id": "TZS48LiSjAiK"
      },
      "source": [
        "### 1D Data"
      ]
    },
    {
      "cell_type": "code",
      "execution_count": null,
      "metadata": {
        "id": "cMU6NzXji46d"
      },
      "outputs": [],
      "source": [
        "import numpy as np\n",
        "x = np.linspace(0, 10, 100)\n",
        "y = np.cos(x)\n",
        "z = np.sin(x)"
      ]
    },
    {
      "cell_type": "markdown",
      "metadata": {
        "id": "q9flqm8PjBvy"
      },
      "source": [
        "### 2D Data or Images"
      ]
    },
    {
      "cell_type": "code",
      "execution_count": null,
      "metadata": {
        "id": "OC42rftIjCuS"
      },
      "outputs": [],
      "source": [
        "data = 2 * np.random.random((10, 10))\n",
        "data2 = 3 * np.random.random((10, 10))\n",
        "Y, X = np.mgrid[-3:3:100j, -3:3:100j]\n",
        "U = -1 - X**2 + Y\n",
        "V = 1 + X - Y**2\n",
        "from matplotlib.cbook import get_sample_data\n",
        "img = np.load(get_sample_data('axes_grid/bivariate_normal.npy'))"
      ]
    },
    {
      "cell_type": "markdown",
      "metadata": {
        "id": "e4vDqmZajE1V"
      },
      "source": [
        "### Create Plot"
      ]
    },
    {
      "cell_type": "code",
      "execution_count": null,
      "metadata": {
        "id": "P8iW3lIljJ0c"
      },
      "outputs": [],
      "source": [
        "import matplotlib.pyplot as plt"
      ]
    },
    {
      "cell_type": "markdown",
      "metadata": {
        "id": "_IYnjIRQjM2w"
      },
      "source": [
        "### Figure"
      ]
    },
    {
      "cell_type": "code",
      "execution_count": null,
      "metadata": {
        "id": "RPJT73SnjLJD"
      },
      "outputs": [],
      "source": [
        "fig = plt.figure()\n",
        "fig2 = plt.figure(figsize=plt.figaspect(2.0))"
      ]
    },
    {
      "cell_type": "markdown",
      "metadata": {
        "id": "T5Qe6renjQCF"
      },
      "source": [
        "### Axes"
      ]
    },
    {
      "cell_type": "code",
      "execution_count": null,
      "metadata": {
        "id": "jQgZyLbojNst"
      },
      "outputs": [],
      "source": [
        "fig.add_axes()\n",
        "ax1 = fig.add_subplot(221) # row-col-num\n",
        "ax3 = fig.add_subplot(212)\n",
        "fig3, axes = plt.subplots(nrows=2,ncols=2)\n",
        "fig4, axes2 = plt.subplots(ncols=3)"
      ]
    },
    {
      "cell_type": "markdown",
      "metadata": {
        "id": "WerK9rVojifT"
      },
      "source": [
        "## Plotting Routines"
      ]
    },
    {
      "cell_type": "markdown",
      "metadata": {
        "id": "7xKFJikRjkfy"
      },
      "source": [
        "### 1D Data"
      ]
    },
    {
      "cell_type": "code",
      "execution_count": null,
      "metadata": {
        "id": "6AQiF-9VjjBf"
      },
      "outputs": [],
      "source": [
        "fig, ax = plt.subplots()\n",
        "lines = ax.plot(x,y)\n",
        "ax.scatter(x,y)\n",
        "axes[0,0].bar([1,2,3],[3,4,5])\n",
        "axes[1,0].barh([0.5,1,2.5],[0,1,2])\n",
        "axes[1,1].axhline(0.45)\n",
        "axes[0,1].axvline(0.65)\n",
        "ax.fill(x,y,color='blue')\n",
        "ax.fill_between(x,y,color='yellow')"
      ]
    },
    {
      "cell_type": "markdown",
      "metadata": {
        "id": "L6vwLjDJjorX"
      },
      "source": [
        "### 2D Data or Images"
      ]
    },
    {
      "cell_type": "code",
      "execution_count": null,
      "metadata": {
        "id": "eiGcd8PEjp1-"
      },
      "outputs": [],
      "source": [
        "fig, ax = plt.subplots()\n",
        "im = ax.imshow(img,\n",
        "               cmap='gist_earth',\n",
        "               interpolation='nearest',\n",
        "               vmin=-2,\n",
        "               vmax=2)\n",
        "axes2[0].pcolor(data2)\n",
        "axes2[0].pcolormesh(data)\n",
        "CS = plt.contour(Y,X,U)\n",
        "axes2[2].contourf(data1)\n",
        "axes2[2]= ax.clabel(CS)"
      ]
    },
    {
      "cell_type": "markdown",
      "metadata": {
        "id": "vYxdB5mHjr-O"
      },
      "source": [
        "### Vector Fields"
      ]
    },
    {
      "cell_type": "code",
      "execution_count": null,
      "metadata": {
        "id": "EiP0_HOujsbU"
      },
      "outputs": [],
      "source": [
        "axes[0,1].arrow(0,0,0.5,0.5)\n",
        "axes[1,1].quiver(y,z)\n",
        "axes[0,1].streamplot(X,Y,U,V)"
      ]
    },
    {
      "cell_type": "markdown",
      "metadata": {
        "id": "ywP2cgAKjt2f"
      },
      "source": [
        "### Data Distributions"
      ]
    },
    {
      "cell_type": "code",
      "execution_count": null,
      "metadata": {
        "id": "BbP3HALzjuvo"
      },
      "outputs": [],
      "source": [
        "ax1.hist(y)\n",
        "ax3.boxplot(y)\n",
        "ax3.violinplot(z)"
      ]
    },
    {
      "cell_type": "markdown",
      "metadata": {
        "id": "eLFA1qPZj3HX"
      },
      "source": [
        "## Plot Anatomy & Workflow"
      ]
    },
    {
      "cell_type": "markdown",
      "metadata": {
        "id": "BfeQZ08ej4kz"
      },
      "source": [
        "### Plot Anatomy"
      ]
    },
    {
      "cell_type": "markdown",
      "metadata": {
        "id": "UepXGOLVj6TP"
      },
      "source": [
        "### Workflow"
      ]
    },
    {
      "cell_type": "code",
      "execution_count": null,
      "metadata": {
        "id": "jL5KsP0aj7hP"
      },
      "outputs": [],
      "source": [
        "import matplotlib.pyplot as plt\n",
        "x = [1,2,3,4]\n",
        "y = [10,20,25,30]\n",
        "fig = plt.figure()\n",
        "ax = fig.add_subplot(111)\n",
        "ax.plot(x, y, color='lightblue', linewidth=3)\n",
        "ax.scatter ([2,4,6],\n",
        "            [5,15,25],\n",
        "            color='darkgreen',\n",
        "            marker='^')\n",
        "ax.set_xlim(1, 6.5)\n",
        "plt.savefig('foo.png')\n",
        "plt.show()"
      ]
    },
    {
      "cell_type": "markdown",
      "metadata": {
        "id": "sNE4-P5ej9sA"
      },
      "source": [
        "## Customize Plot"
      ]
    },
    {
      "cell_type": "markdown",
      "metadata": {
        "id": "6qtC0Dp0j_cP"
      },
      "source": [
        "### Colors, Color Bars & Color Maps"
      ]
    },
    {
      "cell_type": "code",
      "execution_count": null,
      "metadata": {
        "id": "Yk2eSVjOkAvt"
      },
      "outputs": [],
      "source": [
        " plt.plot(x, x, x, x**2, x, x**3)\n",
        " ax.plot(x, y, alpha = 0.4)\n",
        " ax.plot(x, y, c='k')\n",
        " fig.colorbar(im, orientation='horizontal')\n",
        " im = ax.imshow(img,\n",
        "                cmap='seismic')"
      ]
    },
    {
      "cell_type": "markdown",
      "metadata": {
        "id": "wtGRE8dukFYf"
      },
      "source": [
        "### Markers"
      ]
    },
    {
      "cell_type": "code",
      "execution_count": null,
      "metadata": {
        "id": "6mZrIvaekC7J"
      },
      "outputs": [],
      "source": [
        "fig, ax = plt.subplots()\n",
        "ax.scatter(x,y,marker=\".\")\n",
        "ax.plot(x,y,marker=\"o\")"
      ]
    },
    {
      "cell_type": "markdown",
      "metadata": {
        "id": "bha9ucVWkG5o"
      },
      "source": [
        "### Linestyles"
      ]
    },
    {
      "cell_type": "code",
      "execution_count": null,
      "metadata": {
        "id": "8UldGukEkIBs"
      },
      "outputs": [],
      "source": [
        "plt.plot(x,y,linewidth=4.0)\n",
        "plt.plot(x,y,ls='solid')\n",
        "plt.plot(x,y,ls='--')\n",
        "plt.plot(x,y,'--',x**2,y**2,'-.')\n",
        "plt.setp(lines,color='r',linewidth=4.0)"
      ]
    },
    {
      "cell_type": "markdown",
      "metadata": {
        "id": "DVfcJ5jrkKER"
      },
      "source": [
        "### Text & Annotations"
      ]
    },
    {
      "cell_type": "code",
      "execution_count": null,
      "metadata": {
        "id": "6Nz02VZakKvt"
      },
      "outputs": [],
      "source": [
        "ax.text(1,\n",
        "        -2.1,\n",
        "        'Example Graph',\n",
        "        style='italic')\n",
        "ax.annotate(\"Sine\",\n",
        "            xy=(8, 0),\n",
        "            xycoords='data',\n",
        "            xytext=(10.5, 0),\n",
        "            textcoords='data',\n",
        "            arrowprops=dict(arrowstyle=\"->\",\n",
        "                            connectionstyle=\"arc3\"),)"
      ]
    },
    {
      "cell_type": "markdown",
      "metadata": {
        "id": "qQ17dptgkMFq"
      },
      "source": [
        "### Mathtext"
      ]
    },
    {
      "cell_type": "code",
      "execution_count": null,
      "metadata": {
        "id": "440CIv8ykNq-"
      },
      "outputs": [],
      "source": [
        "plt.title(r'$sigma_i=15$', fontsize=20)"
      ]
    },
    {
      "cell_type": "markdown",
      "metadata": {
        "id": "mfc5X5oGkO7C"
      },
      "source": [
        "### Limits, Legends & Layouts"
      ]
    },
    {
      "cell_type": "code",
      "execution_count": null,
      "metadata": {
        "id": "82SLjZ4XkRSn"
      },
      "outputs": [],
      "source": [
        "Limits & Autoscaling\n",
        "ax.margins(x=0.0,y=0.1)\n",
        "ax.axis('equal')\n",
        "ax.set(xlim=[0,10.5],ylim=[-1.5,1.5])\n",
        "ax.set_xlim(0,10.5)\n",
        "\n",
        "Legends\n",
        "ax.set(title='An Example Axes',\n",
        "       ylabel='Y-Axis',\n",
        "       xlabel='X-Axis')\n",
        "ax.legend(loc='best')\n",
        "\n",
        "Ticks\n",
        "ax.xaxis.set(ticks=range(1,5),\n",
        "             ticklabels=[3,100,-12,\"foo\"])\n",
        "ax.tick_params(axis='y',\n",
        "               direction='inout',\n",
        "               length=10)\n",
        "\n",
        "Subplot Spacing\n",
        "fig3.subplots_adjust(wspace=0.5,\n",
        "                     hspace=0.3,\n",
        "                     left=0.125,\n",
        "                     right=0.9,\n",
        "                     top=0.9,\n",
        "                     bottom=0.1)\n",
        "fig.tight_layout()\n",
        "\n",
        "Axis Spines\n",
        "ax1.spines['top'].set_visible(False)\n",
        "ax1.spines['bottom'].set_position(('outward',10))"
      ]
    },
    {
      "cell_type": "markdown",
      "source": [
        "## Save Plot"
      ],
      "metadata": {
        "id": "CxtAlgMQT_VZ"
      }
    },
    {
      "cell_type": "code",
      "execution_count": null,
      "metadata": {
        "id": "70TIvMWbkVVf"
      },
      "outputs": [],
      "source": [
        "Save figures\n",
        "plt.savefig('foo.png')\n",
        "\n",
        "Save transparent figures\n",
        "plt.savefig('foo.png', transparent=True)"
      ]
    },
    {
      "cell_type": "markdown",
      "metadata": {
        "id": "id3v81TDkVz7"
      },
      "source": [
        "## Show Plot"
      ]
    },
    {
      "cell_type": "code",
      "execution_count": null,
      "metadata": {
        "id": "i8mO5I-ukW1q"
      },
      "outputs": [],
      "source": [
        "plt.show()"
      ]
    },
    {
      "cell_type": "markdown",
      "metadata": {
        "id": "o3zm6ZkBkbQn"
      },
      "source": [
        "## Close & Clear"
      ]
    },
    {
      "cell_type": "code",
      "execution_count": null,
      "metadata": {
        "id": "9mXZLdj_kdV3"
      },
      "outputs": [],
      "source": [
        "plt.cla()\n",
        "plt.clf()\n",
        "plt.close()"
      ]
    },
    {
      "cell_type": "markdown",
      "metadata": {
        "id": "cVX4yqdtnPtq"
      },
      "source": [
        "\n",
        "\n",
        "---\n",
        "\n"
      ]
    }
  ],
  "metadata": {
    "colab": {
      "provenance": [],
      "include_colab_link": true
    },
    "kernelspec": {
      "display_name": "Python 3",
      "name": "python3"
    },
    "language_info": {
      "name": "python"
    }
  },
  "nbformat": 4,
  "nbformat_minor": 0
}
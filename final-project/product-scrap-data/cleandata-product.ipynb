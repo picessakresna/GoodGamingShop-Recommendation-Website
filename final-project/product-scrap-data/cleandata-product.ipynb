{
 "cells": [
  {
   "cell_type": "code",
   "execution_count": 42,
   "id": "029ee7e2",
   "metadata": {
    "execution": {
     "iopub.execute_input": "2024-04-17T04:22:19.424581Z",
     "iopub.status.busy": "2024-04-17T04:22:19.424199Z",
     "iopub.status.idle": "2024-04-17T04:22:19.428158Z",
     "shell.execute_reply": "2024-04-17T04:22:19.427332Z"
    },
    "papermill": {
     "duration": 0.022971,
     "end_time": "2024-04-17T04:22:19.430070",
     "exception": false,
     "start_time": "2024-04-17T04:22:19.407099",
     "status": "completed"
    },
    "tags": []
   },
   "outputs": [],
   "source": [
    "import numpy as np\n",
    "import pandas as pd"
   ]
  },
  {
   "cell_type": "code",
   "execution_count": 43,
   "id": "293ce518",
   "metadata": {
    "execution": {
     "iopub.execute_input": "2024-04-17T04:22:19.463454Z",
     "iopub.status.busy": "2024-04-17T04:22:19.463203Z",
     "iopub.status.idle": "2024-04-17T04:22:19.650006Z",
     "shell.execute_reply": "2024-04-17T04:22:19.649114Z"
    },
    "papermill": {
     "duration": 0.206823,
     "end_time": "2024-04-17T04:22:19.652339",
     "exception": false,
     "start_time": "2024-04-17T04:22:19.445516",
     "status": "completed"
    },
    "tags": []
   },
   "outputs": [],
   "source": [
    "df_awal = pd.read_csv('../product-scrap-data/data-produk/product-goodgamingshop.csv')"
   ]
  },
  {
   "cell_type": "code",
   "execution_count": 44,
   "id": "aa415745",
   "metadata": {},
   "outputs": [],
   "source": [
    "df = df_awal.copy()"
   ]
  },
  {
   "cell_type": "code",
   "execution_count": 45,
   "id": "939105c1",
   "metadata": {},
   "outputs": [
    {
     "data": {
      "text/html": [
       "<div>\n",
       "<style scoped>\n",
       "    .dataframe tbody tr th:only-of-type {\n",
       "        vertical-align: middle;\n",
       "    }\n",
       "\n",
       "    .dataframe tbody tr th {\n",
       "        vertical-align: top;\n",
       "    }\n",
       "\n",
       "    .dataframe thead th {\n",
       "        text-align: right;\n",
       "    }\n",
       "</style>\n",
       "<table border=\"1\" class=\"dataframe\">\n",
       "  <thead>\n",
       "    <tr style=\"text-align: right;\">\n",
       "      <th></th>\n",
       "      <th>Nama Produk</th>\n",
       "      <th>Kategori</th>\n",
       "      <th>Jumlah</th>\n",
       "      <th>Harga Jual</th>\n",
       "      <th>Harga Awal</th>\n",
       "      <th>Diskon</th>\n",
       "      <th>Deskripsi</th>\n",
       "      <th>Rating</th>\n",
       "      <th>Rating Counter</th>\n",
       "      <th>Link</th>\n",
       "    </tr>\n",
       "  </thead>\n",
       "  <tbody>\n",
       "    <tr>\n",
       "      <th>0</th>\n",
       "      <td>AKKO CS SWITCH MECHANICAL KEYBOARD - ROSE RED,...</td>\n",
       "      <td>Home|Komputer &amp; Laptop|Aksesoris PC Gaming|Gam...</td>\n",
       "      <td>Terjual 7 rb+</td>\n",
       "      <td>Rp3.599</td>\n",
       "      <td>Rp4.600</td>\n",
       "      <td>22%</td>\n",
       "      <td>JAM OPERASIONAL\\nSenin - Minggu : 10:00 - 19:0...</td>\n",
       "      <td>5</td>\n",
       "      <td>(166 rating)</td>\n",
       "      <td>https://www.tokopedia.com/goodgamingshop/akko-...</td>\n",
       "    </tr>\n",
       "    <tr>\n",
       "      <th>1</th>\n",
       "      <td>Zaku Switch Linear 63,5g PCB Mount - Keyboard ...</td>\n",
       "      <td>Home|Komputer &amp; Laptop|Aksesoris PC Gaming|Gam...</td>\n",
       "      <td>Terjual 7 rb+</td>\n",
       "      <td>Rp7.999</td>\n",
       "      <td>Rp10.499</td>\n",
       "      <td>24%</td>\n",
       "      <td>JAM OPERASIONAL\\nSenin - Minggu : 10:00 - 19:0...</td>\n",
       "      <td>4.9</td>\n",
       "      <td>(92 rating)</td>\n",
       "      <td>https://www.tokopedia.com/goodgamingshop/zaku-...</td>\n",
       "    </tr>\n",
       "    <tr>\n",
       "      <th>2</th>\n",
       "      <td>GATERON SWITCH - PLATE MOUNT - Cokelat</td>\n",
       "      <td>Home|Komputer &amp; Laptop|Aksesoris Komputer &amp; La...</td>\n",
       "      <td>Terjual 4 rb+</td>\n",
       "      <td>Rp3.500</td>\n",
       "      <td>Rp3.500</td>\n",
       "      <td>0</td>\n",
       "      <td>JAM OPERASIONAL\\n✅ Senin - Minggu : 10:00 - 19...</td>\n",
       "      <td>5</td>\n",
       "      <td>(111 rating)</td>\n",
       "      <td>https://www.tokopedia.com/goodgamingshop/gater...</td>\n",
       "    </tr>\n",
       "    <tr>\n",
       "      <th>3</th>\n",
       "      <td>GATERON Optical MX Switch for Mechanical Gamin...</td>\n",
       "      <td>Home|Komputer &amp; Laptop|Aksesoris Komputer &amp; La...</td>\n",
       "      <td>Terjual 3 rb+</td>\n",
       "      <td>Rp3.500</td>\n",
       "      <td>Rp3.500</td>\n",
       "      <td>0</td>\n",
       "      <td>JAM OPERASIONAL\\n✅ Senin - Minggu : 10:00 - 19...</td>\n",
       "      <td>5</td>\n",
       "      <td>(89 rating)</td>\n",
       "      <td>https://www.tokopedia.com/goodgamingshop/gater...</td>\n",
       "    </tr>\n",
       "    <tr>\n",
       "      <th>4</th>\n",
       "      <td>Ekstra Packaging Bubble Wrap</td>\n",
       "      <td>Home|Perlengkapan Pesta|Bungkus Kemasan|Bubble...</td>\n",
       "      <td>Terjual 3 rb+</td>\n",
       "      <td>Rp3.100</td>\n",
       "      <td>Rp3.100</td>\n",
       "      <td>0</td>\n",
       "      <td>Deskripsi Ekstra Packaging Bubble Wrap\\nHai ga...</td>\n",
       "      <td>4.9</td>\n",
       "      <td>(1.800 rating)</td>\n",
       "      <td>https://www.tokopedia.com/goodgamingshop/ekstr...</td>\n",
       "    </tr>\n",
       "  </tbody>\n",
       "</table>\n",
       "</div>"
      ],
      "text/plain": [
       "                                         Nama Produk  \\\n",
       "0  AKKO CS SWITCH MECHANICAL KEYBOARD - ROSE RED,...   \n",
       "1  Zaku Switch Linear 63,5g PCB Mount - Keyboard ...   \n",
       "2             GATERON SWITCH - PLATE MOUNT - Cokelat   \n",
       "3  GATERON Optical MX Switch for Mechanical Gamin...   \n",
       "4                       Ekstra Packaging Bubble Wrap   \n",
       "\n",
       "                                            Kategori         Jumlah  \\\n",
       "0  Home|Komputer & Laptop|Aksesoris PC Gaming|Gam...  Terjual 7 rb+   \n",
       "1  Home|Komputer & Laptop|Aksesoris PC Gaming|Gam...  Terjual 7 rb+   \n",
       "2  Home|Komputer & Laptop|Aksesoris Komputer & La...  Terjual 4 rb+   \n",
       "3  Home|Komputer & Laptop|Aksesoris Komputer & La...  Terjual 3 rb+   \n",
       "4  Home|Perlengkapan Pesta|Bungkus Kemasan|Bubble...  Terjual 3 rb+   \n",
       "\n",
       "  Harga Jual Harga Awal Diskon  \\\n",
       "0    Rp3.599    Rp4.600    22%   \n",
       "1    Rp7.999   Rp10.499    24%   \n",
       "2    Rp3.500    Rp3.500      0   \n",
       "3    Rp3.500    Rp3.500      0   \n",
       "4    Rp3.100    Rp3.100      0   \n",
       "\n",
       "                                           Deskripsi Rating  Rating Counter  \\\n",
       "0  JAM OPERASIONAL\\nSenin - Minggu : 10:00 - 19:0...      5    (166 rating)   \n",
       "1  JAM OPERASIONAL\\nSenin - Minggu : 10:00 - 19:0...    4.9     (92 rating)   \n",
       "2  JAM OPERASIONAL\\n✅ Senin - Minggu : 10:00 - 19...      5    (111 rating)   \n",
       "3  JAM OPERASIONAL\\n✅ Senin - Minggu : 10:00 - 19...      5     (89 rating)   \n",
       "4  Deskripsi Ekstra Packaging Bubble Wrap\\nHai ga...    4.9  (1.800 rating)   \n",
       "\n",
       "                                                Link  \n",
       "0  https://www.tokopedia.com/goodgamingshop/akko-...  \n",
       "1  https://www.tokopedia.com/goodgamingshop/zaku-...  \n",
       "2  https://www.tokopedia.com/goodgamingshop/gater...  \n",
       "3  https://www.tokopedia.com/goodgamingshop/gater...  \n",
       "4  https://www.tokopedia.com/goodgamingshop/ekstr...  "
      ]
     },
     "execution_count": 45,
     "metadata": {},
     "output_type": "execute_result"
    }
   ],
   "source": [
    "df.head()"
   ]
  },
  {
   "cell_type": "code",
   "execution_count": 46,
   "id": "3d041c79",
   "metadata": {
    "execution": {
     "iopub.execute_input": "2024-04-17T04:22:19.685283Z",
     "iopub.status.busy": "2024-04-17T04:22:19.685019Z",
     "iopub.status.idle": "2024-04-17T04:22:19.690307Z",
     "shell.execute_reply": "2024-04-17T04:22:19.689379Z"
    },
    "papermill": {
     "duration": 0.023924,
     "end_time": "2024-04-17T04:22:19.692378",
     "exception": false,
     "start_time": "2024-04-17T04:22:19.668454",
     "status": "completed"
    },
    "tags": []
   },
   "outputs": [
    {
     "data": {
      "text/plain": [
       "(2831, 10)"
      ]
     },
     "execution_count": 46,
     "metadata": {},
     "output_type": "execute_result"
    }
   ],
   "source": [
    "df.shape"
   ]
  },
  {
   "cell_type": "code",
   "execution_count": 47,
   "id": "adac8b6a",
   "metadata": {
    "execution": {
     "iopub.execute_input": "2024-04-17T04:22:19.724969Z",
     "iopub.status.busy": "2024-04-17T04:22:19.724686Z",
     "iopub.status.idle": "2024-04-17T04:22:19.783631Z",
     "shell.execute_reply": "2024-04-17T04:22:19.782801Z"
    },
    "papermill": {
     "duration": 0.077655,
     "end_time": "2024-04-17T04:22:19.785537",
     "exception": false,
     "start_time": "2024-04-17T04:22:19.707882",
     "status": "completed"
    },
    "tags": []
   },
   "outputs": [
    {
     "name": "stdout",
     "output_type": "stream",
     "text": [
      "<class 'pandas.core.frame.DataFrame'>\n",
      "RangeIndex: 2831 entries, 0 to 2830\n",
      "Data columns (total 10 columns):\n",
      " #   Column          Non-Null Count  Dtype \n",
      "---  ------          --------------  ----- \n",
      " 0   Nama Produk     2831 non-null   object\n",
      " 1   Kategori        2831 non-null   object\n",
      " 2   Jumlah          2831 non-null   object\n",
      " 3   Harga Jual      2831 non-null   object\n",
      " 4   Harga Awal      2831 non-null   object\n",
      " 5   Diskon          2831 non-null   object\n",
      " 6   Deskripsi       2831 non-null   object\n",
      " 7   Rating          2831 non-null   object\n",
      " 8   Rating Counter  2831 non-null   object\n",
      " 9   Link            2831 non-null   object\n",
      "dtypes: object(10)\n",
      "memory usage: 221.3+ KB\n"
     ]
    }
   ],
   "source": [
    "df.info()"
   ]
  },
  {
   "cell_type": "markdown",
   "id": "ce45a32e",
   "metadata": {
    "papermill": {
     "duration": 0.017337,
     "end_time": "2024-04-17T04:22:19.820191",
     "exception": false,
     "start_time": "2024-04-17T04:22:19.802854",
     "status": "completed"
    },
    "tags": []
   },
   "source": [
    "## Data Cleaning & Pre Processing:"
   ]
  },
  {
   "cell_type": "code",
   "execution_count": 48,
   "id": "6ee2873d",
   "metadata": {},
   "outputs": [],
   "source": [
    "df = df.rename(columns={\n",
    "    'Nama Produk': 'nama_produk',\n",
    "    'Kategori': 'kategori_produk',\n",
    "    'Jumlah': 'jumlah_terjual',\n",
    "    'Harga Jual': 'harga_jual',\n",
    "    'Harga Awal': 'harga_awal',\n",
    "    'Diskon': 'diskon',\n",
    "    'Deskripsi': 'deskripsi',\n",
    "    'Rating': 'rating',\n",
    "    'Rating Counter': 'rating_counter',\n",
    "    'Link': 'link'\n",
    "})\n"
   ]
  },
  {
   "cell_type": "code",
   "execution_count": 49,
   "id": "ad30a599",
   "metadata": {},
   "outputs": [
    {
     "name": "stdout",
     "output_type": "stream",
     "text": [
      "<class 'pandas.core.frame.DataFrame'>\n",
      "RangeIndex: 2831 entries, 0 to 2830\n",
      "Data columns (total 10 columns):\n",
      " #   Column           Non-Null Count  Dtype \n",
      "---  ------           --------------  ----- \n",
      " 0   nama_produk      2831 non-null   object\n",
      " 1   kategori_produk  2831 non-null   object\n",
      " 2   jumlah_terjual   2831 non-null   object\n",
      " 3   harga_jual       2831 non-null   object\n",
      " 4   harga_awal       2831 non-null   object\n",
      " 5   diskon           2831 non-null   object\n",
      " 6   deskripsi        2831 non-null   object\n",
      " 7   rating           2831 non-null   object\n",
      " 8   rating_counter   2831 non-null   object\n",
      " 9   link             2831 non-null   object\n",
      "dtypes: object(10)\n",
      "memory usage: 221.3+ KB\n"
     ]
    }
   ],
   "source": [
    "df.info()"
   ]
  },
  {
   "cell_type": "code",
   "execution_count": 50,
   "id": "831a5c9e",
   "metadata": {},
   "outputs": [
    {
     "name": "stdout",
     "output_type": "stream",
     "text": [
      "Jumlah Duplikat pada Kolom 'Nama Produk': 218\n"
     ]
    }
   ],
   "source": [
    "# Menghitung jumlah duplikat berdasarkan kolom \"Nama Produk\"\n",
    "jumlah_duplikat_produk = df.duplicated(subset=['nama_produk']).sum()\n",
    "\n",
    "print(\"Jumlah Duplikat pada Kolom 'Nama Produk':\", jumlah_duplikat_produk)\n"
   ]
  },
  {
   "cell_type": "code",
   "execution_count": 51,
   "id": "4641dcae",
   "metadata": {},
   "outputs": [
    {
     "name": "stdout",
     "output_type": "stream",
     "text": [
      "Nama Produk yang Duplikat:\n",
      "['Digital Alliance Throne Classic - Gaming Chair - Cokelat'\n",
      " 'ONEX EV12 EVOLUTION KURSI GAMING CHAIR - Merah'\n",
      " 'ONEX EV10 EVOLUTION SERIES KURSI GAMING CHAIR - Merah'\n",
      " 'FANTECH Smart Power Strip Stop Kontak WIFI - SPS0101'\n",
      " 'FANTECH Adaptor Kabel untuk LED Light Strip - LA1A01'\n",
      " 'DURGOD K330W MECHANICAL KEYBOARD - Gaming Keyboard - Hitam, Yellow Switch'\n",
      " 'CORSAIR 275R AIRFLOW WHITE icue H150i RGB PRO XT + CX750F WHITE'\n",
      " 'ASUS ProArt PA24AC HDR Professional Monitor - WUXGA, HDR-10'\n",
      " 'ASUS ProArt Display PA27AC HDR Professional Monitor 100% of sRGB'\n",
      " 'ASUS ProArt Display PA329C 4K HDR Professional Monitor 100% Adobe RGB,'\n",
      " 'ASUS ProArt PA32UC 4K HDR Professional Monitor 4K, HDR'\n",
      " 'ASUS ProArt Display PA34VC Curved Professional Monitor - 100% sRGB'\n",
      " 'MSI CREATOR PS321QR MONITOR 32\" WQHD 1440p, 165Hz, IPS'\n",
      " 'DarkFlash RC800 / RC-800 Kursi Gaming - Gaming Chair'\n",
      " 'MSI OPTIX G273QF Monitor IPS 165Hz WQHD G-Sync Compatible'\n",
      " 'Thrustmaster HOTAS Warthog™ Dual Throttles PC'\n",
      " 'Thrustmaster TH8A Add-On Shifter For PS4, PS3, Xbox One, PC - TH8A'\n",
      " 'Thrustmaster T-Racing Scuderia Ferrari Edition-DTS For PC/ Xbox®/PS4 - Scuderia Only'\n",
      " 'Philips G413 / G-413 PH-SPK9413 - Mouse Gaming'\n",
      " 'Imperion Gaming Chair Phoenix 502 / Phoenix-502 Kursi Gaming - Black White'\n",
      " 'Imperion Phoenix 701 / Phoenix-701 Professional Gaming Chair - Biru'\n",
      " 'Ducky Keycaps S9C3-S104-USP PBT Keycaps Set - White Pink'\n",
      " 'Ducky Keycaps S9C3-L108-USA LW / LR ABS Keycaps Set - Merah'\n",
      " 'BenQ GW2780T Monitor 27inch IPS Full HD Eye Care Height Adjustable LED'\n",
      " 'Leopold FC750R Yellow Blue Mechanical Gaming Keyboard - Red Silent'\n",
      " \"MSI Creator PS321URV 32'' 4K UHD IPS VESA Certified - Monitor\"\n",
      " 'ASUS TUF Gaming VG27AQGL1A ZAKU II EDITION HDR Gaming Monitor 27\" WQHD'\n",
      " 'THRUSTMASTER Eswap T.Case - Controller Case'\n",
      " 'VIEWSONIC XG270QG 27\" 165Hz Native - Gaming Monitor'\n",
      " 'VIEWSONIC XG2705-2K 27” 144Hz QHD - Gaming Monitor'\n",
      " \"SAMSUNG ODYSSEY G3 / G-3 27'' FHD Monitor - Gaming Monitor\"\n",
      " 'THERMALTAKE Argent MP1 / MP-1 RGB - Gaming Mousepad'\n",
      " 'THERMALTAKE Argent K5 / K-5 RGB Cherry MX - Gaming Keyboard - Silver Switch'\n",
      " 'DIGITAL ALLIANCE BUNDLING (Mycam / DA Video Capture Card) Bundle'\n",
      " 'ASUS ROG STRIX GO CORE Wired - Gaming Headset'\n",
      " 'ASUS ROG STRIX XG49VQ Super Ultra-Wide HDR Gaming Monitor'\n",
      " 'Thrustmaster TS-PC Racer Ferrari 488 Challenge Edition - Gaming Wheel'\n",
      " 'DAREU EH-732 / EH732 7.1 Surround Sound - Gaming Headset'\n",
      " 'PARADOX GAMING PGC-MT-01 / PGCMT01 - Gaming Chair - BLACK GREY WHIT'\n",
      " 'PARADOX GAMING PGC-RC01 / PGCRC01 - Gaming Chair'\n",
      " \"GIGABYTE M27F-EK / M27FEK 27'' IPS - Gaming Monitor\"\n",
      " 'Saramonic GamesMonic SR-BH60 True Wireless Gaming Earbuds - Hitam'\n",
      " 'Cooler Master Mastermouse Pro L Gaming Mouse'\n",
      " 'Cooler Master MasterPulse / Master Pulse Over-ear Gaming Headset'\n",
      " 'Cooler Master MP860 - Gaming Mousepad'\n",
      " 'TT Esports ISURUS EB Portable Inear Music and Gaming - Gaming Earphone'\n",
      " 'MSI OPTIX MAG342CQRV MONITOR [1440p, 100Hz]'\n",
      " 'MSi Optix MPG341CQR - Gaming Monitor'\n",
      " 'Digital Alliance RACING X - DA Gaming Chair - GLACIER'\n",
      " 'Razer Kraken for Console - Gaming Headset'\n",
      " 'MSI IMMERSE GH61 7.1 Surround Sound - Gaming Headset'\n",
      " 'STRACING GAMING CHAIR READY STOCK SPORT SERIES - Navi White'\n",
      " 'STracing Gaming Chair Superior - Merah'\n",
      " 'STracing Gaming Chair Racing Series - Putih'\n",
      " 'TUF Gaming VG279QL1A HDR Gaming Monitor – 27 inci Full HD'\n",
      " 'Corsair HS60 HAPTIC Stereo with Haptic Bass - Gaming Headset - Carbon'\n",
      " 'ASUS ROG Swift PG65UQ 65\" Monitor 4K 144Hz 1ms G-SYNC Ultimate HDR1000'\n",
      " 'DAREU EM925 - Gaming Mouse' 'Thrustmaster T-FLIGHT HOTAS X'\n",
      " 'Thrustmaster TWSC Throttle' 'Thrustmaster T.FLIGHT HOTAS 4'\n",
      " 'Thrustmaster T.Flight Stick X - Joystick'\n",
      " 'dbE WS100 Wood Earphone with Microphone - Gaming Earphone'\n",
      " 'Thermaltake Level 20 RGB Mouse - Gaming Mouse'\n",
      " 'TTEsports Ventus Z - Gaming Mouse' 'MSi Clutch GM60 - Gaming Mouse'\n",
      " 'Rexus Titanix TX2 - Gaming Mouse' 'Genius Ammox X1-400 - Gaming Mouse'\n",
      " 'Gamdias Combo Zeus E1 + NYX E1 - Gaming Bundle'\n",
      " 'Gamdias Artemis – HS ErosE1 + MS Zeus E2 + MP NYXE1- Gaming bundle'\n",
      " 'Gamdias GKC6011 – Combo KB GKB6011 + MS Ourea FPS'\n",
      " 'Gamdias Zeus P1 – Gaming Mouse' 'Asus ROG Strix Evolve - Gaming Mouse'\n",
      " 'Gaming Mouse M626'\n",
      " 'TTEsports Commander Combo Multi Light - Gaming Combo'\n",
      " 'MSi Optix MAG273R - Gaming Monitor' 'Dell S2716DG - Monitor'\n",
      " 'Dell S2719DGF - Monitor' 'Zowie RL2455S - Gaming Monitor'\n",
      " 'Zowie XL2740 - 240Hz 27 Inch Gaming Monitor'\n",
      " 'Zowie XL2746S - 240Hz DyAc⁺ 27 inch e-Sports Monitor'\n",
      " 'Acer K202HQL - 19.5\" Monitor' 'ACER RG270 NITRO SERIES MONITOR'\n",
      " 'ACER VG270K NITRO SERIES MONITOR'\n",
      " 'ACER VG270U-P NITRO SERIES MONITOR 144hz'\n",
      " 'ACER Predator X27 LED GAMING Monitor 27 Inch 144hz 4K G-SYNC'\n",
      " 'ACER PREDATOR X34P Curved Gaming Monitor - 34-Inch 120Hz G-SYNC'\n",
      " 'Acer Predator XB241H 24-inch Full HD 1920x1080 NVIDIA G-Sync 144HZ'\n",
      " 'Acer Predator Cestus 510 RGB Gaming Mouse'\n",
      " 'ASUS MG24UQ 23.6″ Gaming Monitor' 'ASUS MG28UQ 28″ Gaming Monitor'\n",
      " 'ASUS 27″ MG279Q Gaming Monitor'\n",
      " 'ASUS ROG Swift 27″ PG27AQ Gaming Monitor'\n",
      " 'ASUS ROG Swift PG279Q 27″ Gaming Monitor'\n",
      " 'ASUS VG275Q 27″ Console Gaming Monitor'\n",
      " 'Asus ROG Strix Claw - Gaming Mouse'\n",
      " 'ASUS VG278QR 27\" FHD TN 165Hz 0.5ms FreeSync GAMING MONITOR'\n",
      " 'NYK HS-P11 7.1 RGB GAMING HEADSET'\n",
      " 'ACER Predator SPIRITS - XL Gaming Mousepad'\n",
      " 'NYK NEMESIS HS-E10 Headset gaming Thunder Edition 10'\n",
      " 'ACER Predator Aethon 300 - Gaming Keyboard'\n",
      " 'ACER Nitro NKB810 - Gaming Keyboard' 'Sades Frost - Gaming Mousepad'\n",
      " 'Sades Knight Pro - Gaming Headset' 'Sades Xpower Plus Gaming Headset'\n",
      " 'Sades Locust plus RGB' 'Sades SA722 DPower - Gaming Headset - Biru'\n",
      " 'MSi Clutch GM40 RED - Gaming Mouse'\n",
      " 'NYK HS-N07 Phantom - Gaming Headset'\n",
      " 'The ROG Strix Flare PNK LTD GAMING KEYBOARD'\n",
      " 'XG270QG - 27\" 1ms, 165 Hz IPS Nano Gaming Monitor 165Hz'\n",
      " 'Aorus FI27Q - Gaming Monitor' 'Gigabyte G32QC - Gaming Monitor'\n",
      " 'Gigabyte G27FC - Gaming Monitor' 'Gigabyte CV27F - Gaming Monitor'\n",
      " 'NYK HSN-11 Anchor - Gaming Headset' 'Thronmax MDrill Zone - Microphone'\n",
      " 'Stracing Custom single Name'\n",
      " 'ASUS ROG Strix Go 2.4 Electro Punk Ed - Wireless Gaming Headset'\n",
      " 'DxRacer Origin Series - Gaming Chair - Hijau'\n",
      " 'Sades Draco - Gaming Chair' 'Sades Pegasus - Gaming Chair'\n",
      " 'DXRacer Gaming Desk - Pink White'\n",
      " 'DXRacer - Sentinel Series - Gaming Chair - Merah'\n",
      " 'DXRacer - Iron Series - I11S2 - orange'\n",
      " 'DXRacer Boss Series - Gaming Chair - Merah'\n",
      " 'DXRacer Drifting Series - Gaming Chair - D188 - Red'\n",
      " 'JBL Quantum 300 - Gaming Headset'\n",
      " 'Asus ROG Theta Electret - Gaming Headset'\n",
      " 'THUNDERX3 BC3 BOSS - Gaming Chair - Coffee Black'\n",
      " 'SADES REVOLVER GAMING MOUSE' 'Sades Spirit - Gaming Headset'\n",
      " 'Digital Alliance ASAMI - Gaming Chair'\n",
      " 'Digital Alliance Throne X - Gaming Chair - Orange'\n",
      " 'Digital Alliance Throne E - Gaming Chair - Orange'\n",
      " 'Asus Cerberus Mat Plus - Gaming Mousepad' 'LG 27GK750F - Gaming Monitor'\n",
      " 'Sades Dazzle - Gaming Headset' 'Elgato Green Screen MT'\n",
      " 'Cooler Master Sentinel III - Gaming Mouse'\n",
      " 'Cooler Master Reaper - Gaming Mouse'\n",
      " 'Cooler Master Mizar - Gaming Mouse' 'Cooler Master Alcor - Gaming Mouse'\n",
      " 'Zowie FK1 - Gaming mouse' 'MSi Optix MAG322CQR - Gaming Monitor'\n",
      " 'MSi Optix MAG341CQ - Gaming Monitor'\n",
      " 'Blackwidow X Chroma - Gaming Keyboard - Gunmetal'\n",
      " 'Razer Ornata Chroma - Gaming Keyboard' 'Zowie ZA11 Gaming mouse'\n",
      " 'STRacing Camo Series - Gaming Chair - Army Green'\n",
      " 'SteelSeries QcK Prism Cloth Medium - Gaming Mousepad'\n",
      " 'Ducky One 2 RGB - Gaming Keyboard - Black, Brown sw'\n",
      " 'Akko V3 Cream Yellow Pro Switch'\n",
      " 'AKKO CS JELLY + SPONGE + STARFISH SWITCH MECHANICAL KEYBOARD'\n",
      " 'Noir Gateron Ks-9 Yellow Switch (Linear - Plate Mount ) - Switch'\n",
      " 'Kelowna Gateron Pro Milky Yellow 5 Pin'\n",
      " 'Fantech MP25 SVEN - Gaming Mousepad'\n",
      " 'Neapolitan Ice Cream Tactile Switch - Keyboard Switch'\n",
      " 'FANTECH MAXFIT61 MK857, KEYBOARD 60% - Gaming Keyboard'\n",
      " 'Razer Firefly V2 - Gaming Mousepad' 'Dareu Gamepad Holder Mobile'\n",
      " 'FANTECH W188 2.4Ghz Wireless Office Mouse 1200 dpi Nirkabel'\n",
      " 'RAZER OPUS X - Mercury / Quartz / Green'\n",
      " 'Dareu Glory EK1280 - Gaming Keyboard'\n",
      " 'DA GAMING CHAIR TITAN SERIES (Grey/Blue Light/Maroon) Kursi Gaming'\n",
      " 'FreeFall GG Mousepad - Gaming Mousepad' 'PRDX Artisan Pikachu - Keycaps'\n",
      " 'IDOBAO ID67 CRYSTAL OR SMOKEY KEYBOARD KIT 65% (GASKET MOUNT VERSION)'\n",
      " 'Asus ROG CLAYMORE II / CLAYMORE 2 Wireless Optical - Gaming Keyboard'\n",
      " 'Razer Mouse Bungee V3 Chroma' 'DAREU VIRGO LM108 Vertical Mouse'\n",
      " 'HyperX Fury S - Gaming Mousepad (Small)'\n",
      " 'CIDOO V75 Plus BAREBONE - Mechanical Keyboard'\n",
      " 'EndGameGear OP1we Gaming Mouse'\n",
      " 'DRUNKDEER A75 Grey PBT Double-Shot Rapid Trigger Gaming Keyboard'\n",
      " 'SKYPAD Glass 3.0 Xl Size - Gaming Mousepad' 'SKYPAD Arm Sleeves'\n",
      " 'ORICO TC4U-U3 Type-C to USB3.0-A * 4 HUB'\n",
      " 'Digital Alliance Delta Armor Plus - Gaming Headset'\n",
      " 'KC Keycaps Evangelion XDA 133 Keys'\n",
      " 'Noir x After Friday Deskmat - White \"Get Your Sh*t Done\"'\n",
      " 'BTL Grip Viper V2 PRO'\n",
      " 'PRDX Artisan Game of Thrones \"Iron Throne\" - Keycaps'\n",
      " 'IQUNIX A80 Explorer Wireless Mechanical Keyboard'\n",
      " 'Roccat Kone Pure ULTRA-LIGHT 66gr - Gaming Mouse'\n",
      " 'CIDOO V87 PRO - TKL 87 Keys Hotswappable Mechanical Keyboard'\n",
      " 'Noir Z2 75% - Aluminum Custom Mechanical Keyboard'\n",
      " 'Speaker Gaming NYK Nemesis SP-N04'\n",
      " 'ASUS ROG Chakram RGB Wireless Gaming Mouse with Qi Charging'\n",
      " 'MELETRIX ZOOM75 ESSENTIAL EDITION - Mechanical Keyboard'\n",
      " 'Yiqi Keycaps Cheese Cat PBT Dye Sub XDA Profile'\n",
      " 'Fantech MINT EDITION Valor MH86 / MH 86 - Headset Gaming'\n",
      " 'Fantech SAKURA EDITION Captain 7.1 HG11 - Gaming Headset'\n",
      " 'Rexus Soundbar Astro C300'\n",
      " 'Noir Z2 75% Aluminium Custom Mechanical Keyboard - Full Build'\n",
      " 'Razer Pro Glide XXL Soft for Productivity – Mouse Mat / Mousepad'\n",
      " 'Razer Pro Click Mini Wireless - Gaming Mouse'\n",
      " 'DAREU MP-15 / MP15 Large (45 x 40cm) Speed Type - Gaming Mousepad'\n",
      " 'DAREU EK810 Mechanical Gaming Keyboard Black Fullsize'\n",
      " 'GANSS Midnight Blue PBT Double Shot Cherry Profile Keycaps Set'\n",
      " 'Edifier R1280DB Active 2.0 Bluetooth Bookshelf Speaker Set'\n",
      " 'Pulsar Grip Tape for X2 Mini Gaming Mouse'\n",
      " 'Yiqi Keycaps Enlightenment PBT Dye-Sub XDA Profile'\n",
      " 'LOFREE 1% Transparent Mechanical keyboard / LOFREE 1% ICE'\n",
      " 'Ausdom Phone Headset with Noise Cancelling Mic Office Business - BH01'\n",
      " 'DAREU ESP-109 Pink Edition Large - ESP109 Gaming Mousepad'\n",
      " 'Fantech OCA259s Kursi Kantor Kerja Jaring Premium Office Chair'\n",
      " 'KC Keycaps MOONRISE CHERRY PROFILE 129 keys'\n",
      " 'Tiger Arc Esptiger Qingsui 2 PRO+ - Gaming Mousepad'\n",
      " 'Corsair PBT DOUBLE-SHOT PRO Keycap Mod Kit'\n",
      " 'ASUS ROG Strix Scope TKL Mechanical - Gaming Keyboard'\n",
      " 'Corsair K70 MK.2 - Gaming Keyboard'\n",
      " 'Corsair Void Elite Surround - Gaming Headset'\n",
      " 'Corsair Harpoon Gaming Mouse' 'Corsair M65 Pro RGB White Mouse'\n",
      " 'Corsair M65 Pro Black - Gaming Mouse'\n",
      " 'Corsair Dark Core SE - Gaming Mouse'\n",
      " 'Logitech G Pro Mechanical Gaming Keyboard']\n"
     ]
    }
   ],
   "source": [
    "# Memilih baris yang merupakan duplikat berdasarkan kolom \"Nama Produk\"\n",
    "duplikat_produk = df[df.duplicated(subset=['nama_produk'], keep=False)]\n",
    "\n",
    "if not duplikat_produk.empty:\n",
    "    # Menampilkan nama produk yang merupakan duplikat\n",
    "    nama_produk_duplikat = duplikat_produk['nama_produk'].unique()\n",
    "    print(\"Nama Produk yang Duplikat:\")\n",
    "    print(nama_produk_duplikat)\n",
    "else:\n",
    "    print(\"Tidak ada nama produk yang duplikat.\")"
   ]
  },
  {
   "cell_type": "code",
   "execution_count": 52,
   "id": "22768fd4",
   "metadata": {},
   "outputs": [
    {
     "name": "stdout",
     "output_type": "stream",
     "text": [
      "Jumlah baris sebelum penghapusan duplikat: 2831\n",
      "Jumlah baris setelah penghapusan duplikat: 2613\n"
     ]
    }
   ],
   "source": [
    "# Menghapus data yang merupakan duplikat berdasarkan kolom \"Nama Produk\"\n",
    "df_clean = df.copy()\n",
    "df = df.drop_duplicates(subset=['nama_produk'])\n",
    "\n",
    "# Mencetak informasi mengenai data yang telah dibersihkan\n",
    "print(\"Jumlah baris sebelum penghapusan duplikat:\", len(df_clean))\n",
    "print(\"Jumlah baris setelah penghapusan duplikat:\", len(df))"
   ]
  },
  {
   "cell_type": "code",
   "execution_count": 53,
   "id": "6e057e4b",
   "metadata": {},
   "outputs": [
    {
     "name": "stdout",
     "output_type": "stream",
     "text": [
      "<class 'pandas.core.frame.DataFrame'>\n",
      "Index: 2613 entries, 0 to 2822\n",
      "Data columns (total 10 columns):\n",
      " #   Column           Non-Null Count  Dtype \n",
      "---  ------           --------------  ----- \n",
      " 0   nama_produk      2613 non-null   object\n",
      " 1   kategori_produk  2613 non-null   object\n",
      " 2   jumlah_terjual   2613 non-null   object\n",
      " 3   harga_jual       2613 non-null   object\n",
      " 4   harga_awal       2613 non-null   object\n",
      " 5   diskon           2613 non-null   object\n",
      " 6   deskripsi        2613 non-null   object\n",
      " 7   rating           2613 non-null   object\n",
      " 8   rating_counter   2613 non-null   object\n",
      " 9   link             2613 non-null   object\n",
      "dtypes: object(10)\n",
      "memory usage: 224.6+ KB\n"
     ]
    }
   ],
   "source": [
    "df.info()"
   ]
  },
  {
   "cell_type": "code",
   "execution_count": 54,
   "id": "9d6a76a7",
   "metadata": {},
   "outputs": [
    {
     "name": "stdout",
     "output_type": "stream",
     "text": [
      "Tidak ada baris dengan nilai 0 pada kolom 'Jumlah'.\n"
     ]
    }
   ],
   "source": [
    "# Memilih baris yang memiliki nilai 0 di kolom \"Jumlah\"\n",
    "jumlah_nol = df[df['jumlah_terjual'] == 0]\n",
    "\n",
    "if not jumlah_nol.empty:\n",
    "    print(\"Baris dengan Nilai 0 pada Kolom 'Jumlah':\")\n",
    "    print(jumlah_nol)\n",
    "else:\n",
    "    print(\"Tidak ada baris dengan nilai 0 pada kolom 'Jumlah'.\")"
   ]
  },
  {
   "cell_type": "code",
   "execution_count": null,
   "id": "6fd2665c",
   "metadata": {},
   "outputs": [],
   "source": []
  }
 ],
 "metadata": {
  "kaggle": {
   "accelerator": "nvidiaTeslaT4",
   "dataSources": [
    {
     "datasetId": 2818963,
     "sourceId": 4862520,
     "sourceType": "datasetVersion"
    }
   ],
   "dockerImageVersionId": 30684,
   "isGpuEnabled": true,
   "isInternetEnabled": true,
   "language": "python",
   "sourceType": "notebook"
  },
  "kernelspec": {
   "display_name": "Python 3",
   "language": "python",
   "name": "python3"
  },
  "language_info": {
   "codemirror_mode": {
    "name": "ipython",
    "version": 3
   },
   "file_extension": ".py",
   "mimetype": "text/x-python",
   "name": "python",
   "nbconvert_exporter": "python",
   "pygments_lexer": "ipython3",
   "version": "3.11.7"
  },
  "papermill": {
   "default_parameters": {},
   "duration": 24.32199,
   "end_time": "2024-04-17T04:22:39.885976",
   "environment_variables": {},
   "exception": null,
   "input_path": "__notebook__.ipynb",
   "output_path": "__notebook__.ipynb",
   "parameters": {},
   "start_time": "2024-04-17T04:22:15.563986",
   "version": "2.5.0"
  }
 },
 "nbformat": 4,
 "nbformat_minor": 5
}

{
 "cells": [
  {
   "cell_type": "code",
   "execution_count": 1,
   "id": "029ee7e2",
   "metadata": {
    "execution": {
     "iopub.execute_input": "2024-04-17T04:22:19.424581Z",
     "iopub.status.busy": "2024-04-17T04:22:19.424199Z",
     "iopub.status.idle": "2024-04-17T04:22:19.428158Z",
     "shell.execute_reply": "2024-04-17T04:22:19.427332Z"
    },
    "papermill": {
     "duration": 0.022971,
     "end_time": "2024-04-17T04:22:19.430070",
     "exception": false,
     "start_time": "2024-04-17T04:22:19.407099",
     "status": "completed"
    },
    "tags": []
   },
   "outputs": [],
   "source": [
    "import numpy as np\n",
    "import pandas as pd"
   ]
  },
  {
   "cell_type": "code",
   "execution_count": 6,
   "id": "293ce518",
   "metadata": {
    "execution": {
     "iopub.execute_input": "2024-04-17T04:22:19.463454Z",
     "iopub.status.busy": "2024-04-17T04:22:19.463203Z",
     "iopub.status.idle": "2024-04-17T04:22:19.650006Z",
     "shell.execute_reply": "2024-04-17T04:22:19.649114Z"
    },
    "papermill": {
     "duration": 0.206823,
     "end_time": "2024-04-17T04:22:19.652339",
     "exception": false,
     "start_time": "2024-04-17T04:22:19.445516",
     "status": "completed"
    },
    "tags": []
   },
   "outputs": [
    {
     "data": {
      "text/html": [
       "<div>\n",
       "<style scoped>\n",
       "    .dataframe tbody tr th:only-of-type {\n",
       "        vertical-align: middle;\n",
       "    }\n",
       "\n",
       "    .dataframe tbody tr th {\n",
       "        vertical-align: top;\n",
       "    }\n",
       "\n",
       "    .dataframe thead th {\n",
       "        text-align: right;\n",
       "    }\n",
       "</style>\n",
       "<table border=\"1\" class=\"dataframe\">\n",
       "  <thead>\n",
       "    <tr style=\"text-align: right;\">\n",
       "      <th></th>\n",
       "      <th>Nama Produk</th>\n",
       "      <th>Kategori</th>\n",
       "      <th>Jumlah</th>\n",
       "      <th>Harga Jual</th>\n",
       "      <th>Harga Awal</th>\n",
       "      <th>Diskon</th>\n",
       "      <th>Deskripsi</th>\n",
       "      <th>Rating</th>\n",
       "      <th>Rating Counter</th>\n",
       "      <th>Link</th>\n",
       "    </tr>\n",
       "  </thead>\n",
       "  <tbody>\n",
       "    <tr>\n",
       "      <th>0</th>\n",
       "      <td>AKKO CS SWITCH MECHANICAL KEYBOARD - ROSE RED,...</td>\n",
       "      <td>Home|Komputer &amp; Laptop|Aksesoris PC Gaming|Gam...</td>\n",
       "      <td>Terjual 7 rb+</td>\n",
       "      <td>Rp3.599</td>\n",
       "      <td>Rp4.600</td>\n",
       "      <td>22%</td>\n",
       "      <td>JAM OPERASIONAL\\nSenin - Minggu : 10:00 - 19:0...</td>\n",
       "      <td>5</td>\n",
       "      <td>(166 rating)</td>\n",
       "      <td>https://www.tokopedia.com/goodgamingshop/akko-...</td>\n",
       "    </tr>\n",
       "    <tr>\n",
       "      <th>1</th>\n",
       "      <td>Zaku Switch Linear 63,5g PCB Mount - Keyboard ...</td>\n",
       "      <td>Home|Komputer &amp; Laptop|Aksesoris PC Gaming|Gam...</td>\n",
       "      <td>Terjual 7 rb+</td>\n",
       "      <td>Rp7.999</td>\n",
       "      <td>Rp10.499</td>\n",
       "      <td>24%</td>\n",
       "      <td>JAM OPERASIONAL\\nSenin - Minggu : 10:00 - 19:0...</td>\n",
       "      <td>4.9</td>\n",
       "      <td>(92 rating)</td>\n",
       "      <td>https://www.tokopedia.com/goodgamingshop/zaku-...</td>\n",
       "    </tr>\n",
       "    <tr>\n",
       "      <th>2</th>\n",
       "      <td>GATERON SWITCH - PLATE MOUNT - Cokelat</td>\n",
       "      <td>Home|Komputer &amp; Laptop|Aksesoris Komputer &amp; La...</td>\n",
       "      <td>Terjual 4 rb+</td>\n",
       "      <td>Rp3.500</td>\n",
       "      <td>Rp3.500</td>\n",
       "      <td>0</td>\n",
       "      <td>JAM OPERASIONAL\\n✅ Senin - Minggu : 10:00 - 19...</td>\n",
       "      <td>5</td>\n",
       "      <td>(111 rating)</td>\n",
       "      <td>https://www.tokopedia.com/goodgamingshop/gater...</td>\n",
       "    </tr>\n",
       "    <tr>\n",
       "      <th>3</th>\n",
       "      <td>GATERON Optical MX Switch for Mechanical Gamin...</td>\n",
       "      <td>Home|Komputer &amp; Laptop|Aksesoris Komputer &amp; La...</td>\n",
       "      <td>Terjual 3 rb+</td>\n",
       "      <td>Rp3.500</td>\n",
       "      <td>Rp3.500</td>\n",
       "      <td>0</td>\n",
       "      <td>JAM OPERASIONAL\\n✅ Senin - Minggu : 10:00 - 19...</td>\n",
       "      <td>5</td>\n",
       "      <td>(89 rating)</td>\n",
       "      <td>https://www.tokopedia.com/goodgamingshop/gater...</td>\n",
       "    </tr>\n",
       "    <tr>\n",
       "      <th>4</th>\n",
       "      <td>Ekstra Packaging Bubble Wrap</td>\n",
       "      <td>Home|Perlengkapan Pesta|Bungkus Kemasan|Bubble...</td>\n",
       "      <td>Terjual 3 rb+</td>\n",
       "      <td>Rp3.100</td>\n",
       "      <td>Rp3.100</td>\n",
       "      <td>0</td>\n",
       "      <td>Deskripsi Ekstra Packaging Bubble Wrap\\nHai ga...</td>\n",
       "      <td>4.9</td>\n",
       "      <td>(1.800 rating)</td>\n",
       "      <td>https://www.tokopedia.com/goodgamingshop/ekstr...</td>\n",
       "    </tr>\n",
       "  </tbody>\n",
       "</table>\n",
       "</div>"
      ],
      "text/plain": [
       "                                         Nama Produk  \\\n",
       "0  AKKO CS SWITCH MECHANICAL KEYBOARD - ROSE RED,...   \n",
       "1  Zaku Switch Linear 63,5g PCB Mount - Keyboard ...   \n",
       "2             GATERON SWITCH - PLATE MOUNT - Cokelat   \n",
       "3  GATERON Optical MX Switch for Mechanical Gamin...   \n",
       "4                       Ekstra Packaging Bubble Wrap   \n",
       "\n",
       "                                            Kategori         Jumlah  \\\n",
       "0  Home|Komputer & Laptop|Aksesoris PC Gaming|Gam...  Terjual 7 rb+   \n",
       "1  Home|Komputer & Laptop|Aksesoris PC Gaming|Gam...  Terjual 7 rb+   \n",
       "2  Home|Komputer & Laptop|Aksesoris Komputer & La...  Terjual 4 rb+   \n",
       "3  Home|Komputer & Laptop|Aksesoris Komputer & La...  Terjual 3 rb+   \n",
       "4  Home|Perlengkapan Pesta|Bungkus Kemasan|Bubble...  Terjual 3 rb+   \n",
       "\n",
       "  Harga Jual Harga Awal Diskon  \\\n",
       "0    Rp3.599    Rp4.600    22%   \n",
       "1    Rp7.999   Rp10.499    24%   \n",
       "2    Rp3.500    Rp3.500      0   \n",
       "3    Rp3.500    Rp3.500      0   \n",
       "4    Rp3.100    Rp3.100      0   \n",
       "\n",
       "                                           Deskripsi Rating  Rating Counter  \\\n",
       "0  JAM OPERASIONAL\\nSenin - Minggu : 10:00 - 19:0...      5    (166 rating)   \n",
       "1  JAM OPERASIONAL\\nSenin - Minggu : 10:00 - 19:0...    4.9     (92 rating)   \n",
       "2  JAM OPERASIONAL\\n✅ Senin - Minggu : 10:00 - 19...      5    (111 rating)   \n",
       "3  JAM OPERASIONAL\\n✅ Senin - Minggu : 10:00 - 19...      5     (89 rating)   \n",
       "4  Deskripsi Ekstra Packaging Bubble Wrap\\nHai ga...    4.9  (1.800 rating)   \n",
       "\n",
       "                                                Link  \n",
       "0  https://www.tokopedia.com/goodgamingshop/akko-...  \n",
       "1  https://www.tokopedia.com/goodgamingshop/zaku-...  \n",
       "2  https://www.tokopedia.com/goodgamingshop/gater...  \n",
       "3  https://www.tokopedia.com/goodgamingshop/gater...  \n",
       "4  https://www.tokopedia.com/goodgamingshop/ekstr...  "
      ]
     },
     "execution_count": 6,
     "metadata": {},
     "output_type": "execute_result"
    }
   ],
   "source": [
    "df = pd.read_csv('../product-scrap-data/data-produk/product-goodgamingshop.csv')\n",
    "df.head()"
   ]
  },
  {
   "cell_type": "code",
   "execution_count": 7,
   "id": "3d041c79",
   "metadata": {
    "execution": {
     "iopub.execute_input": "2024-04-17T04:22:19.685283Z",
     "iopub.status.busy": "2024-04-17T04:22:19.685019Z",
     "iopub.status.idle": "2024-04-17T04:22:19.690307Z",
     "shell.execute_reply": "2024-04-17T04:22:19.689379Z"
    },
    "papermill": {
     "duration": 0.023924,
     "end_time": "2024-04-17T04:22:19.692378",
     "exception": false,
     "start_time": "2024-04-17T04:22:19.668454",
     "status": "completed"
    },
    "tags": []
   },
   "outputs": [
    {
     "data": {
      "text/plain": [
       "(2831, 10)"
      ]
     },
     "execution_count": 7,
     "metadata": {},
     "output_type": "execute_result"
    }
   ],
   "source": [
    "df.shape"
   ]
  },
  {
   "cell_type": "code",
   "execution_count": 8,
   "id": "adac8b6a",
   "metadata": {
    "execution": {
     "iopub.execute_input": "2024-04-17T04:22:19.724969Z",
     "iopub.status.busy": "2024-04-17T04:22:19.724686Z",
     "iopub.status.idle": "2024-04-17T04:22:19.783631Z",
     "shell.execute_reply": "2024-04-17T04:22:19.782801Z"
    },
    "papermill": {
     "duration": 0.077655,
     "end_time": "2024-04-17T04:22:19.785537",
     "exception": false,
     "start_time": "2024-04-17T04:22:19.707882",
     "status": "completed"
    },
    "tags": []
   },
   "outputs": [
    {
     "data": {
      "text/html": [
       "<div>\n",
       "<style scoped>\n",
       "    .dataframe tbody tr th:only-of-type {\n",
       "        vertical-align: middle;\n",
       "    }\n",
       "\n",
       "    .dataframe tbody tr th {\n",
       "        vertical-align: top;\n",
       "    }\n",
       "\n",
       "    .dataframe thead th {\n",
       "        text-align: right;\n",
       "    }\n",
       "</style>\n",
       "<table border=\"1\" class=\"dataframe\">\n",
       "  <thead>\n",
       "    <tr style=\"text-align: right;\">\n",
       "      <th></th>\n",
       "      <th>Nama Produk</th>\n",
       "      <th>Kategori</th>\n",
       "      <th>Jumlah</th>\n",
       "      <th>Harga Jual</th>\n",
       "      <th>Harga Awal</th>\n",
       "      <th>Diskon</th>\n",
       "      <th>Deskripsi</th>\n",
       "      <th>Rating</th>\n",
       "      <th>Rating Counter</th>\n",
       "      <th>Link</th>\n",
       "    </tr>\n",
       "  </thead>\n",
       "  <tbody>\n",
       "    <tr>\n",
       "      <th>count</th>\n",
       "      <td>2831</td>\n",
       "      <td>2831</td>\n",
       "      <td>2831</td>\n",
       "      <td>2831</td>\n",
       "      <td>2831</td>\n",
       "      <td>2831</td>\n",
       "      <td>2831</td>\n",
       "      <td>2831</td>\n",
       "      <td>2831</td>\n",
       "      <td>2831</td>\n",
       "    </tr>\n",
       "    <tr>\n",
       "      <th>unique</th>\n",
       "      <td>2613</td>\n",
       "      <td>101</td>\n",
       "      <td>59</td>\n",
       "      <td>977</td>\n",
       "      <td>952</td>\n",
       "      <td>76</td>\n",
       "      <td>2563</td>\n",
       "      <td>290</td>\n",
       "      <td>432</td>\n",
       "      <td>2643</td>\n",
       "    </tr>\n",
       "    <tr>\n",
       "      <th>top</th>\n",
       "      <td>NYK NEMESIS HS-E10 Headset gaming Thunder Edit...</td>\n",
       "      <td>Home|Komputer &amp; Laptop|Aksesoris PC Gaming|Key...</td>\n",
       "      <td>0</td>\n",
       "      <td>Rp299.000</td>\n",
       "      <td>Rp299.000</td>\n",
       "      <td>0</td>\n",
       "      <td>#ERROR!</td>\n",
       "      <td>5</td>\n",
       "      <td>0</td>\n",
       "      <td>https://www.tokopedia.com/goodgamingshop/msi-c...</td>\n",
       "    </tr>\n",
       "    <tr>\n",
       "      <th>freq</th>\n",
       "      <td>2</td>\n",
       "      <td>486</td>\n",
       "      <td>756</td>\n",
       "      <td>44</td>\n",
       "      <td>59</td>\n",
       "      <td>2166</td>\n",
       "      <td>8</td>\n",
       "      <td>1365</td>\n",
       "      <td>744</td>\n",
       "      <td>2</td>\n",
       "    </tr>\n",
       "  </tbody>\n",
       "</table>\n",
       "</div>"
      ],
      "text/plain": [
       "                                              Nama Produk  \\\n",
       "count                                                2831   \n",
       "unique                                               2613   \n",
       "top     NYK NEMESIS HS-E10 Headset gaming Thunder Edit...   \n",
       "freq                                                    2   \n",
       "\n",
       "                                                 Kategori Jumlah Harga Jual  \\\n",
       "count                                                2831   2831       2831   \n",
       "unique                                                101     59        977   \n",
       "top     Home|Komputer & Laptop|Aksesoris PC Gaming|Key...      0  Rp299.000   \n",
       "freq                                                  486    756         44   \n",
       "\n",
       "       Harga Awal Diskon Deskripsi Rating Rating Counter  \\\n",
       "count        2831   2831      2831   2831           2831   \n",
       "unique        952     76      2563    290            432   \n",
       "top     Rp299.000      0   #ERROR!      5              0   \n",
       "freq           59   2166         8   1365            744   \n",
       "\n",
       "                                                     Link  \n",
       "count                                                2831  \n",
       "unique                                               2643  \n",
       "top     https://www.tokopedia.com/goodgamingshop/msi-c...  \n",
       "freq                                                    2  "
      ]
     },
     "execution_count": 8,
     "metadata": {},
     "output_type": "execute_result"
    }
   ],
   "source": [
    "df.describe()"
   ]
  },
  {
   "cell_type": "markdown",
   "id": "ce45a32e",
   "metadata": {
    "papermill": {
     "duration": 0.017337,
     "end_time": "2024-04-17T04:22:19.820191",
     "exception": false,
     "start_time": "2024-04-17T04:22:19.802854",
     "status": "completed"
    },
    "tags": []
   },
   "source": [
    "## Data Cleaning & Pre Processing:"
   ]
  },
  {
   "cell_type": "code",
   "execution_count": null,
   "id": "2f7f3e52",
   "metadata": {},
   "outputs": [],
   "source": []
  }
 ],
 "metadata": {
  "kaggle": {
   "accelerator": "nvidiaTeslaT4",
   "dataSources": [
    {
     "datasetId": 2818963,
     "sourceId": 4862520,
     "sourceType": "datasetVersion"
    }
   ],
   "dockerImageVersionId": 30684,
   "isGpuEnabled": true,
   "isInternetEnabled": true,
   "language": "python",
   "sourceType": "notebook"
  },
  "kernelspec": {
   "display_name": "Python 3",
   "language": "python",
   "name": "python3"
  },
  "language_info": {
   "codemirror_mode": {
    "name": "ipython",
    "version": 3
   },
   "file_extension": ".py",
   "mimetype": "text/x-python",
   "name": "python",
   "nbconvert_exporter": "python",
   "pygments_lexer": "ipython3",
   "version": "3.11.7"
  },
  "papermill": {
   "default_parameters": {},
   "duration": 24.32199,
   "end_time": "2024-04-17T04:22:39.885976",
   "environment_variables": {},
   "exception": null,
   "input_path": "__notebook__.ipynb",
   "output_path": "__notebook__.ipynb",
   "parameters": {},
   "start_time": "2024-04-17T04:22:15.563986",
   "version": "2.5.0"
  }
 },
 "nbformat": 4,
 "nbformat_minor": 5
}

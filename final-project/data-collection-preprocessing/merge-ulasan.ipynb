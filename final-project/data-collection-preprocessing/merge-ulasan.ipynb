{
 "cells": [
  {
   "cell_type": "code",
   "execution_count": 2,
   "id": "029ee7e2",
   "metadata": {
    "execution": {
     "iopub.execute_input": "2024-04-17T04:22:19.424581Z",
     "iopub.status.busy": "2024-04-17T04:22:19.424199Z",
     "iopub.status.idle": "2024-04-17T04:22:19.428158Z",
     "shell.execute_reply": "2024-04-17T04:22:19.427332Z"
    },
    "papermill": {
     "duration": 0.022971,
     "end_time": "2024-04-17T04:22:19.430070",
     "exception": false,
     "start_time": "2024-04-17T04:22:19.407099",
     "status": "completed"
    },
    "tags": []
   },
   "outputs": [],
   "source": [
    "import numpy as np\n",
    "import pandas as pd\n",
    "import os"
   ]
  },
  {
   "cell_type": "code",
   "execution_count": 3,
   "id": "d58853a7",
   "metadata": {},
   "outputs": [],
   "source": [
    "def merge_csv_files(folder_path, output_folder, output_file):\n",
    "    # List all CSV files in the folder\n",
    "    csv_files = [f for f in os.listdir(folder_path) if f.endswith('.csv')]\n",
    "\n",
    "    # Read each CSV file and concatenate into a single DataFrame\n",
    "    df_list = []\n",
    "    for csv_file in csv_files:\n",
    "        file_path = os.path.join(folder_path, csv_file)\n",
    "        df = pd.read_csv(file_path)\n",
    "        df_list.append(df)\n",
    "\n",
    "    # Concatenate all DataFrames\n",
    "    merged_df = pd.concat(df_list, ignore_index=True)\n",
    "\n",
    "    # Create the output folder if it doesn't exist\n",
    "    if not os.path.exists(output_folder):\n",
    "        os.makedirs(output_folder)\n",
    "\n",
    "    # Save the merged DataFrame to a new CSV file in the output folder\n",
    "    output_path = os.path.join(output_folder, output_file)\n",
    "    merged_df.to_csv(output_path, index=False)\n",
    "\n",
    "if __name__ == \"__main__\":\n",
    "    input_folder = \"data-ulasan-raw\"\n",
    "    output_folder = \"data-ulasan-clean\"\n",
    "    output_file = \"data-ulasan-goodgamingstore.csv\"\n",
    "    merge_csv_files(input_folder, output_folder, output_file)\n"
   ]
  }
 ],
 "metadata": {
  "kaggle": {
   "accelerator": "nvidiaTeslaT4",
   "dataSources": [
    {
     "datasetId": 2818963,
     "sourceId": 4862520,
     "sourceType": "datasetVersion"
    }
   ],
   "dockerImageVersionId": 30684,
   "isGpuEnabled": true,
   "isInternetEnabled": true,
   "language": "python",
   "sourceType": "notebook"
  },
  "kernelspec": {
   "display_name": "Python 3",
   "language": "python",
   "name": "python3"
  },
  "language_info": {
   "codemirror_mode": {
    "name": "ipython",
    "version": 3
   },
   "file_extension": ".py",
   "mimetype": "text/x-python",
   "name": "python",
   "nbconvert_exporter": "python",
   "pygments_lexer": "ipython3",
   "version": "3.11.7"
  },
  "papermill": {
   "default_parameters": {},
   "duration": 24.32199,
   "end_time": "2024-04-17T04:22:39.885976",
   "environment_variables": {},
   "exception": null,
   "input_path": "__notebook__.ipynb",
   "output_path": "__notebook__.ipynb",
   "parameters": {},
   "start_time": "2024-04-17T04:22:15.563986",
   "version": "2.5.0"
  }
 },
 "nbformat": 4,
 "nbformat_minor": 5
}

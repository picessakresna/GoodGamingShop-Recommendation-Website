{
 "cells": [
  {
   "cell_type": "code",
   "execution_count": 8,
   "metadata": {},
   "outputs": [],
   "source": [
    "import numpy as np\n",
    "import pandas as pd"
   ]
  },
  {
   "cell_type": "code",
   "execution_count": 9,
   "metadata": {},
   "outputs": [],
   "source": [
    "df_product = pd.read_csv('../data-collection-preprocessing/data-produk/clean_product-goodgamingshop.csv')\n",
    "df_review = pd.read_csv('../data-collection-preprocessing/data-ulasan-clean/clean_data-ulasan-goodgamingstore.csv')"
   ]
  },
  {
   "cell_type": "code",
   "execution_count": 10,
   "metadata": {},
   "outputs": [
    {
     "data": {
      "text/html": [
       "<div>\n",
       "<style scoped>\n",
       "    .dataframe tbody tr th:only-of-type {\n",
       "        vertical-align: middle;\n",
       "    }\n",
       "\n",
       "    .dataframe tbody tr th {\n",
       "        vertical-align: top;\n",
       "    }\n",
       "\n",
       "    .dataframe thead th {\n",
       "        text-align: right;\n",
       "    }\n",
       "</style>\n",
       "<table border=\"1\" class=\"dataframe\">\n",
       "  <thead>\n",
       "    <tr style=\"text-align: right;\">\n",
       "      <th></th>\n",
       "      <th>id_produk</th>\n",
       "      <th>nama_produk</th>\n",
       "      <th>jumlah_terjual</th>\n",
       "      <th>harga_jual</th>\n",
       "      <th>harga_awal</th>\n",
       "      <th>diskon</th>\n",
       "      <th>deskripsi</th>\n",
       "      <th>rating</th>\n",
       "      <th>rating_counter</th>\n",
       "      <th>link</th>\n",
       "      <th>image_path</th>\n",
       "      <th>kategori</th>\n",
       "    </tr>\n",
       "  </thead>\n",
       "  <tbody>\n",
       "    <tr>\n",
       "      <th>0</th>\n",
       "      <td>PI0001</td>\n",
       "      <td>AKKO CS SWITCH MECHANICAL KEYBOARD - ROSE RED,...</td>\n",
       "      <td>7000</td>\n",
       "      <td>3599</td>\n",
       "      <td>4600</td>\n",
       "      <td>0.22</td>\n",
       "      <td>JAM OPERASIONAL\\r\\nSenin - Minggu : 10:00 - 19...</td>\n",
       "      <td>5.0</td>\n",
       "      <td>166</td>\n",
       "      <td>https://www.tokopedia.com/goodgamingshop/akko-...</td>\n",
       "      <td>../data-collection-preprocessing/data-produk/i...</td>\n",
       "      <td>Komputer &amp; Laptop; Aksesoris PC Gaming; Game C...</td>\n",
       "    </tr>\n",
       "    <tr>\n",
       "      <th>1</th>\n",
       "      <td>PI0002</td>\n",
       "      <td>Zaku Switch Linear 63,5g PCB Mount - Keyboard ...</td>\n",
       "      <td>7000</td>\n",
       "      <td>7999</td>\n",
       "      <td>10499</td>\n",
       "      <td>0.24</td>\n",
       "      <td>JAM OPERASIONAL\\r\\nSenin - Minggu : 10:00 - 19...</td>\n",
       "      <td>4.9</td>\n",
       "      <td>92</td>\n",
       "      <td>https://www.tokopedia.com/goodgamingshop/zaku-...</td>\n",
       "      <td>../data-collection-preprocessing/data-produk/i...</td>\n",
       "      <td>Komputer &amp; Laptop; Aksesoris PC Gaming; Game C...</td>\n",
       "    </tr>\n",
       "    <tr>\n",
       "      <th>2</th>\n",
       "      <td>PI0003</td>\n",
       "      <td>GATERON SWITCH - PLATE MOUNT - Cokelat</td>\n",
       "      <td>4000</td>\n",
       "      <td>3500</td>\n",
       "      <td>3500</td>\n",
       "      <td>0.00</td>\n",
       "      <td>JAM OPERASIONAL\\r\\n✅ Senin - Minggu : 10:00 - ...</td>\n",
       "      <td>5.0</td>\n",
       "      <td>111</td>\n",
       "      <td>https://www.tokopedia.com/goodgamingshop/gater...</td>\n",
       "      <td>../data-collection-preprocessing/data-produk/i...</td>\n",
       "      <td>Komputer &amp; Laptop; Aksesoris Komputer &amp; Laptop...</td>\n",
       "    </tr>\n",
       "    <tr>\n",
       "      <th>3</th>\n",
       "      <td>PI0004</td>\n",
       "      <td>GATERON Optical MX Switch for Mechanical Gamin...</td>\n",
       "      <td>3000</td>\n",
       "      <td>3500</td>\n",
       "      <td>3500</td>\n",
       "      <td>0.00</td>\n",
       "      <td>JAM OPERASIONAL\\r\\n✅ Senin - Minggu : 10:00 - ...</td>\n",
       "      <td>5.0</td>\n",
       "      <td>89</td>\n",
       "      <td>https://www.tokopedia.com/goodgamingshop/gater...</td>\n",
       "      <td>../data-collection-preprocessing/data-produk/i...</td>\n",
       "      <td>Komputer &amp; Laptop; Aksesoris Komputer &amp; Laptop...</td>\n",
       "    </tr>\n",
       "    <tr>\n",
       "      <th>4</th>\n",
       "      <td>PI0005</td>\n",
       "      <td>Ekstra Packaging Bubble Wrap</td>\n",
       "      <td>3000</td>\n",
       "      <td>3100</td>\n",
       "      <td>3100</td>\n",
       "      <td>0.00</td>\n",
       "      <td>Deskripsi Ekstra Packaging Bubble Wrap\\r\\nHai ...</td>\n",
       "      <td>4.9</td>\n",
       "      <td>0</td>\n",
       "      <td>https://www.tokopedia.com/goodgamingshop/ekstr...</td>\n",
       "      <td>../data-collection-preprocessing/data-produk/i...</td>\n",
       "      <td>Perlengkapan Pesta; Bungkus Kemasan; Bubble Wrap</td>\n",
       "    </tr>\n",
       "  </tbody>\n",
       "</table>\n",
       "</div>"
      ],
      "text/plain": [
       "  id_produk                                        nama_produk  \\\n",
       "0    PI0001  AKKO CS SWITCH MECHANICAL KEYBOARD - ROSE RED,...   \n",
       "1    PI0002  Zaku Switch Linear 63,5g PCB Mount - Keyboard ...   \n",
       "2    PI0003             GATERON SWITCH - PLATE MOUNT - Cokelat   \n",
       "3    PI0004  GATERON Optical MX Switch for Mechanical Gamin...   \n",
       "4    PI0005                       Ekstra Packaging Bubble Wrap   \n",
       "\n",
       "   jumlah_terjual  harga_jual  harga_awal  diskon  \\\n",
       "0            7000        3599        4600    0.22   \n",
       "1            7000        7999       10499    0.24   \n",
       "2            4000        3500        3500    0.00   \n",
       "3            3000        3500        3500    0.00   \n",
       "4            3000        3100        3100    0.00   \n",
       "\n",
       "                                           deskripsi  rating  rating_counter  \\\n",
       "0  JAM OPERASIONAL\\r\\nSenin - Minggu : 10:00 - 19...     5.0             166   \n",
       "1  JAM OPERASIONAL\\r\\nSenin - Minggu : 10:00 - 19...     4.9              92   \n",
       "2  JAM OPERASIONAL\\r\\n✅ Senin - Minggu : 10:00 - ...     5.0             111   \n",
       "3  JAM OPERASIONAL\\r\\n✅ Senin - Minggu : 10:00 - ...     5.0              89   \n",
       "4  Deskripsi Ekstra Packaging Bubble Wrap\\r\\nHai ...     4.9               0   \n",
       "\n",
       "                                                link  \\\n",
       "0  https://www.tokopedia.com/goodgamingshop/akko-...   \n",
       "1  https://www.tokopedia.com/goodgamingshop/zaku-...   \n",
       "2  https://www.tokopedia.com/goodgamingshop/gater...   \n",
       "3  https://www.tokopedia.com/goodgamingshop/gater...   \n",
       "4  https://www.tokopedia.com/goodgamingshop/ekstr...   \n",
       "\n",
       "                                          image_path  \\\n",
       "0  ../data-collection-preprocessing/data-produk/i...   \n",
       "1  ../data-collection-preprocessing/data-produk/i...   \n",
       "2  ../data-collection-preprocessing/data-produk/i...   \n",
       "3  ../data-collection-preprocessing/data-produk/i...   \n",
       "4  ../data-collection-preprocessing/data-produk/i...   \n",
       "\n",
       "                                            kategori  \n",
       "0  Komputer & Laptop; Aksesoris PC Gaming; Game C...  \n",
       "1  Komputer & Laptop; Aksesoris PC Gaming; Game C...  \n",
       "2  Komputer & Laptop; Aksesoris Komputer & Laptop...  \n",
       "3  Komputer & Laptop; Aksesoris Komputer & Laptop...  \n",
       "4   Perlengkapan Pesta; Bungkus Kemasan; Bubble Wrap  "
      ]
     },
     "execution_count": 10,
     "metadata": {},
     "output_type": "execute_result"
    }
   ],
   "source": [
    "df_product.head()"
   ]
  },
  {
   "cell_type": "code",
   "execution_count": 11,
   "metadata": {},
   "outputs": [
    {
     "data": {
      "text/html": [
       "<div>\n",
       "<style scoped>\n",
       "    .dataframe tbody tr th:only-of-type {\n",
       "        vertical-align: middle;\n",
       "    }\n",
       "\n",
       "    .dataframe tbody tr th {\n",
       "        vertical-align: top;\n",
       "    }\n",
       "\n",
       "    .dataframe thead th {\n",
       "        text-align: right;\n",
       "    }\n",
       "</style>\n",
       "<table border=\"1\" class=\"dataframe\">\n",
       "  <thead>\n",
       "    <tr style=\"text-align: right;\">\n",
       "      <th></th>\n",
       "      <th>id_produk</th>\n",
       "      <th>id_user</th>\n",
       "      <th>nama_akun</th>\n",
       "      <th>rating_user</th>\n",
       "      <th>ulasan_produk</th>\n",
       "      <th>waktu_review</th>\n",
       "      <th>varian_produk</th>\n",
       "    </tr>\n",
       "  </thead>\n",
       "  <tbody>\n",
       "    <tr>\n",
       "      <th>0</th>\n",
       "      <td>PI2563</td>\n",
       "      <td>UI0001</td>\n",
       "      <td>Bimo</td>\n",
       "      <td>5</td>\n",
       "      <td>Nyaman dan praktis tinggal plug and play</td>\n",
       "      <td>Lebih dari 1 tahun lalu</td>\n",
       "      <td>none</td>\n",
       "    </tr>\n",
       "    <tr>\n",
       "      <th>1</th>\n",
       "      <td>PI2564</td>\n",
       "      <td>UI0002</td>\n",
       "      <td>S***m</td>\n",
       "      <td>5</td>\n",
       "      <td>Keren memang mojo68 retro, sayang typing sound...</td>\n",
       "      <td>9 bulan lalu</td>\n",
       "      <td>Varian: Gat Silver Pro</td>\n",
       "    </tr>\n",
       "    <tr>\n",
       "      <th>2</th>\n",
       "      <td>PI2567</td>\n",
       "      <td>UI0003</td>\n",
       "      <td>Riski</td>\n",
       "      <td>5</td>\n",
       "      <td>buat yg nyari suara pas ngetik, bisa beli yg s...</td>\n",
       "      <td>Lebih dari 1 tahun lalu</td>\n",
       "      <td>Varian: Brown Switch</td>\n",
       "    </tr>\n",
       "    <tr>\n",
       "      <th>3</th>\n",
       "      <td>PI2569</td>\n",
       "      <td>UI0004</td>\n",
       "      <td>S***o</td>\n",
       "      <td>5</td>\n",
       "      <td>rapih, material bagus, nyaman digunakan, dimen...</td>\n",
       "      <td>Lebih dari 1 tahun lalu</td>\n",
       "      <td>none</td>\n",
       "    </tr>\n",
       "    <tr>\n",
       "      <th>4</th>\n",
       "      <td>PI2573</td>\n",
       "      <td>UI0005</td>\n",
       "      <td>Winardi</td>\n",
       "      <td>5</td>\n",
       "      <td>Kedua kali beli Zoom75 disini and never dissap...</td>\n",
       "      <td>3 bulan lalu</td>\n",
       "      <td>none</td>\n",
       "    </tr>\n",
       "  </tbody>\n",
       "</table>\n",
       "</div>"
      ],
      "text/plain": [
       "  id_produk id_user nama_akun  rating_user  \\\n",
       "0    PI2563  UI0001      Bimo            5   \n",
       "1    PI2564  UI0002     S***m            5   \n",
       "2    PI2567  UI0003     Riski            5   \n",
       "3    PI2569  UI0004     S***o            5   \n",
       "4    PI2573  UI0005   Winardi            5   \n",
       "\n",
       "                                       ulasan_produk             waktu_review  \\\n",
       "0           Nyaman dan praktis tinggal plug and play  Lebih dari 1 tahun lalu   \n",
       "1  Keren memang mojo68 retro, sayang typing sound...             9 bulan lalu   \n",
       "2  buat yg nyari suara pas ngetik, bisa beli yg s...  Lebih dari 1 tahun lalu   \n",
       "3  rapih, material bagus, nyaman digunakan, dimen...  Lebih dari 1 tahun lalu   \n",
       "4  Kedua kali beli Zoom75 disini and never dissap...             3 bulan lalu   \n",
       "\n",
       "            varian_produk  \n",
       "0                    none  \n",
       "1  Varian: Gat Silver Pro  \n",
       "2    Varian: Brown Switch  \n",
       "3                    none  \n",
       "4                    none  "
      ]
     },
     "execution_count": 11,
     "metadata": {},
     "output_type": "execute_result"
    }
   ],
   "source": [
    "df_review.head()"
   ]
  },
  {
   "cell_type": "markdown",
   "metadata": {},
   "source": [
    "EDA"
   ]
  },
  {
   "cell_type": "code",
   "execution_count": 12,
   "metadata": {},
   "outputs": [],
   "source": [
    "import seaborn as sns\n",
    "import matplotlib as mpl\n",
    "import matplotlib.pyplot as plt\n",
    "import matplotlib.ticker as ticker\n",
    "\n",
    "sns.set_theme(style='darkgrid')\n",
    "sns.set_palette(\"deep\")\n",
    "mpl.rcParams['font.family'] = 'sans'\n",
    "mpl.rcParams['font.size'] = 12\n",
    "mpl.rcParams['axes.titlesize'] = 16\n",
    "mpl.rcParams['axes.labelsize'] = 14\n",
    "mpl.rcParams['xtick.labelsize'] = 10\n",
    "mpl.rcParams['ytick.labelsize'] = 10"
   ]
  },
  {
   "cell_type": "code",
   "execution_count": 13,
   "metadata": {},
   "outputs": [
    {
     "data": {
      "text/html": [
       "<div>\n",
       "<style scoped>\n",
       "    .dataframe tbody tr th:only-of-type {\n",
       "        vertical-align: middle;\n",
       "    }\n",
       "\n",
       "    .dataframe tbody tr th {\n",
       "        vertical-align: top;\n",
       "    }\n",
       "\n",
       "    .dataframe thead th {\n",
       "        text-align: right;\n",
       "    }\n",
       "</style>\n",
       "<table border=\"1\" class=\"dataframe\">\n",
       "  <thead>\n",
       "    <tr style=\"text-align: right;\">\n",
       "      <th></th>\n",
       "      <th>id_produk</th>\n",
       "      <th>nama_produk</th>\n",
       "      <th>deskripsi</th>\n",
       "      <th>link</th>\n",
       "      <th>image_path</th>\n",
       "      <th>kategori</th>\n",
       "    </tr>\n",
       "  </thead>\n",
       "  <tbody>\n",
       "    <tr>\n",
       "      <th>count</th>\n",
       "      <td>2613</td>\n",
       "      <td>2613</td>\n",
       "      <td>2613</td>\n",
       "      <td>2613</td>\n",
       "      <td>2613</td>\n",
       "      <td>2613</td>\n",
       "    </tr>\n",
       "    <tr>\n",
       "      <th>unique</th>\n",
       "      <td>2613</td>\n",
       "      <td>2613</td>\n",
       "      <td>2562</td>\n",
       "      <td>2613</td>\n",
       "      <td>2613</td>\n",
       "      <td>99</td>\n",
       "    </tr>\n",
       "    <tr>\n",
       "      <th>top</th>\n",
       "      <td>PI0001</td>\n",
       "      <td>AKKO CS SWITCH MECHANICAL KEYBOARD - ROSE RED,...</td>\n",
       "      <td>#ERROR!</td>\n",
       "      <td>https://www.tokopedia.com/goodgamingshop/akko-...</td>\n",
       "      <td>../data-collection-preprocessing/data-produk/i...</td>\n",
       "      <td>Komputer &amp; Laptop; Aksesoris PC Gaming; Keyboa...</td>\n",
       "    </tr>\n",
       "    <tr>\n",
       "      <th>freq</th>\n",
       "      <td>1</td>\n",
       "      <td>1</td>\n",
       "      <td>7</td>\n",
       "      <td>1</td>\n",
       "      <td>1</td>\n",
       "      <td>462</td>\n",
       "    </tr>\n",
       "  </tbody>\n",
       "</table>\n",
       "</div>"
      ],
      "text/plain": [
       "       id_produk                                        nama_produk deskripsi  \\\n",
       "count       2613                                               2613      2613   \n",
       "unique      2613                                               2613      2562   \n",
       "top       PI0001  AKKO CS SWITCH MECHANICAL KEYBOARD - ROSE RED,...   #ERROR!   \n",
       "freq           1                                                  1         7   \n",
       "\n",
       "                                                     link  \\\n",
       "count                                                2613   \n",
       "unique                                               2613   \n",
       "top     https://www.tokopedia.com/goodgamingshop/akko-...   \n",
       "freq                                                    1   \n",
       "\n",
       "                                               image_path  \\\n",
       "count                                                2613   \n",
       "unique                                               2613   \n",
       "top     ../data-collection-preprocessing/data-produk/i...   \n",
       "freq                                                    1   \n",
       "\n",
       "                                                 kategori  \n",
       "count                                                2613  \n",
       "unique                                                 99  \n",
       "top     Komputer & Laptop; Aksesoris PC Gaming; Keyboa...  \n",
       "freq                                                  462  "
      ]
     },
     "execution_count": 13,
     "metadata": {},
     "output_type": "execute_result"
    }
   ],
   "source": [
    "df_product.describe(include='object')"
   ]
  },
  {
   "cell_type": "code",
   "execution_count": 14,
   "metadata": {},
   "outputs": [
    {
     "ename": "NameError",
     "evalue": "name 'new_cat' is not defined",
     "output_type": "error",
     "traceback": [
      "\u001b[1;31m---------------------------------------------------------------------------\u001b[0m",
      "\u001b[1;31mNameError\u001b[0m                                 Traceback (most recent call last)",
      "Cell \u001b[1;32mIn[14], line 1\u001b[0m\n\u001b[1;32m----> 1\u001b[0m \u001b[43mnew_cat\u001b[49m\n",
      "\u001b[1;31mNameError\u001b[0m: name 'new_cat' is not defined"
     ]
    }
   ],
   "source": [
    "new_cat"
   ]
  },
  {
   "cell_type": "code",
   "execution_count": null,
   "metadata": {},
   "outputs": [],
   "source": [
    "df_product_copy = df_product.copy()\n",
    "new_cat = df_product['kategori'].str.split(';', expand=True)\n",
    "new_cat['category_1'] = new_cat[0]\n",
    "new_cat['category_2'] = new_cat[1]\n",
    "new_cat['category_3'] = new_cat[2]\n",
    "\n",
    "df_product_copy.drop('kategori', axis=1, inplace=True)\n",
    "df_product_copy['kategori_1'] = new_cat['category_1']\n",
    "df_product_copy['kategori_2'] = new_cat['category_2']\n",
    "df_product_copy['kategori_3'] = new_cat['category_3']"
   ]
  },
  {
   "cell_type": "code",
   "execution_count": null,
   "metadata": {},
   "outputs": [
    {
     "data": {
      "image/png": "[encoded data removed]",
      "text/plain": [
       "<Figure size 1000x600 with 1 Axes>"
      ]
     },
     "metadata": {},
     "output_type": "display_data"
    }
   ],
   "source": [
    "plt.figure(figsize=(10, 6))\n",
    "sns.countplot(data=df_product_copy, y='kategori_1', order=df_product_copy['kategori_1'].value_counts().index)\n",
    "plt.title('Distribution of Category 1')\n",
    "plt.xlabel('Frequency')\n",
    "plt.ylabel('Category 1')\n",
    "plt.tight_layout()\n",
    "plt.show()"
   ]
  },
  {
   "cell_type": "code",
   "execution_count": null,
   "metadata": {},
   "outputs": [
    {
     "data": {
      "image/png": "[encoded data removed]",
      "text/plain": [
       "<Figure size 1000x1200 with 1 Axes>"
      ]
     },
     "metadata": {},
     "output_type": "display_data"
    }
   ],
   "source": [
    "plt.figure(figsize=(10, 12))\n",
    "sns.countplot(data=df_product_copy, y='kategori_2', order=df_product_copy['kategori_2'].value_counts().index)\n",
    "plt.title('Distribution of Category 2')\n",
    "plt.xlabel('Frequency')\n",
    "plt.ylabel('Category 2')\n",
    "plt.tight_layout()\n",
    "plt.show()"
   ]
  },
  {
   "cell_type": "code",
   "execution_count": null,
   "metadata": {},
   "outputs": [
    {
     "data": {
      "image/png": "[encoded data removed]",
      "text/plain": [
       "<Figure size 1000x800 with 1 Axes>"
      ]
     },
     "metadata": {},
     "output_type": "display_data"
    }
   ],
   "source": [
    "plt.figure(figsize=(10, 8))\n",
    "sns.countplot(data=df_product_copy, y='kategori_3', order=df_product_copy['kategori_3'].value_counts().head(20).index)\n",
    "plt.title('Distribution of Category 3 (Top 20)')\n",
    "plt.xlabel('Frequency')\n",
    "plt.ylabel('Category 3')\n",
    "plt.tight_layout()\n",
    "plt.show()\n"
   ]
  },
  {
   "cell_type": "code",
   "execution_count": null,
   "metadata": {},
   "outputs": [
    {
     "data": {
      "image/png": "[encoded data removed]",
      "text/plain": [
       "<Figure size 1000x600 with 1 Axes>"
      ]
     },
     "metadata": {},
     "output_type": "display_data"
    }
   ],
   "source": [
    "plt.figure(figsize=(10, 6))\n",
    "sns.scatterplot(data=df_product, x='harga_jual', y='harga_awal')\n",
    "plt.title('Actual Price vs Discounted Price')\n",
    "plt.xlabel('Discounted Price')\n",
    "plt.ylabel('Actual Price')\n",
    "plt.tight_layout()\n",
    "plt.show()"
   ]
  },
  {
   "cell_type": "code",
   "execution_count": null,
   "metadata": {},
   "outputs": [
    {
     "data": {
      "image/png": "[encoded data removed]",
      "text/plain": [
       "<Figure size 1000x600 with 1 Axes>"
      ]
     },
     "metadata": {},
     "output_type": "display_data"
    }
   ],
   "source": [
    "# Filter the data\n",
    "filtered_df = df_product[(df_product['rating'] >= 0) & (df_product['rating_counter'] != 0)]\n",
    "\n",
    "# Plotting\n",
    "plt.figure(figsize=(10, 6))\n",
    "sns.scatterplot(data=filtered_df, x='rating', y='diskon')\n",
    "plt.title('Discount Percentage vs Rating for Rating = 0 and Rating Counter != 0')\n",
    "plt.xlabel('Rating')\n",
    "plt.ylabel('Discount Percentage')\n",
    "plt.tight_layout()\n",
    "plt.show()"
   ]
  },
  {
   "cell_type": "code",
   "execution_count": null,
   "metadata": {},
   "outputs": [
    {
     "data": {
      "image/png": "[encoded data removed]",
      "text/plain": [
       "<Figure size 1000x600 with 1 Axes>"
      ]
     },
     "metadata": {},
     "output_type": "display_data"
    }
   ],
   "source": [
    "# Filter the data\n",
    "filtered_df = df_product[(df_product['rating'] >= 0) & (df_product['rating_counter'] != 0)]\n",
    "\n",
    "# Plotting\n",
    "plt.figure(figsize=(10, 6))\n",
    "sns.scatterplot(data=filtered_df, x='rating', y='harga_jual')\n",
    "plt.title('Discounted Price vs Rating')\n",
    "plt.xlabel('Rating')\n",
    "plt.ylabel('Discounted Price')\n",
    "plt.tight_layout()\n",
    "plt.show()"
   ]
  },
  {
   "cell_type": "code",
   "execution_count": null,
   "metadata": {},
   "outputs": [
    {
     "data": {
      "image/png": "[encoded data removed]",
      "text/plain": [
       "<Figure size 1000x600 with 1 Axes>"
      ]
     },
     "metadata": {},
     "output_type": "display_data"
    }
   ],
   "source": [
    "# Filter the data\n",
    "filtered_df = df_product[(df_product['rating'] >= 0) & (df_product['rating_counter'] != 0)]\n",
    "\n",
    "# Plotting\n",
    "plt.figure(figsize=(10, 6))\n",
    "sns.scatterplot(data=filtered_df, x='rating', y='harga_awal')\n",
    "plt.title('Actual Price vs Rating')\n",
    "plt.xlabel('Rating')\n",
    "plt.ylabel('Actual Price')\n",
    "plt.tight_layout()\n",
    "plt.show()"
   ]
  },
  {
   "cell_type": "code",
   "execution_count": null,
   "metadata": {},
   "outputs": [
    {
     "data": {
      "application/vnd.plotly.v1+json": {
       "config": {
        "plotlyServerURL": "https://plot.ly"
       },
       "data": [
        {
         "customdata": [
          [
           "AKKO CS SWITCH MECHANICAL KEYBOARD - ROSE RED, 1pcs"
          ],
          [
           "Zaku Switch Linear 63,5g PCB Mount - Keyboard Switch"
          ],
          [
           "GATERON SWITCH - PLATE MOUNT - Cokelat"
          ],
          [
           "GATERON Optical MX Switch for Mechanical Gaming Keyboard - Optical Red"
          ],
          [
           "Ekstra Packaging Bubble Wrap"
          ],
          [
           "Wuque WS Morandi Linear Switches"
          ],
          [
           "Mousepad Gaming Fantech MP64 XL BASIC"
          ],
          [
           "KTT MACARON SERIES PINK MECHANICAL SWITCHES"
          ],
          [
           "Fantech OCA258 / OC-A258 Kursi Kerja Kantor Premium Office Chair - Putih"
          ],
          [
           "Wuque WS BROWN SWITCH"
          ],
          [
           "TIGER ARC ICE EDITION Hyperglide/Hyperglides - Gaming Mouse Glide/Feet - Viper"
          ],
          [
           "Akko x TTC Switch Mechanical Keyboard - Princess"
          ],
          [
           "Gateron Baby Kangaroo 2.0 Tactile Switches"
          ],
          [
           "LEOBOG GRAYWOOD V4 SWITCH LINEAR FOR GAMING MECHANICAL KEYBOARD"
          ],
          [
           "DUROCK Sunflower POM T1 Tactile Switches - NON-LUBE"
          ],
          [
           "Ekstra Packaging Kardus"
          ],
          [
           "Logitech G102 V2 Lightsync - Gaming Mouse - Hitam, Mouse Only"
          ],
          [
           "Durock Jwick Linear Yellow - Keyboard Switch"
          ],
          [
           "Akko CS Silver - Mechanical Keyboard Switch"
          ],
          [
           "Skyline Tactile Switches Yo_Keebs X Noir Gear"
          ],
          [
           "Keyboard + Earphone Brush Cleaner - Putih"
          ],
          [
           "Akko V3 Cream Black Pro - Mechanical Switch"
          ],
          [
           "JWICK ULTIMATE BLACK V2 KEYBOARD SWITCH"
          ],
          [
           "VortexSeries Outemu Jade White (Linear 3-Pins Switch)"
          ],
          [
           "Logitech G304 Lightspeed Wireless Gaming Mouse - Putih"
          ],
          [
           "Logitech G Pro X Superlight - Wireless Gaming Mouse - Putih"
          ],
          [
           "SWAGKEYS X Gateron Modern Gray Linear Switch"
          ],
          [
           "Ajazz AK820 GTS Pro 75% Tri-mode Connection - Mechanical Keyboard - Starry Night, FlyingFish Sw"
          ],
          [
           "KTT MACARON SERIES PURPLE MECHANICAL SWITCHES"
          ],
          [
           "Rexus Daxa Retro - Gaming Mousepad"
          ],
          [
           "Mic condenser NYK Nemesis MCA-06 Apollo - Merah Muda"
          ],
          [
           "Glorious Fox Mechanical Switches (Lubed) - Keyborad Switch"
          ],
          [
           "Pre Lube switch - Mechanical keybaord Lubing - OUTEMU RED, ONLY LUBE"
          ],
          [
           "MECHANICAL KEYBOARD SWITCH LUBES KRYTOX GPL105 GPL205 AND BRUSH - GPL105, 2 Gram"
          ],
          [
           "MECHANICAL KEYBOARD SWITCH CHERRY MX BROWN - Cokelat, 4pcs"
          ],
          [
           "Fantech WGP13 / WGP 13 Gamepad Joystick USB - Gamepad - White"
          ],
          [
           "Tecsee Linear Switch 68g Carrot - Keyboard Switch"
          ],
          [
           "Fantech X16 THOR II - Gaming Mouse"
          ],
          [
           "CHERRY MX RGB SWITCH PLATE MOUNT 3 PIN - RGB - RGB-Black"
          ],
          [
           "M-TECH ORIGINAL Webcam WB500 Web Camera 1080P Full HD With Microphone"
          ],
          [
           "MOUSE SWITCH (KAILH) - SWITCH FOR GAMING MOUSE - Silent Sw"
          ],
          [
           "AFLION Panda 60g Switch (Tactile - PCB Mount)"
          ],
          [
           "Razer Deathadder Essentials - Gaming Mouse - Mouse Only"
          ],
          [
           "Fantech HELIOS II XD3 V3 Wireless Mouse Gaming 1K 4K TRI Mode - XD3 1K Putih, Mouse Only"
          ],
          [
           "Fantech ARIA XD7 / XD-7 Wireless Bluetooth Mouse Gaming Rechagreable - Hitam"
          ],
          [
           "Akko CS POM Pink Switch 3 pin - Keyboard Switch - 1pcs"
          ],
          [
           "DUROCK Mamba Switch Linear - PCB Mount"
          ],
          [
           "KTT MACARON SERIES GREEN MECHANICAL SWITCHES"
          ],
          [
           "Wuque WS Heavy Tactile Switches"
          ],
          [
           "Paradox Gaming GHOST Universal Switch & Keycaps Puller - White"
          ],
          [
           "AJAZZ DICED FRUIT SWITCH - Peach Switch"
          ],
          [
           "DUROCK Black Lotus Switch Linear 80g - PCB Mount"
          ],
          [
           "Rexus Gladius GX100 - Gaming Controller - Hitam"
          ],
          [
           "Rexus Gladius GX2 - Gaming Controller - Hitam"
          ],
          [
           "Kailh Switch Keyboard - Switch Kailh Keyboard - Clicky-Blue"
          ],
          [
           "SteelSeries Rival 3 Wireless - Gaming Mouse - Garansi"
          ],
          [
           "Rexus Thundervox HX9 - Gaming Headset - Hitam"
          ],
          [
           "Fantech Gamepad Wireless Hall Effect NOVA WGP14 for PS4 PC Android - NOVAPRO PINK"
          ],
          [
           "NYK Nemesis MCN-05 Klio - Microphone - Putih"
          ],
          [
           "Keychron K6 - Wireless Mechanical Keyboard Alumunium HOTSWAP - Cokelat"
          ],
          [
           "NYK Nemesis A80 Night Hawk - Gaming Webcam"
          ],
          [
           "Fantech AGILE MP903 / MP-903 Size XL Mousepad Gaming - Putih"
          ],
          [
           "DUCKY ONE 2 MINI MECHANICAL KEYBOARD CHERRY MX SWITCH WHITE FRAME - cherry silver"
          ],
          [
           "TIGER ARC GAMING MOUSE FEET HyperGlide CLONE - G502 LIGHTSPEED - MM710"
          ],
          [
           "Logitech G PRO X SUPERLIGHT 2 Mouse Gaming Wireless E-Sports - Black"
          ],
          [
           "Fantech Mouse Bungee RGB PRISMA+ MBR01 Cord Clip - Merah Muda"
          ],
          [
           "VortexSeries GX107 - Gaming Mouse - Putih"
          ],
          [
           "VortexSeries INNO X2 Super Light Wireless Gaming Mouse - Putih, Mouse Only"
          ],
          [
           "Razer Deathadder Essentials White Edition - Gaming Mouse - Mouse Only"
          ],
          [
           "Hyperx Cloud Earbuds II / Earbuds 2 Gaming Earbuds with Mic - Hitam"
          ],
          [
           "Razer Blackshark V2 X - Gaming Headset - Black"
          ],
          [
           "Kailh Speed Cooper Tactile Switch Mechanical Keyboard"
          ],
          [
           "Rexus KM9 / KM-9 Combo Bundle Keyboard & Mouse Wireless - Pink"
          ],
          [
           "Paradox Gaming Ghost IBM68K - Gaming Keyboard - Hitam, BIRU"
          ],
          [
           "AJAZZ AJ139 PRO - Gaming Mouse - Hitam"
          ],
          [
           "JWICK/JWK Milk Switch - Linear 63.5g 5 pins Switches"
          ],
          [
           "TX Stabilizer Clip in Mechanical Keyboard - 2023 AP Version - AP WHTE1,6MM LP"
          ],
          [
           "Logitech G502 HERO High Performance Gaming Mouse"
          ],
          [
           "Webcam A-95 Albatros QHD Webcam with 2k Resolution - NYK A95 Webcam - Putih"
          ],
          [
           "Steelseries Qck mini - LARGE"
          ],
          [
           "Steelseries TUSQ In-ear mobile gaming headset - Gaming Earphone"
          ],
          [
           "KTT Kang White Linear Switch 60g Plate Mount"
          ],
          [
           "Fantech Crypto VX7 - Gaming Mouse - Hitam"
          ],
          [
           "Noir CARPAL Wrist Pad wristrest - Black, Tangan Kiri"
          ],
          [
           "NYK NEMESIS X3 WINTERSTORM - Cooling Pad"
          ],
          [
           "KTT MACARON SERIES BLUE MECHANICAL SWITCHES"
          ],
          [
           "Fantech たまご TAMAGO Wireless Bluetooth Headset Headphone - Pink"
          ],
          [
           "HyperX Wrist Rest - for Mouse"
          ],
          [
           "Paradox Gaming GH21 PBT Numpad Keycaps (Black/Red)/ABS Black Case - Switch Yellow, Hitam Merah"
          ],
          [
           "Fantech MK858 Maxfit67 Wireless Mechanical RGB - Keyboard Gaming - Black, White Clicky"
          ],
          [
           "Tecsee Linear Switch 63,5g Blue Sky Cloud HPE - Keyboard Switch"
          ],
          [
           "Cooler Master WR531 Wristrest / WR-531 Wrist Rest - TKL"
          ],
          [
           "NYK Nemesis X8 Artemis (RGB with Phone Holder) - Cooling Pad"
          ],
          [
           "DUROCK Light Burgundy Smokey Switch / Durock Switch - Tactile 67g"
          ],
          [
           "Keychron K2 - Wireless Gaming Keyboard Almunium - RED SWITCH"
          ],
          [
           "Mousepad Gaming Sades Deskmat SD-84 Speed Type - Gaming Mousepad - Umi"
          ],
          [
           "Noir Desk Shelf / Monitor Stand Riser - - Black"
          ],
          [
           "Kailh Speed Pink Switch Mechanical Keyboard"
          ],
          [
           "Fantech BLiTZ MH87 / MH-87 MULTI PLATFORM GAMING HEADSET - Merah Muda"
          ],
          [
           "DUROCK Soft Switch Film (0.15mm)"
          ],
          [
           "Rexus Daxa Air IV - Gaming Mouse - Black"
          ],
          [
           "Tecware Double Shot PBT Backlit Keycaps - Gaming Keycaps - Classic Black"
          ],
          [
           "Aflion Lavender 55g Switch (Tactile 5-Pins Switch)"
          ],
          [
           "Fantech Gaming Mouse X9 THOR Standart Macro"
          ],
          [
           "Logitech G733 Lightspeed - Wireless Gaming Headset - Hitam"
          ],
          [
           "Rexus Mousepad Daxa Jacquard - MJ01"
          ],
          [
           "Rexus Bluetooth Gamepad Gladius GX300 - Blck Hall Efect"
          ],
          [
           "Logitech G pro Wireless Gaming Mouse"
          ],
          [
           "SteelSeries Rival 3 - Gaming Mouse"
          ],
          [
           "dbE GM210 / GM 210 7.1 Virtual Surround - Gaming Headphone"
          ],
          [
           "JWICK/JWK Semi-Silent - Linear 62g 5pins Switches"
          ],
          [
           "Razer Orochi V2 - Gaming Mouse"
          ],
          [
           "Rexus Mouse Gaming Wireless SHAGA RX-130 - Hitam"
          ],
          [
           "Paradox Ghost Mousepad - Gaming Mousepad - XXL"
          ],
          [
           "Fantech TRINITY MH88 Multiplatform Headset Gaming Mobile FREE SPLITTER - Merah Muda"
          ],
          [
           "Wuque Jade Linear Switch"
          ],
          [
           "LOGITECH G333 / G-333 In-Ears Headphone with Mic - Gaming Headset - PURPLE"
          ],
          [
           "Rexus Vonix F30 - Gaming Headset - List Putih"
          ],
          [
           "HOTLINE GAMES ANTI SLIP 2.0 - Zowie S2"
          ],
          [
           "Rexus Gladius GX1 - Gaming Controller - White"
          ],
          [
           "Rexus Headset Gaming Thundervox Stream HX20 - Hitam"
          ],
          [
           "SWITCH PADS MECHANICAL KEYBOARD - 1 lembar"
          ],
          [
           "Fantech AC5001 MEOW Kitty Ears for Headset - Headset Accessories - Merah Muda"
          ],
          [
           "NYK Nemesis Rainbow - Fan Case - Merah Muda"
          ],
          [
           "HyperX Cloud III / Cloud 3 - Gaming Headset - Hitam"
          ],
          [
           "Fantech AGILE MP353 / MP-353 Size M Mousepad Gaming - White"
          ],
          [
           "Logitech G435 Lightspeed Wireless - Gaming Headset - Blck-NeonYellow"
          ],
          [
           "Tecware Phantom Elite 87 - Gaming Keyboard - Gat Brown - Gaterin Green, Keyboard only"
          ],
          [
           "Tribosys 3204 Mechanical Keyboard Switch Lube - 2 GRAM"
          ],
          [
           "SteelSeries QcK Edge Large - Gaming Mousepad"
          ],
          [
           "Fantech OCA258s / OC-A258s Kursi Kerja Kantor Premium Office Chair - OC A258s GREY"
          ],
          [
           "JBL Quantum 50 - Gaming Earphone - Purple"
          ],
          [
           "Fantech Firefly MPR800 Space Edition - Gaming Mousepad"
          ],
          [
           "Fantech AC701 Coiled Cable - Keyboard Cable - Kuning"
          ],
          [
           "Fantech ALTO 7.1 HG26 RGB Headset Gaming"
          ],
          [
           "GK68X MECHANICAL KEYBOARD FULL SET KIT - DIY KIT - WHITE"
          ],
          [
           "Noir NEO Desk Shelf / Monitor Stand Riser Medium - White"
          ],
          [
           "Kelowna Keyboard Akrilik Standing Stand Single - Double Stand"
          ],
          [
           "Paradox Gaming ZX84 RGB Mechanical - Gaming Keyboard - White Case, Blue Switch"
          ],
          [
           "Razer DeathAdder V2 X HyperSpeed Wireless - Gaming Mouse"
          ],
          [
           "Fantech MAXFIT61 FROST Wired Hotswap Keyboard Gaming Mechanical RGB - Hitam, Blue"
          ],
          [
           "Tbcats Blue Balloon Linear Switches"
          ],
          [
           "Wuque WS YELLOW SWITCH"
          ],
          [
           "Razer Seiren Mini - Gaming Microphone - Quartz"
          ],
          [
           "AJAZZ AS001 V2 RED SWITCH KEYBOARD MECHANICAL"
          ],
          [
           "Pulsar PARA CONTROL V2 (Medium Speed) - Gaming Mousepad - Red, XXL"
          ],
          [
           "Razer Basilisk V3 - Gaming Mouse - Basilisk Only"
          ],
          [
           "Press Play NOVA V3 Ultralight Wireless 2.4ghz - Gaming Mouse - Hitam"
          ],
          [
           "Sades Kunai 3 in 1 Connection Mechanical - Gaming Keyboard - Grey White, Yellow Switch"
          ],
          [
           "Razer Gigantus V2 - Gaming Mousepad - 3XL"
          ],
          [
           "VGN Dragonfly F1 PRO MAX Gaming Mouse - Hitam"
          ],
          [
           "Noir N1v3 65% 3 Connection Wireless - Gaming Keyboard - White, Yellow Linear"
          ],
          [
           "Razer Orochi V2 White Edition - Gaming Mouse"
          ],
          [
           "Razer Deathadder V2 Pro - Wireless Gaming Mouse \"NON DOCKING\""
          ],
          [
           "Steelseries Arctis Nova 1 - Gaming Headset - Hitam"
          ],
          [
           "Razer DeathAdder V3 Pro - Ultra lightweight Wireless Mouse - Putih"
          ],
          [
           "Tecware Phantom Elite 104 - Gaming Keyboard - Gateron Green, Keyboard Only"
          ],
          [
           "Rexus Gamepad Daxa Asteria AX1 V2 - White Mint"
          ],
          [
           "Paradox Gaming ZX68 - 68 Layout Gaming Keyboard - White Case, Yellow Switch"
          ],
          [
           "SteelSeries Rival 5 - Gaming Mouse"
          ],
          [
           "Press Play NOVA V4 Lightweight Wireless Gaming Mouse - Putih, Non Docking"
          ],
          [
           "Steelseries Rival 650 Wireless Gaming Mouse"
          ],
          [
           "NYK Nemesis SPN-08 FALCON RGB 2.0 - Gaming Speaker - Black"
          ],
          [
           "Rexus Mouse Wireless Gaming Xierra 109"
          ],
          [
           "Sades Orpheus - Microphone - Putih"
          ],
          [
           "Logitech Pro X Gaming Headset"
          ],
          [
           "KTT Mango Pamelo Switch (Linear - Plate Mount)"
          ],
          [
           "Press Play ICARUS V2 Ultralight Gaming Mouse - Hitam"
          ],
          [
           "DBE ACOUSTICS GM190 7.1 virtual surround - Gaming Headset"
          ],
          [
           "Logitech G240 Cloth Gaming Mouse Pad"
          ],
          [
           "Steelseries Arctis Airweave Ear Cushions for Arctis Headsets"
          ],
          [
           "Durock Piano Plate Mount - Keyboard Stabilizer"
          ],
          [
           "Rexus NC1 Ergonomic - Office Chair - Full Black"
          ],
          [
           "Digital Alliance D4 Hexxa RGB - Gaming Mousepad"
          ],
          [
           "Fantech VENOM II WGC2 Wireless Mouse Gaming Rechargeable - Beige"
          ],
          [
           "SteelSeries PrismCaps Keycaps Keyboard White / Black - Hitam"
          ],
          [
           "FANTECH WGP15 EOS PRO MULTI PLATFORM WIRELESS GAMEPAD - WHITE, NON DOCKING"
          ],
          [
           "Rexus Arka II / Arka 2 RX-107 Dual Connection - Wireless Gaming Mouse - Hitam"
          ],
          [
           "Paradox GSA-PBT Dye-sub /Keycaps GSA PBT Dye-sub - PANDA"
          ],
          [
           "NYK EG-02 ORANOS - Gaming Earphone - Putih"
          ],
          [
           "HyperX Cloud Alpha S Gaming headset"
          ],
          [
           "dbE GM500 - Gaming Headset - White"
          ],
          [
           "Paradox Fox Face - Gaming Mousepad"
          ],
          [
           "DUROCK V2 Smokey PCB Screw-In Stabilizer Sets / Durock Stabilizer TKL"
          ],
          [
           "Razer Blackshark V2 - Gaming Headset"
          ],
          [
           "DUROCK V2 Transparent PCB Screw-In Stabilizer Sets / Durock Stabilizer"
          ],
          [
           "Fantech RAIGOR II WG10 Mouse Wireless Gaming - White"
          ],
          [
           "Digital Alliance MyCam - Webcam"
          ],
          [
           "Fantech ATOM96 MK890 RGB Keyboard Gaming Mechanical Full Size - ATOM81 NAVY, Red Switch"
          ],
          [
           "Logitech G Pro X Superlight Pink Limited Edition Wireless Gaming Mouse"
          ],
          [
           "KTT MACARON SERIES YELLOW MECHANICAL SWITCHES"
          ],
          [
           "Steelseries Arctis Nova 7 Wireless - Gaming Headset"
          ],
          [
           "FANTECH WHG03 STUDIO PRO / WHG 03 MULTI-PLATFORM WIRELESS HEADSET - WHG03 PRO PINK"
          ],
          [
           "ZIFRIEND T62 63Keys 60% Layout - Mechanical Keyboard - GreyWhite-Red"
          ],
          [
           "TIGER ARC ICE EDITION V2 Hyperglide - Gaming Mouse Glide/Feet - Viper mini"
          ],
          [
           "Digital Alliance Meca 8S 75% With Knob Button Gaming Keyboard - Ocean dark, Blue Switch"
          ],
          [
           "Tbcats Eclair Green Linear Switches"
          ],
          [
           "Keychron Q1 QMK BAREBONE - DIY KIT Gaming Keyboard - Blue"
          ],
          [
           "Premium Garskin G304 Skin Mouse - Spongebob"
          ],
          [
           "Fantech HG20 CHIEF II - Gaming Headset"
          ],
          [
           "SteelSeries QcK Edge Medium - Gaming Mousepad"
          ],
          [
           "Redragon Gaming Wrist Rest Pad METEOR - S-P035"
          ],
          [
           "Noir Timeless82 75% Wireless OLED Mechanical Keyboard Gasket Mount PBT - Futuristic, KTT Brown"
          ],
          [
           "Asus ROG Cetra True Wireless - TWS"
          ],
          [
           "Ducky One 3 Daybreak Mini RGB - Gaming Keyboard - Black Switch"
          ],
          [
           "Glorious Series One PRO Lightweight USB Optical Gaming Mouse - Genos Yellow"
          ],
          [
           "Noir NEO-C Ergonomic Office Chair - Obscur-Black"
          ],
          [
           "Steelseries Aerox 3 Wireless (2022) Ghost RGB Dongle - Gaming Mouse"
          ],
          [
           "DAREU Headset Stand"
          ],
          [
           "MOUSE SWITCH (OMRON CHINA) - SWITCH FOR GAMING MOUSE - D2FC-7-H"
          ],
          [
           "SteelSeries Apex 3 - Gaming Keyboard"
          ],
          [
           "Steelseries Aerox 3 Snow White 2022 Edition Wired - Gaming Mouse - Garansi"
          ],
          [
           "Rexus Headset Daxa Sedna - Gaming Headset - Putih"
          ],
          [
           "Premium Garskin G502 Skin Mouse - Black Cola"
          ],
          [
           "Tecware Keyboard Wristpad - Full"
          ],
          [
           "E-YOOSO HOTSWAP MECHANICAL GAMING KEYBOARD 60% TWO TONES COLOR - Z-11 - Black Grey, Blue Sw"
          ],
          [
           "KBDFANS KBD67 Lite R4 - Mechanical Keyboard DIY Kit - Steel Gray"
          ],
          [
           "Fantech HG20 Chief II Sakura Lite Edition Gaming Headset"
          ],
          [
           "Cable Converter - Type C & Lightning - USB-C"
          ],
          [
           "Fantech RAIGOR Gen III WG12R Rechargeable Mouse Wireless Gaming WG12 - WG12 Baterai AA, Hitam"
          ],
          [
           "Epos | Sennheiser GSP 301 - Gaming Headset"
          ],
          [
           "Fantech KX-302s MAJOR - Gaming Combo - Bundle"
          ],
          [
           "dBE Acoustic GM150 - Gaming Headset"
          ],
          [
           "ORICO USB2.0 HUB 4-Port - FL01-FS"
          ],
          [
           "Rexus Xierra X16 RGB - Gaming Mouse - Hitam"
          ],
          [
           "Keychron K8 RGB Hotswap - Wireless Gaming Keyboard - Alu - Red"
          ],
          [
           "Kelowna Lubing Brush - Small"
          ],
          [
           "Razer Viper V2 Pro Ultra Lightweight Wireless - Gaming Mouse - Black Edition"
          ],
          [
           "Ducky One 3 Matcha Non-LED TKL - Gaming Keyboard - Blue Switch"
          ],
          [
           "HOTLINE GAMES MASTER 4.0 AND HOTLINE GAMES GLIDES 3.0 - 3.0 Deathadder"
          ],
          [
           "Logitech G512 RGB Mechanical Gaming Keyboard - LINEAR SWITCH"
          ],
          [
           "BTL ANTISLIP GRIP G304 - PUNK RED"
          ],
          [
           "Ducky One 3 Daybreak SF RGB - Gaming Keyboard - Clear Switch"
          ],
          [
           "Razer Universal Grip Tape"
          ],
          [
           "MOUSE SWITCH - SWITCH FOR YOUR GAMING MOUSE - SILENT RED"
          ],
          [
           "Paradox Gaming Ghost87 / Ghost 87 RGB Mechanical - Gaming Keyboard - Black Case, Yellow Sw"
          ],
          [
           "Gamecolab | The Mousepad - Cloth - Gaming Mousepad - L"
          ],
          [
           "Tecware Phantom Shroud Classic Magnetic Cover For Phantom 104 Keyboard - Hitam"
          ],
          [
           "HyperX SoloCast - Microphone - White"
          ],
          [
           "Asus ROG Azoth 75% Tri-Mode Connection - Gaming Keyboard - NXBrown"
          ],
          [
           "Razer Kiyo X - USB Webcam for Full HD Streaming"
          ],
          [
           "TWS EARPHONE GAMING NYK NEMESIS W700 AURORA"
          ],
          [
           "HOTLINE GAMES DIY ANTI-SLIP 2.0 HEXAGONAL"
          ],
          [
           "SteelSeries Apex 5 - Hybrid Gaming Keyboard"
          ],
          [
           "Paradox Gaming GH64 OPT PBT Sea & Sun Story Mechanical Gaming Keyboard - Silver Switch"
          ],
          [
           "Premium Garskin G102 Skin Mouse - Blue Dugeon"
          ],
          [
           "Fantech MP296 / MP-296 Mousepad Gaming Stitch Jahit Speed"
          ],
          [
           "Logitech G640 Large Cloth Gaming Mouse Pad"
          ],
          [
           "Fantech ATOM MK876 RGB Gaming Mechanical Keyboard TKL - Abu-abu, Red Switch"
          ],
          [
           "VortexSeries VX8 Mechanical Keyboard - Smokey Black - Aflion Blue"
          ],
          [
           "Paradox Tarot - Gaming Mousepad"
          ],
          [
           "Streamplify Mic Mount Arm RGB - Mount"
          ],
          [
           "Rexus Vonix F27 / F-27 - Wired Gaming Headset - Red"
          ],
          [
           "Fantech NC20 RGB Notebook Gaming Cooler Pad for Laptop"
          ],
          [
           "Digital Alliance AIRTUNE True Wireless Stereo Earbuds - Hitam"
          ],
          [
           "Fantech 3 in 1 Combo P31 Gaming Keyboard Mouse Mousepad"
          ],
          [
           "AJAZZ SWITCH Crystal Pink Switch"
          ],
          [
           "TX Switch Spring Mechanical Keyboard - 65g XL"
          ],
          [
           "GG Stabilizer pads Mechanical Keyboard"
          ],
          [
           "Rexus S500I / S500i - Gaming Earphone - Silver"
          ],
          [
           "GLORIOUS PANDA TOY"
          ],
          [
           "TX Film Switch Mechanical Keyboard - CLEAR 0,125MM"
          ],
          [
           "NYK Nemesis Rogue GP200 Multiplatform Wireless - Gamepad - Black"
          ],
          [
           "Razer Sphex V3 Small - Gaming Mouse Matt"
          ],
          [
           "DBE ACOUSTICS DJ80 - GAMING HEADPHONE"
          ],
          [
           "Razer PBT Keycap Upgrade Set - Merah Muda"
          ],
          [
           "Rexus Monitor Stand Trant FP03 - Hitam"
          ],
          [
           "dbE C100 Full HD 1080P - Webcam"
          ],
          [
           "Razer Huntsman Mini - Gaming Keyboard - Hitam Linear"
          ],
          [
           "Steelseries Qck Heavy - XXL"
          ],
          [
           "Logitech F710 Wireless Gamepad"
          ],
          [
           "Fantech MAXFIT81 Wireless Bluetooth 75% Mechanical Keyboard BAREBONE - Black, Barebone Only"
          ],
          [
           "Asus TUF GAMING VG249Q - Gaming Monitor"
          ],
          [
           "Paracord for Gaming Mouse - Zowie EC Pink, CABLE SAJA"
          ],
          [
           "SteelSeries QcK Edge XL - Gaming Mousepad"
          ],
          [
           "Logitech G402 HYPERION FURY"
          ],
          [
           "Zuoya GMK67s / GMK67 s Barebone Mechanical Keyboard - Black, Barebone Only"
          ],
          [
           "Noir Type-C Straight Cable YC8 Aviator - Ultimate Gray"
          ],
          [
           "MOUSE SWITCH - SWITCH FOR GAMING MOUSE - CHERRY DG1"
          ],
          [
           "Fantech STRIKEPAD PRO Mousepad Gaming Deskmat MST491P/MST491 - Strikepad"
          ],
          [
           "Razer Kiyo - Webcam Streamer"
          ],
          [
           "Rexus Vonix F80 RGB - Gaming Headset - White"
          ],
          [
           "HOTLINES GAMES ANTISLIP TAPE ANTILICIN TAPE 1.0 - Rival 310"
          ],
          [
           "Digital Alliance Webcam Mycam Pro FULL HD 1080P Manualfocus Stream Web"
          ],
          [
           "CHERRY MX SWITCH PCB MOUNT 5 PIN NO BACK LIGHT - Black"
          ],
          [
           "Steelseries Apex 3 TKL - Gaming Keyboard"
          ],
          [
           "Superglide Glass Skates for Xlite Wireless - Mouse Feet - Black"
          ],
          [
           "Steelseries Aerox 3 Snow White 2022 Edition Wireless - Gaming Mouse"
          ],
          [
           "GLORIOUS LYNX ( LUBED AND UNLUBED ) Linear Switch - UNLUBED"
          ],
          [
           "HyperX Alloy Origins Core - Gaming Keyboard - BLUE"
          ],
          [
           "HyperX Cloud Alpha Gaming Headset - Merah"
          ],
          [
           "Logitech G213 Prodigy RGB Gaming Keyboard"
          ],
          [
           "Lamzu Thorn FNATIC Wireless Superlight Gaming Mouse Limited Edition"
          ],
          [
           "CHERRY MX SWITCH PLATE MOUNT 3 PIN NO BACK LIGHT - Hitam"
          ],
          [
           "Digital Alliance Meca Fighter Ice TKL SE White - Gaming Keyboard - Grey White Case, Red Switch"
          ],
          [
           "Rexus Gaming Chair RGC-101 V2 / Kursi Gaming RGC 101 V2 - Merah"
          ],
          [
           "NYK TERMINATOR HK-100 RGB - Gaming Mouse"
          ],
          [
           "Razer Barracuda X Multi-platform 2022 Wireless - Gaming Headset"
          ],
          [
           "Steelseries Arctis Pro Airweave Ear Cushions for Arctis Headsets"
          ],
          [
           "DAREU EH-722s / EH-416 / EH-416s - Earcup / Earmuff / Earpad - EH469 PINK"
          ],
          [
           "SteelSeries QcK Heavy Medium"
          ],
          [
           "Logitech G502X PLUS Wireless - Gaming Mouse - Hitam"
          ],
          [
           "Logitech Studio Series Soft - Mousepad - Dark Rose"
          ],
          [
           "Paradox Gaming ZX68 Low Profile - 68 Layout Gaming Keyboard - Black Case, Brown Switch"
          ],
          [
           "Rexus Daxa Elco II / Elco 2 - Gaming Chair"
          ],
          [
           "Rexus Keyboard Mouse Wireless KM8 Combo - Black"
          ],
          [
           "Rexus Mouse Gaming Xierra X15 - Gaming Mouse - Putih"
          ],
          [
           "HyperX Cloud Stinger Core Wireless - Gaming Headset"
          ],
          [
           "SteelSeries QcK+"
          ],
          [
           "SteelSeries QcK Prism Cloth XL - Gaming Mousepad"
          ],
          [
           "Noir x Yunzii IF98 Pro 1800 Layout Wireless Mechanical Keyboard 98 Key - Blue, G Pro Yellow V2"
          ],
          [
           "Rexus Mouse Office Wireless QB200 Skies - Mouse - Sunset Skies"
          ],
          [
           "NuPhy Air75 / Air 75 RGB ANSI Hot-swappable Wireless - Gaming Keyboard - Daylight, Gateron Blue"
          ],
          [
           "HyperX Fury S Speed Edition - Gaming Mousepad (XL)"
          ],
          [
           "Digital Alliance Luna - Gaming Mouse"
          ],
          [
           "MECHANICAL KEYBOARD - AJAZZ AKL680 - 65% - 68 KEYS - LOW PROFILE - White Blue, Red Switch"
          ],
          [
           "Rexus Mouse Wireless Gaming RX 110 - Black"
          ],
          [
           "NYK MCL-01 mic - NECRO"
          ],
          [
           "NYK NEMESIS X6 THUNDERSTORM - Cooling Pad"
          ],
          [
           "Rexus Keyboard Gaming Heroic KX4 - Black, Brown"
          ],
          [
           "KC Coiled Cable dan Straight Cable - Free Pouch - Orange+Black"
          ],
          [
           "Rexus PRO Mouse Wireless Gaming Daxa Air Mini - Hitam"
          ],
          [
           "Steelseries Arctis Nova Pro Wireless + GameDAC Gen 2 - Gaming Headset"
          ],
          [
           "Kelowna Gasket Teflon Mechanical Keyboard Stabilizer"
          ],
          [
           "Logitech Pro X Wireless Headset"
          ],
          [
           "DAREU LM-115G Wireless Office Mouse - Merah Muda"
          ],
          [
           "NYK Nemesis T10 LUMINATE - Headset Stand RGB - Putih"
          ],
          [
           "Hotline Games Mouse Anti-Slip Tape - Superlight"
          ],
          [
           "Noir Voix Condenser Microphone USB Type-C with RGB Streaming&Gaming - Hitam"
          ],
          [
           "Steelseries Arctis 1X Wireless - Gaming Headset"
          ],
          [
           "Noir Keycaps PBT Doubleshot Cherry Profile Keycaps Set - Luminous Keycap"
          ],
          [
           "Rexus NC-1 / NC1 Max Ergonomic - Office Chair - Coral Blue"
          ],
          [
           "Steelseries Aerox 3 Onyx 2022 Edition Wireless - Gaming Mouse"
          ],
          [
           "SteelSeries QcK 3XL Cloth Gaming Mousepad"
          ],
          [
           "RAZER KRAKEN V3X / V3 X Wired USB - Gaming Headset"
          ],
          [
           "NYK EG-03 ORTHON - EG 03 EARPHONE - Putih"
          ],
          [
           "Steelseries Qck Black medium"
          ],
          [
           "Steelseries Rival 600 Gaming mouse"
          ],
          [
           "Cooler Master MP511 CORDURA Rough Fabric Surface XL - Gaming Mousepad"
          ],
          [
           "NYK Cable 8K Display Port to Display Port - Cable Display Port - 3 METER"
          ],
          [
           "Noir Neo Melo Keyboard Low Profile Wireless 75% Mechanical Hotswap - Misty, White"
          ],
          [
           "CoolerMaster Coiled Cable Type-C For Mechanical Gaming Keyboard - Black"
          ],
          [
           "Steelseries Arctis Nova 3 - Gaming Headset"
          ],
          [
           "Pulsar Custom TKL ANSI BAREBONE RGB - Mechanical Gaming Keyboard - Black"
          ],
          [
           "Pulsar XLITE Ultralight Ergonomic - Wired Gaming Mouse - Black"
          ],
          [
           "Paradox GK2 Silicone - Keycaps GK2 Silicone 68% - DOLCH RED"
          ],
          [
           "Rexus Laptop Stand Decha FP02 / FP-02"
          ],
          [
           "VGN Dragonfly 4K smart Speed Wireless Dongle"
          ],
          [
           "PRDX Artisan Mazoku - Keycaps"
          ],
          [
           "NYK Nemesis X4 Storm Breaker - Gaming Cooling pad"
          ],
          [
           "Rexus Gaming Earphone ME-6 / ME6 with Dual Microphone Free Splitter - Merah Hitam"
          ],
          [
           "Cooler Master MH650 - Gaming Headset"
          ],
          [
           "Steelseries Aerox 3 Onyx 2022 Edition Wired - Gaming Mouse - Non Garansi"
          ],
          [
           "GLORIOUS SWITCH OPENER - Keyboard gaming"
          ],
          [
           "Paradox Gaming Keycaps GHOST PBT Dye Sub Side Print Keycaps - Carbon"
          ],
          [
           "Steelseries Apex 7 TKL Mechanical Gaming Keyboard - Biru"
          ],
          [
           "MSi Optix G24C4 - Gaming Monitor"
          ],
          [
           "SteelSeries Apex 7 - Gaming Keyboard - Biru Switch"
          ],
          [
           "VXE ATK75 / ATK 75 Rapid Trigger Magnetic Switch Mechanical Keyboard - Hitam"
          ],
          [
           "MONSGEEK M2 BAREBONE - Keyboard Gaming - Purple"
          ],
          [
           "Razer Barracuda X -White Wireless Multi-platform Gaming Headset (2022)"
          ],
          [
           "Noir Type-C Coiled Cable YC8 Aviator - Olive Green"
          ],
          [
           "CHERRY Mousepad Speed Version Smooth 4mm size 290X255mm - JA-G0442"
          ],
          [
           "KBDFANS KBD67 Lite R4 ABS Plastic Case - Mechanical Keyboard DIY Kit - Flamingo Pink"
          ],
          [
           "SADES KHANDA RGB TKL - Gaming Keyboard - Putih, Brown"
          ],
          [
           "Pulsar X2H MINI Wireless Gaming Mouse - Hitam"
          ],
          [
           "Digital Alliance Keyboard Gaming Meca Fighter S Series - Melon Yuzu, Blue Sw"
          ],
          [
           "Razer Cobra - Lightweight Wired Gaming Mouse RGB"
          ],
          [
           "E-YOOSO HOTSWAP MECHANICAL GAMING KEYBOARD 60% MACARON COLOR - Z-11T - Blue White, Blue"
          ],
          [
           "BTL ANTISLIP GRIP Viper Mini - BLACK THIN"
          ],
          [
           "Ducky x SOU • SOU One 2 Mini - Gaming Keyboard - Black Switch"
          ],
          [
           "Durock FOA Switch Film 0.3mm"
          ],
          [
           "Razer Phantom Keycap Upgrade Set - White"
          ],
          [
           "Logitech G335 / G-335 Wired - Gaming Headset - Mint"
          ],
          [
           "MIC ARM STAND DA"
          ],
          [
           "E-YOOSO Z-686 MONOCHROME HOTSWAP MECHANICAL GAMING KEYBOARD 68% - Grey White, Red Switch"
          ],
          [
           "Middle Click Mouse Switch"
          ],
          [
           "NYK Nemesis SIREN X30 3 in 1 Connection - Soundbar"
          ],
          [
           "Steelseries Aerox 5 Wireless - Gaming Mouse"
          ],
          [
           "Fantech GD814 - Gaming Desk - Putih"
          ],
          [
           "Fantech GP15L EOS LITE / GP15 EOS VEGA MULTI PLATFORM GAMEPAD - GP15L EOS LITE"
          ],
          [
           "Sades Deskmat SD-73 / SD73 Speed Type - Gaming Mousepad - Tori Ediiton"
          ],
          [
           "Kelowna Rectangular Rubber Pad Anti slip Keyboard Foot pad"
          ],
          [
           "NYK Nemesis ERIS K-06 mini RGB Stand Holder Membrane - Gaming Keyboard - Matcha"
          ],
          [
           "Streamplify Cam FHD 60 FPS - Webcam"
          ],
          [
           "Rexus Mousepad Gaming Kvlar T4"
          ],
          [
           "Elgato Wave:3 - Microphone - NON POP FILTER"
          ],
          [
           "Press Play SHIBUYA Gaming Mousepad Deskmat - Hitam, 40x90x4mm"
          ],
          [
           "Leopold FC660M BT White 2 Tone PD - Mechanical Gaming Keyboard - Blue Switch"
          ],
          [
           "PRDX Artisan CHEESE Collection - Keycaps - Cheddar"
          ],
          [
           "NYK MP-N01 / MPN01 (35 x 25cm) Control Type - Gaming Mousepad"
          ],
          [
           "Logitech C922 Pro Webcam - Webcam"
          ],
          [
           "Rexus Keyboard Gaming Battlefire K87M - Cream White"
          ],
          [
           "Kelowna Switch Lubing Station"
          ],
          [
           "Glorious Model O PRO Optical Gaming Mouse - Blue Lynx"
          ],
          [
           "Steelseries Apex Pro TKL 2023 - OmniPoint 2.0 Switch Gaming Keyboard"
          ],
          [
           "Steelseries Prime Wireless - Wireless Pro Series (NON WARRANTY)"
          ],
          [
           "Logitech MX Master 3s Bluetooth - Wireless Mouse - Graphite"
          ],
          [
           "Cooler Master MP511 CORDURA® Rough Fabric Surface L - Gaming Mousepad"
          ],
          [
           "Mechanical Keyboard metal Keycaps Puller - Metallic Red"
          ],
          [
           "Razer Kraken V3 Pro with Haptic Technology - Wireless Gaming Headset"
          ],
          [
           "EPOS H6 PRO CLOSED - Closed Acoustic Gaming Headset - Sebring"
          ],
          [
           "Aerocool Crown - Gaming Chair - Burgundy Red"
          ],
          [
           "Mic Condenser NYK MCN-07 Trident - Putih"
          ],
          [
           "EPOS GTW270 / GTW-270 Wireless Earbuds - Gaming Earphone - Non Hybrid, NON WARRANTY"
          ],
          [
           "Lamzu Thorn Wireless Superlight Gaming Mouse - White 1K"
          ],
          [
           "MELETRIX ZOOM75 - 2U COLOR LCD MODULAR"
          ],
          [
           "Digital Alliance Mouse Gaming Luna RGB V2-Gaming Mouse - Putih"
          ],
          [
           "NYK Nemesis Coolingpad 9 Fan RGB with Phone Holder NYK Nemesis VALE X9"
          ],
          [
           "Noir Neko Deskmat / Mousepad"
          ],
          [
           "SKYLOONG GK75 HOTSWAP GLACIER OPTICAL BLUE PINK PBT - Green Switch"
          ],
          [
           "PRDX Pokemon Vol. 1 Collection (Squirtle & Charmender) - Keycaps - Charmender"
          ],
          [
           "Elgato Flex Arm Kit L"
          ],
          [
           "Fantech TOWER AC3001S - Headset Stand - Merah"
          ],
          [
           "Durock Sea Glass Switch 62g P3+"
          ],
          [
           "Fantech PORTAL 7.1 HG28 USB Headset Gaming RGB"
          ],
          [
           "Rexus TWS Earphone Wireless Bluetooth FX2 / FX-2 / FX 2 - Hitam"
          ],
          [
           "Press Play LIQUID Series Gaming Mousepad Deskmat - MARBLE, 40X90X4MM"
          ],
          [
           "NYK Nemesis FOBOS SPN-21 / SPN 21 Subwoofer 2.1 RGB Speaker Gaming"
          ],
          [
           "Steelseries Arctis Nova Pro with GameDAC Gen 2 - Gaming Headset - PC-Playstation"
          ],
          [
           "Ducky One 3 Fuji Non-LED TKL - Gaming Keyboard - Speed Silver"
          ],
          [
           "Sades 108 Keys PBT Keycaps Double Injection - Pink"
          ],
          [
           "Grip Tape for XLITE - Wired / Wireless"
          ],
          [
           "Sades Sabre TKL RGB Membrane Backlight Gaming Keyboard - Hitam"
          ],
          [
           "Keychron K3 HOTSWAP RGB Low Profile - Wireless Mechanical Keyboard - Gateron Red"
          ],
          [
           "Leopold FC750R Ash Yellow PD TKL Double Shot PBT Mechanical Keyboard - Cherry Blue"
          ],
          [
           "Vortexseries Swift82 75% Rapid Trigger Magnetic Switch Keyboard"
          ],
          [
           "Pulsar X2 V2 Mini Wireless Gaming Mouse - Hitam"
          ],
          [
           "Fantech ATO VIBE EDITION Deskmat MP905 Mousepad XL - Cyber Life"
          ],
          [
           "SKYLOONG GK75 HOTSWAP GLACIER OPTICAL GREY WHITE RED PBT - Blue Switch"
          ],
          [
           "Rexus Earphone Gaming EP4 Dual Driver With Mic - Gaming Earphone - Forest Green"
          ],
          [
           "Rexus K68M Keyboard - Gaming Keyboard - Hitam"
          ],
          [
           "Fantech EARCUP For MH86 Gaming Headset - Kulit"
          ],
          [
           "Modifikasi Full KEEB 60% - 87% & 87% UP! - MOD NON ALU, 60-87%"
          ],
          [
           "PRDX Artisan Dragon Collection - Keycaps - Jin"
          ],
          [
           "ZOWIE EC3-C /EC3C Gaming Mouse For Esports"
          ],
          [
           "Razer BlackWidow V3 Mini Wireless HyperSpeed - Gaming Keyboard - Green Switch"
          ],
          [
           "VortexSeries E322 Gaming Earphone"
          ],
          [
           "HyperX Double Shot PBT Keycaps - 104 Mechanical Keycap Set - Putih"
          ],
          [
           "Rexus Ergonomic Footrest Angle Pedestal"
          ],
          [
           "Noir Gojira Deskmat / Mouse Pad"
          ],
          [
           "dbE Replacement Pad Untuk DJ80 - DJ200 - DJ300 - Earcup - Leather"
          ],
          [
           "Paradox GK1-PBTR Keycaps / Keycaps GK1 PBT Radium vulture - PANDA"
          ],
          [
           "Premium Garskin Basilisk Skin Mouse - Aqua"
          ],
          [
           "Elgato Solid Arm S - Streamer Kit"
          ],
          [
           "Thronmax MDrill One Pro - Microphone - Abu-abu"
          ],
          [
           "Razer Blackwidow V3 Tenkeyless - Gaming Keyboard - Green Switch"
          ],
          [
           "MONSGEEK MG75W / MG75 W BAREBONE KEYBOARD KIT - Hitam, Barebone Only"
          ],
          [
           "Sades Ryunix XD100 Stream Deck Control Pad"
          ],
          [
           "Ajazz i069 Pro Transparent RGB Wireless Mouse"
          ],
          [
           "Keyboard Mouse Wireless 2 in 1 FANTECH GO POP WK895 Portable - Beige"
          ],
          [
           "SKYLOONG GK75 WIRELESS HOTSWAP GLACIER MECHANICAL Ti GRAY PBT KEYCAPS - Brown Switch"
          ],
          [
           "Razer Deathadder V3 - Gaming Mouse"
          ],
          [
           "Logitech Desk Mat Studio Series - Desk Mat / Mousepad - Lavender"
          ],
          [
           "Razer Goliathus Speed Genshin Impact Edition Medium - Gaming Mousepad"
          ],
          [
           "Razer Kraken V3 HyperSense Wired USB with Haptic Tech - Gaming Headset"
          ],
          [
           "1STPLAYER GAMING CHAIR - MODEL FD-GC1 (PINK ) - GAMING CHAIR"
          ],
          [
           "1STPLAYER GAMING CHAIR - MODEL K2 (BLACK) - GAMING CHAIR - Hitam"
          ],
          [
           "Leopold FC900R Charcoal Blue Mechanical Gaming Keyboard - Brown Switch"
          ],
          [
           "Razer Kraken BT Kitty Edition - Gaming Headset - Quartz"
          ],
          [
           "Ducky One 2 RGB White Christmast Edition - Gaming Keyboard"
          ],
          [
           "Ajazz Keycaps set PBT Side Printed AKH136 - Blue"
          ],
          [
           "WL MOUSE BEAST X Grip Tape - Putih"
          ],
          [
           "Sades KAZE Lightweight Gaming Mouse - Putih"
          ],
          [
           "KC-Tools 31 in1 Precision Screwdiver Set"
          ],
          [
           "Steelseries ARCTIS NOVA 7 WIRELESS DIABLO IV EDITION - NON Garansi"
          ],
          [
           "TX Stabilizers (Plate Mount) keyboard - Black"
          ],
          [
           "Noir Timeless Deskmat / Mousepad - Futuristic"
          ],
          [
           "Asus ROG Harpe Ace Aim Lab Edition - Gaming Mouse - Putih"
          ],
          [
           "Press Play NOOK Wooden Headphone Stand Holder"
          ],
          [
           "Steelseries Apex Pro Mini 60% - OmniPoint 2.0 Switch Gaming Keyboard"
          ],
          [
           "Akko Black & Rose 197-Key ASA Profile - Keycap Set"
          ],
          [
           "Rexus PC / Polycarbonate Plate for keyboard Mechanical Daxa M61 / M64 - M64 PC"
          ],
          [
           "Glorious GMMK 2 96% RGB Custom Mechanical Keyboard - Barbone - White"
          ],
          [
           "ORICO W5PH4 4 ports USB 3.0 Portable HUB"
          ],
          [
           "Logitech G413 TKL SE Mechanical - Gaming Keyboard"
          ],
          [
           "Fantech MINT EDITION AGILE MP904 - Gaming Mousepad"
          ],
          [
           "Rexus Case Cover Mouse Gaming Daxa Air III - Case Pink"
          ],
          [
           "PRDX Artisan Egypt Collection - Keycaps - Pharaoh"
          ],
          [
           "1STPLAYER GAMING CHAIR S01 / S-01 Black Blue Kursi Gaming"
          ],
          [
           "Digital Alliance Mouse Gaming CARBINE PMW 3325 10.000 Dpi Mouse Gaming - Ice White"
          ],
          [
           "RAZER Iskur with Built-in Lumbar Support - Gaming Chair"
          ],
          [
           "FANTECH EG-1 / EG1 EARPHONE GAMING"
          ],
          [
           "Sades Ryunix G80 / G-80 Wireless Gamepad Hall Effect Analog Dual Mode - Hitam"
          ],
          [
           "Noir Metro Edge Deskmat / Mousepad - CItron"
          ],
          [
           "Ajazz AJ199 Lite Edition Gaming Mouse Dual Mode PAW3338 up to 16000DPI - Hitam"
          ],
          [
           "ROVER84 V4 75% Wireless Mechanical Keyboard by Press Play - Smokey Black, KTT Kang White"
          ],
          [
           "Fantech MAXFIT70 MK911 Wireless 65% Mechanical Keyboard Gaming - LONDON TOUR, Brown Switch"
          ],
          [
           "Logitech G PRO X TKL LIGHTSPEED Keyboard Gaming Wireless - Putih"
          ],
          [
           "Noir Kuro Shiro Deskmat / Mouse Pad"
          ],
          [
           "Logitech G740 Large Cloth Gaming Mouse Pad with Anti Slip & Optimized"
          ],
          [
           "Rexus Keyboard Gaming Mekanikal DAXA M82X Ultimate - Hitam, JWICK ULT BLCK"
          ],
          [
           "Mouse Gaming Rexus Xierra X18 RIFLE - Hitam"
          ],
          [
           "Rexus Keyboard Bluetooth Gaming Mechanical Daxa M64 Ultimate - Putih, GPM Red"
          ],
          [
           "VortexSeries Infinite Loop Deskmat Mousepad - Hitam"
          ],
          [
           "NOIR 10in1 USB TYPE C HUB TO HDMI 4K LAN USB 3.0 FAST CHARGING MACBOOK"
          ],
          [
           "Xtrfy M42 WIreless Mouse Gaming - Putih"
          ],
          [
           "Pulsar XLITE Superglide LIMITED EDITION - Wired Gaming Mouse - Black"
          ],
          [
           "Glorious GOAT Switch Stabilizers PCB Mount - Keyboard Gaming"
          ],
          [
           "Razer Ergonomic Wrist Rest Pro For Full-sized Keyboards"
          ],
          [
           "HYPERX Alloy Origins 60 Mechanical - Gaming Keyboard"
          ],
          [
           "HyperX Alloy Origins - Gaming Keyboard - Blue switch"
          ],
          [
           "Earphone gaming NYK EG-01 cyclops"
          ],
          [
           "Fantech MK913 ATOM PRO83 WIRELESS MECHANICAL KEYBOARD - Blue Switch"
          ],
          [
           "LEOBOG HI8 / HI 8 Aluminium 75% Barebone - Mechanical Keyboard - Green"
          ],
          [
           "NYK Nemesis Gamepad Wireless 2.4Ghz with Macro ATLAS GPW700 - Red"
          ],
          [
           "Chillkey Paw65 Assembled Edition - Mechanical Keyboard - Dark Blush, Bean Green"
          ],
          [
           "Noir x Isha Hening Deskmat - Test Card - BnW"
          ],
          [
           "Rexus Daxa M100X Ultimate Southfacing Wireless - Gaming keyboard - GAT PRO YLW V2"
          ],
          [
           "Steelseries Arctis Nova 7X Wireless - Gaming Headset - Hitam"
          ],
          [
           "HyperX Pudding Keycaps PBT - Putih"
          ],
          [
           "Logitech G535 Lighspeed Wireless - Gaming Headset"
          ],
          [
           "75% Carrying Case Suede"
          ],
          [
           "Pulsar Low Profile KR ANSI - PBT Doubleshot - Keycaps (104 Set US KR) - Black"
          ],
          [
           "SteelSeries Prime Pro Series - Gaming Mouse - Prime Only"
          ],
          [
           "Leopold FC660M Yellow Blue White Mechanical Gaming Keyboard - Silent Switch"
          ],
          [
           "BAFO Kabel HDMI 2 Meter V2 - Kabel HDMI"
          ],
          [
           "Fantech G10 - Gaming Mouse"
          ],
          [
           "Logitech G440 Hard Gaming Mouse Pad"
          ],
          [
           "Logitech Extreme 3D Pro Joystick"
          ],
          [
           "Monsgeek MX108 Wireless Bundle Mouse & Keyboard Combo - Black SIlver"
          ],
          [
           "NYK Speaker Bluetooth Portable NYK Nemesis ODETTE X70"
          ],
          [
           "Steelseries Arctis Nova 7P Wireless - Gaming Headset - Putih"
          ],
          [
           "Fantech Earphone Go Wired Earbuds ES1 - Putih"
          ],
          [
           "E-YOOSO HOTSWAP MECHANICAL 87% WHITE GREY KEYCAPS - K-620 - Grey White, Brown Switch"
          ],
          [
           "CHERRY Mousepad Speed Version Smooth 4mm size 444X355mm - JA-G0432"
          ],
          [
           "Razer Basilisk V3 Pro - Wireless RGB Optical Switch Gaming Mouse - Hitam"
          ],
          [
           "Glorious GMMK 2 65% Pre-Built RGB Mechanical - Gaming Keyboard - Black"
          ],
          [
           "Ducky One 3 Fuji Non-LED Full Size - Gaming Keyboard - Black Switch"
          ],
          [
           "Ninjutso Katana Superlight Wireless Professional - Gaming Mouse - White"
          ],
          [
           "Razer Huntsman V2 Optical - Gaming Keyboard - LINEAR Optical"
          ],
          [
           "ONEX GX6 Premium Quality Kursi Gaming Chair - Putih"
          ],
          [
           "FANTECH Jade MH84 / MH-84 RGB - Gaming Headset"
          ],
          [
           "1STPLAYER GAMING CHAIR S01 / S-01 Black Red Kursi Gaming"
          ],
          [
           "Razer BlackWidow V3 - Gaming keyboard - Yellow"
          ],
          [
           "Thronmax Proof Pop Filter"
          ],
          [
           "Razer Ergonomic Wrist Rest for Full-Sized Keyboards"
          ],
          [
           "ThunderX3 Yama1 - Gaming Chair - black cyan"
          ],
          [
           "Fantech MP256 / MP-256 Mousepad Gaming Stitch Jahit Speed"
          ],
          [
           "WL MOUSE BEAST X Mouse PTFE Skates"
          ],
          [
           "Gamepad Dual Mode Sades Hiro G50 Multi Platform"
          ],
          [
           "NYK NEMESIS Coolingpad 8 Fan RGB WINTER FROST X5 PRO"
          ],
          [
           "Steelseries Apex Pro TKL Wireless 2023 - OmniPoint 2.0 Gaming Keyboard"
          ],
          [
           "CHERRY Mousepad Control Version Rough 4mm size 290X255mm - JA-G0443"
          ],
          [
           "VortexSeries Liquified Deskmat Mousepad - Putih"
          ],
          [
           "VortexSeries Meta Cube Deskmat Mousepad - Putih"
          ],
          [
           "Fantech SCAR EG4 In-Ear - Gaming Headset"
          ],
          [
           "Glorious GMMK 2 65% RGB Custom Mechanical Keyboard - Barbone - Black"
          ],
          [
           "Steelseries Aerox 9 Wireless - Gaming Mouse"
          ],
          [
           "Ducky x SOU • SOU One 2 - Gaming Keyboard - SIlent Red"
          ],
          [
           "LEOPOLD FC660M BT PD AshYellow - Gaming Keyboard - Blue Switch"
          ],
          [
           "Rexus Battlefire K9E Full Size Rainbow LED - Gaming Keyboard - White Mint"
          ],
          [
           "IQUNIX L80 Formula Typing Wireless Mechanical Keyboard - CHERRY BROWN"
          ],
          [
           "DUCKY ONE 2 Backlit Series White LED Fullsize - Gaming Keyboard - White Frame, Black Switch"
          ],
          [
           "Rexus Case Cover Mouse Gaming Daxa Air Wireless RGB - Merah"
          ],
          [
           "ESP-109 SWALLOW - MOUSEPAD"
          ],
          [
           "Dareu EH728 USB-C - Gaming Earphone - Merah"
          ],
          [
           "NYK HSN-10 KNIGHT - Gaming Headset - Hitam"
          ],
          [
           "SteelSeries Apex 7 - Gaming Keyboard - Merah Switch"
          ],
          [
           "WL MOUSE Beast X MINI Gripe Tape - Putih"
          ],
          [
           "ROVER84 V4 Lite 75% Wired Mechanical Keyboard by Press Play - AJAZZ BlueSky"
          ],
          [
           "HyperX Pulsefire Haste 2 - Gaming Mouse - Putih"
          ],
          [
           "KC-Tools Bundle 36in1 electric Screwdiver set + Small Torque Charging"
          ],
          [
           "Rexus Keyboard Mousepad AYAKA Series Full Size - Mizunami, Brown Switch"
          ],
          [
           "Akko Warm Gray Keycap Set(132-key)"
          ],
          [
           "Rexus KM10 / KM 10 Keyboard Mouse WIreless Combo - Lilly Green"
          ],
          [
           "Modifikasi keyboard a la carte - Dampener"
          ],
          [
           "Glorious GMMK 2 96% Pre-Built PINK RGB Mechanical - Gaming Keyboard"
          ],
          [
           "Bracket TV Monitor LED LCD Gas Spring OXIMUS ZDP1118 1118 Tilt Swivel - Black"
          ],
          [
           "Cougar Control EX Rough Glide Surface - Gaming Mouse Pad - Control EX-S"
          ],
          [
           "Rexus Dira RGB - Gaming Desk - White Black"
          ],
          [
           "IDOBAO PLUGS AND UNPLUGGS DATA LINES TAK COILED CABLE - Gray"
          ],
          [
           "HP K130 NBL USB Wired - Membrane Office / Gaming Keyboard"
          ],
          [
           "Cherry MX Switches Key cap set for CHERRY MX keyboards - AC 0.3 - ABS - Pink"
          ],
          [
           "Fantech Keyboard Mouse KM100"
          ],
          [
           "Leopold FC900R Ash Yellow Mechanical Gaming Keyboard - Brown Switch"
          ],
          [
           "NYK SCORPION G-07 - Gaming Mouse"
          ],
          [
           "Razer Huntsman V2 Analog Optical Switch Mechanical Gaming Keyboard"
          ],
          [
           "ONEX GX3 - Gaming Chair - Black"
          ],
          [
           "NOVA PRO Lightweight Wireless Gaming Mouse - Putih, Mouse"
          ],
          [
           "Mouse Gaming NYK Nemesis HK-500 - Hitam"
          ],
          [
           "Cooler Master MM712 Gaming Mouse - White"
          ],
          [
           "Ducky One 3 Cosmic TKL Hotswap RGB Mechanical Gaming Keyboard - SilentRed Switc"
          ],
          [
           "Noir Joy Series Deskmat - Denim"
          ],
          [
           "Ducky One 3 Aura MIni RGB - Gaming Keyboard - Silent Red, Putih"
          ],
          [
           "Mousepad Gaming NYK Nemesis Drax RGB G-8000"
          ],
          [
           "Akko Black & Pink PBT 155 key ASA Low Profile - Keycap Set"
          ],
          [
           "PRDX Artisan Hanzo - Keycaps"
          ],
          [
           "Pulsar PARA BRAKE V2 XXL - Gaming Mousepad - Black"
          ],
          [
           "Fantech W190 Dual Mode - Office Mouse - Black"
          ],
          [
           "Rexus Daxa M61 Resin - Barebone - Blue"
          ],
          [
           "Steelseries Arctis Velour Ear Cushions for Arctis Headsets"
          ],
          [
           "EPOS H6 PRO OPEN - OPEN Acoustic Gaming Headset - Greeen"
          ],
          [
           "Redragon DRAGONBORN - K630 Mechanical - Gaming Keyboard - K630W"
          ],
          [
           "Durock V2 Black PCB Screw-in - Keyboard Stabilizer"
          ],
          [
           "Rexus RGC100 / RGC-100 - Gaming Chair - List White"
          ],
          [
           "Pulsar Linear Switch Pack (110 Pack) - Gateron White"
          ],
          [
           "Ducky Premicord 2 Tone Customized Shrinkable Coiled Cable - COTTON CANDY"
          ],
          [
           "Razer Wolverine V2 Chroma Xbox Series X|S Controller - Gaming Pad"
          ],
          [
           "Elgato Facecam Premium 1080p60 Webcam"
          ],
          [
           "Thronmax Caster Boom Stand S2 XLR"
          ],
          [
           "Fantech WN01 Wireless - Gaming Earphone"
          ],
          [
           "1STPLAYER GAMING CHAIR P01 / P-01 Black White Kursi Gaming"
          ],
          [
           "Asus TUF Gaming VG259QR Gaming Monitor - 24.5\" Full HD, 165Hz, G-SYNC"
          ],
          [
           "EPOS GSP 601 Closed Accoustic - Gaming Headset"
          ],
          [
           "NYK Aura RGB - Fan Case"
          ],
          [
           "SteelSeries QcK Prism Cloth 3XL RGB Gaming Mousepad"
          ],
          [
           "X-Raypad Black Thor Fast Speed Cloth - Gaming Mousepad - XXL"
          ],
          [
           "Razer Naga X Ergonomic MMO Gaming Mouse - Gaming Mouse"
          ],
          [
           "Razer Naga Pro Wireless - Gaming Mouse"
          ],
          [
           "Thronmax Shock Mount"
          ],
          [
           "Dareu EH469 Mirror - Gaming Headset - Hitam"
          ],
          [
           "Digital Alliance Delta Armor X - Gaming Headset"
          ],
          [
           "Razer Kraken Kitty Edition - Gaming Headset - Quartz"
          ],
          [
           "Razer Huntsman - Gaming Keyboard - Black"
          ],
          [
           "Monsgeek M1W HE-SP / M1W HE - SP Magnetic Switch Keyboard - Ungu"
          ],
          [
           "Fantech OCA259 PRO Kursi Kantor Kerja Jaring Premium Office Chair - Abu-abu"
          ],
          [
           "Tenjin Scrollworks x Noir Gear Kaizen Deskmat - Gaming Mousepad - Putih"
          ],
          [
           "NYK MUSAI MCW-02 / MCW02 Microphone Clip-On Wireless"
          ],
          [
           "Cooler Master SK622 Hybrid Wireless Mechanical Gaming Keyboard - Black Case, Red Switch"
          ],
          [
           "Press Play 9009 PBT Dye Sub Sublimated Keycaps Set"
          ],
          [
           "Logitech G PRO X 2 LIGHTSPEED Headset Gaming Wireless Bluetooth -Black"
          ],
          [
           "Ducky One 3 Aura TKL RGB - Gaming Keyboard - Brown Switch"
          ],
          [
           "NYK Nemesis Grimlock HK400 RGB WIth Macro - Gaming Mouse - Putih"
          ],
          [
           "Logitech G502X Lightspeed Wireless - Gaming Mouse - Hitam"
          ],
          [
           "Rexus RGC211 STOFFA / RGC-211 Stoffa 4D - Gaming Chair - Steel Blue"
          ],
          [
           "Steelseries Aerox 5 - Gaming Mouse"
          ],
          [
           "Noir Javanese Roots Full Set PBT Dye Sub Cherry Profile WOB - Keycaps"
          ],
          [
           "1STPLAYER BD1 HQ LEATHER Arm&footrest - LUMBAR MASSAGE - GAMING CHAIR"
          ],
          [
           "1STPLAYER FIREBASE M6 Honeycomb & RGB Effect - 10000dpi - Gaming Mouse"
          ],
          [
           "Elgato Wave Mic Arm - Streaming Kit - Low Profile"
          ],
          [
           "Elgato Wave XLR MICROPHONE INTERFACE"
          ],
          [
           "Razer Sphex V3 Large - Gaming Mouse Matt"
          ],
          [
           "Thrustmaster T300 RS / T300RS GT Racing Wheel - FOR PC PS3 PS4 - Unit Only"
          ],
          [
           "MSi Agility GD20 - Gaming Mousepad"
          ],
          [
           "Epos GSX 300 / GSX300 Snow EDITION - External Sound Card"
          ],
          [
           "Leopold FC750R Grey Purple Mechanical Gaming Keyboard - silent red"
          ],
          [
           "Connector / Konverter HDMI To VGA"
          ],
          [
           "ASUS TUF Gaming M3 Ergonomic Wired RGB Gaming Mouse"
          ],
          [
           "dbE HS100 7.1 Virtual Surround Headphone Stand with RGB and USB HUB"
          ],
          [
           "Fantech GC-188 - Gaming Chair - Hitam"
          ],
          [
           "ESP-109 DREAM - MOUSEPAD"
          ],
          [
           "Razer Blackwidow Chroma v2 yellow switch - green switch"
          ],
          [
           "Logitech G29 Driving Force Racing Wheel"
          ],
          [
           "Hyperx Cloud 3 Wireless / Cloud III Wireless - Gaming Headset - Hitam"
          ],
          [
           "Rexus Microphone Snare CM10"
          ],
          [
           "VortexSeries Super Glide Glass Skates for INNO X2 Super Light Mouse"
          ],
          [
           "Rexus Mousemat Daxa Retro Pearl"
          ],
          [
           "Neo Lumi Cam Monitor Screen Bar with FHD 1080p Webcam | Lampu Monitor"
          ],
          [
           "DUROCK White Lotus Switch Light Tactile 56g"
          ],
          [
           "KC-Tools 36in1 Stationery Box Straight Handle Electric Screwdiver"
          ],
          [
           "Press Play Ukiyo Sea Waves PBT Dye Sub Keycaps 108 Keys"
          ],
          [
           "Press Play Gundam Unicorn Japanese PBT Dye Sub Keycaps Keycap Set"
          ],
          [
           "Tbcats Eclair Orange Linear Switches"
          ],
          [
           "Fantech TOWER II AC304 PRO Headset Stand Gaming"
          ],
          [
           "Fantech Earphone TYPE C EG3 Earbuds Premium Alluminium Alloy Magnetic - Putih"
          ],
          [
           "SteelSeries Prime Gaming Mouse - Gaming Mouse (NON WARRANTY)"
          ],
          [
           "Ducky One 3 Daybreak TKL - Gaming Keyboard - Speed Silver"
          ],
          [
           "Deskmat Kaiju Works Bauer - Oversized Deskmat"
          ],
          [
           "Steelseries Arctis Nova Pro Wireless X + GameDAC Gen2 - Gaming Headset"
          ],
          [
           "HyperX Alloy Origins Core Keyboard - PBT keycaps - Blue Switch"
          ],
          [
           "Gamen GFS01 - Finger Sleeve for Mobile Gaming"
          ],
          [
           "Noir Z1 65% - Aluminum Custom Mechanical Keyboard - Z1 Full Kit"
          ],
          [
           "Packing Kayu Tambahan"
          ],
          [
           "Terraflex TR-1/ TR1 - Gaming Chair - Black / Blue"
          ],
          [
           "Noir Olive (168 Key Set) - Keycaps"
          ],
          [
           "Thronmax Phantom Boom Stand S4"
          ],
          [
           "Rexus Q30 Wireless - Office Mouse - Black"
          ],
          [
           "Fantech MINT EDITION TOWER II AC3004 - Headset Stand"
          ],
          [
           "Ducky One 2 Skyline - Gaming Keyboard - Cokelat"
          ],
          [
           "PAPALOOK Webcam 1080P 60FPS Auto Focus, Microphone, Tripod - PA552Pro"
          ],
          [
           "Steelseries Prime Mini - Dongle Quantum 2.0 Wireless - Gaming Mouse"
          ],
          [
           "Leopold FC750R Yellow Blue White Mechanical - Gaming Keyboard - Silent Red"
          ],
          [
           "Paradox Gaming GK68X CNC Case Bottom Shell for 68Keys Gaming Keyboard - RoseWood"
          ],
          [
           "Premium Garskin G403 Skin Mouse - Supreme R&W"
          ],
          [
           "Steelseries Aerox 3 - Gaming Mouse - Non Garansi"
          ],
          [
           "ASUS ROG Scabbard II Extended / Scabbard 2 Extended - Gaming Mousepad"
          ],
          [
           "Dareu EH728 Bluetooth - Gaming Earphone - Hitam"
          ],
          [
           "Dareu EM901 PRO - Gaming Mouse - Merah Muda"
          ],
          [
           "LOGITECH G813 LIGHTSYNC RGB MECHANICAL GAMING KEYBOARD"
          ],
          [
           "Razer Cynosa Lite & Razer Abyssus Lite - Keyboard and Mouse Bundle"
          ],
          [
           "AJAZZ AKP815 / AKP 815 75% Gasket-mounted Low-profile Mechanical Keyboard - Red Sw"
          ],
          [
           "Fantech MST901 / MST-901 Strikepad Ultra Fast Mousepad"
          ],
          [
           "NYK Nemesis Keyboard Combo 3 in 1 TKL CENTA KC80 - Hitam"
          ],
          [
           "dbE TWS21G Dual Mode Gaming Wireless Earphone TWS"
          ],
          [
           "Fantech Earphone Go Wired Earbuds ES4 - Putih"
          ],
          [
           "Ajazz AJ139 PRO 4K Wireless Gaming Mouse - Hitam"
          ],
          [
           "ASUS ROG Keris Wireless AimPoint - Gaming Mouse - Putih"
          ],
          [
           "VINTAGE KOREAN ROOT PBT Dye Sub Keycaps by Press Play"
          ],
          [
           "Fantech Keycaps SET PBT Dual-Shot Vibrant Utility Profile ACK01"
          ],
          [
           "E-YOOSO Z-87 MONOCHROME HOTSWAP MECHANICAL KEYBOARD 87% - White Grey, Red Switch"
          ],
          [
           "Paradox Gaming Keycaps ZS 24 XDA Dye Sub - Keycap Set"
          ],
          [
           "Rexus Mouse Gaming Xierra G23 - Gaming Mouse - Hitam"
          ],
          [
           "Steelseries Nova Booster Pack - Lilac"
          ],
          [
           "Akko MDA Keycap Set Olivia - Keycaps"
          ],
          [
           "Steelseries Prime Mini - Dongle Quantum 2.0 Wireless (NON WARRANTY)"
          ],
          [
           "Thronmax Twist Boom Arm S6 / S 6 - Stand Microphone - Putih"
          ],
          [
           "Yiqi Keycaps Graffiti PBT Dye-Sub XDA Profile"
          ],
          [
           "NuPhy Air75 NuFolio V2 Exclusive Leather - Keyboard Case"
          ],
          [
           "Fantech CHIEF II HG20 RGB Space Edition - Gaming Headset"
          ],
          [
           "65% Carrying Case Suede"
          ],
          [
           "HyperX Pulsefire Mat Cloth XL - Gaming Mouse Pad"
          ],
          [
           "Fantech MINT EDITION MAXFIT87 MK856 Mechanical Keyboard Gaming - Blue Switch"
          ],
          [
           "Ducky One 3 Mini Yellow RGB - Gaming Keyboard - Black Switch"
          ],
          [
           "dbE DJ80 Foldable DJ Headphone with Detachable Microphone - White"
          ],
          [
           "Sades Tenka 71% Outemu Universal Hotswappable RGB - Gaming Keyboard - Outemu Red"
          ],
          [
           "AJAZZ Pudding PBT OEM Profile - Keycaps"
          ],
          [
           "HP H360 3.5mm and USB Wired RGB Light - Gaming Headset"
          ],
          [
           "HP M280 SPCP A704E Blue Backlight 4D - Gaming Mouse"
          ],
          [
           "Elgato Stream Deck MK.2 15 LCD Keys - Stream Deck - White"
          ],
          [
           "Razer Opus Gaming Wireless Bluetooth ANC THX HiFi Noise Canceling - headset only"
          ],
          [
           "LEOPOLD FC750R PD Graphite White Mint PD - Gaming Keyboard - Cherry Brown"
          ],
          [
           "Keychron K2 - Wireless Gaming Keyboard - Gatheron Red"
          ],
          [
           "Dareu EK828 - One Hand Gaming Keyboard"
          ],
          [
           "Elgato Wave Shock Mount"
          ],
          [
           "Logitech G331 Stereo Gaming Headset"
          ],
          [
           "Noir N1/X 65% VIA/QMK Wireless Mechanical Keyboard Gasket Mount - Zest, KTT KU Brown"
          ],
          [
           "Fantech Kanata VX9 / VX9S RGB Gaming Mouse - VX9 BLACK"
          ],
          [
           "Ajazz AKP153 Visual Custom Console Macropad"
          ],
          [
           "Fantech DUAL MODE Wireless Mouse Gaming WGC3 Rechargeable PIXART 3325 - Hitam"
          ],
          [
           "Rexus Headset Gaming Vonix F29"
          ],
          [
           "Rexus Deskmat Daxa Dream - Blushing Sky"
          ],
          [
           "Neo Lumi Stick Monitor Screen Bar with Wireless Remote | Lampu Monitor"
          ],
          [
           "Rexus Cooling Pad Breeze B160 Fan With RGB"
          ],
          [
           "Rexus Headset Stand Speaker Astro J4"
          ],
          [
           "Press Play ROVER84 v3 Wireless Mechanical Keyboard Gasket Mount - KAILH BOX WHITE"
          ],
          [
           "Logitech G PRO X 2 LIGHTSPEED Headset Gaming Wireless Bluetooth -White"
          ],
          [
           "Noir Inochi Deskmat / Mouse Pad"
          ],
          [
           "Mouse Wireless Office FANTECH GO W192 Silent Click 2.4Ghz 1600DPI - Putih"
          ],
          [
           "VortexSeries CNC Aluminium 2in1 Switch & Keycap Puller"
          ],
          [
           "SKYLOONG GK980 GLACIER MECHANICAL GREY WHITE RED PBT KEYCAPS - Red Switch"
          ],
          [
           "E-YOOSO HOTSWAP MECHANICAL 98% BLACK GREY KEYCAPS - Z-19 - Red Sw"
          ],
          [
           "Press Play EBISU PBT Doubleshot Keycaps Keycap Set"
          ],
          [
           "Akko MOD 007 Southfacing V2 - Keyboard Barebone - Very Peri"
          ],
          [
           "VortexSeries Stroke Wave Deskmat Mousepad - Putih"
          ],
          [
           "Yiqi Keycaps Original Design PBT Dye-Sub MDA Profile"
          ],
          [
           "Logitech G735 Wireless Gaming Headset / G-735"
          ],
          [
           "Rexus RXH 329 USB HUB"
          ],
          [
           "NYK Nemesis HORKOS GP300 Multiplatform - Gamepad"
          ],
          [
           "Sades Rifle Fullsize Membrane - Gaming keyboard"
          ],
          [
           "Rexus X17 Bara Flame RGB - Gaming Mouse"
          ],
          [
           "Cooler Master Earmuff for MH630 - MH650 - MH670 - MH751 / MH752 - MH630"
          ],
          [
           "Digital Alliance Headset Gaming VIVID RGB LED Wired - Gaming Headset - Black"
          ],
          [
           "Razer Barracuda X QUARTZ Wireless Multiplatform - Gaming Headset - Quartz Only"
          ],
          [
           "Logitech G733 Lightspeed LILAC - Wireless Gaming Headset - G733 Only"
          ],
          [
           "Premium Garskin Viper Ultimate Skin Mouse - Doodles"
          ],
          [
           "Razer Blackshark V2 Pro Rainbow Six Edt - Gaming Headset"
          ],
          [
           "Steelseries Prime Wireless - Wireless Pro Series Gaming Mouse - Prime Only"
          ],
          [
           "GALAX Gaming Chair GC-01 - RGB Effect - Hitam"
          ],
          [
           "Rexus Earphone S100i - Gaming Earphone - Pink"
          ],
          [
           "ASUS ROG Strix XG32VC 32\" VA Curved Gaming Monitor 1440p, 170Hz, 1ms"
          ],
          [
           "Corsair K65 RGB Mini 60% Mechanical Keyboard - Linear - Putih"
          ],
          [
           "ONEX FT700 Premium Quality Gaming Chair Kursi - Black"
          ],
          [
           "Rexus Keyboard Gaming Fortress K9TKL - Hitam"
          ],
          [
           "Cooler Master Mouse CM110 RGB Gaming Mouse"
          ],
          [
           "MSI CLUTCH GM08 - Gaming Mouse"
          ],
          [
           "Thrustmaster TFRP Rudder"
          ],
          [
           "Fantech K511 Hunter Pro - Gaming Keyboard"
          ],
          [
           "HyperX Alloy FPS RGB - Gaming Keyboard"
          ],
          [
           "Epos GSX 1000 - Audio Amplifier"
          ],
          [
           "Epos GSX 1200 Pro - Audio Amplifier"
          ],
          [
           "REXUS FORTRESS K9 TKL"
          ],
          [
           "HyperX Pulsefire Raid - Gaming Mouse"
          ],
          [
           "HyperX Alloy Elite RGB Mechanical Keyboard - Merah"
          ],
          [
           "Plextone DX6 + 3.5mm Cable - Gaming Earphone"
          ],
          [
           "LOGITECH G431 7.1 GAMING HEADSET DTSX2.0"
          ],
          [
           "ClearCaps V2 Transparent Keycaps by Press Play - Clear White"
          ],
          [
           "Fantech MV-01 / MV01 Lavalier Microphone - Gaming Microphone"
          ],
          [
           "Cooler Master SK653 Full Mechanical Wireless Keyboard - Red Switch"
          ],
          [
           "Cooler Master SK652 Full Mechanical Gaming Keyboard - Black, Brown Switch"
          ],
          [
           "Timeless82 Additional Plate - ALUMINIUM"
          ],
          [
           "Rexus Ergonomic Chair Daxa ZEN EC3 / DX-EC3 - Green"
          ],
          [
           "Fantech WH02 GO Air Bluetooth 5.0 Lightweight Headphone Headset - Beige"
          ],
          [
           "Fantech WH03 GO Air Bluetooth 5.0 Wireless Headphone Headset - Black"
          ],
          [
           "Neo MK1 Wireless Combo Keyboard & Mouse - Putih"
          ],
          [
           "KC Keycaps Lime Clear CBSA 131 Keys"
          ],
          [
           "Kelowna 4x3 Akrilik Switch Tester - Keyboard Accesories"
          ],
          [
           "Digital Alliance Mouse DA AIR P3065 Mini Ergonomic Wireless Dual Mode - White Grey"
          ],
          [
           "Noir Z1 65% Aluminium Custom Mechanical Keyboard - Full Build - Skyline Tactile"
          ],
          [
           "BenQ ZOWIE XL2566K 24.5” 0.5ms 360Hz FHD Gaming Monitor"
          ],
          [
           "Steelseries Prime Mini Micro USB to USB Type A Wired (NON WARRANTY)"
          ],
          [
           "Kelowna Transparant Mechanical Keyboard Switch Storage"
          ],
          [
           "Razer DeathStalker V2 Pro Low Profile - Wireless Keyboard"
          ],
          [
           "Glorious GMMK 2 65% Pre-Built PINK RGB Mechanical - Gaming Keyboard"
          ],
          [
           "Rexus FR4 Plate for keyboard Mechanical Daxa M61 / M64 - FR4 M64"
          ],
          [
           "Streamplify Light 10 - Ring Light"
          ],
          [
           "Logitech G413 SE Fullsize Mechanical - Gaming Keyboard"
          ],
          [
           "Aula F1007 / F-1007 - Gaming Chair - Red Camou"
          ],
          [
           "Ausdom Webcam Tripod Light Weight - LT1"
          ],
          [
           "Logitech Pop Mouse with Customizable Emoji Wireless Bluetooth - Daydream Mint"
          ],
          [
           "Rexus RGC R60 / RGC R-60 - Gaming Chair - Biru"
          ],
          [
           "1STPLAYER GAMING CHAIR - DK1 / DK 1 - Gaming Chair - Black Red'"
          ],
          [
           "Leopold FC750R Charcoal Blue Mechanical Gaming Keyboard - Blue Switch"
          ],
          [
           "ONEX GD1100Z Meja 43\", Mousepad, Holder, Z Leg - Gaming Desk"
          ],
          [
           "Rexus Case Cover Mouse Gaming Daxa Air II - Kuning"
          ],
          [
           "Headband Steeleseries - Accessories - ARCTIS 3 DAN 5"
          ],
          [
           "Dareu EH722x - Gaming Headset - Merah Muda"
          ],
          [
           "Dareu ESP100 - Gaming Mousepad - Merah Muda"
          ],
          [
           "NYK X800 BLUETOOTH GAMING headset - Hitam"
          ],
          [
           "Elgato Wave Pop Filter"
          ],
          [
           "CoolerMaster MH703 - Gaming Earphone"
          ],
          [
           "HyperX Cloud Stinger for PS4 - Gaming Headset"
          ],
          [
           "Razer Huntsman Elite - Gaming Keyboard - Merah"
          ],
          [
           "Zowie BenQ EC1B CSGO edition"
          ],
          [
           "Steelseries Arctis Pro RGB With GAME DAC - Hitam"
          ],
          [
           "Razer Kraken X for Console - Gaming Headset"
          ],
          [
           "HyperX Alloy Core RGB - Membrane Gaming Keyboard"
          ],
          [
           "APOLLO61 Lite 60% Wired Mechanical Keyboard by Press Play - Smokey Black , Ivory (Linear)"
          ],
          [
           "Noir Spade65 65% Aluminum Wireless Mechanical Keyboard Gasket Mount - Obsidian Black, KU Brown"
          ],
          [
           "FREEFALL SV BASE CONTROL PLUS VERSION 2 / Control+ V2 - Gaming Mousepad"
          ],
          [
           "Fantech GO MOCHI 65 Combo WK896 Set Keyboard Mouse Wireless Bluetooth - Blue Mint"
          ],
          [
           "Cover Backshell Mouse Gaming Wireless Sades Raiden S33 - Blue"
          ],
          [
           "Fantech TWS Bluetooth Wireless MITHRIL TX1 LITE Built-in Microphone - Beige"
          ],
          [
           "Fantech NC13 Cooling Pad (NOTEBOOK COOLER 2 FAN BLUE LED)"
          ],
          [
           "Press Play NOISE Gaming Mousepad Deskmat by Press Play - NEGATIVE"
          ],
          [
           "Ducky One 3 Gossamer Pink TKL Hotswap Mechanical Gaming Keyboard - Blue Switch"
          ],
          [
           "Rexus Headset Gaming Vonix SH39 FREE Splitter - Hitam"
          ],
          [
           "Digital Alliance Meca Air S 65% Wireless Mechanical Gaming Keyboard - Cerulean/White, Red Switch"
          ],
          [
           "ONIKUMA HEADSET STAND ST2 RGB - White"
          ],
          [
           "KC Keycaps Fun Party XDA 127 Keys"
          ],
          [
           "Skyloong GK75 Metal Case Hotswappable Wirelesss Mechanical Keyboard - Blue Pink, Rose Switch"
          ],
          [
           "Noir Wave Series Deskmat - Dawn"
          ],
          [
           "Akko OSA Keycaps Set Palace - Keycaps"
          ],
          [
           "PressPlay RUST JSA Doubleshot PBT Keycaps Keycap Set"
          ],
          [
           "BTL Grip Universal Mouse - Merah"
          ],
          [
           "Rexus Case Cover Mouse Wireless Gaming Daxa Air IV - Merah"
          ],
          [
           "ParadoX Gaming Keycaps - KMN / PGK- ZS (61/ 68/ 75/ 84/ 87/ 89 layout) - PGK-KMN-2"
          ],
          [
           "Logitech G705 Wireless Gaming Mouse / G-705"
          ],
          [
           "Razer Deathstalker V2 Pro TKL Low Profile - Wireless Keyboard - Putih"
          ],
          [
           "Rexus RGC100 Max / RGC-100 Max - Gaming Chair - Blue"
          ],
          [
           "Thronmax Caster Boom Stand S1 Pro Microphone Mount"
          ],
          [
           "Rexus Mouse Wireless Office Q10 / Q-10 Silent Click - Hitam"
          ],
          [
           "Paradox Gaming GH64 GSA PBT Dye Sublimation - Gaming Keyboard - Yellow Switch"
          ],
          [
           "ELGATO WALL MOUNT (BASIC KIT)"
          ],
          [
           "Cooler Master MM731 - Gaming Mouse - White"
          ],
          [
           "Redragon 60% FIZZ - K617RGB Mechanical - Gaming Keyboard - Grey White"
          ],
          [
           "Tiger Arc Neon Cyan - Gaming Mousepad"
          ],
          [
           "Logitech Pro TKL - Clicky - Mechanical Keyboard"
          ],
          [
           "Pulsar Basic KR ANSI - ABS Doubleshot - Keycaps (104 Set US KR) - Black"
          ],
          [
           "Cooler Master SK620 - Gaming Keyboard - Black, Brown Sw"
          ],
          [
           "ID67 ACRYLIC TRANSPARENT BOTTOM PLATE ACCESSORIES KEYBOARD"
          ],
          [
           "Dareu A87 Hotswap RGB Tenkeyless Mechanical Keyboard - Black Grey Case, Purple Switch"
          ],
          [
           "Asus ROG Keris - Gaming Mouse"
          ],
          [
           "Thrustmaster TCA Sidestick Airbus edition PC joystick"
          ],
          [
           "Leopold FC750R Light Pink Mechanical Gaming Keyboard - Blue Switch"
          ],
          [
           "NYK nemesis KC 500 Basilisk Bundle Gaming"
          ],
          [
           "HONEYCOMB ALPHA FLIGHT CONTROL YOKE and SWITCH PANEL"
          ],
          [
           "NYK Nemesis LUMINOUS - Capture Card"
          ],
          [
           "ASUS VP249QGR - Gaming Monitor"
          ],
          [
           "Sades Rainbow Keycaps"
          ],
          [
           "ONEX GE300 / GE 300 / GE-300 - Gaming Chair - Green"
          ],
          [
           "Dareu EM908 Victor - Gaming Mouse - Hitam"
          ],
          [
           "Asus TUF Gaming VG259QM - Gaming Monitor"
          ],
          [
           "Rexus RC2 Raceline Ultimate - Gaming Chair - Kuning"
          ],
          [
           "Dareu EK880 - Gaming Keyboard - red switch"
          ],
          [
           "HyperX PBT Double Shot Keycaps - Putih US"
          ],
          [
           "REXUS G10 GAMING MOUSE - Black"
          ],
          [
           "Razer Blackwidow - Gaming Keyboard"
          ],
          [
           "Dareu EM928 SPARTA - Gaming Mouse"
          ],
          [
           "Razer Blackwidow Lite Mercury - Gaming Keyboard"
          ],
          [
           "Steelseries Arctis Nova 7 Wireless Dragon Edition - Gaming Headset"
          ],
          [
           "PPBT SHIBUYA PBT Dye Sub Keycap Set Japanese Root by Press Play"
          ],
          [
           "PPBT SHIRAKAWA PBT Dye Sub Keycap Set Japanese Root by Press Play"
          ],
          [
           "HyperX Pulsefire Haste 2 - Wireless Gaming Mouse - Putih"
          ],
          [
           "Fantech TWS Earphone Bluetooth True Wireless GROOVE BUDS+ TX2"
          ],
          [
           "Ajazz AG190 Wireless RGB Transparent Multi-Platform Gamepad"
          ],
          [
           "JBL Quantum TWS Air"
          ],
          [
           "Fantech ARIA XD7 Tiger Arc Mouse feet PTFE FEsports"
          ],
          [
           "Ducky One 3 Cosmic Mini 60% Hotswap RGB Mechanical Gaming Keyboard - Brown sw"
          ],
          [
           "DUCKY ONE 3 MIST GREY TKL HOTSWAPPABLE MECHANICAL KEYBOARD - Brown Sw"
          ],
          [
           "Razer Basilisk V3 X HyperSpeed - RGB Wireless Gaming Mouse"
          ],
          [
           "Logitech G840 Cloth Gaming Mouse Pad XL ( 40 cm x 90 cm) - Black"
          ],
          [
           "Paradox Gaming Ghost 87 / GH87 RGB Mechanical Gaming Keyboard - Hitam, Red Switch"
          ],
          [
           "CoolerMaster NOTEPAL I100 - Cooling Pad"
          ],
          [
           "Kelowna PCB Screw Shaft Bumper"
          ],
          [
           "XTRFY M8 - Gaming Mouse - Hitam"
          ],
          [
           "CHERRY Mousepad Control Version Rough 4mm size 360X280mm - JA-G0438"
          ],
          [
           "Press Play Type C YC8 Aviator Keyboard Cable Double Sleeved Techflex - Graphite"
          ],
          [
           "Gamen GS8 / GS 8 Multimedia Speaker Gaming RGB - Gaming Speaker"
          ],
          [
           "Microphone HyperX DuoCast Black"
          ],
          [
           "Terraflex TF-1S Soft Fabric Series Gaming Chair Kursi - Gaming Chair - Biru Muda"
          ],
          [
           "HyperX Pulsefire Haste Wireless Mouse - White Edittion"
          ],
          [
           "Logitech G715 WIreless Gaming keyboard / G-715 - Tactile"
          ],
          [
           "NOIR 7 in 1 USB TYPE C HUB TO HDMI 4K USB 3.0 FAST CHARGING MACBOOK"
          ],
          [
           "VortexSeries VX5 PRO Midnight Green Metal Edition Mechanical Keyboard - Black & White, Outemu Blue"
          ],
          [
           "RK84 Model Suede Carrying Case"
          ],
          [
           "HYPERX Alloy Origins 60 Pink Mechanical - Gaming Keyboard"
          ],
          [
           "Sades Runner SA-202 Triple Connection - Gaming Headset"
          ],
          [
           "Razer DeathAdder V2 Pro Genshin Impact Edition - Gaming Mouse"
          ],
          [
           "Logitech G840 Cloth XL ( 40 cm x 90 cm) Magenta - Gaming MousePad"
          ],
          [
           "Razer Kaira Pro for PlayStation - Gaming Headset"
          ],
          [
           "CoolerMaster MM730 - Gaming Mouse - White Matte"
          ],
          [
           "Thrustmaster T248 - Racing Gaming Wheel - T248"
          ],
          [
           "Gwolves Hati HTM Stardust - Gaming Mouse"
          ],
          [
           "EPOS H3 Closed Acoustic - Gaming Headset - White"
          ],
          [
           "Leopold FC750R BT Grey / Blue PD - Mechanical Gaming Keyboard - Black Switch"
          ],
          [
           "Pulsar Tacticle Switch Pack (110 Pack) - Kailh Box Brown"
          ],
          [
           "1STPLAYER DK3.0 RGB - 6400DPI - Gaming Mouse"
          ],
          [
           "Imperion KB-210 / KB210 USB Multimedia Keyboard"
          ],
          [
           "Razer Iskur X Ergonomic Gaming Chair - Green"
          ],
          [
           "ASUS VP248H-J Gaming Monitor – 24 inch, FHD, 1ms, 75Hz, AdaptiveSync"
          ],
          [
           "RAZER Iskur Black EDITION with Built-in Lumbar Support - Gaming Chair"
          ],
          [
           "1STPLAYER GAMING CHAIR - MODEL FK2 / FK 2- GAMING CHAIR - Black Yellow"
          ],
          [
           "1STPLAYER GAMING CHAIR - MODEL DK2 (WHITE BLACK) - GAMING CHAIR"
          ],
          [
           "Leopold FC650MDS White Blue Star Mechanical Gaming Keyboard - Silent Switch"
          ],
          [
           "ACER SA220Q_A / SA220Q 22'' Ultrathin Frameless 75hz - Gaming Monitor"
          ],
          [
           "ONEX GD1600H Meja 60\", Mousepad Cover, Holder, Rack, USB - Gaming Desk"
          ],
          [
           "ASUS ProArt Display PA278QV Professional Monitor"
          ],
          [
           "NYK SP-N02 - Gaming Speaker - Merah"
          ],
          [
           "Logitech G29 Shifter DRIVING FORCE SHIFTER"
          ],
          [
           "dbE Acoustics GM160 Multiplatform - Gaming Headset - Merah Muda"
          ],
          [
           "Imperion Phoenix 301- Gaming Chair - BLACK RED"
          ],
          [
           "Ducky Mecha Mini - 60% Gaming Keyboard - Cherry silent"
          ],
          [
           "Razer Goliathus Destiny 2 Edition - Gaming Mousepad"
          ],
          [
           "Dareu LM107 Knight - Gaming Mouse"
          ],
          [
           "CoolerMaster MH710 - Gaming Earphone"
          ],
          [
           "Rexus RGC101 - Gaming Chair - Pink"
          ],
          [
           "Razer Kraken Ultimate - Gaming Headset"
          ],
          [
           "Ajazz AK992 99 Keys Mechanical Keyboard Three-Mode RGB Hotswappable - STARRY NIGHT, BROWN SW"
          ],
          [
           "Meletrix Wooden Wrist Rest Zoom75 keyboard gaming"
          ],
          [
           "MBS Pudding Keycap OEM Profile - Mechanical Keyboard - Pink"
          ],
          [
           "Asuka EVANGELION PBT Dye Sub Keycaps Mechanical Keyboard"
          ],
          [
           "Fantech One Piece Keycaps SET PBT DYE SUB Cherry Profile ACK02 - SANJI"
          ],
          [
           "Fantech One Piece Edition Deskmat - Mousepad XL - SANJI"
          ],
          [
           "dbE MG200 Ergonomic Gaming Mouse"
          ],
          [
           "dbE MG100 Superlight Gaming Mouse"
          ],
          [
           "Rexus Headset Wireless S9 - Putih"
          ],
          [
           "Fantech W193 / W-193 Dual Mode Wireless Mouse - Pink"
          ],
          [
           "Rexus Cooling Pad Breeze B175"
          ],
          [
           "APOLLO61 Lightyear Edition Wireless Aluminum Case Mechanical Keyboard - BAREBONE"
          ],
          [
           "Neo Serenite C3 Ergonomic Office Chair - Black"
          ],
          [
           "Rexus Keyboard Gaming Battlefire K98M - Cream White"
          ],
          [
           "ZUOYA LMK67 Barebone Kit Mechanical Keyboard - PINK"
          ],
          [
           "Ducky One 3 Cosmic Fullsize Hotswap RGB Mechanical Gaming Keyboard - SilentRed Switc"
          ],
          [
           "DUCKY ONE 3 MIST GREY SF HOTSWAPPABLE MECHANICAL KEYBOARD - Brown Switch"
          ],
          [
           "VortexSeries Keycaps Set - REDJACK THEME"
          ],
          [
           "Razer DeathAdder V3 Pro - Red - Faker Limited Edition"
          ],
          [
           "Wuque WS Silicone Lube Station - Black"
          ],
          [
           "EPOS GSX 1000 2nd edition - Soundcard Gaming 7.1 Surround Sound"
          ],
          [
           "Fantech Gamepad Holder Smartphone Gaming GRIP ACGP01"
          ],
          [
           "Asus ROG Cetra True Wireless White - TWS"
          ],
          [
           "SKYLOONG GK980 GLACIER MECHANICAL BLUE PINK PBT KEYCAPS - Brown Switch"
          ],
          [
           "E-YOOSO Z-11 WIRELESS HOTSWAP MECHANICAL GAMING KEYBOARD 60% - White, Red Switch"
          ],
          [
           "Pulsar X2 MINI Boardzy Edition Wireless Gaming Mouse"
          ],
          [
           "Ducky One 3 Aura SF RGB - Gaming Keyboard - Blue Switch, Putih"
          ],
          [
           "Razer Orochi V2 Quartz Edition - Gaming Mouse"
          ],
          [
           "DUSTSILVER Red & White Classical Retro Hotswap RGB Wireless Keyboard - Red Sw"
          ],
          [
           "Ducky One 3 Full Size Yellow RGB - Gaming Keyboard - Clear"
          ],
          [
           "Fantech USB Charger Dual USB Fast Charging 30W CW2-Q01"
          ],
          [
           "Steelseries Arctis Pro RGB With GAME DAC (NON WARRANTY) - Putih"
          ],
          [
           "Fantech ATO GEO SERIES DESK MAT MP905 GE02 - Mousepad Gaming"
          ],
          [
           "HyperX Cloud Stinger 2 Wired (Black) - Gaming Headset"
          ],
          [
           "ELGATO WAVE DX DYNAMIC XLR MICROPONE"
          ],
          [
           "Yiqi Keycaps New cherry PBT Dye-Sub Cherry Profile"
          ],
          [
           "HyperX Alloy Origins 60 - Keyboard (Aqua Switch)"
          ],
          [
           "Gamen GCF100 / GCF200 / GCF300 - Gaming Fan Case RGB - GCF200"
          ],
          [
           "Gamen GP-M - Mousepad Gaming"
          ],
          [
           "96% Carrying Case Suede"
          ],
          [
           "HyperX Pulsefire Haste Wireless - Gaming Mouse - Black"
          ],
          [
           "Elgato HD60 X USB Game Capture"
          ],
          [
           "Cougar Minos XT RGB UIX™ - Gaming Mouse - Black"
          ],
          [
           "Cougar Fusion High Comfort - Gaming Chair - Orange"
          ],
          [
           "dbE Pad Replacement untuk dbE GM100 / GM150 / GM180"
          ],
          [
           "Thrustmaster TCA Captain Pack Airbus Edition"
          ],
          [
           "AUSDOM Webcam 1080P Auto Focus w/ Noise Cancelling Microphone - AF640"
          ],
          [
           "Redragon DRAGONBORN - K630RGB Mechanical - Gaming Keyboard - K630RGB"
          ],
          [
           "Fantech HG13 Chief - Gaming Headset"
          ],
          [
           "Logitech POP Keys Compact, Emoji Keys - Wireless Mechanical Keyboard - Blast Yellow"
          ],
          [
           "Razer Iskur Fabric - Gaming Chair"
          ],
          [
           "Pulsar Clicky Switch Pack (110 Pack) - Kailh Spd Pink"
          ],
          [
           "Elgato Master Mount L (Basic Kit 3 Pole) - Streaming Kit - Mount L"
          ],
          [
           "IDOBAO CHERRY PROFILE FULL WHITE JAPANESE CHARACTER KEYCAP SET 124 KEY"
          ],
          [
           "Headset REXUS GAMING F88 +Mic Headband RGB"
          ],
          [
           "FANTECH LED Light Type C USB Cable Data 120CM 3.0A - KC106"
          ],
          [
           "Paradox Gaming GHOST SKYLOONG GK64X CNC CASE - Rosewood"
          ],
          [
           "MSI Clutch GM41/GM-41 WIRELESS Lightweight - Gaming Mouse"
          ],
          [
           "LEOPOLD FC750R PD Graphite White Font PD - Gaming Keyboard - Black Swi - Red Silent"
          ],
          [
           "Thronmax DJ THX-50 / THX50 Professional Studio Monitoring Headphones"
          ],
          [
           "ONEX GD1600Z RGB Meja 60\", Mousepad, Holder, Rack, Z Leg - Gaming Desk"
          ],
          [
           "RAZER Level Up Bundle (Viper Mini / Gigantus V2 / Cynosa Lite)"
          ],
          [
           "J5CREATE JDC42 / JDC-42 4K DisplayPort™ Cable"
          ],
          [
           "ASUS VA27EHE Eye Care Monitor 27 inch, Full HD, IPS, Frameless, 75Hz"
          ],
          [
           "A87 Childhood Mechanical Keyboard - Gaming Keyboard - Biru"
          ],
          [
           "Logitech Brio Ultra HD - Webcam"
          ],
          [
           "Sades Rask - Gaming Mousepad"
          ],
          [
           "Sades SA-701 TPower - Gaming Headset"
          ],
          [
           "ONEX GX5 - Gaming Chair - Hitam"
          ],
          [
           "JBL Quantum 100 - Gaming Headset - Hitam"
          ],
          [
           "Rexus Warfaction VR1 - Gaming Combo"
          ],
          [
           "DAREU A-87 SWALLOW MECHANICAL KEYBOARD CHERRY MX - Brown"
          ],
          [
           "MSi Optix G241VC - Gaming Monitor"
          ],
          [
           "Elgato Chat Link - Video Capture"
          ],
          [
           "Elgato Stream Deck XL"
          ],
          [
           "Elgato Stream Deck Mini - Stream Deck"
          ],
          [
           "HYPERX PULSEFIRE FPS CORE GAMING MOUSE"
          ],
          [
           "HYPERX PULSEFIRE SURGE PRO RGB GAMING MOUSE"
          ],
          [
           "Zowie BenQ EC1B Edition PMW3360 - +Anti Slip"
          ],
          [
           "Asus ROG Strix Impact II - Gaming Mouse"
          ],
          [
           "WOBKEY Rainy75 Silver RGB Lite with Mirrored Glass Back - Mechanical Keyboard"
          ],
          [
           "WOBKEY Rainy75 Black Lite with Gradient Glass Back - Mechanical Keyboard"
          ],
          [
           "AOC 24G4 23.8’’ FAST IPS 1MS 180HZ ADAPTIVE-SYNC FULL HD FLICKER FREE"
          ],
          [
           "Coolingpad Air Flow Suction RGB with Digital Display BLACKHOLE X10"
          ],
          [
           "PULSAR 4K Dongle"
          ],
          [
           "Neo Melo Buds Wireless Bluetooth TWS Earbuds Earphone ENC - Black"
          ],
          [
           "Fantech HQ53 Flash 7.1 Surround Sound PC Gaming Headset"
          ],
          [
           "WL MOUSE BEAST X Glass Skates"
          ],
          [
           "Monsgeek ICE75 Hotswappable Mechanical Keyboard - Blue Crystal"
          ],
          [
           "Fantech Headphone Bluetooth Dual Mode Headset Wireless GO VIBE WH05 - Merah Muda"
          ],
          [
           "Rexus Keyboard Mousepad Bundling AYAKA Series TKL - KG5 Konotari, Red"
          ],
          [
           "Rexus Earphone TWS FX4 - Putih"
          ],
          [
           "Razer Viper V3 HyperSpeed - Black - Wireless Esports Gaming Mouse"
          ],
          [
           "Neo Oree C5 - Ergonomic Office Chair | Kursi Kantor Ergonomis"
          ],
          [
           "Neo Envol C2 - Premium Ergonomic Office Chair | Kursi Kantor Ergonomis - White-Grey"
          ],
          [
           "Fantech ARIA XD7 Transparent Shell Casing - Biru"
          ],
          [
           "KC Keycaps DAYE MONSTER SA PROFILE 173 keys"
          ],
          [
           "Razer Cobra Pro - RGB Wireless Gaming Mouse"
          ],
          [
           "Press Play BLACKOUT PBT Dye Sub Keycaps Keycap Set"
          ],
          [
           "Ducky One 3 Gossamer Pink Hotswap Mechanical Gaming Keyboard - Brown Switch"
          ],
          [
           "Ducky One 3 Cosmic SF 65% Hotswap RGB Mechanical Gaming Keyboard - Blue sw"
          ],
          [
           "VortexSeries Keycaps Set - DELIGHTFUL DAY THEME"
          ],
          [
           "Rexus Keyboard Mouse Wireless Combo KM11 - Cold Candy"
          ],
          [
           "CoolerMaster MM311 Wireless Gaming Mouse - Hitam"
          ],
          [
           "CoolerMaster CK721 65% Hybrid Mechanical Gaming Keyboard - White, Brown Sw"
          ],
          [
           "Paradox Gaming Keycaps ZS 34 SP Cherry Dye Sub - Keycap Set"
          ],
          [
           "Paradox Gaming Keycaps KMN 2 XDA Dye Sub - Keycap Set"
          ],
          [
           "Digital Alliance Mouse Luna Sport Gaming Mouse"
          ],
          [
           "Press Play Retrocube x Jebbra PBT Keycaps"
          ],
          [
           "Razer Kishi V2 iPhone - Universal Mobile Gaming Controller"
          ],
          [
           "Yiqi Keycaps Macaron PBT Dye-Sub XDA Profile"
          ],
          [
           "Digital Alliance Delta Art Series Skarlet - Gaming Headset - Skarlet Plus"
          ],
          [
           "Rexus CNC Case Keyboard Gaming Daxa M64 / M61 Barebone 61 Keys 64 Keys - Acrylic White"
          ],
          [
           "STEELDIPLOMACY Gaming Chair - Heroic V1 (Non Upgraded ArmRest)"
          ],
          [
           "Akko Periwinkle Very Peri Keycap Set 197 key ASA - Keycap Set"
          ],
          [
           "AULA F-3010 Rubber Dump-NEW R LED + Software Keyboard Gaming Membrane"
          ],
          [
           "Redragon P040 FLICK XXL - Gaming Mousepad"
          ],
          [
           "Razer Barracuda Multi-platform 2022 Wireless - Gaming Headset"
          ],
          [
           "Razer Barracuda Pro Wireless Hybrid ANC - Gaming Headset"
          ],
          [
           "Noir Black and White (153 Key Set) - Keycaps"
          ],
          [
           "HyperX Alloy Origins 65 - Mechanical Gaming Keyboard - Red Switch"
          ],
          [
           "Streamplify Screen Lift 1.5 M - 1.5x2 Meters - Green Screen"
          ],
          [
           "North Bayou H100 17\" - 34\" Max Load 2 - 9 Kg Vesa 75x75 -100x100 mm"
          ],
          [
           "Steelseries QCK Prism XL Destiny 2 Edition RGB - Gaming Mousepad"
          ],
          [
           "HyperX Pulsefire Mat RGB XL - Mousepad"
          ],
          [
           "Cougar Mars Pro 150 RGB - Gaming Chair"
          ],
          [
           "MSI VIGOR GK71 SONIC Keyboard [1.8m Type-A, braided] - Gaming Keyboard"
          ],
          [
           "Imperion PG-310 Clan Multi-Function - Microphone - Black"
          ],
          [
           "AUSDOM Webcam 2K 30FPS 1080P 60FPS Autofocus with Tripod - AW651"
          ],
          [
           "Good Game Mousepad Gigantus - Fnatic"
          ],
          [
           "Paradox Gaming GH64 OPT GK1 Radium Vulture Mechanical Gaming Keyboard - Yellow Switch"
          ],
          [
           "Gigabyte GV-N730D3-2GI 3.0 GeForce® GT 730 - VGA"
          ],
          [
           "Razer Enki X BLACK/GREEN Essential for All-Day Comfort - Gaming Chair"
          ],
          [
           "1STPLAYER AZ1-1260 RGB - Gaming Desk"
          ],
          [
           "Pulsar Low Profile US ANSI - PBT Doubleshot - Keycaps (104 Set US) - White"
          ],
          [
           "HP H220S Single Jack 3.5mm - Mobile / PC - Gaming Headset"
          ],
          [
           "HP KM100 USB Wired Office / Gaming Keyboard Mouse Combo"
          ],
          [
           "Cherry MX G80 - 3000S TKL RGB / NBL - Mechanical Gaming Keyboard - Black TKL NBL, Brown Switch"
          ],
          [
           "Dareu EK868 Low Profile Bluetooth 68% Mechanical Gaming Keyboard - HITAM KUNING, RED SWITCH"
          ],
          [
           "FANTECH WH01 WIRELESS BLUETOOTH GAMING HEADSET TYPE C CHARGING - Mint"
          ],
          [
           "Mouse Sades S9 Hunter"
          ],
          [
           "SteelSeries Prime+ Tournament-Ready Pro Series - Gaming Mouse"
          ],
          [
           "1STPLAYER GAMING CHAIR - MODEL DK2 (BLUE) - GAMING CHAIR"
          ],
          [
           "Thrustmaster T150 PRO Racing Wheel - FOR PC PS3 PS4 - +WheelStand2.0"
          ],
          [
           "Asus TUF Gaming K3 / K-3 RGB Mechanical Keyboard with N-key rollover - - Blue Switch"
          ],
          [
           "j5create JCC153 USB™ Type-C to 4K HDMI™ Cable"
          ],
          [
           "Leopold FC900R Yellow Blue Mechanical Gaming Keyboard - Silver Switch"
          ],
          [
           "Razer Nari Earcup / Earmuff / Earpad - Oval - Leather"
          ],
          [
           "NYK Nemesis Lightshow - Fan Case"
          ],
          [
           "NYK FN-15 / FN15 LED - Fan Case - Merah"
          ],
          [
           "PARADOX GAMING PGC-ST-01 / PGCST01 - Gaming Chair - BLACK GREY WHIT"
          ],
          [
           "Kabel Display Port to Display Port"
          ],
          [
           "Razer Kishi Universal Mobile Gaming Controller for iPhone"
          ],
          [
           "DAREU A87 KOBE Mechanical Keyboard - Gaming Keyboard - Biru"
          ],
          [
           "VIRTUOSO RGB WIRELESS High-Fidelity Carbon - Gaming Headset - Carbon"
          ],
          [
           "Daxa RGB Mousemat - Gaming Mousepad"
          ],
          [
           "Zowie FK2B Black - Gaming Mouse"
          ],
          [
           "Digital Alliance G8 - Gaming Mouse"
          ],
          [
           "MSi Agility GD60 - RGB Gaming Mousepad"
          ],
          [
           "Sades G60 - Gaming Headset - Merah Muda"
          ],
          [
           "Elgato Wave Extension Rods"
          ],
          [
           "JBL QUANTUM 800 - Wireless Gaming Headset"
          ],
          [
           "Dareu A840 - Gaming Keyboard - Red Sw"
          ],
          [
           "Dareu A87 E-Sports - Gaming Keyboard - Hitam"
          ],
          [
           "Sades MPower - Gaming Headset"
          ],
          [
           "Razer Kraken Tournament Edition - Gaming Headset - Hitam"
          ],
          [
           "STracing Gaming Chair Classic - Merah Muda"
          ],
          [
           "Zowie S1 - Gaming Mouse - Hitam"
          ],
          [
           "Razer Gigantus Elite - Gaming Mousepad"
          ],
          [
           "Razer Kraken Multi-Platform Mercury - Gaming Headset"
          ],
          [
           "Logitech G433 7.1 Surround Gaming Headset - Biru"
          ],
          [
           "ZUOYA GMK81 - 75% Mechanical Keyboard Barebone Hotswappable - Putih"
          ],
          [
           "MECHANICAL KEYBOARD - AJAZZ AKS068 ALICE - SOUTH - GASKET - VIA - RGB - BlackGreyYellow"
          ],
          [
           "NOVA V4 Wireless Charging Dock by Press Play - Putih"
          ],
          [
           "MATCHA Gaming Mousepad Deskmat by Press Play - BLACK"
          ],
          [
           "UBE Gaming Mousepad Deskmat by Press Play - BLACK"
          ],
          [
           "Mouse Office DA Rubix M201 Wireless Bluetooth Silent Click Ultra Slim - Black"
          ],
          [
           "Rexus Converter USB RXT-601"
          ],
          [
           "Meletrix ZOOM V2.5 Carbon Fiber Plate for ZOOM65"
          ],
          [
           "Fantech LEVIOSA AIR Microphone Wireless Lavalier Type C Lightning Dual - WMV11, Type c"
          ],
          [
           "Fantech ARIA XD7 Atomic Wireless Bluetooth Mouse Gaming Rechargeable - Atomic Blue"
          ],
          [
           "Press Play SPY X FAMILY PBT Dye Sub Keycaps"
          ],
          [
           "PENDRAGON Doubleshot PBT Keycaps by Press Play"
          ],
          [
           "TUTKEYS Game 1989 Keycaps CHERRY PROFILE DYE SUBLIMATION PBT - Base"
          ],
          [
           "AOC 27G4 27\" 180HZ 1MS FAST IPS ADAPTIVE-SYNC FHD HDR10 FLICKER FREE"
          ],
          [
           "Logitech G PRO X 2 LIGHTSPEED Headset Gaming Wireless - Magenta"
          ],
          [
           "Fantech Earphone Go Wired Earbuds ES3 - Putih"
          ],
          [
           "Rexus Headset Gaming Thundervox HX12 - Putih"
          ],
          [
           "Rexus HX35 / HX-35 Thundervox Headset Gaming Wired WIth Control Panel - Hitam"
          ],
          [
           "Steelseries Rival 3 + QcK Medium Mouse Mousepad Bundle Gaming"
          ],
          [
           "Fantech Shikari K515 Gaming Keyboard"
          ],
          [
           "Razer BlackShark V2 HyperSpeed - Wireless Ultra-Light Gaming Headset"
          ],
          [
           "Steelseries Arctis Nova Ear Cushions Leatherette"
          ],
          [
           "GOODGAMINGSHOP Official Lanyard LImited Edition - Hitam"
          ],
          [
           "GOODGAMINGSHOP Ofiicial Tumbler Limited Ediiton - Putih"
          ],
          [
           "E-YOOSO Z-686 MECHANICAL KEYBOARD WHITE KEYCAPS RGB"
          ],
          [
           "Razer Moray - In-ear Monitor Streaming Gaming Headset"
          ],
          [
           "Noir Bunding Noir Neo Ergolift & Papan Meja 120cm + Desk Shelf Medium - Hitam, Single Black"
          ],
          [
           "KC Keycaps MODERN DOLCH LIGHT CHERRY PROFILE 264keys - tosca"
          ],
          [
           "Rexus Heroic KX5 / KX-5 / KX 5 Gaming Keyboard - Grey Black, Brown Switch"
          ],
          [
           "PAKET STEELSERIES AEROX 5 WIRELESS + QCK XXL DIABLO IV EDITION"
          ],
          [
           "Razer Hammerhead HyperSpeed - White - True Wireless Gaming Earbuds"
          ],
          [
           "VortexSeries Keycaps Set - FLUFFY THEME"
          ],
          [
           "ELGATO GREEN SCREEN XL"
          ],
          [
           "Asus ROG Falchion Ace - Gaming Keyboard - WHITE NXRED"
          ],
          [
           "Hyperx Cloud Stinger 2 – USB Wireless Gaming Headset for PC"
          ],
          [
           "Akko Cinnamoroll 20th Anniversary OPI Keycap Set"
          ],
          [
           "Ducky One 3 Aura Black RGB - Gaming Keyboard - Silent Red"
          ],
          [
           "NYK Keyboard Gaming Membrane TKL FURION K-04 - Putih"
          ],
          [
           "E-YOOSO HOTSWAP MECHANICAL GAMING KEYBOARD 87% PINK KEYCAPS - Z-66 - Red Sw"
          ],
          [
           "Steelseries Apex Pro Mini Wireless - Gaming Keyboard"
          ],
          [
           "Aerocool Crown Aeroweave Ash Black - Gamin Chair"
          ],
          [
           "Rexus Daxa M84X Ultimate Mechanical Keyboard - Gaming Keyboard - Gray, Red sw"
          ],
          [
           "Akko OSA Keycaps Set Starry Night - Keycaps"
          ],
          [
           "CHERRY Mousepad Speed Version Smooth 4mm size 360X280mm - JA-G0437"
          ],
          [
           "CHERRY MX Mechanical Gaming Keyboard TKL - MX3.0S TKL NBL - Pink, Red sw"
          ],
          [
           "Press Play TITAN80 / TITAN 80 Aluminum Mechanical Keyboard BAREBONES - Black"
          ],
          [
           "Yiqi Keycaps Colorful Pen PBT Dye-Sub Cherry Profile"
          ],
          [
           "Paradox SK - Glacier Switch - Mechanical Keyboard Switch (10 pcs) - White"
          ],
          [
           "Gamen PBT Keycaps GMK01 - keycaps Mechanical keyboard"
          ],
          [
           "Terraflex T-1S Soft Fabric Series Gaming Chair Kursi - Gaming Chair - Biru Muda"
          ],
          [
           "HyperX Pulsefire Core Pink/ White - Mouse"
          ],
          [
           "KABEL VGA / KABEL VGA 3M HIGH QUALITY / Cable VGA 3 METER"
          ],
          [
           "Digital Alliance Sena - Gaming Mouse"
          ],
          [
           "Ducky One 711 - Gaming Keyboard (Clearance Sale)"
          ],
          [
           "Gamen GS1 - Soundbar Portable RGB"
          ],
          [
           "Gamen SIrens 2 BT Earphone"
          ],
          [
           "GAmen Sirens - BT Headset Low latency"
          ],
          [
           "NYK NEMESIS SINISTER X900 / X 900 Lite Bluetooth - Gaming Headset"
          ],
          [
           "ASUS ROG FUSION II 300 - Gaming Headset"
          ],
          [
           "ASUS TUF Gaming M4 / M-4 Air - Gaming Mouse"
          ],
          [
           "Digital Alliance D4 Tiger RGB XL - Gaming Mousepad"
          ],
          [
           "Logitech MX Mechanical Wireless Tactile - Keyboard"
          ],
          [
           "Terraflex TF-1 / TF1 4D - Gaming Chair - Black / White"
          ],
          [
           "Oximus ZDP1128 / ZDP 1128 - Monitor Bracket - White"
          ],
          [
           "Cougar DH07 Slim 7-Port - Docking Hub"
          ],
          [
           "LIAN LI Strimer Plus V2 RGB Triple 8 PIN PSU Cable (RTX 30 Extension)"
          ],
          [
           "Redragon Reaping Lightweight Wired - Gaming Mouse"
          ],
          [
           "Audio Technica ATH-CKS50TW Solid Bass - True Wireless - Blue"
          ],
          [
           "Streamplify Light 14 - 14inch/36cm - Ring Light"
          ],
          [
           "Next Level Racing NLR A012 Freestanding Keyboard & Mouse Stand"
          ],
          [
           "Next Level Racing NLR Floor Mat"
          ],
          [
           "ONEX STC SNUG Series Ergonomic - Gaming Chair - Pink"
          ],
          [
           "EPOS H3 PRO HYBRID GREEN - Closed Acoustic Bluetooth - Gaming Headset"
          ],
          [
           "Cougar Bunker S - Gaming Headset"
          ],
          [
           "Cougar Bunker Vacuum - Mouse Bungee"
          ],
          [
           "Cougar Arena X Pro Gaming Surface Stitched Border - Gaming Mouse Pad"
          ],
          [
           "Samsung 27\" Odyssey G5 165Hz 1ms QHD IPS HDR10 G-Sync - Gaming Monitor"
          ],
          [
           "COUGAR Terminator 4D Arm Rest - Gaming Chair - Terminator"
          ],
          [
           "Rexus Daxa M61 Alu - Barebone - Blue"
          ],
          [
           "AULA S50 2400DPI RGB Breathing Macro 7 Buttons - Gaming Mouse"
          ],
          [
           "Cooler Master MP511 CORDURA Rough Fabric Surface XXL - Gaming Mousepad"
          ],
          [
           "LEOPOLD NP900R BTPD Grey/Blue (Non Steel Plate) - Gaming Keybord - Brown Switch"
          ],
          [
           "Goodgamingshop Present Gift Wrap With Gaming Themes / KERTAS KADO"
          ],
          [
           "Fantech POLAR LC240 AIO Water Cooling CPU Liquid Cooler 240mm - Black"
          ],
          [
           "AUSDOM Webcam 1080P 60FPS Autofocus with Tripod, Light - AF660"
          ],
          [
           "PRDX Artisan Carnage - Keycaps"
          ],
          [
           "MSI IImmerse GH30 / GH-30 V2 - Gaming Headset"
          ],
          [
           "Patriot Fuel Station Mini 5 port USB"
          ],
          [
           "1STPLAYER DK5.0 Lite 87 Keys USB RGB - Mechanical Gaming Keyboard - Putih, Blue Switch"
          ],
          [
           "HP M160 ATC7515DB RGB 3D - Gaming Mouse - Black"
          ],
          [
           "dbE DJ300 HIgh End DJ Headphone Gaming - Black Red"
          ],
          [
           "Cherry MX 2.0S RGB / NBL - Wired Mechanical Gaming Keyboard - Black NBL, Blue Switch"
          ],
          [
           "North Bayou F160 - Monitor Bracket"
          ],
          [
           "Thrustmaster T16000M FCS Joystick | Flight Simulator Joystick For PC"
          ],
          [
           "Digitial Alliance Shark X 140 - Gaming Desk"
          ],
          [
           "Razer BlackShark V2 CouRage JD Edition Multi-platform wired esports"
          ],
          [
           "DarkFlash RC600 / RC-600 Kursi Gaming - Gaming Chair"
          ],
          [
           "Logitech MK120 Mouse & Keyboard Bundle"
          ],
          [
           "SAMSUNG ODYSSEY G3 / G-3 24'' FHD Monitor - Gaming Monitor"
          ],
          [
           "LEOPOLD FC750R STICKPOINT White SKYBLUE - Gaming Keyboard - Cherry Black"
          ],
          [
           "Thrustmaster T80 Ferrari 488 GTB Edition Racing Wheel For PC / PS4"
          ],
          [
           "BenQ GW2480 24inch IPS Full HD HDMI LED Eye Care Entertainment Monitor - GW2480"
          ],
          [
           "Leopold FC900R Light Pink Mechanical Gaming Keyboard - Brown Switch"
          ],
          [
           "MSI MAG CH130 X / MAGCH130X / MAG-CH130X - Gaming Chair - CH130X"
          ],
          [
           "ONEX GD1200H Meja 47\" Mousepad Cover, Holder, Rack , USB - Gaming Desk"
          ],
          [
           "NYK ASSASSIN G-06 LED Lightning - Gaming Mouse"
          ],
          [
           "HP Mousepad Gaming 7035"
          ],
          [
           "NYK NEMESIS DRAKE KC- 300 - Gaming Bundle"
          ],
          [
           "Imperion Mech 7 KG-M07R Mechanical RGB - Gaming Keyboard - Black"
          ],
          [
           "Cooler Master Mouse CM310 - Gaming Mouse"
          ],
          [
           "ASUS TUF Gaming P3 Durable Mouse Pad with Cloth Surface, Stitched Edge"
          ],
          [
           "MSi Optix MAG274R - Gaming Monitor"
          ],
          [
           "ASUS ROG Swift PG248Q 24″ eSports Gaming Monitor"
          ],
          [
           "Sennheiser GSP300 - Gaming Headset"
          ],
          [
           "Elgato Weighted Base"
          ],
          [
           "Nyk Headset Gaming HS-M01 JUGGER Free Audio Splitter"
          ],
          [
           "Zowie ZA12-B - Gaming Mouse"
          ],
          [
           "JBL Quantum 200 - Gaming Headset"
          ],
          [
           "DAREU EH728 PRO GAMING EARPHONE - Merah"
          ],
          [
           "HyperX Alloy Elite II / Elite 2 - Gaming Keyboard"
          ],
          [
           "Dareu EH722 White - Gaming Headset"
          ],
          [
           "Elgato Cam Link 4K - Cam Link 4K"
          ],
          [
           "Rexus DT1 V2 - Gaming Chair - Gold"
          ],
          [
           "THUNDERX3 BC3 CAMO - Gaming Chair - GREY"
          ],
          [
           "MSi Optix G271 - Gaming Monitor"
          ],
          [
           "HyperX alloy fps Blue or Red switch - Biru"
          ],
          [
           "HYPERX PULSEFIRE FPS PRO RGB GAMING MOUSE"
          ],
          [
           "Zowie EC1A Gaming mouse"
          ],
          [
           "STEELSERIES ARCTIS PRO GAME DAC WHITE COLOR"
          ],
          [
           "Logitech G633s 7.1 LIGHTSYNC Gaming Headset - G633s Only"
          ],
          [
           "MECHANICAL KEYBOARD - AJAZZ AKS068 Pro ALICE - SOUTH - GASKET - VIA - RGB - Green"
          ],
          [
           "ORDERAN PC BANG YO"
          ],
          [
           "AOC 24G4E 23.8’’ FAST IPS 0.5MS 180HZ ADAPTIVE-SYNC"
          ],
          [
           "DUROCK Black Plate Mount V3 Keyboard Stabilizer Sets / Durock Stabilizer - Black Wire"
          ],
          [
           "RVR84 MARS PLATE Gaming Mousepad Deskmat by Press Play - BLACK"
          ],
          [
           "Glass Skates for NOVA PRO Wireless Gaming Mouse"
          ],
          [
           "Sades Ryunix XO-723 Keyboard Gaming Mechanical Tri-mode - White Blue, GateronProMilky"
          ],
          [
           "Razer Seiren V3 Mini - USB Streaming Microphone - Putih"
          ],
          [
           "Boog75 HE Module - Compatible with Zoom75"
          ],
          [
           "Rexus Converter USB RXT-801"
          ],
          [
           "Rexus Cooling Pad / Cooling Fan Breeze B140 - Black"
          ],
          [
           "ZOOM65 Essential Edition V2.5 Black PVD Mirror BAREBONE"
          ],
          [
           "WL MOUSE BEAST X MINI Mouse PTFE Skates"
          ],
          [
           "Fantech GO MOCHI 80 Combo WK897 Set Keyboard Mouse Wireless Bluetooth - Blue Mint"
          ],
          [
           "Press Play Genshin Impact SHENHE PBT Keycaps"
          ],
          [
           "Speaker Soundbar Bluetooth 5.2 NYK Nemesis NIMBUS X80"
          ],
          [
           "Fantech One Piece ARIA XD7 Mouse Wireless Gaming - RORONOA ZORO"
          ],
          [
           "XRaypad Black Thor Fast Speed Cloth - Gaming Mousepad - XXL"
          ],
          [
           "VortexSeries Keycaps Set - TECHGEAR THEME"
          ],
          [
           "Rexus Headset Wireless S9 Pro With ANC - Putih"
          ],
          [
           "Rexus Earphone Gaming Type-C ME7 - Grey"
          ],
          [
           "Rexus Headset Wireless S6 Pro - Black"
          ],
          [
           "Rexus Headset Gaming Vonix F90 - Hitam"
          ],
          [
           "Wooden Wrist Rest/Palm Rest/Wrist Pad Kayu by Press Play - TKL 36cm"
          ],
          [
           "NYK Nemesis EROS GP400 Gamepad Wired Turbo with Macro"
          ],
          [
           "Cooler Master CK721 65% Sakura RGB Hybrid Mechanical Gaming Keyboard - Blue Switch"
          ],
          [
           "VOYAGER68 v2 Lite 65% 67-key Mechanical Keyboard by Press Play - Istone Red"
          ],
          [
           "Sades Mouse Gaming MMO/MOBA SADES KYU"
          ],
          [
           "Nuphy Halo65 Wireless Mechanical Keyboard - White, G PRO RED 2.0"
          ],
          [
           "AJAZZ Firstblood B81 Crystal Clear Transparent - Gaming Keyboard"
          ],
          [
           "GAMEN Titan Evo Mechanical Keyboard RGB Light Wireless"
          ],
          [
           "VOYAGER68 v2 65% 67-key Mechanical Keyboard by Press Play - SMokey Black, JWICK T1"
          ],
          [
           "1STPLAYER MOTO-C 1460 Gaming Desk with Electrical Adjustable"
          ],
          [
           "KC Keycaps BLOT CHERRY PROFILE 129 keys"
          ],
          [
           "KC Keycaps DAYE LIME SA PROFILE 172 keys"
          ],
          [
           "Steelseries AEROX 5 WIRELESS DIABLO IV EDITION"
          ],
          [
           "Ducky One 3 Mini Mist Grey - Mechanical keyboard - Brown Switch"
          ],
          [
           "AJAZZ Firstblood B67 Crystal Clear Transparent - Gaming Keyboard"
          ],
          [
           "Razer Atlas - White - Tempered Glass Gaming Mouse Mat"
          ],
          [
           "Akko Red Fuji Keycap Set(161-Key)"
          ],
          [
           "CoolerMaster NOTEPAL X3 - Cooling Pad"
          ],
          [
           "TX Spring Lube Deck"
          ],
          [
           "KC Keycaps LinaBell XDA 137 Keys"
          ],
          [
           "KC Keycaps Silky Blue XDA 129 Keys"
          ],
          [
           "STREAMPLIFY MOUNT ARM for Mic and Camera"
          ],
          [
           "Kelowna Stabilizers Tester - Keyboard Accesories"
          ],
          [
           "Paradox Gaming Keycaps ZS 31 XDA Dye Sub - Keycap Set"
          ],
          [
           "Paradox Gaming Keycaps ZS 25 XDA Dye Sub - Keycap Set"
          ],
          [
           "Paradox Gaming Keycaps ZS 19 XDA Dye Sub - Keycap Set"
          ],
          [
           "Paradox Gaming Keycaps ZS 14 XDA Dye Sub - Keycap Set"
          ],
          [
           "Headset Stand Digital Alliance - Gaming Headset Stand T RGB Led"
          ],
          [
           "Digital alliance 001 Membrane Keyboard Gaming TKL RGB"
          ],
          [
           "E-YOOSO HOTSWAP MECHANICAL GAMING KEYBOARD 87% BLACK KEYCAPS - Z-66 - Brown Sw"
          ],
          [
           "Razer Naga V2 Pro - MMO Wireless Gaming Mouse"
          ],
          [
           "Keychron V2 QMK 65%!F(MISSING)ully Assembled Knob Custom Mechanical Keyboard - Frosted Black, Red Sw"
          ],
          [
           "Keychron K1 SE Ultra-Slim 80%!T(MISSING)KL RGB Backlight Optical Hot-swappable - Red Sw"
          ],
          [
           "Keychron K8 TKL 80%!L(MISSING)ayout Non Backlight Hot-swappable ALUMINUM Frame - Red Sw"
          ],
          [
           "Keychron K3 version 2 Hot-Swappable WHITE Backlight Low Profile Switch - Red Sw"
          ],
          [
           "Keychron K2 ver 2 Hot-Swappable RGB Backlight Aluminum - Brown Switch"
          ],
          [
           "Fantech ATO GEO SERIES DESK MAT MP905 GE01 - Mousepad Gaming"
          ],
          [
           "SteelSeries Prime+ Tournament-Ready Pro Series (NON WARRANTY)"
          ],
          [
           "CHERRY wireless keyboard and mouse set evaluation - DW2300"
          ],
          [
           "NUPHY AIR60 / AIr-60 - Wireless Keyboard - Red Sw, Keyboard only"
          ],
          [
           "Fantech Fan Casing RGB 12cm TURBINE FB301 dengan Remote Control"
          ],
          [
           "Logitech G713 Gaming Keyboard / G-713 - Linear"
          ],
          [
           "Press Play HANGEUL GAME Korean Root PBT Dye Sub Keycaps Keycap Set"
          ],
          [
           "KABEL VGA / KABEL VGA 1.5M HIGH QUALITY / Cable VGA 1.5 METER - HIG QU"
          ],
          [
           "Gamen Thronus - Gaming Chair"
          ],
          [
           "Gamen GP-X - Soft Surface Mousepad Gaming"
          ],
          [
           "Gamen GM100 - Macro Mouse Gaming"
          ],
          [
           "HyperX PBT Keycaps Full Key Set - Pink"
          ],
          [
           "Logitech C505 HD 720p / 30fps - Webcam"
          ],
          [
           "VortexSeries VX5 PRO Gold Metal Edition - Mechanical Keyboard - Black & Crimson, Outemu Blue"
          ],
          [
           "BTL Vancer Gretxa Wireless Ultralight - Gaming Mouse - Pink Fade"
          ],
          [
           "AOC 27G2SPU BK 27\" 165Hz 1 ms IPS FHD - Gaming Monitor"
          ],
          [
           "MSI Vigor GK30 Combo - Gaming Bundle - White"
          ],
          [
           "Elgato Stream Deck Pedal"
          ],
          [
           "60% Carrying Case Suede"
          ],
          [
           "Keychron Q2 QMK 65% Knob Version BAREBONE Custom Mechanical Keyboard - Blue"
          ],
          [
           "Next Level Racing NLR A010 Free Standing Triple Monitor"
          ],
          [
           "Next Level Racing NLR GT-Lite Foldable Simulator - Cockpit"
          ],
          [
           "ASUS ROG Fusion II 500 Aura RGB - Gaming Headset"
          ],
          [
           "Paradox GHOST DIY GH68X Kit Customize Hot Swap - Barebone - White"
          ],
          [
           "Imperion Phoenix 801 Imperion Black - Gaming Chair"
          ],
          [
           "Pulsar PCMK ANSI 60% Keyboard - Barebone - Black"
          ],
          [
           "Cougar Airblader Extreme Lightweight - Gaming Mouse"
          ],
          [
           "Cougar E-Mars Electrical RGB - Gaming Desk"
          ],
          [
           "Cougar Ranger The Perfect Sofa for Professional Gamer- Gaming Sofa - Ranger"
          ],
          [
           "Ducky x SOU • SOU Limited edition XL - Gaming Mousepad"
          ],
          [
           "Rexus Daxa M61 Acrylic - Barebone - Acrylic+Cable"
          ],
          [
           "Sades Cetus Professional 4D Arm Rest Frog Mechanism - Gaming Chair"
          ],
          [
           "Ducky One 3 SF Yellow RGB - Gaming Keyboard - Brown Switch"
          ],
          [
           "Razer Kaira Pro for Xbox - Gaming Headset"
          ],
          [
           "Razer Wolverine V2 Chroma - White - Gamepad"
          ],
          [
           "ANDASEAT Luxurious Gaming Footrest - Gaming Chair"
          ],
          [
           "Fantech MS80 Mouse Skate / Mouse Feet - MS80-X17"
          ],
          [
           "Imperion GS-100 Super Neodymium Magnet - Gaming Speaker - Black"
          ],
          [
           "Redragon K607 APS TKL Mechanical RGB Ultra LP RGB - Gaming Keyboard - Blue Switch"
          ],
          [
           "PAPALOOK Webcam 1080P 30FPS Full HD with Microphone - AF925"
          ],
          [
           "ROG PBT Keycap Set"
          ],
          [
           "Redragon FIZZ PRO K616 RGB Mechanical 3 Connection - Gaming Keyboard - Pink White"
          ],
          [
           "Redragon ANIVIA K614 Mechanical 60% Ultra Low RGB - Gaming Keyboard"
          ],
          [
           "Razer DeathAdder V2 Wired HALO Infinite Edition - Gaming Mouse"
          ],
          [
           "Gigabyte SSD 240G 2.5 inch SATA3 6.0 Gb/s 240GB - internal SSD"
          ],
          [
           "MSI MAG ARTYMIS 242C [1080p, 165Hz] - Gaming Monitor"
          ],
          [
           "MSI MAG ARTYMIS 274CP [1080p, 165Hz] - Gaming Monitor"
          ],
          [
           "ELGATO CHAT LINK PRO"
          ],
          [
           "Razer Kraken V3 Wired USB with Razer Chroma RGB - Gaming Headset"
          ],
          [
           "Razer Seiren V2 X - USB Microphone for Streamers"
          ],
          [
           "1STPLAYER WIN-101 Black Gaming Chair - Ergonomic & Reflective Cloth"
          ],
          [
           "1STPLAYER VR2 1160 / VR2-1160 RGB - Gaming Desk"
          ],
          [
           "Digital Alliance Terra Ergonomic RGB - Gaming Mouse - Black"
          ],
          [
           "Ducky Dual Color Pudding PBT Double Shot Keycaps"
          ],
          [
           "Rexus Daxa Elco One DX-EC1 / DX EC1 - Gaming Chair"
          ],
          [
           "1STPLAYER FIREDANCING K5 RGB - Membrane Gaming Keyboar"
          ],
          [
           "Digital Alliance DAFFICE DIOS C3 / C-3 - Gaming Office - BLACK"
          ],
          [
           "Steelseries Prime Mini - Micro USB to USB Type A Wired - Gaming Mouse - Prime Mini Only"
          ],
          [
           "Leopold FC650MDS PD Grey Blue - Gaming Keyboard - Black Switch"
          ],
          [
           "HP H500GS 7.1 Surround LED RGB - Gaming Headset - Black"
          ],
          [
           "HP H320 3.55mm and USB Wired - Gaming Headset"
          ],
          [
           "HP G360 P3327 RGB 4D - Gaming Mouse"
          ],
          [
           "HP G200 Avago 3050 Omron Switch Blue Light 4D - Gaming Mouse"
          ],
          [
           "CHERRY AC 2.3 Palm rest for MX 2.0S gaming keyboard - Black"
          ],
          [
           "Cherry MX Mechanical Gaming Keyboard Full Keys - MX 3.0S RGB / NBL - Black NBL, Red Switch"
          ],
          [
           "Razer Ripsaw X 4K - USB Capture Card with Camera Connection"
          ],
          [
           "Elgato Smart Phone Holder - Multi Mount"
          ],
          [
           "Digital Alliance Shark Z Series - Gaming Desk"
          ],
          [
           "ONEX EV10 EVOLUTION SUEDE EDITION KURSI GAMING CHAIR - Abu-abu"
          ],
          [
           "FANTECH Kabel Data Dual Type C 150CM Quick Charge 3.0A - KDC105"
          ],
          [
           "FANTECH Kabel Data Type C Iphone 150CM Quick Charge 3.0A - KDL105"
          ],
          [
           "FANTECH LED Light Iphone IOS Lightning USB Cable Data - KL106"
          ],
          [
           "Razer Kraken X - Console White Playstation"
          ],
          [
           "ASUS VT229H Touch Monitor - 21.5\" FHD Frameless, Flicker free"
          ],
          [
           "Acer XV272U P 27\" IPS QHD FreeSync HDR400 144Hz Gaming Monitor"
          ],
          [
           "Cougar Armor - Gaming Chair - Black"
          ],
          [
           "JBL Quantum One / QOne / Q-One Gaming Headphone"
          ],
          [
           "MSI IMMERSE GH20 / GH-20 - GAMING HEADSET"
          ],
          [
           "Imperion Commander 250 / Commander-250 Professional Gaming Chair - Kuning"
          ],
          [
           "Elgato Flex Arm Kit S - Streaming Kit"
          ],
          [
           "HYPERX ChargePlay Duo Controller Charging Station for Playstation 4"
          ],
          [
           "J5CREATE JALC15 / JAL-C15 USB-C to Lightning Cable"
          ],
          [
           "NYK MP-N02 / MPN02 (44 x 35m) Control Type - Gaming Mousepad"
          ],
          [
           "SADES Thunder Keyboard Wrist (44 x 9.5cm) - Wristpad"
          ],
          [
           "JBL QUANTUM 600 / Q600 - RGB Wireless Gaming Headset / Headphone"
          ],
          [
           "MSI Clutch GM41 Lightweight - Gaming Mouse"
          ],
          [
           "Sades Crux Kursi Gaming - Gaming Chair"
          ],
          [
           "ASUS TUF Gaming VG249Q1R Gaming Monitor 23.8\" Full HD, 165Hz, IPS, 1ms"
          ],
          [
           "Zowie BenQ XL2546K - Gaming Monitor 144hz"
          ],
          [
           "NYK KR-301 RGB UNDERGLOW - Gaming keyboard - Hitam"
          ],
          [
           "dbE DJ100 High Quality Foldable DJ Headphone"
          ],
          [
           "NYK Nemesis Mage M02 Mobile Gaming Headphone"
          ],
          [
           "DAREU EH925S - GAMING HEADSET - BLACK RED"
          ],
          [
           "Sades A6 - Gaming Headset - Black Orange"
          ],
          [
           "SADES GROZA OPTICAL MECHANICAL GAMING KEYBOARD"
          ],
          [
           "Sades Lance - Gaming Mouse"
          ],
          [
           "BenQ EW3270U 4K Video Enjoyment Monitor with Eye-care Technology 32\" - EW3270U"
          ],
          [
           "Razer ManO'War Headband"
          ],
          [
           "Xtrfy M4 RGB - Ultra-Light Gaming mouse - Merah Muda"
          ],
          [
           "DXRacer NEX - Gaming Chair - Home - HOME"
          ],
          [
           "Logitech G910 Orion Spectrum RGB Mechanical Gaming Keyboard"
          ],
          [
           "WOBKEY Rainy75 Electro White Pro RGB with Silver SUS304 Back - Mechanical Keyboard"
          ],
          [
           "WOBKEY Rainy75 Electro Pink RGB with Mirrored Glass Back - Mechanical Keyboard"
          ],
          [
           "WOBKEY Rainy75 Electro White RGB with Mirrored Glass Back - Mechanical Keyboard"
          ],
          [
           "KC Misty Hiragan Cherry Profile 143 Keys - Keycap Set"
          ],
          [
           "KTT Red Wine Switch (Linear - Plate Mount)"
          ],
          [
           "Noir Golden Symmetry Deskmat - Black"
          ],
          [
           "Rexus Headset Daxa Svara"
          ],
          [
           "Cougar VM410 TOURNAMENT - Over-Ear Headset"
          ],
          [
           "HyperX Cirro Buds Pro TWS True Wireless Gaming Earphone Headset - Black"
          ],
          [
           "Razer Huntsman V3 Pro Mini - 60% Analog Esports Gaming Keyboard"
          ],
          [
           "8008 PBT Dye Sub Sublimated Keycaps Keycap Set"
          ],
          [
           "dbE W100 2.4Ghz Three Mode Wireless Gaming Headphone"
          ],
          [
           "Fantech WS311 Meja Gaming Elektrik Naik Turun Gaming Desk - Putih"
          ],
          [
           "Akko Rainbow 132Keys Gradient Keycap Set"
          ],
          [
           "Rexus RGC-106 / RGC 106 Gaming Chair - Silver"
          ],
          [
           "GALAX STEALTH STL-03 RGB USB - Mechanical Gaming Keyboard Blue Switch"
          ],
          [
           "PANDORA ABS + PBT Doubleshot Keycaps Keycap Set"
          ],
          [
           "PHANTOM PBT ABS Doubleshot Keycaps Keycap Set by Press Play"
          ],
          [
           "VENOMOUS PBT ABS Doubleshot Keycaps Keycap Set by Press Play"
          ],
          [
           "GOODGAMINGSHOP Official White Sticker Tshirt Limited Edition"
          ],
          [
           "Ajazz Firstblood B2 Acrylic Transparent Ice Star Jelly"
          ],
          [
           "Fantech Earphone Go Wired Earbuds ES2 - Putih"
          ],
          [
           "Steelseries ALIAS USB Condenser Gaming And Streaming RGB Microphone"
          ],
          [
           "VortexSeries Keycaps Set - ROADSTER THEME"
          ],
          [
           "Fantech Wave 10 / TW10 True Wireless - White"
          ],
          [
           "Razer BlackWidow V4 RGB Mechanical Gaming Keyboard - Yellow Switch"
          ],
          [
           "Monitor LED AOC 27B1H2 27\" IPS 1080p FHD 100Hz HDMI VGA Slim Eye Care"
          ],
          [
           "Rexus Mouse Gaming Xierra G20 - Hitam"
          ],
          [
           "Cooler Master Notepal CMC3"
          ],
          [
           "Press Play APOLLO61 V2 Wireless Mechanical Keyboard - GATERON YELLOW"
          ],
          [
           "Razer Kitsune - All-Button Optical Arcade Gaming Controller"
          ],
          [
           "Steelseries Arctis 1 Playstation Edition - Gaming Headset"
          ],
          [
           "Rexus RGC-105 / RGC105 Gaming Chair - Black"
          ],
          [
           "GOODGAMINGSHOP Official Black Tshirt Limited Edition"
          ],
          [
           "Keyboard Mouse Wireless 2 in 1 FANTECH GO SERIES WK894 Portable"
          ],
          [
           "Razer Blackwidow V4 75% Hotswap Mechanical Gaming Keyboard"
          ],
          [
           "Asus ROG Raikiri Pro Gamepad"
          ],
          [
           "Digital Alliance Meca 6 RGB Low Profile 60% Mechanical Gaming Keyboard - Hitam, Blue Switch"
          ],
          [
           "RAZER BLACKSHARK V2 X USB Gaming Headset"
          ],
          [
           "Ajazz AG110 Controller Gamepad"
          ],
          [
           "JBL Quantum 350 Wireless GAming Headset"
          ],
          [
           "Leopold FC650MDSR PD Parrot 65% Mechanical Keyboard - Cherry Brown"
          ],
          [
           "1STPLAYER DK2 PRO GAMING CHAIR - Dark Black"
          ],
          [
           "JTK POLYCARBONATE KEYCAP STORAGE TRAYS"
          ],
          [
           "Fantech K801 Keyboard Numeric"
          ],
          [
           "Noir Neo Ergolift Electric Standing Adjustable Desk - Kaki Meja electr - White, Single Motor"
          ],
          [
           "Noir Neo Ergolift + Papan Meja 140cm - Electric Standing Adjustable - Black, Single Black"
          ],
          [
           "KC Keycaps NINJA CHERRY PROFILE 129 keys"
          ],
          [
           "KC Keycaps TOXIC CHERRY PROFILE 253 keys"
          ],
          [
           "KC-Tools 126in1 Cylindrical Screwdriver Set"
          ],
          [
           "KC-Tools 2023 small torque-Type fast charging base"
          ],
          [
           "Press Play HARAJUKU PBT Dye Sub Keycap Set Japanese Root - PBT Harajuku"
          ],
          [
           "Steelseries QCK HEAVY XXL DIABLO IV EDITION"
          ],
          [
           "DUCKY ONE 3 MIST GREY DOUBLE SHOT PBT QUACK MECHANICAL KEYBOARD - Brown Sw"
          ],
          [
           "Razer Gigantus V2 XXL - Pokemon - Soft Mat Gaming Mouse"
          ],
          [
           "Razer Orochi V2 - Roblox - Wireless Bluetooth Gaming Mouse"
          ],
          [
           "Razer Hammerhead Pro HyperSpeed - True Wireless Gaming Earbuds"
          ],
          [
           "GT Elite Lite Wheel Plate Edition & Elite ES1 - Next Level Racing"
          ],
          [
           "AJAZZ 108+24 KEYS CHERRY PROFILE KEYCAP SET"
          ],
          [
           "AJAZZ PEACE KITTY JSA PROFILE KEYCAPS SET"
          ],
          [
           "Razer Atlas - Black - Tempered Glass Gaming Mouse Mat"
          ],
          [
           "Rexus Gaming Desk / Meja Gaming Gala RGB - White-White"
          ],
          [
           "Cooler Master GM27-FFS - Gaming Monitor"
          ],
          [
           "Cooler Master GM27-CQS - Gaming Monitor"
          ],
          [
           "Cooler Master CK720 65% GAMING KEYBOARD - Brown Switch"
          ],
          [
           "Razer Nommo V2 Pro - Gaming Speaker"
          ],
          [
           "Razer Nommo V2 - Gaming Speaker"
          ],
          [
           "HyperX Armada 27 Inch QHD Gaming Monitor"
          ],
          [
           "CoolerMaster NOTEPAL X-LITE II Notebook Cooling Pad"
          ],
          [
           "CoolerMaster NotePal X-SLIM II Cooling Pad"
          ],
          [
           "KC Keycaps SweetMacaron XDA 135 Keys"
          ],
          [
           "Razer BlackWidow V4 Pro Mechanical Gaming Keyboard - Green Swutch"
          ],
          [
           "Asus ROG Strix Impact III / ROG Strix Impact 3 - Gaming Mouse"
          ],
          [
           "IDOBAO ID80 BESTYPE WHITE BAREBONE MECHANICAL KEYBOARD"
          ],
          [
           "E-YOOSO RGB GAMING MOUSE - X-6 / X6 BLACK"
          ],
          [
           "Kelowna 19x6 Akrilik Switch Tester - Keyboard Accesories"
          ],
          [
           "Grip Tape Thin for XLITE Mini - Wired / Wireless mouse"
          ],
          [
           "Ducky One 3 TKL Yellow RGB - Gaming Keyboard - Red Switch"
          ],
          [
           "Sades KATANA Wireless 96%!M(MISSING)echanical Keyboard - Mizu, Red Switch"
          ],
          [
           "Samsung 27\" T45F Business Monitor - LF27T450FQEXXD"
          ],
          [
           "Samsung 24\" T45F Business Monitor - LF24T450FQEXXD"
          ],
          [
           "Razer Deathstalker V2 Pro White - Keyboard Gaming"
          ],
          [
           "Razer Blackshark V2 X Quartz - Gaming Headset"
          ],
          [
           "CoolerMaster GA241 GAMING MONITOR [1080p, 100Hz]"
          ],
          [
           "MSI Optix G2712 Monitor Gaming 27 Inch - FHD IPS 170Hz 1ms"
          ],
          [
           "Paradox Gaming Keycaps ZS 29 XDA Dye Sub - Keycap Set"
          ],
          [
           "Paradox Gaming Keycaps ZS 11 XDA Dye Sub - Keycap Set"
          ],
          [
           "Paradox Gaming Keycaps KMN 10 Cherry Dye Sub - Keycap Set"
          ],
          [
           "Paradox Gaming Keycaps KMN 1 XDA Dye Sub - Keycap Set"
          ],
          [
           "Angry Miao CYBERBOARD Bundle Kit Mechanical Keyboard - Basalt Black"
          ],
          [
           "IQUNIX OG80 DarkSide Wireless Mechanical Keyboard - Cherry red"
          ],
          [
           "DUSTSILVER Blue Pink Milkshake Kawaii RGB Backlit Wireless Keyboard - Red Sw"
          ],
          [
           "Keychron Q8 (Alice Layout) QMK Custom Mechanical Keyboard - Carbon Black, Red Sw"
          ],
          [
           "Keychron Q3 QMK TKL FULLY ASSEMBLED Custom Mechanical Keyboard - Black , Red Sw"
          ],
          [
           "Keychron V1 Frosted Black Knob Version QMK Custom Mechanical Keyboard - Red Sw"
          ],
          [
           "Keychron K14 Hot-swap White Backlight Wireless Mechanical Keyboard - Red Sw"
          ],
          [
           "Keychron K7 Hotswap RGB Backlight Low Profile Gateron Mechanical - Red Sw"
          ],
          [
           "Keychron K10 FULL SIZE WHITE Backlight GATERON Mechanical Hot-Swap - Red Sw"
          ],
          [
           "Keychron K8 Pro Fully Assembled RGB Backlight Aluminium - RGB Aluminium A, Red Sw"
          ],
          [
           "Keychron K8 Hot-Swappable RGB Backlight PLASTIC Frame Keyboard - Red Sw"
          ],
          [
           "Keychron K5 SE Hot-swappable Gateron Mechanical RGB Wireless Keyboard - Red Sw"
          ],
          [
           "Keychron K5 Ultra-Slim Optical Hot swappable WHITE Backlight Aluminum - Red Sw"
          ],
          [
           "Keychron K4 (version 2) Hot-Swappable RGB Backlight ALUMINUM Frame - Red Sw"
          ],
          [
           "Keychron K4 (version 2) Hot-Swappable RGB Backlight PLASTIC Frame - Brown Sw"
          ],
          [
           "Keychron K3 v2 Gateron Low Profile WHITE Wireless Mechanical Keyboard - Red Sw"
          ],
          [
           "Rexus Rgb Gaming Microphone XORA DM1 - Hitam"
          ],
          [
           "Monitor Gaming BenQ ZOWIE XL2746K Esports 27 inch 240Hz DyAc+"
          ],
          [
           "Elgato Wave 3 White - Microphone - Non pop filter"
          ],
          [
           "Logitech G923 True Force Steering Wheel and Pedals for PC, PS4 and PS5"
          ],
          [
           "Steelseries Arctis Pro NON DAC (NON WARRANTY)"
          ],
          [
           "Infinity Mice Saphire Mousefeet"
          ],
          [
           "Mouse Gaming RGB Sades Void PMW 3325 - Gaming Mouse - Putih"
          ],
          [
           "CHERRY MX Vintage Keycap Set - G99-109-EU-ZUB-01"
          ],
          [
           "PressPlay Rei Ayanami EVANGELION PBT Dye Sub Keycaps Keyboard"
          ],
          [
           "GAMEN Speaker Gaming GS10 Subwoofer with RGB Lights - Gaming Speaker"
          ],
          [
           "GAMEN GM200W - Mouse Gaming Wireless"
          ],
          [
           "Steelseries Apex 9 TKL - Optical Switch Gaming Keyboard"
          ],
          [
           "Steelseries Apex 9 Mini 60% - Optical Switch Gaming Keyboard"
          ],
          [
           "Ducky One 3 Daybreak Full Size RGB - Gaming Keyboard - Brown"
          ],
          [
           "JBL Quantum TWS - Earphone"
          ],
          [
           "MECHANICAL KEYCAPS PUDDING KEYCAPS / PUDING KEYCAPS - Putih"
          ],
          [
           "Steelseries Speaker Sparepart Siberia - Sparepart Only"
          ],
          [
           "K70 PRO MINI WIRELESS 60% CHERRY MX Speed Switch - Keyboard Gaming"
          ],
          [
           "Gamen Empire - Gaming Chair"
          ],
          [
           "Gamen GS6 - RGB Gaming Speaker"
          ],
          [
           "HyperX Pulsefire Mat 2XL - Gaming Mouse Pad"
          ],
          [
           "Gamen MP02 - Soft Surface Gaming Mousepad - Hitam"
          ],
          [
           "Gamen TITAN 2 - Mechanical Wired Gaming Keyboard"
          ],
          [
           "Gamen GM200 - Macro RGB Gaming Mouse"
          ],
          [
           "Gamen GH1500 - Headset Gaming"
          ],
          [
           "Gamen GH1100 Pro -Headset Gaming"
          ],
          [
           "Sades SPower Multiplatform - Gaming Headset"
          ],
          [
           "Fantech WH01 Wireless Bluetooth Mint Edition - Gaming Headset"
          ],
          [
           "Fantech WH01 Wireless Bluetooth Sakura Edition - Gaming Headset"
          ],
          [
           "MSI Optix G271C 27\" 165Hz 1000R FHD 1MS - Gaming Monitor"
          ],
          [
           "Sades Wings20 - Gaming Earphone - Black"
          ],
          [
           "MSI Clutch GM41 / GM 41 Lightweight V2 - Gaming Mouse"
          ],
          [
           "Oximus Lynx 1123 - Monitor Bracket"
          ],
          [
           "Andaseat Kaiser 3 XL Series Premium - Gaming Chair - Black Fabric"
          ],
          [
           "Andaseat Phantom 3 Series Premium - Office / Gaming Chair - Black"
          ],
          [
           "ONEX Dual Spring Monitor Arm Stand Bracket VESA Mount - MR4924D - Gray"
          ],
          [
           "Keychron Q1 Knob Version BAREBONE QMK 75% Custom - Mechanical Keyboard - Grey"
          ],
          [
           "Sades A2 Multiplatform Wired - Gaming Headset - Black Orange"
          ],
          [
           "DXRacer EL-1140 - TG-LT006-N-1-140cm Lifting - Gaming Desk"
          ],
          [
           "Razer Audio Mixer - All-in-one Analog Mixer for Broadcasting/Streaming"
          ],
          [
           "Audio Technica ATH-CKL220iS In-Ear Headphone with Mic"
          ],
          [
           "EPOS H3 PRO HYBRID WHITE - Closed Acoustic Bluetooth - Gaming Headset"
          ],
          [
           "Dareu EH-722S MAGIC - Gaming Headset - EH722"
          ],
          [
           "ASUS ProArt Display PA279CV 27\" 4K IPS Professional - Gaming Monitor"
          ],
          [
           "ROG Strix XG249CM 23.8\" HDR 270Hz 1ms GTG FreeSync - Gaming Monitor"
          ],
          [
           "Cougar Minox XC Combo Minos XC UIX™ + Speed XC - Gaming Gear Combo"
          ],
          [
           "Cougar Outrider Comfort - Gaming Chair - Outrider"
          ],
          [
           "Samsung 27\" Odyssey G5 165Hz 1ms QHD Curved FreeSync - Gaming Monitor"
          ],
          [
           "Samsung 32\" Odyssey G5 165Hz 1ms QHD IPS G-Sync - Gaming Monitor"
          ],
          [
           "LG 27MP500 / 27MP500-B 3 Side Borderless IPS Full HD Freesync"
          ],
          [
           "Cougar Vantar AX Aluminum RGB Scissor Switch PINK - Gaming Keyboard"
          ],
          [
           "Audio Technica ATH-M50x Professional Monitor - Headphones - Black"
          ],
          [
           "Audio Technica ATH-M40x Professional Monitor - Headphones"
          ],
          [
           "Rexus M61 Alumunium - Case - Abu-abu"
          ],
          [
           "Rexus M61 Acrylic - Case"
          ],
          [
           "MSI Optix G241V E2 | 24\" | IPS | FHD | 75hz | 1ms LED - Gaming Monitor"
          ],
          [
           "Fantech T-Shirt Limited Mint Edition"
          ],
          [
           "Ducky Bon Voyage PBT Double-Shot - Keycaps"
          ],
          [
           "Luminous RGB Cable - Biru"
          ],
          [
           "Aerocool LUX RGB 550W 80 Plus Bronze - LuxRGB550W"
          ],
          [
           "Razer Iskur X Hello Kitty and Friends Edition - Gaming Chair"
          ],
          [
           "ASUS ROG STRIX LC II 360 ARGB AIO LIQUID CPU COOLER WITH AURA SYNC RGB - Putih"
          ],
          [
           "Pulsar Basic US ANSI - ABS Doubleshot - Keycaps ( 104 Set US KR ) - Black"
          ],
          [
           "Thrustmaster TCA Quadrant Boeing Edition"
          ],
          [
           "Thrustmaster TCA Yoke Pack Boeing Edition"
          ],
          [
           "Redragon K588 RGB BROADSWORD PRO Optical Mechanical - Gaming Keyboard - Black"
          ],
          [
           "Redragon K622 HORUS TKL RGB Mechanical RGB Ultra LP - Gaming Keyboard"
          ],
          [
           "Redragon DEIMOS K599 KRS Wireless Mechanical - Gaming Keyboard"
          ],
          [
           "Cherry MX Board 1.0 NBL / RGB - Gaming Keyboard - Black NBL, Red Switch"
          ],
          [
           "ASUS ROG Swift PG279QM 27 Inch IPS 1440p 240Hz - Gaming Monitor"
          ],
          [
           "EPOS H3 PRO HYBRID SEBRING Closed Acoustic Bluetooth - Gaming Headset"
          ],
          [
           "Aerocool - Admiral AIR Tech Gaming Chair - Champion Red"
          ],
          [
           "Thrustmaster T-3PM 3 Pedals Add-On - Gaming Pedal Set"
          ],
          [
           "ThrustMaster T.16000M FCS Flight Pack Gaming Joystick for PC"
          ],
          [
           "Razer Enki for All-Day Comfort - Gaming Chair - BLACK - Enki Only"
          ],
          [
           "JBL Quantum Duo 2.0 Bluetooth QuantumSOUND Signature - Gaming Speaker"
          ],
          [
           "MSI MPG ARTYMIS 273CQR Curved Screen WQHD - Gaming Monitor"
          ],
          [
           "Leopold FC660C Grey / Blue Dye Sub PBT - Mechanical Gaming Keyboard - Topre Silent SW"
          ],
          [
           "Imperion Sledgehammer 7 KG-S07C Rainbow Backlight - Hitam"
          ],
          [
           "CHERRY MC 3000 Ergonomic - Gaming Mouse"
          ],
          [
           "Razer Seiren V2 Pro - Professional-grade USB Microphone for Streamers"
          ],
          [
           "EPOS H3 HYBRID - Closed Acoustic Gaming Headset with Bluetooth - Hitam"
          ],
          [
           "1STPLAYER MOTO-E 1160 with Electrical Adjustable - Gaming Desk"
          ],
          [
           "LG 24MP400-B 23.8'' FHD IPS Monitor AMD FreeSync™ 75Hz HDMI"
          ],
          [
           "Leopold FC660M PD Light Pink Mechanical - Gaming Keyboard - Blue"
          ],
          [
           "HP H360GS 7.1 Surround USB Wired LED RGB - Gaming Mouse"
          ],
          [
           "HP H320GS Virtual 7.1 Surround USB Wired Mobile / PC - Gaming Headset"
          ],
          [
           "HP H220GS 7.1 Surround Blue USB Wired - Gaming House"
          ],
          [
           "Asus ROG Strix Go Core Moonlight Multi-Platform - Gaming Headset"
          ],
          [
           "HP GK200 TKL Rainbow RGB - Mechanical Gaming Keyboard - Blue Switch"
          ],
          [
           "HP M270 SPCP199 RGB 4D - Gaming Mouse Sensor"
          ],
          [
           "CHERRY MX Board 1.0 TKL RGB / NBL - Mechanical Gaming Keyboard - Black TKL NBL, Blue Switch"
          ],
          [
           "CHERRY MX 1.0 FS RGB / NBL - Full Size Mechanical Gaming Keyboard - Black NBL, Blue Switch"
          ],
          [
           "ANDASEAT Kaiser Neck Pillow XL Size - Gaming Chair - Maroon"
          ],
          [
           "ANDASEAT Fnatic Edition Premium - Gaming Chair - Black Orange"
          ],
          [
           "ANDASEAT T-PRO 2 Series - Gaming Chair - Abu-abu"
          ],
          [
           "ANDASEAT Pretty in Pink - Gaming Chair"
          ],
          [
           "ANDASEAT Dark Demon Mobilty Series - Gaming Chair - Black Red"
          ],
          [
           "Thrustmaster T.RJ12 USB ADAPTER for PC"
          ],
          [
           "Thrustmaster T-LCM Pedals ADD-ON - PC / PS3 / PS4 / Xbox One"
          ],
          [
           "Thrustmaster TCA Officer Pack Airbus Edition PC - +Flight SIm Lit"
          ],
          [
           "Thrustmaster Hotas Warthog - Joystick"
          ],
          [
           "AOC G2790VXA 27\" FHD 144Hz 1ms HDMI - Gaming Monitor"
          ],
          [
           "IMPERION KB-310 USB Multimedia Keyboard"
          ],
          [
           "INBOX SBT05 / SBT-05 Wireless Bluetooth 5.0 Soundbar RGB"
          ],
          [
           "SPEAKER INBOX GS03 / GS-03 MAXIMUS RGB"
          ],
          [
           "IMPERION KB-110 USB Multimedia Keyboard"
          ],
          [
           "Ekstra Packing Kayu"
          ],
          [
           "SADES S8 BAST GAMING MOUSE"
          ],
          [
           "ONEX EV12 EVOLUTION SUEDE EDITION KURSI GAMING CHAIR - Hitam"
          ],
          [
           "iKBC GUNDAM TKL C200 Mechanical Gaming Keyboard - Switch Red"
          ],
          [
           "iKBC S200 Godiva 2.4Ghz BT Mechanical Gaming Keyboard - Switch Red"
          ],
          [
           "FANTECH LED Light Micro USB Cable Data 120CM Fast Charging - KM106"
          ],
          [
           "Razer Kraken X - Console Green XBOX"
          ],
          [
           "MSI OPTIX G32C4 MONITOR 32\" Full HD 1080p, 165Hz, 1ms, VA"
          ],
          [
           "DarkFlash RC300 / RC-300 Kursi Gaming - Gaming Chair"
          ],
          [
           "Digital Alliance DA Throne 150e Gaming Chair - Black Red"
          ],
          [
           "ASUS VY279HE / VY-279HE Eye Care Monitor 27\" IPS, 75Hz, 1ms, FreeSync"
          ],
          [
           "RAZER KEYBOARD HUNTSMAN OPTO - GEARS 5 EDITION \"CLEARANCE SALE\""
          ],
          [
           "ONEX GX1 / GX 1 / GX-1 Premium Quality Gaming Chair - Putih"
          ],
          [
           "THERMALTAKE Argent HS1 / HS-1 RGB - Headset Stand"
          ],
          [
           "THERMALTAKE Argent H5 / H-5 Stereo - Gaming Headset"
          ],
          [
           "ASUS TUF Gaming VG27AQ HDR G-SYNC Compatible - Gaming Monitor"
          ],
          [
           "Thrustmaster Hotas Warthog Flight Stick"
          ],
          [
           "HYPERX Cloud Earbuds Carrying Case - Headset Pouch"
          ],
          [
           "J5CREATE JEE256 / JEE-256 USB-C™ to M.2 NVMe SSD Enclosure"
          ],
          [
           "J5CREATE JC153 / JC-153 USB-C to 4K HDMI Cable"
          ],
          [
           "J5CREATE JVA04 / JVA-04 Game Capture Station - Screen Capture"
          ],
          [
           "PARADOX GAMING PGC-M1-S01 / PGCM1S01 - Gaming Chair - Black"
          ],
          [
           "Sades Spirits Multiplatform Gaming Headset - Tosca"
          ],
          [
           "DAREU A960 ALPHA Gaming Mouse Lightweight 65 gr - Gaming Mouse"
          ],
          [
           "ThunderX3 YAMA7 Ergonomic Gaming Chair - Black"
          ],
          [
           "ThunderX3 Yama5 Series Gaming Chair - Black"
          ],
          [
           "Dareu A700 Wireless - High-End 2.4g Wireless Gaming Headset"
          ],
          [
           "ASUS ROG Strix Impact II Gaming Mouse Electro Punk - Gaming Mouse"
          ],
          [
           "DXRacer NEX - Gaming Desk"
          ],
          [
           "Zowie FK1+B Black - Gaming Mouse"
          ],
          [
           "DAREU LM145 AVAGO - Gaming Mouse"
          ],
          [
           "Elgato Thunderbolt 3 Dock - Docking Station"
          ],
          [
           "AtomTech + Gaming Matte - Tempered Glass - 6,7,8+"
          ],
          [
           "Imperion Mortar KG-MM1 mechanical Membrane Keyboard RGB"
          ],
          [
           "ACER VG240Y NITRO SERIES MONITOR"
          ],
          [
           "Sennheiser Game Zero - Gaming Headset"
          ],
          [
           "NYK HS-N09 Rubick - Gaming Headset"
          ],
          [
           "NYK NEMESIS URSA NYK URSA GAMING MOUSE"
          ],
          [
           "Digital Alliance Throne 160 - Gaming Chair - White Pink"
          ],
          [
           "Dareu EH765 - Wireless Gaming Headset"
          ],
          [
           "Dareu LM130 VIGOR - Gaming Mouse - Hitam"
          ],
          [
           "Sades Meteor RGB Gaming mousepad - Gaming Mousepad"
          ],
          [
           "Sades FPower - Gaming Headset"
          ],
          [
           "Razer Blackwidow 2017 Edition Green switch"
          ],
          [
           "MSi Clutch GM10 - Gaming Mouse"
          ],
          [
           "MSi MAG CH120 - Gaming Chair"
          ],
          [
           "Razer Blackwidow X Chroma Mechanical Keyboard - Mercury"
          ],
          [
           "Sades Dpower Pink Gaming Headset"
          ],
          [
           "Elgato Key Light Air / KeyLight Air Professional Studio Panel - Key Light Air"
          ],
          [
           "Sades Dorado - Gaming Chair"
          ],
          [
           "JBL Quantum 400 - Gaming Headset"
          ],
          [
           "ACER EK220QA - Gaming Monitor"
          ],
          [
           "Sades Battle Ram - Gaming Combo"
          ],
          [
           "Asus Cerberus Mat XXL - Gaming Mousepad"
          ],
          [
           "Sades Element - Gaming Headset"
          ],
          [
           "Zowie EC1 - Gaming Mouse - Mouse Only"
          ],
          [
           "Razer Abyssus Lite & Razer Goliathus Mobile Construct Edition - Mouse"
          ],
          [
           "MSi Clutch GM30 - Gaming Mouse"
          ],
          [
           "TTC Gold Dustproof - Mouse Switch"
          ],
          [
           "Rexus Daxa Gleampro Monitor Lightbar"
          ],
          [
           "TUTKEYS Game 1989 Classic GSA Keycaps Set"
          ],
          [
           "Ajazz AK820 SP Side Printed - Mechanical Keyboard"
          ],
          [
           "Razer Firefly V2 Pro - Black - Fully Illuminated RGB Gaming Mouse Mat"
          ],
          [
           "WOBKEY Rainy75 Electro Purple Pro RGB with Silver SUS304 Back - Mechanical Keyboard"
          ],
          [
           "WOBKEY Rainy75 Silver Lite with Mirrored Glass Back - Mechanical Keyboard"
          ],
          [
           "AOC 27G4E 27\" Fast IPS Gaming Monitor"
          ],
          [
           "KC Kon Momo Hiragana Cherry Profile 146 Keys - Keycap Set"
          ],
          [
           "KC White Minimalist Hiragana Cherry Profile 142 Keys - Keycap Set"
          ],
          [
           "KC Sushi Hiragana XDA Profile 134 Keys- Keycap Set"
          ],
          [
           "KC Wasabi Hiragana Cherry Profile 129 Keys - Keycap Set"
          ],
          [
           "KC Weather Hiragana XDA Profile 133 Keys - Keycap Set"
          ],
          [
           "KC Arnia Hiragana Cherry 143 Keys - Keycap Set"
          ],
          [
           "KC Donuts Hiragana Cherry 129 Keys - Keycap Set"
          ],
          [
           "KC EVA01 Katakana Cherry Profile 129 keys - Keycap Set"
          ],
          [
           "KTT Retro Silver Dust-proof Switch"
          ],
          [
           "KC Katakana Cherry Profile 129 keys - Keycap Set"
          ],
          [
           "KC Red Cyrilic Hiragana Cherry Profile 129 keys - Keycap Set"
          ],
          [
           "KC Haku White Green Hiragana Cherry Profile 119 Keys - Keycap Set"
          ],
          [
           "KC AJL Hiragana Cherry Profile PBT 130 keys - Keycap Set"
          ],
          [
           "KC Gundam Hiragana XDA PBT 130 keys - Keycap Set"
          ],
          [
           "Rexus Mouse Gaming Wireless Bluetooth Nava Q10 - Black"
          ],
          [
           "KTT Rose Linear Switch (Linear - PCB Mount)"
          ],
          [
           "KTT Cabbage Tofu RGB Switch (Linear - Plate Mount)"
          ],
          [
           "KTT Vanilla Ice Cream Switch (Linear - PCB Mount"
          ],
          [
           "KTT Sea Salt / Seasalt Mechanical keyboard switch (Linear)"
          ],
          [
           "Tp-link Tplink UB500 | Bluetooth 5.0 Nano USB Adapter"
          ],
          [
           "Noir Spade65 65% Extra FR4 Plate ANSI, ISO, Split Spacebar Layout - ANSI"
          ],
          [
           "Mousepad Deskmat Gaming Digital Alliance Carbon XL Control Polyester"
          ],
          [
           "Razer Iskur V2 - Adaptive Lumbar Support Gaming Chair - Black/Green"
          ],
          [
           "Logitech G PRO X 60 LIGHTSPEED Keyboard Wireless Tactile with Lightsync - Putih"
          ],
          [
           "PlayWave RGB Rhythm & Music Pickup Light by Press Play"
          ],
          [
           "ONIKUMA X25 RGB Gaming Headset - White, Headset"
          ],
          [
           "ThunderX3 Eaze Loft Black Gaming Chair / Kursi Gaming"
          ],
          [
           "VAXEE Outset AX Wireless 4K Gaming Mouse - Hitam"
          ],
          [
           "ASUS ROG Delta S Core | Lightweight 3.5 mm gaming headset"
          ],
          [
           "NYK Nemesis Headset Bluetooth 5.3 with ANC EKHOS X800 PRO - Putih"
          ],
          [
           "Razer Kaira Pro for Xbox - Black - Wireless Gaming Headset"
          ],
          [
           "Sades Ryunix PX100 Wireless Portable RGB Gaming Speaker"
          ],
          [
           "NYK Coolingpad Thermoelectric RGB with Digital Display ICEROCK X11"
          ],
          [
           "Razer Wolverine V2 Xbox Series X|S Controller Gamepad Joystick Console - Hitam"
          ],
          [
           "ZOOM65 Essential Edition V2.5 Blush Pink E-white Weight&Knob- BAREBONE"
          ],
          [
           "Akko Panda 227Keys Keycap Set"
          ],
          [
           "Microphone Wireless 2.4GHz Clip On 3 in 1 NYK Nemesis LETO MCW-03"
          ],
          [
           "Press Play Genshin Impact HU TAO PBT Dye Sub Keycaps"
          ],
          [
           "TENGU PBT ABS Doubleshot Keycaps Keycap Set by Press Play"
          ],
          [
           "GOODGAMINGSHOP Official \"WORK HARD PLAY HARD\" Tshirt Limited Edition"
          ],
          [
           "Razer Huntsman V2 Tenkeyless Quartz - Linear Optical Switch"
          ],
          [
           "Imperion CB-310 USB Multimedia Keyboard Mouse"
          ],
          [
           "Pulsar X2A / X2-A Wireless Gaming Mouse - Size 1 (Mini)"
          ],
          [
           "Fantech TWS TW12 / TW 12 / Wave 12 Earphone Bluetooth 5.3 Earbuds - Putih"
          ],
          [
           "Steelseries Bundling Rival 3 + QCK Medium + Apex 3 TKL"
          ],
          [
           "Razer Blackwidow V4 75% - White - Hotswap Mechanical Gaming Keyboard"
          ],
          [
           "Razer Kraken Kitty V2 Wired RGB Kitty Ears Gaming Headset - Hitam"
          ],
          [
           "Steelseries Alias Pro - XLR Microphone & Stream Mixer For Streaming"
          ],
          [
           "SADES CROSSBOW G10 Bluetooth Dual Mode with Holder Gamepad"
          ],
          [
           "Monitor LED DA Bezelless Frameless 22\" 24\" inch IPS 75HZ HDMI VGA - 24 inch"
          ],
          [
           "Razer Kitsune - Chunli - All-Button Optical Arcade Gaming Controller"
          ],
          [
           "Razer Kitsune - Cammy - All-Button Optical Arcade Gaming Controller"
          ],
          [
           "Razer Kishi V2 Pro for Android - Hypersense Haptic Gaming Controller"
          ],
          [
           "Razer Kraken Kitty V2 - Wireless Bluetooth RGB Gaming Headset"
          ],
          [
           "Steelseries Arctis Nova 7 for Xbox Wireless - Gaming Headset"
          ],
          [
           "Cooler Master GD120 Gaming Desk"
          ],
          [
           "Rexus Keyboard Numeric Mechanical Daxa M22 - Putih, Linear KTT Whte"
          ],
          [
           "Razer Barracuda X - Quartz Wireless Multi-platform Gaming Headset 2022"
          ],
          [
           "Nuphy Halo 96 Wireless Mechanical Keyboard - 2.4GHz, Bluetooth & Wired - White, G PRO RED 2.0"
          ],
          [
           "Razer Blackwidow V4 X - Mechanical Gaming Keyboard - Yellow Switch"
          ],
          [
           "MSI OPTIX G27C4 E2 GAMING MONITOR [1080p, 170Hz]"
          ],
          [
           "Rexus Keyboard Dual Connection Mosaic KB01 - Hitam"
          ],
          [
           "E-YOOSO Z-11 MECHANICAL KEYBOARD 63 KEY WHITE KEYCAPS RGB FOUR MODE - Blue Sw"
          ],
          [
           "E-YOOSO Z-11 MECHANICAL KEYBOARD 63 KEY BLACK GREY RGB FOUR MODE"
          ],
          [
           "Redragon CENTROPHORUS - M601-3 - RGB Gaming Mouse"
          ],
          [
           "GAMEN Gaming Fancooler Radiator Coolingfan Smartphone Siberia II"
          ],
          [
           "JBL Quantum Stream Microphone"
          ],
          [
           "Cooler Master CMI-GM32-FQ Gaming Monitor"
          ],
          [
           "Cooler Master GM34-CW2 Gaming Monitor"
          ],
          [
           "NYK Nemesis ERATO MCW-01 Microphone Wireless 2.4GHz Clip On 3 in 1"
          ],
          [
           "Fantech STRIKESKATES Glass Skates For ARIA XD7 Mousefeet Gaming - Putih"
          ],
          [
           "Razer Barracuda X - PUBG Edition - Wireless Bluetooth Gaming Headset"
          ],
          [
           "Razer Huntsman V2 - PUBG Edition - Optical Switch Gaming Keyboard"
          ],
          [
           "Stand for Switch Storage Mechanical Keyboard Switches - Putih"
          ],
          [
           "Storage for Switch Mechanical Keyboard"
          ],
          [
           "Acer Monitor VG271U M3 27 Inch Acer Nitro 180Hz"
          ],
          [
           "Acer Monitor VG270 M3 27 inch Nitro 180Hz"
          ],
          [
           "Noir Neo Ergolift Table Top - Papan Meja MDF Finishing HPL - Black, 120cm x 60cm"
          ],
          [
           "Noir Neo Ergolift + Papan Meja 120cm - Electric Standing Adjustable - Black, Single Black"
          ],
          [
           "Razer BlackWidow V3 - Roblox - Mechanical Gaming Keyboard"
          ],
          [
           "Razer BlackWidow V3 Tenkeyless - Pokemon - Mechanical Gaming Keyboard"
          ],
          [
           "Razer Blade 18 K9-NT i9-13950HX RTX 4090 32GB DDR5/2TB"
          ],
          [
           "Razer Blade 16 S9-NT i9-13950HX RTX 4090 32GB DDR5 2TB"
          ],
          [
           "Razer Blade 16 S9-NT i9-13950HX RTX 4070 16GB DDR5 1TB"
          ],
          [
           "Razer Blade 16 S9-NT i9-13950HX RTX 4080 32GB DDR5 1TB"
          ],
          [
           "Razer Blade 15 Intel13gen i7-13800H RTX4070 16GB DDR5/1TB"
          ],
          [
           "Razer Blade 15 Advanced 2022 Intel 12th Gen RTX 3070 Ti 16GB DDR5/1TB"
          ],
          [
           "Razer Blade 15 Advanced 2022 Intel 12th Gen RTX 3080 Ti 32GB DDR5/1TB"
          ],
          [
           "Razer Blade 15 Intel 13th gen i7-13800H RTX4070 16GB DDR5/1TB"
          ],
          [
           "Razer Blade 14 2022 AMD Ryzen 9 6900HX/RTX 3080 Ti /16GB RAM/1TB"
          ],
          [
           "Razer Blade 14 2022 AMD Ryzen 9 6900HX/RTX 3070 Ti 16GB RAM/1TB - Putih"
          ],
          [
           "Razer Blade 14 2022 AMD Ryzen 9 6900HX/RTX 3080 Ti /16GB RAM/1TB + VM"
          ],
          [
           "PAKET STEELSERIES ARCTIS NOVA 7 WL + AEROX 5 WL + QCK XXL DIABLO IV ED"
          ],
          [
           "Razer Barracuda X - Roblox - Wireless Multi-Platform Gaming Headset - Headset Razer"
          ],
          [
           "HyperX ProCast – Large Diaphragm Condenser Mic- Microphone"
          ],
          [
           "Razer Ornata V3 Tenkeyless - Low-profile RGB Tenkeyless Mecha-membrane"
          ],
          [
           "Razer Stream Controller X - All in One Controller for Streaming"
          ],
          [
           "VortexSeries Keycaps Set - STARPLANT THEME"
          ],
          [
           "VortexSeries Keycaps Set - STARY FLUFFY THEME"
          ],
          [
           "Rexus Headset Gaming S8 - Gaming Headset"
          ],
          [
           "Keyboard Membrane Pudding Case Full RGB NYK Nemesis ZILONG K-03"
          ],
          [
           "Razer Wolverine V2 Pro - Black - Wireless Pro Gaming Controller"
          ],
          [
           "Razer Nommo V2 X - Gaming Speaker"
          ],
          [
           "Razer Kraken Kitty V2 Pro - Quartz - Wired RGB Headset"
          ],
          [
           "Razer Kraken Kitty V2 Pro - Black - Wired RGB Headset"
          ],
          [
           "HyperX Armada 25 Inch FHD Gaming Monitor"
          ],
          [
           "EPOS S6 - Webcam 4K USB"
          ],
          [
           "JBL Quantum 610 Wireless Gaming Headsets"
          ],
          [
           "Cooler Master FM510 / FM510H - Gaming Chair Floor Mat"
          ],
          [
           "Samsung ODYSSEY G65B 27\" LS27BG652EEXXD - Gaming Monitor"
          ],
          [
           "Samsung ODYSSEY G65B 32\" LS32BG652EEXXD - Gaming Monitor"
          ],
          [
           "Samsung ODYSSEY G70B 32\" LS32BG700EEXXD - Gaming Monitor"
          ],
          [
           "Samsung ODYSSEY G70B 28\" LS28BG700EEXXD - Gaming Monitor"
          ],
          [
           "IDOBAO ID87 V3 Bestype White Barebone Mechanical Keyboard"
          ],
          [
           "LOFREE 1% Mechanical keyboard / LOFREE 1% Lost In Desire"
          ],
          [
           "E-YOOSO GAMING KEYBOARD MOUSE RGB SIDE LIGHT - Z-737"
          ],
          [
           "VANCER GEMINI POLLUX SUPER LIGHT WEIGHT GAMING MOUSE"
          ],
          [
           "Samsung 27\" SR75 144Hz WQHD Monitor clamp-type stand - LS27R750QEEXXD"
          ],
          [
           "Samsung 24\" CRG5 144Hz FHD Curved Gaming Monitor - LC24RG50FQEXXD"
          ],
          [
           "Samsung 32\" Odyssey Neo G8 240Hz Monitor - LS32BG852NEXXD"
          ],
          [
           "Samsung 27\" M5 FHD Smart Monitor - LS27BM501EEXXD"
          ],
          [
           "Samsung 27\" CR50 FHD Curved Monitor - LC27R500FHEXXD"
          ],
          [
           "Steelseries Arctis Nova 1 & 3 Fabric Ear Cushions"
          ],
          [
           "Samsung 24\" S40VA FHD Professional Monitor - LS24A400VEEXXD"
          ],
          [
           "Racuntech 5 in 1 Combo - Gaming Bundle"
          ],
          [
           "COOLERMASTER GD120 ARGB GAMING DESK 30TH ANNIVERSARY EDITION"
          ],
          [
           "CoolerMaster GM34-CW2 34\" Curved Monitor 1500R 144hz UWQHD Ultrawide"
          ],
          [
           "Cooler Master Caliber R2C Gaming Chair"
          ],
          [
           "CoolerMaster Caliber R2S Gaming Chair"
          ],
          [
           "CoolerMaster CALIBER R2 GAMING CHAIR - Purple"
          ],
          [
           "CoolerMaster Caliber E1 Gaming Chair - Black"
          ],
          [
           "MSI OPTIX G2412 - IPS PANEL 170Hz 1MS 23.8\" GAMING MONITOR"
          ],
          [
           "Imperion CB-210 USB Multimedia Keyboard Mouse"
          ],
          [
           "Imperion Kursi Gaming Imperion Phoenix 701 Gaming Chair (ARMREST 4D) - Orange"
          ],
          [
           "Paradox Gaming Keycaps ZS 23 XDA Dye Sub - Keycap Set"
          ],
          [
           "Paradox Gaming Keycaps ZS 22 XDA Dye Sub - Keycap Set"
          ],
          [
           "Paradox Gaming Keycaps ZS 13 XDA Dye Sub - Keycap Set"
          ],
          [
           "Paradox Gaming Keycaps KMN 12 Cherry Dye Sub - Keycap Set"
          ],
          [
           "Paradox Gaming Keycaps KMN 11 Cherry Dye Sub - Keycap Set"
          ],
          [
           "Paradox Gaming Keycaps KMN 8 Cherry Dye Sub - Keycap Set"
          ],
          [
           "Paradox Gaming Keycaps KMN 6 Cherry Dye Sub - Keycap Set"
          ],
          [
           "Paradox Gaming Keycaps KMN 5 XDA Dye Sub - Keycap Set"
          ],
          [
           "Paradox Gaming Keycaps KMN 4 XDA Dye Sub - Keycap Set"
          ],
          [
           "Paradox Gaming Keycaps KMN 3 XDA Dye Sub - Keycap Set"
          ],
          [
           "Epos Bundling H3 Hybrid + GSX1000 Bundling Series - Putih"
          ],
          [
           "EPOS Bundling GSP 600, 601, 602 + GSX300 Bundling Series - GSP600"
          ],
          [
           "EPOS Bundling GSP 300, 301, 302 + GSX300 Bundling Series - GSP300"
          ],
          [
           "Sades Wolfpack PBT Keycaps Set"
          ],
          [
           "IQUNIX L80 Christmas Wireless Mechanical Keyboard RGB LED Backlit - Cherry Red"
          ],
          [
           "IQUNIX F97 Typinglab Wireless Mechanical Keyboard - Cherry Brown"
          ],
          [
           "IQUNIX F97 Cosmic Traveller Wireless Mechanical Keyboard RGB LED - Cherry Red"
          ],
          [
           "IQUNIX F97 Hitchhiker Wireless Mechanical Keyboard - Cherry Red"
          ],
          [
           "DUSTSILVER CYBERPUNK Cool Purple Hot-swappable RGB Backlit Keyboard - Red Sw"
          ],
          [
           "Dustsilver Cyberpunk Pro TKL Hotswap RGB Backlit Wireless Keyboard - Red Sw"
          ],
          [
           "Altec Lansing Speaker 2.0 RGB ALGS9802"
          ],
          [
           "Keychron Q5 QMK Fully Assembled Knob Custom Mechanical Keyboard - Carbon Black A, Red Sw"
          ],
          [
           "Keychron Q5 QMK Fully Assembled Custom Mechanical Keyboard - Carbin Black"
          ],
          [
           "Keychron Q3 QMK TKL Fully Assembled Knob Version - Black, Red Sw"
          ],
          [
           "Keychron Q1 version 2 QMK Fully Assembled Knob Version SIlver Grey - Yellow Switch"
          ],
          [
           "Keychron Q0 Fully Assembled QMK Custom Number Pad - Black , Red Sw"
          ],
          [
           "Keychron V2 QMK 65%!B(MISSING)AREBONE Knob Version Custom Mechanical Keyboard - Frosted Black, WIth Knob"
          ],
          [
           "Keychron V1 Carbon Black Knob Version QMK Custom Mechanical Keyboard - Red Sw"
          ],
          [
           "Keychron V1 CArbon Black QMK Custom Mechanical Keyboard - Red Sw"
          ],
          [
           "Keychron V1 Frosted Black QMK Custom Mechanical Keyboard - Red Sw"
          ],
          [
           "Keychron V1 QMK BAREBONE Knob Version Custom Mechanical Keyboard - Carbon Black"
          ],
          [
           "Keychron V1 QMK BAREBONE Custom Mechanical Keyboard - Frosted Black"
          ],
          [
           "Keychron K1 SE 80%!T(MISSING)KL WHITE Backlight Gateron Mechanical Hotswappable - Red Sw"
          ],
          [
           "Keychron K14 Hot-swap RGB Aluminum Frame Wireless Mechanical Keyboard - Red Sw"
          ],
          [
           "Keychron K7 Hotswap WHITE Backlight Low Profile Gateron Mechanical - Red Sw"
          ],
          [
           "Keychron K7 Hot-swappable RGB Backlight Low Profile Optical Switch - Red Sw"
          ],
          [
           "Keychron K7 Hot-swappable WHITE Backlight Low Profile Optical Switch - Red Sw"
          ],
          [
           "Keychron K10 FULL SIZE GATERON Mechanical Hot-Swappable RGB Backlight - Red Sw"
          ],
          [
           "Keychron K8 Pro QMK/VIA BAREBONE Wireless Mechanical Keyboard"
          ],
          [
           "Keychron K8 Pro Fully Assembled White Backlight Mechanical Keyboard - Red Sw"
          ],
          [
           "Keychron K8 Hot-Swappable RGB Backlight ALUMINUM Frame Keyboard - Red Sw"
          ],
          [
           "Keychron K8 Hot-Swappable WHITE Backlight PLASTIC Frame Keyboard - Red Sw"
          ],
          [
           "Keychron K6 Non Backlight Aluminum Frame Wireless Mechanical Keyboard - Red Sw"
          ],
          [
           "Keychron K6 Hot-Swappable RGB Backlight ALUMINUM Frame Keyboard - Red Sw"
          ],
          [
           "Keychron K6 Hot-Swappable RGB Backlight PLASTIC Frame Keychron - Red Sw"
          ],
          [
           "Keychron K6 Hot-Swappable WHITE Backlight PLASTIC Frame Keyboard - Red Sw"
          ],
          [
           "Keychron K5 SE Hotswappable Gateron Mechanical White Wireless Keyboard - Red Sw"
          ],
          [
           "Keychron K5 Ultra-Slim Optical Hot swappable RGB Backlight Aluminum - Red Sw"
          ],
          [
           "Keychron K5 Full SIze RGB Backlight Gateron Mechanical Aluminum Body - Red Sw"
          ],
          [
           "Keychron K5 Full SIze White Backlight Gateron Mechanical Aluminum Body - Red Sw"
          ],
          [
           "Keychron K4 (version 2) Hot-Swappable WHITE Backlight PLASTIC Frame - Red Sw"
          ],
          [
           "Keychron K3 version 2 Hot-Swappable RGB Backlight Low Profile Switch - Red Sw"
          ],
          [
           "Keychron K3 ver2 Gateron Low Profile RGB Wireless Mechanical Keyboard - Red Sw"
          ],
          [
           "Keychron K2 ver 2 Hot-Swappable RGB Backlight Aluminum Dark Keycap - Red Sw"
          ],
          [
           "Keychron K2 v2 Hot-Swappable WHITE Backlight PLASTIC Frame Keyboard - Red Sw"
          ],
          [
           "Keychron K2 ver 2 Hot-Swappable RGB Backlight PLASTIC - Red Sw"
          ],
          [
           "Keychron K2 ver 2 Hot-Swappable WHITE Backlight PLASTIC Dark Keycap - Red Sw"
          ],
          [
           "Keychron K2 RGB Backlight Aluminum Frame Wireless Mechanical Keyboard - Dark Light Grey, Red Sw"
          ],
          [
           "Keychron K2 RGB Backlight Plastic Frame Wireless Mechanical Keyboard - Red Sw"
          ],
          [
           "Keychron K2 WHITE Backlight PLASTIC Frame Wireless Mechanical Keyboard - Red Sw"
          ],
          [
           "Fantech Smart IP Camera PTZ SC02"
          ],
          [
           "Bundling Iskur X Kitty + Lumbar Cushion Hello Kitty"
          ],
          [
           "Bundling Iskur X Kitty + Deathadder Essential & Goliathus Mat"
          ],
          [
           "STREAMPLIFY 3IN1 STREAMPACK (CAM+LIGHT 14+MIC TRIPOD)"
          ],
          [
           "Sades Akimbo RGB Dual Mode Lightweight - Gaming Mouse"
          ],
          [
           "Noir Z Series Additionnal Plate - Keyboard Kit - Z1, Polycarbonate"
          ],
          [
           "Headset Gaming Multiplatform Sades Partner 3in1 Connection"
          ],
          [
           "CHERRY MX Mechanical Gaming Keyboard TKL - MX3.0S TKL RGB WHITE - Red sw"
          ],
          [
           "MSI Modern MD241PW BUSINESS PRODUCTIVITY MONITOR [1080p, 75Hz]"
          ],
          [
           "STEELDIPLOMACY Gaming Chair - Heroic V1 (Upgraded ArmRest)"
          ],
          [
           "ELGATO MINI MOUNT"
          ],
          [
           "ELGATO HEAVY CLAMP"
          ],
          [
           "Keychron Q6 QMK 100% BAREBONE Custom Mechanical Keyboard - Hitam"
          ],
          [
           "Keychron Q5 QMK 1800 Compact BAREBONE KNOB Custom Mechanical Keyboard - Biru"
          ],
          [
           "Keychron Q5 QMK 1800 Compact BAREBONE Custom Mechanical Keyboard - Hitam"
          ],
          [
           "Keychron Q4 QMK 60% BAREBONE Custom Mechanical Keyboard - Hitam"
          ],
          [
           "Keychron Q3 QMK BAREBONE ANSI Knob Version Custom Mechanical Keyboard - Hitam"
          ],
          [
           "Keychron Q3 QMK BAREBONE Non Knob Version Custom Mechanical Keyboard - Biru"
          ],
          [
           "Keychron Q2 QMK 65% Fully Assembled Custom BAREBONE - Hitam"
          ],
          [
           "Keychron Q2 QMK 65% Fully Assembled Custom Mechanical Keyboard - Hitam, Red sw"
          ],
          [
           "Keychron Q2 Fully Assembled KNOB VERSION Custom Mechanical Keyboard - Hitam, Brown sw"
          ],
          [
           "Keychron Q1 Knob Version QMK 75% Custom - Mechanical Keyboard - Hitam, Red sw"
          ],
          [
           "Keychron Q1 QMK Custom Mechanical Keyboard FULLY ASSEMBLED - Hitam, Red sw"
          ],
          [
           "FLIGHT SIMULATOR LITE"
          ],
          [
           "NLR GTultimate V2 Racing Simulator Cockpit"
          ],
          [
           "Yiqi Keycaps Fruit Design PBT Dye Sub XDA Profile"
          ],
          [
           "Yiqi Keycaps Airplane PBT Dye Sub Cherry Profile"
          ],
          [
           "Razer Stream Controller - Deck For Streaming"
          ],
          [
           "Razer Wireless Mouse Charging Dock PRO with Integrated 4KHz"
          ],
          [
           "Steelseries Arctis Nova 1X - Gaming Headset"
          ],
          [
           "dbE DJ500 High End Closed Back Over Ear DJ Headphone"
          ],
          [
           "ASUS VP249QGR Gaming Monitor [1080p, 144Hz] - VP249QGR"
          ],
          [
           "HyperX Pudding Keycaps PBT - Pink Top"
          ],
          [
           "HyperX Alloy Origins Keyboard - PBT keycaps - Blue Switch"
          ],
          [
           "Headset Gaming Multiplatform Sades Carrier 3in1 Connection"
          ],
          [
           "Gamen GCF300 - Gaming Fan Case RGB"
          ],
          [
           "Gamen GMH200 - Gaming Microphone RGB Lightning - Hitam"
          ],
          [
           "Gamen Command - Gaming Chair"
          ],
          [
           "Gamen Fancooler Radiator GMR01 - GMR-01 Fancooler for Mobile Gaming"
          ],
          [
           "Gamen GAL100 - Data Cable"
          ],
          [
           "Gamen GP-halo - LED Mousepad Gaming"
          ],
          [
           "Gamen Station 2 - Keyboard Combo Gaming"
          ],
          [
           "Gamen GM810 - Macro Gaming Mouse - Hitam"
          ],
          [
           "Gamen GM1200 - Gaming Mouse"
          ],
          [
           "Gamen GE200 - Headset Gaming"
          ],
          [
           "Gamen GH2100 - Headset gaming"
          ],
          [
           "Gamen GH1000 Headset Gaming"
          ],
          [
           "STEELDIPLOMACY Gaming Chair - Invicible V1 (Upgraded Armrest) - Red-Black"
          ],
          [
           "STEELDIPLOMACY Gaming Chair - Invicible V1 (Non Upgraded ArmRest) - 2Tones"
          ],
          [
           "Paket PC Ryzen 5 - RTX 3060"
          ],
          [
           "Terraflex X-2/ X2 4D Arm Rest - Gaming Chair"
          ],
          [
           "JBL Quantum 810 Wireless - Gaming Headset"
          ],
          [
           "Thrustmaster TM Flying Clamp Mounting System - Simulation Accessories"
          ],
          [
           "Elgato Cold Shoe Premium Mount for Audiovisual Gear - Mount"
          ],
          [
           "Thronmax C1P StreamMic - Vlogging Kit"
          ],
          [
           "Thronmax C1 StreamMic - Vlogging Kit"
          ],
          [
           "AOC GH210 - Gaming Headset"
          ],
          [
           "Redragon GT-32 Racing Simulator with Steering & Pedals - Gaming Wheel"
          ],
          [
           "Monitor LED LG 20MK400H, 19.5\", IPS, 2ms - HDMI"
          ],
          [
           "MONITOR LED LG 19M38, MONITOR LG 18.5 INCI PORT VGA GARANSI RESMI"
          ],
          [
           "MSI Agility GD21 / GD-21 - Gaming Mousepad"
          ],
          [
           "MSI Optix G273 1080p 165Hz - Gaming Monitor"
          ],
          [
           "MSI Optix MAG342CQR - Gaming Monitor"
          ],
          [
           "Terraflex T-1/ T1 4D - Gaming Chair - Full Black"
          ],
          [
           "Terraflex TX-1/ TX1 4D - Gaming Chair - Full Black"
          ],
          [
           "Andaseat Kaiser 3 L Series Premium - Gaming Chair - White"
          ],
          [
           "iKBC X GUNDAM ZAKU Limited Version Cherry MX Red USB Wired Mechanical - Red"
          ],
          [
           "ONEX GD1200G / GD 1200G Tempered Glass RGB - Gaming Desk"
          ],
          [
           "ONEX GD1400G / GD 1400G Tempered Glass RGB Gaming Desk"
          ],
          [
           "Thrustmaster T248X - Racing Wheel and Magnetic Pedals"
          ],
          [
           "Dareu Cat Ear Kitty Headphone - Accessories"
          ],
          [
           "Cougar Forza 85 Single Tower Air Cooler - Forza 85"
          ],
          [
           "FBB Rainbow Lemo Coiled Cable"
          ],
          [
           "FBB Rainbow Aviator Coiled Cable"
          ],
          [
           "Redragon Zeus X Over-Ear USB RGB - Gaming Headset"
          ],
          [
           "Audio Technica ATH-SR50 BT - Over-Ear Headphones"
          ],
          [
           "HyperX Alloy MKW100 / MKW 100 - Mechnical Gaming Keyboard"
          ],
          [
           "Next Level Racing NLR MV001V3 Motion Platform V3"
          ],
          [
           "NLR-A013 NLR COMBAT FLIGHT PACK (GT TRACK & F-GT)"
          ],
          [
           "Next Level Racing NLR A011 Free Standing Single Monitor"
          ],
          [
           "Next Level Racing NLR Flight Stand"
          ],
          [
           "STRACING FABRIC EDITION - GAMING CHAIR - Grey"
          ],
          [
           "STRACING ELECTRA SERIES (SUPER PREMIUM) - GAMING CHAIR - Red"
          ],
          [
           "STRACING ZEBB SERIES - GAMING CHAIR - White"
          ],
          [
           "STRACING OFFICE CLASSIC SERIES - OFFICE CHAIR - Brown"
          ],
          [
           "STRACING AZTEC SERIES (SUPER PREMIUM) - GAMING CHAIR - White"
          ],
          [
           "STRACING GAIA SERIES - OFFICE CHAIR - White"
          ],
          [
           "Acer KA222Q 21.5\" - Gaming Monitor"
          ],
          [
           "ONEX STC Elegant Ergonimic - Gaming Chair - Ivory"
          ],
          [
           "ONEX STC Alcantara Series Fabric Premium Ergonomic - Gaming Chair - Red"
          ],
          [
           "MSI Pro MP241x 23.8” Eye Care 75Hz Full HD 1080p - Monitor"
          ],
          [
           "Audio Technica ATH-WS660BT Solid Bass Wireless - Over-Ear Headphones"
          ],
          [
           "Audio Technica ATH-S100iS - Portable Headphone - Black-Green"
          ],
          [
           "MSI MPG Artymis 273CQRX-QD WQHD Curved 240hz G-Sync - Gaming Monitor"
          ],
          [
           "MSI Optix G271CQP 27\" 165hz 1ms WQHD Freesync - Gaming Monitor"
          ],
          [
           "Samsung Odyssey G3 24\" 165Hz 1ms FHD FreeSync Premium - Gaming Monitor"
          ],
          [
           "Razer Goliathus Extended Chroma Halo Infinite - Gaming Mousepad"
          ],
          [
           "DXRacer TG-GD003-N-1 RGB - Gaming Desk"
          ],
          [
           "Audio Technica ATH-ANC700 Noice Cancelling BT Wireless - Headphone - ANC700 BT"
          ],
          [
           "Audio Technica ATH-S220 BT Wireless - Headset"
          ],
          [
           "Audio Technica ATH-AVC200 SonicPro - Headphone"
          ],
          [
           "Audio Technica ATH-AX1iS for Smartphones Sonic Fuel - Headphones - Blue"
          ],
          [
           "Razer Key Light Chroma - Razer Chroma RGB Key Light for Streaming"
          ],
          [
           "Razer Seiren BT for Mobile Streaming - Microphone"
          ],
          [
           "Audio Technica ATH-ADX5000 Audiophile Open-Air - Dynamic Headphones"
          ],
          [
           "ATH-M50xBT2 / M50x BT2 Wireless Bluetooth - Monitoring Headphones - M50X BT2"
          ],
          [
           "Nitro VG241YX FreeSync (FHD 270Hz) - Gaming Monitor"
          ],
          [
           "Sades SA-926T CAMO / SA-926 T CAMO - Gaming Headset"
          ],
          [
           "Imperion Phoenix 901 Imperion Black Gold - Gaming Chair"
          ],
          [
           "ASUS ProArt Display PA247CV 23.8\" IPS Professional - Gaming Monitor"
          ],
          [
           "Cougar Screamer-X Studio Microphone for All-purpose"
          ],
          [
           "Cougar Bunker RGB with USB Hub - Mouse Bungee"
          ],
          [
           "Cougar Bunker S RGB - Headset Stand"
          ],
          [
           "Cougar Arena X Pink Pro Gaming Surface - Gaming Mouse pad"
          ],
          [
           "Cougar Minos X2 Optical Gaming Sensor Adjustable DPI - Gaming Mouse"
          ],
          [
           "Cougar 700K EVO Cherry MX RGB Mechanical - Gaming Keyboard"
          ],
          [
           "Cougar Phontum S Universal - Gaming Headset - Pink"
          ],
          [
           "Cougar Phontum Pro Prix 7.1 Virtual Surround RGB - Gaming Headset"
          ],
          [
           "Cougar Phontum Essential Stereo - Gaming Headset - Pink"
          ],
          [
           "Cougar Immersa Essential - Gaming Headset - Orange"
          ],
          [
           "Cougar Attila 4 pole Connector - Gaming headset"
          ],
          [
           "Cougar Mars 120 RGB - Gaming Desk"
          ],
          [
           "Cougar Outrider S Premium - Gaming Chair - Outrider S"
          ],
          [
           "Cougar Armor One Series - Gaming Chair - Armor One Black"
          ],
          [
           "Cougar Explore S - Gaming Chair - Black"
          ],
          [
           "Cougar Armor S Royal Deluxe - Gaming Chair"
          ],
          [
           "Cougar Armor Titan Pro - Gaming Chair - Black"
          ],
          [
           "Cougar Argo Black Ergonomic - Gaming Chair"
          ],
          [
           "Audio Technica ATH-M70x Professional Monitor - Headphones"
          ],
          [
           "Audio Technica ATH-M30x Professional Monitor - Headphones"
          ],
          [
           "Audio Technica ATH-M20x Professional Monitor - Headphones - ATH-M20X"
          ],
          [
           "SteelSeries Rival 700 Laser Sensor PIXART 9800 Module"
          ],
          [
           "Audio Technica ATH-G1 Premium - Gaming Headset - Black Blue"
          ],
          [
           "Audio-Technica ATH-GDL3 Open Back High Fidelity - Gaming Headset"
          ],
          [
           "Audio Technica ATH-GL3 High Fidelity Closed Back - Gaming Headset"
          ],
          [
           "Sades Shaman Multiplatform - Gaming Headset"
          ],
          [
           "Thrustmaster T-GT II Set - Gaming Wheel"
          ],
          [
           "Acer NITRO VG240YA 24\" 1080p 75Hz VGA HDMI 100x100mm - Gaming Monitor"
          ],
          [
           "MSI Optix MPG321QRF QD Quantum Dot WQHD 32\" 175Hz - Gaming Monitor"
          ],
          [
           "MSI Optix MPG321UR-QD 4k 144Hz 1ms 32\" Quantum Dot - Gaming Monitor"
          ],
          [
           "MSI Optix MEG381CQR Plus 37.5\" Curved - Gaming Monitor"
          ],
          [
           "Razer DeathAdder Essential & Goliathus Hello Kitty - Mouse Mat Bundle"
          ],
          [
           "Aerocool MIRAGE L120 AIO 120MM MIRROR ARGB LIQUID COOLER - Hitam+Lux550W"
          ],
          [
           "Aerocool Mirage L240 240MM ARGB Liquid Cooler - Black+LUX650M"
          ],
          [
           "Redragon Bluetooth CERES G812 - Gamepad"
          ],
          [
           "STRACING ZEN SERIES - Gaming Chair - Putih"
          ],
          [
           "Razer BlackWidow V3 - Green Switch - Halo Infinite - Gaming Keyboard"
          ],
          [
           "Razer Lumbar Cushion - Hello Kitty and Friends Edition"
          ],
          [
           "Corsair iCUE SP140 RGB 140mm PWM White - Cooler - Single Pack"
          ],
          [
           "dbE Replacement Pads Untuk DJ100 - HBT100 - Ear Cup - Leather"
          ],
          [
           "CHERRY MX Wireless Full Size MX 3.0S WL RGB - Gaming Keyboard - Black, MX Brown"
          ],
          [
           "ANDASEAT Jungle 2 Series with Footrest - Gaming Chair"
          ],
          [
           "ANDASEAT EXCEL Edition Premium Esport - Gaming Chair"
          ],
          [
           "ANDASEAT Navi Edition Premium Esport - Gaming Chair - Yellow"
          ],
          [
           "ASUS ROG Thor 850W Platinum Power Supply Unit stands out with OLED"
          ],
          [
           "ASUS ROG STRIX XF120 - Cooler Fan"
          ],
          [
           "Asus ROG Strix Helios RGB Mid-Tower Cabinet Black"
          ],
          [
           "Steelseries SmartGrip for Steelseries Gamepad"
          ],
          [
           "AOC GK200 Rainbow Membrane - Gaming Keyboard"
          ],
          [
           "AOC GM200 Pixart 3519 sensor - Gaming Mouse"
          ],
          [
           "AOC CQ27G3S Curved (27\"/VA/1ms/165Hz/QHD/1000R) - Gaming Monitor"
          ],
          [
           "AOC 24V2Q Low Blue Mode 23.8\"/FHD/IPS/75Hz/5ms LED - Gaming Monitor"
          ],
          [
           "Sades Earcup G60 7.1 Surround Sound - Blue"
          ],
          [
           "DXRacer Craft Original D5000 N-Craft - Gaming Chair - Classic Black"
          ],
          [
           "Razer - Wrapping Paper - Merry Chroma"
          ],
          [
           "Next Level Racing - S022 Flight Simulator Lite - Flight Cockpit"
          ],
          [
           "Redragon K588 BROADSWORD RGB Mechanical - Gaming Keyboard"
          ],
          [
           "PAPALOOK WEBCAM 1080P 30FPS + AUSDOM HEADSET USB BUNDLE - PA552 + BS01"
          ],
          [
           "ACER NITRO XV242YP Ergonomic Stand - Gaming Monitor"
          ],
          [
           "Lenovo G24-10 144Hz NVIDIA G-Sync Compatible - Gaming Monitor"
          ],
          [
           "Redragon K590 MAHORAGA Wireless Mechanical LP - Gaming Keyboard"
          ],
          [
           "PAPALOOK 1080P Web Camera with Built-in Mic - PA150S"
          ],
          [
           "Ausdom Webcam 480P with Clip - AW116"
          ],
          [
           "Ausdom Webcam 1080P with Microphone Manual Focus - AW33"
          ],
          [
           "AUSDOM USB Headset with Noise Cancelling Microphone,3.5mm Wired - BS01"
          ],
          [
           "PAPALOOK Webcam 1080P 30 FPS Full HD with Microphone - PA452"
          ],
          [
           "PAPALOOK Webcam 1080P 30FPS Full HD with Microphone and Tripod- PA552"
          ],
          [
           "AUSDOM WEBCAM 1080P 12MP + AUSDOM HEADSET USB BUNDLE - AW635 + BS01"
          ],
          [
           "AUSDOM WEBCAM 480P + AUSDOM HEADSET USB BUNDLE - AW116 + BS01"
          ],
          [
           "PAPALOOK WEBCAM 1080P 30FPS + AUSDOM HEADSET USB BUNDLE - AF925 + BS01"
          ],
          [
           "PAPALOOK WEBCAM 2K 30FPS + AUSDOM HEADSET USB BUNDLE - PA920 + BS01"
          ],
          [
           "PAPALOOK WEBCAM 1080P 60FPS + AUSDOM HEADSET USB BUNDLE-PA552PRO+BS01"
          ],
          [
           "PAPALOOK WEBCAM 1080P 30FPS + AUSDOM HEADSET USB BUNDLE - PA452 + BS01"
          ],
          [
           "AUSDOM WEBCAM 1080P 12MP + AUSDOM HEADSET USB BUNDLE - AW615 + BS01"
          ],
          [
           "AUSDOM WEBCAM 1080P 12MP + AUSDOM TRIPOD WEBCAM BUNDLE - AF640 + LT1"
          ],
          [
           "AUSDOM WEBCAM 1080P 12MP + AUSDOM TRIPOD WEBCAM BUNDLE - AW635 + LT1"
          ],
          [
           "AUSDOM WEBCAM 1080P + AUSDOM TRIPOD WEBCAM BUNDLE - AW33 + LT1"
          ],
          [
           "PAPALOOK WEBCAM 1080P 30FPS + AUSDOM TRIPOD WEBCAM BUNDLE- AF925 + LT1"
          ],
          [
           "PAPALOOK Webcam 1080P HD with Mic - PA452 PRO"
          ],
          [
           "ROG Gladius II Origin PNK LTD GAMING MOUSE"
          ],
          [
           "Zowie FK2 Gaming mouse"
          ],
          [
           "ASUS ZenScreen MB14AC Portable USB Monitor- 14 inch"
          ],
          [
           "ASUS ProArt Display PA27UCX-K 4K HDR IPS Mini LED Professional Monitor"
          ],
          [
           "ASUS ProArt Display PA32UC-K - 4K, HDR-10, HLG, direct-LED"
          ],
          [
           "ASUS VZ24EHE Eye Care 23.8 inch Full HD / IPS / 75Hz - Gaming Monitor"
          ],
          [
           "ONEX GD1200Z-RGB Meja Gaming Desk 47\", Mousepad Cover, Holder, Rack"
          ],
          [
           "LENOVO G27-20 144Hz NVIDIA G-SYNC Compatible - Gaming Monitor"
          ],
          [
           "Redragon Gaming Headset 7.1 Surround USB RGB PANDORA - H350RGB"
          ],
          [
           "ANDASEAT Ant Man Edition Series Premium - Gaming Chair"
          ],
          [
           "AndaSeat Spiderman Edition Series Premium XL - Gaming Chair"
          ],
          [
           "msi Modern MD271QP 27\" WQHD 1440p - Gaming Monitor"
          ],
          [
           "Cherry MC9620 FPS 12000 DPI Gaming Mouse RGB Optical"
          ],
          [
           "CHERRY MC 3.1 RGB gaming mouse for sportive gaming"
          ],
          [
           "ASUS ROG Swift PG32UQX 32 inch 4K UHD IPS 144Hz 1ms - Gaming Monitor"
          ],
          [
           "LED MONITOR LG 20MK400A-B [19,5\" dengan AMD FreeSync] - Gaming Monitor"
          ],
          [
           "MONITOR LED ACER KA272 27\" IPS FHD Edge to Edge Frameless 1ms 75Hz"
          ],
          [
           "MSI Optix G243 MONITOR [1080p, 165Hz]"
          ],
          [
           "Honeycomb Throttle Pack for Airbus A319 – A380"
          ],
          [
           "BenQ EW3880R 38\" Curved WQHD+ HDRi IPS USB-C 95% DCI-P3 - Monitor"
          ],
          [
           "Redragon Dual Mode Mechanical Gaming Keyboard DRACONIC - K530RGB - Putih"
          ],
          [
           "Razer Enki for All-Day Comfort - Gaming Chair - Quartz - Enki Only"
          ],
          [
           "Logitech C930E HD 1080p H.264 - Webcam"
          ],
          [
           "LED Monitor ASUS TUF Gaming VG279QR 27\" 165Hz FHD HDMI DP"
          ],
          [
           "MSI MAG ARTYMIS 324CP [1080p, 165Hz] - Gaming Monitor"
          ],
          [
           "MSI MPG ARTYMIS 323CQR WQHD 165Hz Curve - Gaming Monitor"
          ],
          [
           "MSI MPG ARTYMIS 343CQR [1440p, 165Hz] - Gaming Monitor"
          ],
          [
           "IMPERION PHOENIX 353 - GAMING CHAIR - Green"
          ],
          [
           "IMPERION PHOENIX 409 WITH FOOT REST - GAMING CHAIR - Blue"
          ],
          [
           "Thronmax M4 Rosa - Gaming Microphone"
          ],
          [
           "Leopold FC650MDS BT Grey / Blue PD - Mechanical Gaming Keyboard - Silent Red"
          ],
          [
           "Leopold FC650MDS Light / Pink PD Bluetooth- Mechanical Gaming Keyboard - Brown"
          ],
          [
           "MSI MAG CH130 I Fabric - Gaming Chair - Ch130I"
          ],
          [
           "MSI MAG CH130 I Repeltek Fabric - Gaming Chair - CH130I"
          ],
          [
           "ANDASEAT Dracula Napa Leather - Gaming Chair - Black"
          ],
          [
           "Cherry MX G80 - 3000S FS RGB - Mechanical Gaming Keyboard - MX BROWN, Black"
          ],
          [
           "Predator GALEA 350 PHW920 - Gaming Headset"
          ],
          [
           "Acer Predator Cestus 500 Ergonomic USB Wired - PMW730 - Gaming Mouse"
          ],
          [
           "Acer Predator Cestus 330 Ergonomic USB Wired - PMW920 - Gaming Mouse"
          ],
          [
           "Acer Predator Cestus 300 Ergonomic USB Wired - PMW710 - Gaming Mouse"
          ],
          [
           "Acer Predator Cestus 310 Ergonomic USB Wired - PMW910 - Gaming Mouse"
          ],
          [
           "Razer Viper 8KHz & Razer Sphex V3 Small – Gaming Mouse & Mat Bundle - +Sphex V3 Small"
          ],
          [
           "Razer Naga X & Razer Sphex V3 Small – Gaming Mouse & Mat Bundle - +Sphex V3 Small"
          ],
          [
           "1STPLAYER Gaming DK9.0 Fire Dancing Kit (Gaming KB + MS + HS + MSPad)"
          ],
          [
           "1STPLAYER FIREDANCING K6 RGB Mechanical Feeling - Gaming Keyboard"
          ],
          [
           "1STPLAYER DANCING FD300 PRO with AVAOG 3050 RGB - Gaming Mouse"
          ],
          [
           "1STPLAYER FIREDANCING GM3 RGB Effect - Gaming Mouse - Black"
          ],
          [
           "1STPLAYER Baboon King Mouse Pad BK-41-H ( 1000x400x5 MM )"
          ],
          [
           "1STPLAYER Baboon King Mouse Pad BK-37-M ( 900x300x4 MM )"
          ],
          [
           "1STPLAYER Baboon King Mouse Pad BK-23-E( 455x355x6 MM )"
          ],
          [
           "1STPLAYER Gaming Mouse Pad Bullet Hunter BH-17-M"
          ],
          [
           "GALAX SONAR-01 Wired USB 7.1 Channel RGB - Gaming Headset"
          ],
          [
           "GALAX XANOVA Ocala / XH200 - Gaming Headset"
          ],
          [
           "GALAX SLIDER-02 Lighting Effect Wired - 3200DPI - Gaming Mouse"
          ],
          [
           "GALAX SLIDER-01 Wired RGB + Macro - 7200DPI - Gaming Mouse"
          ],
          [
           "GALAX XANOVA Phobos Luxe-R Resin Surface RGB - Gaming Mousepad"
          ],
          [
           "GALAX XANOVA Mensa RGB XM310 5000dpi - Omron 20M - Gaming Mouse"
          ],
          [
           "GALAX XANOVA Mensa Pro RGB XM380 16000dpi - Omron 50M - Gaming Mouse"
          ],
          [
           "GALAX STEALTH STL-01 RGB USB - Mechanical Gaming Keyboard Blue Switch"
          ],
          [
           "Leopold FC650MDS PD Light Pink - Gaming Keyboard - Brown"
          ],
          [
           "HP H360G Blue LED USB Wired - Gaming Headset"
          ],
          [
           "HP H220 3.5mm and USB Wired Surround - Gaming Headset"
          ],
          [
           "HP H200GS USB Wired 7.1 Surround - Gaming Headset"
          ],
          [
           "HP H200S 3.5mm Wired - Gaming Headset"
          ],
          [
           "HP H200 3.5mm and USB Wired Stereo with Microphone - Gaming Headset"
          ],
          [
           "HP H120 3.5mm and USB with Microphone - Gaming Headset"
          ],
          [
           "USB Wired Office / Gaming Keyboard Mouse Combo"
          ],
          [
           "HP M220 SPCP190 RGB 7D - Gaming Mouse"
          ],
          [
           "HP G260 A5050 RGB 4D - USB Wired Ergonomic Gaming Mouse"
          ],
          [
           "CHERRY AC 3.3 Palm Rest and Mounting Feets for MX BOARD 3.0S - Black"
          ],
          [
           "Cherry MX 10.0 RGB - Full Keys Mechanical Gaming Keyboard - Black RGB"
          ],
          [
           "CHERRY MV 3.0 Viola switches RGB - Mechanical Gaming Keyboard - Black"
          ],
          [
           "Cherry MX TKL RGB Black MX BOARD 8.0 - Mechanical Gaming Keyboard Cher - Black TKL RGB, Brown SWITCH"
          ],
          [
           "Imperion Kestros KG-350 RGB - Full Size Mechanical Keyboard"
          ],
          [
           "ANDASEAT Kaiser Lumbar Pillow XL Size - Gaming Chair - Maroon"
          ],
          [
           "ANDASEAT Jungle Series Premium Kursi - Chair Gaming - Hitam"
          ],
          [
           "AndaSeat Throne Series Premium - Gaming Chair - Black"
          ],
          [
           "Thrustmaster TM SIM Hub WW - PS4 / Xbox One"
          ],
          [
           "Thrustmaster TM RACING CLAMP - PC / PS3 / PS4 / Xbox One"
          ],
          [
           "Thrustmaster TM Rally Wheel ADD-ON SPARCO R383 - Xbox / PC / PS - TM Rally Wheel"
          ],
          [
           "Thrustmaster TM Open Wheel Add-On - for PC / PS3 / PS4 / Xbox One"
          ],
          [
           "Thrustmaster FERRARI F1 WHEEL ADD-ON"
          ],
          [
           "Thrustmaster TS-PC Racer Racing Wheel For PC - Gaming Wheel"
          ],
          [
           "LG 27GN880 G-Sync - 27\"- Gaming Monitor"
          ],
          [
           "Thrustmaster TS-XW Racer Asian Version - PC/XBOX ONE"
          ],
          [
           "Racing Wheels THRUSTMASTER T-GT-Thrust Master Simulator For PS3,PS4&PC"
          ],
          [
           "PATRIOT VIPER V570 BLACKOUT EDITION RGB LASER GAMING MOUSE"
          ],
          [
           "Imperion Mechanical Gaming Keyboard Centipada KG-C10R RGB"
          ],
          [
           "Speaker Bluetooth INBOX SBT09 / SBT-09"
          ],
          [
           "SPEAKER INBOX GS05 / GS-05 MAGNIO RGB"
          ],
          [
           "SPEAKER INBOX GS01 / GS-01 GOLIATH RGB"
          ],
          [
           "HyperX x ANTA Gordon Hayward Bundle Box - 43"
          ],
          [
           "Monitor MSI Modern MD271P 27\" - Gaming monitor"
          ],
          [
           "Digital Alliance Throne Classic - Gaming Chair - Cokelat"
          ],
          [
           "ONEX EV12 EVOLUTION KURSI GAMING CHAIR - Merah"
          ],
          [
           "ONEX EV10 EVOLUTION SERIES KURSI GAMING CHAIR - Merah"
          ],
          [
           "FANTECH Smart Power Strip Stop Kontak WIFI - SPS0101"
          ],
          [
           "FANTECH Adaptor Kabel untuk LED Light Strip - LA1A01"
          ],
          [
           "DURGOD K330W MECHANICAL KEYBOARD - Gaming Keyboard - Hitam, Yellow Switch"
          ],
          [
           "CORSAIR 275R AIRFLOW WHITE icue H150i RGB PRO XT + CX750F WHITE"
          ],
          [
           "ASUS ProArt PA24AC HDR Professional Monitor - WUXGA, HDR-10"
          ],
          [
           "ASUS ProArt Display PA27AC HDR Professional Monitor 100% of sRGB"
          ],
          [
           "ASUS ProArt Display PA329C 4K HDR Professional Monitor 100% Adobe RGB,"
          ],
          [
           "ASUS ProArt PA32UC 4K HDR Professional Monitor 4K, HDR"
          ],
          [
           "ASUS ProArt Display PA34VC Curved Professional Monitor - 100% sRGB"
          ],
          [
           "MSI CREATOR PS321QR MONITOR 32\" WQHD 1440p, 165Hz, IPS"
          ],
          [
           "DarkFlash RC800 / RC-800 Kursi Gaming - Gaming Chair"
          ],
          [
           "MSI OPTIX G273QF Monitor IPS 165Hz WQHD G-Sync Compatible"
          ],
          [
           "Thrustmaster HOTAS Warthog™ Dual Throttles PC"
          ],
          [
           "Thrustmaster TH8A Add-On Shifter For PS4, PS3, Xbox One, PC - TH8A"
          ],
          [
           "Thrustmaster T-Racing Scuderia Ferrari Edition-DTS For PC/ Xbox®/PS4 - Scuderia Only"
          ],
          [
           "Philips G413 / G-413 PH-SPK9413 - Mouse Gaming"
          ],
          [
           "Imperion Gaming Chair Phoenix 502 / Phoenix-502 Kursi Gaming - Black White"
          ],
          [
           "Imperion Phoenix 701 / Phoenix-701 Professional Gaming Chair - Biru"
          ],
          [
           "Ducky Keycaps S9C3-S104-USP PBT Keycaps Set - White Pink"
          ],
          [
           "Ducky Keycaps S9C3-L108-USA LW / LR ABS Keycaps Set - Merah"
          ],
          [
           "BenQ GW2780T Monitor 27inch IPS Full HD Eye Care Height Adjustable LED"
          ],
          [
           "Leopold FC750R Yellow Blue Mechanical Gaming Keyboard - Red Silent"
          ],
          [
           "MSI Creator PS321URV 32'' 4K UHD IPS VESA Certified - Monitor"
          ],
          [
           "ASUS TUF Gaming VG27AQGL1A ZAKU II EDITION HDR Gaming Monitor 27\" WQHD"
          ],
          [
           "THRUSTMASTER Eswap T.Case - Controller Case"
          ],
          [
           "VIEWSONIC XG270QG 27\" 165Hz Native - Gaming Monitor"
          ],
          [
           "VIEWSONIC XG2705-2K 27” 144Hz QHD - Gaming Monitor"
          ],
          [
           "SAMSUNG ODYSSEY G3 / G-3 27'' FHD Monitor - Gaming Monitor"
          ],
          [
           "THERMALTAKE Argent MP1 / MP-1 RGB - Gaming Mousepad"
          ],
          [
           "THERMALTAKE Argent K5 / K-5 RGB Cherry MX - Gaming Keyboard - Silver Switch"
          ],
          [
           "DIGITAL ALLIANCE BUNDLING (Mycam / DA Video Capture Card) Bundle"
          ],
          [
           "ASUS ROG STRIX GO CORE Wired - Gaming Headset"
          ],
          [
           "ASUS ROG STRIX XG49VQ Super Ultra-Wide HDR Gaming Monitor"
          ],
          [
           "Thrustmaster TS-PC Racer Ferrari 488 Challenge Edition - Gaming Wheel"
          ],
          [
           "DAREU EH-732 / EH732 7.1 Surround Sound - Gaming Headset"
          ],
          [
           "PARADOX GAMING PGC-MT-01 / PGCMT01 - Gaming Chair - BLACK GREY WHIT"
          ],
          [
           "PARADOX GAMING PGC-RC01 / PGCRC01 - Gaming Chair"
          ],
          [
           "GIGABYTE M27F-EK / M27FEK 27'' IPS - Gaming Monitor"
          ],
          [
           "Saramonic GamesMonic SR-BH60 True Wireless Gaming Earbuds - Hitam"
          ],
          [
           "Cooler Master Mastermouse Pro L Gaming Mouse"
          ],
          [
           "Cooler Master MasterPulse / Master Pulse Over-ear Gaming Headset"
          ],
          [
           "Cooler Master MP860 - Gaming Mousepad"
          ],
          [
           "TT Esports ISURUS EB Portable Inear Music and Gaming - Gaming Earphone"
          ],
          [
           "MSI OPTIX MAG342CQRV MONITOR [1440p, 100Hz]"
          ],
          [
           "MSi Optix MPG341CQR - Gaming Monitor"
          ],
          [
           "Digital Alliance RACING X - DA Gaming Chair - GLACIER"
          ],
          [
           "Razer Kraken for Console - Gaming Headset"
          ],
          [
           "MSI IMMERSE GH61 7.1 Surround Sound - Gaming Headset"
          ],
          [
           "STRACING GAMING CHAIR READY STOCK SPORT SERIES - Navi White"
          ],
          [
           "STracing Gaming Chair Superior - Merah"
          ],
          [
           "STracing Gaming Chair Racing Series - Putih"
          ],
          [
           "TUF Gaming VG279QL1A HDR Gaming Monitor – 27 inci Full HD"
          ],
          [
           "Corsair HS60 HAPTIC Stereo with Haptic Bass - Gaming Headset - Carbon"
          ],
          [
           "ASUS ROG Swift PG65UQ 65\" Monitor 4K 144Hz 1ms G-SYNC Ultimate HDR1000"
          ],
          [
           "DAREU EM925 - Gaming Mouse"
          ],
          [
           "Thrustmaster T-FLIGHT HOTAS X"
          ],
          [
           "Thrustmaster TWSC Throttle"
          ],
          [
           "Thrustmaster T.FLIGHT HOTAS 4"
          ],
          [
           "Thrustmaster T.Flight Stick X - Joystick"
          ],
          [
           "dbE WS100 Wood Earphone with Microphone - Gaming Earphone"
          ],
          [
           "Thermaltake Level 20 RGB Mouse - Gaming Mouse"
          ],
          [
           "TTEsports Ventus Z - Gaming Mouse"
          ],
          [
           "MSi Clutch GM60 - Gaming Mouse"
          ],
          [
           "Rexus Titanix TX2 - Gaming Mouse"
          ],
          [
           "Genius Ammox X1-400 - Gaming Mouse"
          ],
          [
           "Gamdias Combo Zeus E1 + NYX E1 - Gaming Bundle"
          ],
          [
           "Gamdias Artemis – HS ErosE1 + MS Zeus E2 + MP NYXE1- Gaming bundle"
          ],
          [
           "Gamdias GKC6011 – Combo KB GKB6011 + MS Ourea FPS"
          ],
          [
           "Gamdias Zeus P1 – Gaming Mouse"
          ],
          [
           "Asus ROG Strix Evolve - Gaming Mouse"
          ],
          [
           "Gaming Mouse M626"
          ],
          [
           "TTEsports Commander Combo Multi Light - Gaming Combo"
          ],
          [
           "MSi Optix MAG273R - Gaming Monitor"
          ],
          [
           "Dell S2716DG - Monitor"
          ],
          [
           "Dell S2719DGF - Monitor"
          ],
          [
           "Zowie RL2455S - Gaming Monitor"
          ],
          [
           "Zowie XL2740 - 240Hz 27 Inch Gaming Monitor"
          ],
          [
           "Zowie XL2746S - 240Hz DyAc⁺ 27 inch e-Sports Monitor"
          ],
          [
           "Acer K202HQL - 19.5\" Monitor"
          ],
          [
           "ACER RG270 NITRO SERIES MONITOR"
          ],
          [
           "ACER VG270K NITRO SERIES MONITOR"
          ],
          [
           "ACER VG270U-P NITRO SERIES MONITOR 144hz"
          ],
          [
           "ACER Predator X27 LED GAMING Monitor 27 Inch 144hz 4K G-SYNC"
          ],
          [
           "ACER PREDATOR X34P Curved Gaming Monitor - 34-Inch 120Hz G-SYNC"
          ],
          [
           "Acer Predator XB241H 24-inch Full HD 1920x1080 NVIDIA G-Sync 144HZ"
          ],
          [
           "Acer Predator Cestus 510 RGB Gaming Mouse"
          ],
          [
           "ASUS MG24UQ 23.6″ Gaming Monitor"
          ],
          [
           "ASUS MG28UQ 28″ Gaming Monitor"
          ],
          [
           "ASUS 27″ MG279Q Gaming Monitor"
          ],
          [
           "ASUS ROG Swift 27″ PG27AQ Gaming Monitor"
          ],
          [
           "ASUS ROG Swift PG279Q 27″ Gaming Monitor"
          ],
          [
           "ASUS VG275Q 27″ Console Gaming Monitor"
          ],
          [
           "Asus ROG Strix Claw - Gaming Mouse"
          ],
          [
           "ASUS VG278QR 27\" FHD TN 165Hz 0.5ms FreeSync GAMING MONITOR"
          ],
          [
           "NYK HS-P11 7.1 RGB GAMING HEADSET"
          ],
          [
           "ACER Predator SPIRITS - XL Gaming Mousepad"
          ],
          [
           "NYK NEMESIS HS-E10 Headset gaming Thunder Edition 10"
          ],
          [
           "ACER Predator Aethon 300 - Gaming Keyboard"
          ],
          [
           "ACER Nitro NKB810 - Gaming Keyboard"
          ],
          [
           "Sades Frost - Gaming Mousepad"
          ],
          [
           "Sades Knight Pro - Gaming Headset"
          ],
          [
           "Sades Xpower Plus Gaming Headset"
          ],
          [
           "Sades Locust plus RGB"
          ],
          [
           "Sades SA722 DPower - Gaming Headset - Biru"
          ],
          [
           "MSi Clutch GM40 RED - Gaming Mouse"
          ],
          [
           "NYK HS-N07 Phantom - Gaming Headset"
          ],
          [
           "The ROG Strix Flare PNK LTD GAMING KEYBOARD"
          ],
          [
           "XG270QG - 27\" 1ms, 165 Hz IPS Nano Gaming Monitor 165Hz"
          ],
          [
           "Aorus FI27Q - Gaming Monitor"
          ],
          [
           "Gigabyte G32QC - Gaming Monitor"
          ],
          [
           "Gigabyte G27FC - Gaming Monitor"
          ],
          [
           "Gigabyte CV27F - Gaming Monitor"
          ],
          [
           "NYK HSN-11 Anchor - Gaming Headset"
          ],
          [
           "Thronmax MDrill Zone - Microphone"
          ],
          [
           "Stracing Custom single Name"
          ],
          [
           "ASUS ROG Strix Go 2.4 Electro Punk Ed - Wireless Gaming Headset"
          ],
          [
           "DxRacer Origin Series - Gaming Chair - Hijau"
          ],
          [
           "Sades Draco - Gaming Chair"
          ],
          [
           "Sades Pegasus - Gaming Chair"
          ],
          [
           "DXRacer Gaming Desk - Pink White"
          ],
          [
           "DXRacer - Sentinel Series - Gaming Chair - Merah"
          ],
          [
           "DXRacer - Iron Series - I11S2 - orange"
          ],
          [
           "DXRacer Boss Series - Gaming Chair - Merah"
          ],
          [
           "DXRacer Drifting Series - Gaming Chair - D188 - Red"
          ],
          [
           "JBL Quantum 300 - Gaming Headset"
          ],
          [
           "Asus ROG Theta Electret - Gaming Headset"
          ],
          [
           "THUNDERX3 BC3 BOSS - Gaming Chair - Coffee Black"
          ],
          [
           "SADES REVOLVER GAMING MOUSE"
          ],
          [
           "Sades Spirit - Gaming Headset"
          ],
          [
           "Digital Alliance ASAMI - Gaming Chair"
          ],
          [
           "Digital Alliance Throne X - Gaming Chair - Orange"
          ],
          [
           "Digital Alliance Throne E - Gaming Chair - Orange"
          ],
          [
           "Asus Cerberus Mat Plus - Gaming Mousepad"
          ],
          [
           "LG 27GK750F - Gaming Monitor"
          ],
          [
           "Sades Dazzle - Gaming Headset"
          ],
          [
           "Elgato Green Screen MT"
          ],
          [
           "Cooler Master Sentinel III - Gaming Mouse"
          ],
          [
           "Cooler Master Reaper - Gaming Mouse"
          ],
          [
           "Cooler Master Mizar - Gaming Mouse"
          ],
          [
           "Cooler Master Alcor - Gaming Mouse"
          ],
          [
           "Zowie FK1 - Gaming mouse"
          ],
          [
           "MSi Optix MAG322CQR - Gaming Monitor"
          ],
          [
           "MSi Optix MAG341CQ - Gaming Monitor"
          ],
          [
           "Blackwidow X Chroma - Gaming Keyboard - Gunmetal"
          ],
          [
           "Razer Ornata Chroma - Gaming Keyboard"
          ],
          [
           "Zowie ZA11 Gaming mouse"
          ],
          [
           "STRacing Camo Series - Gaming Chair - Army Green"
          ],
          [
           "SteelSeries QcK Prism Cloth Medium - Gaming Mousepad"
          ],
          [
           "Ducky One 2 RGB - Gaming Keyboard - Black, Brown sw"
          ],
          [
           "Akko V3 Cream Yellow Pro Switch"
          ],
          [
           "AKKO CS JELLY + SPONGE + STARFISH SWITCH MECHANICAL KEYBOARD"
          ],
          [
           "Noir Gateron Ks-9 Yellow Switch (Linear - Plate Mount ) - Switch"
          ],
          [
           "Kelowna Gateron Pro Milky Yellow 5 Pin"
          ],
          [
           "Fantech MP25 SVEN - Gaming Mousepad"
          ],
          [
           "Neapolitan Ice Cream Tactile Switch - Keyboard Switch"
          ],
          [
           "FANTECH MAXFIT61 MK857, KEYBOARD 60% - Gaming Keyboard"
          ],
          [
           "Kailh Box Jade Clicky Switch Mechanical Keyboard"
          ],
          [
           "Akko Fairy Switch - Mechanical Switch Keyboard"
          ],
          [
           "SWAGKEYS X Gateron Pure Berry Linear 62g Switch"
          ],
          [
           "Razer Viper Mini - Gaming Mouse"
          ],
          [
           "Kelowna Kailh Novelkeys Cream Switches Mechanical Keyboard Linear"
          ],
          [
           "Fantech Webcam 2K 4MP Luminous C30 QHD 1440P - Webcam"
          ],
          [
           "SteelSeries Arctis 3 Headset"
          ],
          [
           "Ajazz Ak820 GTS 75% Gasket Mounted - Mechanical Keyboard"
          ],
          [
           "HyperX Cloud 2 Grey Black Gaming Headset"
          ],
          [
           "Cooling Pad NYK Nemesis KingFisher X5 - NYK KingFisher X5 RGB LED"
          ],
          [
           "SteelSeries Arctis 7 7.1 Wireless Gaming headset"
          ],
          [
           "DUCKY ONE 2 MINI MECHANICAL KEYBOARD"
          ],
          [
           "Durock Lupine Linear Switches"
          ],
          [
           "Akko Cs Switch V3 - Crystal Silver 3 pin"
          ],
          [
           "FANTECH MCX01 LEVIOSA - Gaming Microphone"
          ],
          [
           "VortexSeries ONI R1 LightWeight Ergonomic Wireless Gaming Mouse"
          ],
          [
           "Rexus Daxa Cordura - Gaming Mousepad / Mouse Pad / Mousemat"
          ],
          [
           "Glorious Model O Minus ( O- ) Gaming Mouse"
          ],
          [
           "Glorious Panda - Gaming Keyboard Switches"
          ],
          [
           "HotlineGames Anti Slip Steuerung G PRO Wireless & G PRO X Superlight"
          ],
          [
           "NOIR OLV75 - 75% Wireless/BT/Wired RGB Mechanical - Gaming Keyboard"
          ],
          [
           "BTL ANTISLIP GRIP G PRO Wireless"
          ],
          [
           "AJAZZ AK871 - MECHANICAL KEYBOARD"
          ],
          [
           "Fantech MV-01 Lavalier Microphone - Gaming Microphone"
          ],
          [
           "Fantech UX3 - Gaming Mouse"
          ],
          [
           "Rexus Daxa Air III PRO Wireless / Daxa Air 3 - Gaming Mouse"
          ],
          [
           "MOUSE SWITCH (OMRON JAPAN) - SWITCH FOR GAMING MOUSE"
          ],
          [
           "Corsair MM100 - Gaming Mousepad"
          ],
          [
           "VortexSeries GT-65 / GT65 Wireless Mechanical Keyboard Gasket Mount"
          ],
          [
           "Permatex Dielectric Grease - KEYBOARD KIT"
          ],
          [
           "1STPLAYER GAMING CHAIR - MODEL FK3 (BLACK GRAY) - KURSI GAMING"
          ],
          [
           "HyperX Cloud Alpha S Blackout BLACK ON BLACK"
          ],
          [
           "AJAZZ DICED FRUIT SWITCH - Banana Switch"
          ],
          [
           "Ajazz AJ099 Ultra Lightweight Dual Mode Gaming Mouse"
          ],
          [
           "CoolerMaster MM711 RGB - Gaming Mouse"
          ],
          [
           "Logitech G102 Prodigy - Gaming Mouse"
          ],
          [
           "Noir N2 Pro - TKL Layout Southfacing Hot-Swap RGB - Gaming Keyboard"
          ],
          [
           "Rexus Legionare MX9 - Gaming Keyboard"
          ],
          [
           "Fantech TOWER AC3001 - Headset Stand"
          ],
          [
           "Logitech F310 Gamepad"
          ],
          [
           "RKGAMING RK GAMING RK84 / RK 84 / RK857 Tri-mode RGB - Gaming Keyboard"
          ],
          [
           "Fantech HG17s VISAGE II - Gaming Headset"
          ],
          [
           "GK68X KEYCAPS"
          ],
          [
           "REXUS KVLAR T10 - GAMING MOUSEPAD WHITE"
          ],
          [
           "AJAZZ DICED FRUIT SWITCH - Blueberry Switch"
          ],
          [
           "Fantech MP905 ATO PLUM プラム XL - Mousepad / Deskmat"
          ],
          [
           "Fantech HG23 OCTANE 7.1 - Gaming Headset"
          ],
          [
           "Rexus Legionare MX9 Pudding / MX9P TKL RGB - Keyboard Gaming Mechanica"
          ],
          [
           "Lamzu Superlight Atlantis MINI - Gaming Mouse"
          ],
          [
           "Tecware Phantom 104 RGB - Gaming Keyboard"
          ],
          [
           "Ajazz AK680 Mechanical Keyboard"
          ],
          [
           "Rexus Kvlar T5 - Gaming Mousepad"
          ],
          [
           "Pulsar Xlite V2 Wireless - Gaming Mouse"
          ],
          [
           "Rexus Keyboard Wristpad WP1 / WP2 - WP1 / TKL"
          ],
          [
           "XRaypad Aqua Control+ ROB Strata - Gaming Mousepad"
          ],
          [
           "Rexus Arka III / 3 RX112 / RX-112 Gaming Mouse"
          ],
          [
           "Akko CS POM Silver Switch 3 pin - Keyboard Switch"
          ],
          [
           "Glorious Model D - Gaming Mouse"
          ],
          [
           "Tecware Phantom Shroud Classic Magnetic Cover For Phantom 87 Keyboard"
          ],
          [
           "LEOBOG HI75 / HI 75 Aluminium Barebone - Mechanical Keyboard"
          ],
          [
           "MONSGEEK MG75 KEYBOARD KIT - Keyboard Gaming"
          ],
          [
           "Fantech MPR351 Firefly - RGB Gaming Mousepad"
          ],
          [
           "Fantech OCB258 / OC-B258 Kursi Kerja Kantor Premium Office Chair"
          ],
          [
           "Fantech HG11 Captain 7.1 - Gaming Headset"
          ],
          [
           "Rexus Headset Gaming Thundervox Stream HX25"
          ],
          [
           "Noir Dune Deskmat Cloth Gaming Mouse Pad / mousepad"
          ],
          [
           "Fantech MAXPOWER MK853 Mechanical Keyboard Gaming SPACE EDITION"
          ],
          [
           "Steelseries Arctis 7+ Wireless - Gaming Headset"
          ],
          [
           "WL Mouse BEAST X Wireless Gaming Mouse"
          ],
          [
           "VGN N75 Pro Gasket Tri-Mod Connection RGB Mechanical Keyboard"
          ],
          [
           "Rexus Daxa Air 4 / Daxa AIr IV Gen 2 - Gaming Mouse"
          ],
          [
           "Rexus Kvlar T7 Speed Edition L - Gaming Mousepad"
          ],
          [
           "Pulsar X2 Wireless Gaming Mouse Ambidextrous Extreme Light-Weight X 2"
          ],
          [
           "Rexus Kvlar T1 - Gaming Mousepad"
          ],
          [
           "CIY Tester 68 Mechanical Keyboard"
          ],
          [
           "VortexSeries GX770 RGB - Gaming Mouse"
          ],
          [
           "Razer Strider Hybrid Cloth - Gaming Mousepad"
          ],
          [
           "CORSAIR HARPOON WIRELESS RGB GAMING MOUSE"
          ],
          [
           "XTRFY B4 For Smoother Gaming - Mouse Bungee"
          ],
          [
           "Noir OLV75 Barebone - 75% Wireless Barebone Keyboard"
          ],
          [
           "CoolerMaster CM MH751 / MH 751 GAMING HEADSET"
          ],
          [
           "XE ATK68 Magnetic Switch Mechanical Keyboard"
          ],
          [
           "UB400 Bluetooth 4.0 Nano USB Adapter"
          ],
          [
           "Noir Locus Deskmat Cloth Gaming Mouse Pad / mousepad"
          ],
          [
           "Rexus Kvlar T3 - Gaming Mousepad"
          ],
          [
           "VGN X68 Subor Back In The Game Mechanical Keyboard"
          ],
          [
           "VortexSeries GT-6 / GT6 Hotswappable Mechanical - Gaming Keyboard"
          ],
          [
           "Epos | Sennheiser GSP 370 - Wireless Gaming Headset"
          ],
          [
           "Digital alliance MIC PODCAST DA STREAM 002"
          ],
          [
           "HyperX Pulsefire Haste - Gaming Mouse"
          ],
          [
           "VGN VXE R1 SE Plus / SE+ 2K Wireless Light Weight Gaming Mouse"
          ],
          [
           "SteelSeries Arctis 1 - Multi-Platform Gaming Headset"
          ],
          [
           "VortexSeries VX5 PRO 60% Mechanical Keyboard - Smokey Black"
          ],
          [
           "Razer Hammerhead True Wireless Pro - Razer TWS Pro Gaming Earphone"
          ],
          [
           "Corsair Harpoon RGB Pro - Gaming Mouse"
          ],
          [
           "Fantech OCA259 Kursi Kantor Kerja Jaring Premium Office Chair"
          ],
          [
           "Lamzu Superlight Atlantis - Gaming Mouse"
          ],
          [
           "KBDFANS Tiger Lite Keybard KIT"
          ],
          [
           "Fantech Hellscream GS205 / GS 205 RGB - Gaming Speaker"
          ],
          [
           "Keydous PORON Plate Dampener - DIY KIT Gaming Keyboard Dampener"
          ],
          [
           "Kelowna Switch Puller"
          ],
          [
           "HOTLINES MOUSEFEET/ MOUSE GLIDE / KAKI MOUSE"
          ],
          [
           "Fantech PHANTOM II VX6 Mouse Gaming Macro RGB"
          ],
          [
           "DAREU EK-861 / EK861 WIRELESS BLUETOOTH MECHANICAL GAMING KEYBOARD"
          ],
          [
           "Game 1989 MX Stem 80Retros Switch"
          ],
          [
           "Fantech Stand Mic Meja Boom Arm AC902s"
          ],
          [
           "Yiqi Keycaps Honey milk Japanese PBT Dye-Sub XDA Profile"
          ],
          [
           "Razer BlackShark V2 Pro - Black - Wireless Esports Headset (2023)"
          ],
          [
           "Pulsar X2 V2 Wireless Gaming Mouse"
          ],
          [
           "Akko Dracula Castle (198-key) ASA Profile PBT Double Shot - Keycap Set"
          ],
          [
           "Lamzu Mouse Grip Tape"
          ],
          [
           "Digital Alliance MOUSEPAD ART EDITION - Gaming Mousepad"
          ],
          [
           "Noir Diagonal Black Shades - Deskmat"
          ],
          [
           "Razer Blackshark V2 PRO Wireless White Edition - Gaming Headset"
          ],
          [
           "NYK MP-N03 Extra Large (80 x 30cm) - Gaming Mousepad"
          ],
          [
           "HyperX Cloud II Pink - Pro Gaming Headset"
          ],
          [
           "Noir Resin Wrist Rest"
          ],
          [
           "Dareu EK871 - Wireless Mechanical Keyboard"
          ],
          [
           "Yiqi Keycaps Ice Crystal Thin mint PBT Dye-Sub XDA Profile"
          ],
          [
           "Akko Black & Bronze Keycap Set (158-Key) ASA - Keycap Set"
          ],
          [
           "Pulsar PTFE Skates for Xlite Wireless - Mouse Feet"
          ],
          [
           "Corsair HS70 Pro Wireless - Gaming Headset"
          ],
          [
           "Corsair K68 RGB Mechanical Keyboard"
          ],
          [
           "Corsair HS35 Stereo - Gaming Headset"
          ],
          [
           "Akko 3084B Plus Black & Gold - Gaming Keyboard"
          ],
          [
           "Corsair MM500 - 3XL Gaming Mousepad"
          ],
          [
           "ROYAL KLUDGE RK61 60% Mechanical - Gaming Keyboard"
          ],
          [
           "DARMOSHARK M3 4K Gaming Mouse"
          ],
          [
           "Yiqi Keycaps Video Game Design PBT Dye-Sub XDA Profile"
          ],
          [
           "Sennheiser GSP 600 - Gaming Headset"
          ],
          [
           "CORSAIR DARK CORE / DARKCORE RGB PRO Wireless - Gaming Mouse"
          ],
          [
           "Corsair HS50 Pro Stereo - Headset Gaming"
          ],
          [
           "Logitech G703 Lightspeed Wireless Gaming Mouse"
          ],
          [
           "Ducky One 2 Tuxedo - Gaming Keyboard"
          ],
          [
           "HyperX Streamer Starter Pack Gaming Headset and USB Microphone"
          ],
          [
           "DrunkDeer A75 Pro / A 75 Pro / A75Pro Wired Actuation-Distance-Adjustable Magnetic Switch Keyboard"
          ],
          [
           "Gigabyte G24F 2 23.8\" FHD IPS Gaming Monitor 180Hz"
          ],
          [
           "Gwolves HT-S ACE Wireless - Gaming Mouse"
          ],
          [
           "Noir Javanese Roots Full Set PBT Dye Sub Cherry Profile BOW - Keycaps"
          ],
          [
           "DAREU MP-13 / MP13 Small (29 x 25cm) Control Type - Gaming Mousepad"
          ],
          [
           "Corsair Scimitar RGB Elite - Gaming mouse"
          ],
          [
           "Monsgeek M1 HE-SP 75% Magnetic Switch Mechanical Keyboard"
          ],
          [
           "EndGameGear XM2WE Gaming Mouse"
          ],
          [
           "Yiqi Keycaps Weather Japanese PBT Dye-Sub XDA Profile"
          ],
          [
           "Fantech MAXFIT81 Wireless Bluetooth 75% Mechanical Keyboard Gaming ABS"
          ],
          [
           "Akko Mod 007v2 / 007 v2 Hot-Swappable Mechanical - Barebone"
          ],
          [
           "Noir Topography Art Deskmat Mousepad"
          ],
          [
           "Corsair MM200 Pro Heavy XL - Gaming Mousepad"
          ],
          [
           "Fantech Keycaps SET PBT Dual-Shot Milky Matcha Cherry Profile ACK01"
          ],
          [
           "Akko WOB Building Blocks Keycap Set(282Key)"
          ],
          [
           "Pulsar Grip Tape for X2 Gaming Mouse"
          ],
          [
           "Xraypad Aqua Control Zero Series - Gaming Mousepad"
          ],
          [
           "Akko Acrylic 59 / ACR59 - Gaming Keyboard"
          ],
          [
           "Steelseries APEX 7 TKL Ghost RGB - Mechanical Gaming Keyboard"
          ],
          [
           "Razer Firefly V2 - Gaming Mousepad"
          ],
          [
           "Dareu Gamepad Holder Mobile"
          ],
          [
           "FANTECH W188 2.4Ghz Wireless Office Mouse 1200 dpi Nirkabel"
          ],
          [
           "RAZER OPUS X - Mercury / Quartz / Green"
          ],
          [
           "Dareu Glory EK1280 - Gaming Keyboard"
          ],
          [
           "DA GAMING CHAIR TITAN SERIES (Grey/Blue Light/Maroon) Kursi Gaming"
          ],
          [
           "FreeFall GG Mousepad - Gaming Mousepad"
          ],
          [
           "PRDX Artisan Pikachu - Keycaps"
          ],
          [
           "IDOBAO ID67 CRYSTAL OR SMOKEY KEYBOARD KIT 65% (GASKET MOUNT VERSION)"
          ],
          [
           "Asus ROG CLAYMORE II / CLAYMORE 2 Wireless Optical - Gaming Keyboard"
          ],
          [
           "Razer Mouse Bungee V3 Chroma"
          ],
          [
           "DAREU VIRGO LM108 Vertical Mouse"
          ],
          [
           "HyperX Fury S - Gaming Mousepad (Small)"
          ],
          [
           "CIDOO V75 Plus BAREBONE - Mechanical Keyboard"
          ],
          [
           "EndGameGear OP1we Gaming Mouse"
          ],
          [
           "DRUNKDEER A75 Grey PBT Double-Shot Rapid Trigger Gaming Keyboard"
          ],
          [
           "SKYPAD Glass 3.0 Xl Size - Gaming Mousepad"
          ],
          [
           "SKYPAD Arm Sleeves"
          ],
          [
           "ORICO TC4U-U3 Type-C to USB3.0-A * 4 HUB"
          ],
          [
           "Digital Alliance Delta Armor Plus - Gaming Headset"
          ],
          [
           "KC Keycaps Evangelion XDA 133 Keys"
          ],
          [
           "Noir x After Friday Deskmat - White \"Get Your Sh*t Done\""
          ],
          [
           "BTL Grip Viper V2 PRO"
          ],
          [
           "PRDX Artisan Game of Thrones \"Iron Throne\" - Keycaps"
          ],
          [
           "IQUNIX A80 Explorer Wireless Mechanical Keyboard"
          ],
          [
           "Roccat Kone Pure ULTRA-LIGHT 66gr - Gaming Mouse"
          ],
          [
           "CIDOO V87 PRO - TKL 87 Keys Hotswappable Mechanical Keyboard"
          ],
          [
           "Noir Z2 75% - Aluminum Custom Mechanical Keyboard"
          ],
          [
           "Speaker Gaming NYK Nemesis SP-N04"
          ],
          [
           "ASUS ROG Chakram RGB Wireless Gaming Mouse with Qi Charging"
          ],
          [
           "MELETRIX ZOOM75 ESSENTIAL EDITION - Mechanical Keyboard"
          ],
          [
           "Yiqi Keycaps Cheese Cat PBT Dye Sub XDA Profile"
          ],
          [
           "Fantech MINT EDITION Valor MH86 / MH 86 - Headset Gaming"
          ],
          [
           "Fantech SAKURA EDITION Captain 7.1 HG11 - Gaming Headset"
          ],
          [
           "Rexus Soundbar Astro C300"
          ],
          [
           "Noir Z2 75% Aluminium Custom Mechanical Keyboard - Full Build"
          ],
          [
           "Razer Pro Glide XXL Soft for Productivity – Mouse Mat / Mousepad"
          ],
          [
           "Razer Pro Click Mini Wireless - Gaming Mouse"
          ],
          [
           "DAREU MP-15 / MP15 Large (45 x 40cm) Speed Type - Gaming Mousepad"
          ],
          [
           "DAREU EK810 Mechanical Gaming Keyboard Black Fullsize"
          ],
          [
           "GANSS Midnight Blue PBT Double Shot Cherry Profile Keycaps Set"
          ],
          [
           "Edifier R1280DB Active 2.0 Bluetooth Bookshelf Speaker Set"
          ],
          [
           "Pulsar Grip Tape for X2 Mini Gaming Mouse"
          ],
          [
           "Yiqi Keycaps Enlightenment PBT Dye-Sub XDA Profile"
          ],
          [
           "LOFREE 1% Transparent Mechanical keyboard / LOFREE 1% ICE"
          ],
          [
           "Ausdom Phone Headset with Noise Cancelling Mic Office Business - BH01"
          ],
          [
           "DAREU ESP-109 Pink Edition Large - ESP109 Gaming Mousepad"
          ],
          [
           "Fantech OCA259s Kursi Kantor Kerja Jaring Premium Office Chair"
          ],
          [
           "KC Keycaps MOONRISE CHERRY PROFILE 129 keys"
          ],
          [
           "Tiger Arc Esptiger Qingsui 2 PRO+ - Gaming Mousepad"
          ],
          [
           "KC Keycaps Evangelion13 XDA 133 Keys"
          ],
          [
           "E-YOOSO HOTSWAP MECHANICAL GAMING KEYBOARD 68% BLACK - Z-686"
          ],
          [
           "Fantech Kabel Data USB - Type C KC102"
          ],
          [
           "Yiqi Keycaps Marshmallow PBT Dye-Sub XDA Profile"
          ],
          [
           "Yiqi Keycaps No 2 / Number Two PBT Dye-Sub XDA Profile"
          ],
          [
           "Yiqi Keycaps Lights PBT Dye-Sub XDA Profile"
          ],
          [
           "Paradox PGC-CZ - Gaming Chair"
          ],
          [
           "Rexus Xierra X8 - Gaming Mouse"
          ],
          [
           "Corsair K68 Mechanical Keyboard Red switch"
          ],
          [
           "Corsair ST50 - Headset Stand"
          ],
          [
           "AJAZZ AK50 TKL ROBOCOP BLACK EDITION"
          ],
          [
           "PressPlay VENTUS Gaming Mousepad 35x90cm 5mm Thick"
          ],
          [
           "Yiqi Keycaps Haiyan Japanese PBT Dye-Sub XDA Profile"
          ],
          [
           "AJazz AC067 - DIY KIT Mechanical Keyboard"
          ],
          [
           "Vortex CNC Aluminium Case For VX5 Pro - Gaming Keyboard Case"
          ],
          [
           "DUCKY ONE 2 Backlit Series White LED TKL - Gaming Keyboard"
          ],
          [
           "Xraypad Equate Plus - Gaming Mousepad"
          ],
          [
           "Corsair Glaive RGB Pro - Gaming Mouse"
          ],
          [
           "Corsair M55 RGB PRO - Gaming Mouse"
          ],
          [
           "Corsair HS60 PRO - Gaming Headset"
          ],
          [
           "GANSS Azure PBT Double Shot Cherry Profile Keycaps Set"
          ],
          [
           "Fantech Keycaps SET PBT Dual-Shot Royal Prince Cherry Profile ACK01"
          ],
          [
           "KC Keycaps Smokey Clear CBSA 131 Keys"
          ],
          [
           "KC Keycaps Kuromi XDA 130 Keys"
          ],
          [
           "IDOBAO ID42 WHITE BAREBONE MECHANICAL KEYBOARD"
          ],
          [
           "Yiqi Keycaps Minimalist White Japanese PBT Dye-Sub MDA Profile"
          ],
          [
           "Philips RGB PH-SPL7204 - Mouse pad Philips Speed Control"
          ],
          [
           "Corsair MM150 - Gaming Mousepad"
          ],
          [
           "Pulsar X2 H Wireless Gaming Mouse"
          ],
          [
           "Pulsar X2 RandomFrankP Edition WIreless Gaming Mouse"
          ],
          [
           "Pulsar Xlite V2 Wireless Pink Edition - Gaming Mouse"
          ],
          [
           "Akko OSA Keycap Set Herb Garden - Keycaps"
          ],
          [
           "Xtrfy M4 RGB 2.4Ghz Ultra-light Wireless - Gaming Mouse"
          ],
          [
           "ASUS ROG EYE S Full HD 1080 60 Fps USB - Gaming Webcam"
          ],
          [
           "Rexus RX108 - Gaming Mouse"
          ],
          [
           "Digital Alliance Throne RGB - Gaming Chair"
          ],
          [
           "Corsair K83 Wireless - Gaming Keyboard"
          ],
          [
           "Corsair Nightsword RGB - Gaming Mouse"
          ],
          [
           "Rexus Vonix F65 - Gaming Headset"
          ],
          [
           "Meletrix ZOOM FR4 Plate for ZOOM75"
          ],
          [
           "KC Keycaps RED SAMURAI CHERRY PROFILE 129 keys"
          ],
          [
           "KC Keycaps VAPORWAVE CHERRY PROFILE 129 keys"
          ],
          [
           "KC Keycaps BUSHIDO CHERRY PROFILE 129 keys"
          ],
          [
           "Noir M1 Mouse Grip Tape"
          ],
          [
           "Fantech HELIOS XD3v2 MYTHIA EDITION - Wireless Mouse Gaming RGB"
          ],
          [
           "Yiqi Keycaps Panda PBT Dye-Sub XDA Profile"
          ],
          [
           "YIQI Keycaps Breathing in winter PBT Dye Sub MDA Profile"
          ],
          [
           "WASD Project Valorant SAGE - Keycap Set"
          ],
          [
           "Keychron K1 SE 80% TKL RGB Backlight Gateron Mechanical Hot-swappable"
          ],
          [
           "NYK GP-100 Gambit - Gamepad"
          ],
          [
           "Razer Ornata V2 - Gaming Keyboard"
          ],
          [
           "Dareu A918 Freedom - Wireless Gaming Mouse"
          ],
          [
           "KC Keycaps NOVEMBER FOG CHERRY PROFILE 145 keys"
          ],
          [
           "MELGEEK Pixel World Pallette Keyboard"
          ],
          [
           "Logitech G502 HERO x League of Legends Universe Star Guardian Limited"
          ],
          [
           "MelGeek Mojo68 Neon - Mechanical Keyboard"
          ],
          [
           "Melgeek Mojo68 Plastic - Mechanical Keyboard"
          ],
          [
           "PressPlay SPACEBIT Gaming Mousepad Deskmat - Gaming Mousepad"
          ],
          [
           "Gamen GH1100 Pink Led - Gaming Headset"
          ],
          [
           "Pulsar Superglide for Logiteh G703 / G603 / G403 - Mouse Skate"
          ],
          [
           "Corsair MM200 Medium Cloth Gaming - Mouse Pad"
          ],
          [
           "dbE Replacement Pads Untuk GM500 - Earcup"
          ],
          [
           "Corsair MM350 Champion Series - Gaming Mousepad"
          ],
          [
           "Corsair PBT Double-Shot Keycaps"
          ],
          [
           "ZOOM65 Essential Edition V2.5 White PVD Mirror BAREBONE"
          ],
          [
           "QK80 Milky Way 80% Layout Barebone Mechanical Keyboard"
          ],
          [
           "Pulsar X2 MINI RandomFrankP Edition WIreless Gaming Mouse"
          ],
          [
           "Melgeek Mojo68 Retro - Mechanical Keyboard"
          ],
          [
           "Steelseries Prime Neo Noir Limited Edition Wired (NON WARRANTY)"
          ],
          [
           "Dareu EH-925 Miracle - Gaming Headset"
          ],
          [
           "Redragon K608 Full size Mechanical - Gaming Keyboard"
          ],
          [
           "Rexus Vonix F26M - Gaming Headset"
          ],
          [
           "CORSAIR MM300 EXTENDED GAMING MOUSEPAD SPEED"
          ],
          [
           "CORSAIR IRONCLAW RGB Gaming Mouse"
          ],
          [
           "Meletrix ZOOM V2.5 FR4 Plate for ZOOM65"
          ],
          [
           "ZOOM65 Essential Edition V2.5 Milk Tea With PVD Gold Weight & Knob"
          ],
          [
           "ZOOM75 Essential Edition Strawberry IceCream BAREBONE"
          ],
          [
           "ZOOM75 Essential Edition Milk Tea with Gold Knob & Weight BAREBONE"
          ],
          [
           "Zoom75 Essential Edition PVD Mirror Knob Weight GT-Silver [Non Flex R]"
          ],
          [
           "ZOOM75 Essential Edition Milky Green NON-Flex Cut RGB BAREBONE"
          ],
          [
           "QK100 100% Layout Barebone Mechanical Keyboard"
          ],
          [
           "Razer Wolverine V2 Pro - White - Wireless Pro Gaming Controller"
          ],
          [
           "FL Esports FL980 V2 Southfacing Barebone Keyboard - Keyboard Kit"
          ],
          [
           "Fantech Kabel Data USB - Micro KM103"
          ],
          [
           "STREAMPLIFY 2IN1 (CAM + LIGHT 10)"
          ],
          [
           "Yiqi Keycaps Plastics PBT Dye-Sub MDA Profile"
          ],
          [
           "Bundling Promo XLite V2 Mini Wireless + Paracontrol Mousepad V2 (Blue)"
          ],
          [
           "Bundling Promo XLite V2 Mini Wireless + Paracontrol Mousepad V2"
          ],
          [
           "Corsair MM300 - Gaming Mousepad"
          ],
          [
           "PROMO CORSAIR 10.10"
          ],
          [
           "Corsair MM800c Clothpad RGB Gaming mousepad"
          ],
          [
           "Razer Seiren V3 Chroma - RGB USB Streaming Gaming Microphone"
          ],
          [
           "ZOOM65 Essential Edition V2.5 Sky Blue E-white Weight & Knob BAREBONE"
          ],
          [
           "ZOOM75 Special Edition E-White NON-Flex Cut Hotswap RGB PCB BAREBONE"
          ],
          [
           "ZOOM75 Essential Edition Blush Pink with Pink Knob & Weight BAREBONE"
          ],
          [
           "ZOOM75 Essential Edition Lilac with Rose Gold Knob & Weight BAREBONE"
          ],
          [
           "ZOOM75 Essential Edition Sky Blue NON-Flex Cut RGB BAREBONE"
          ],
          [
           "ZOOM75 Essential Edition White Flex Cut RGB PVD Silver BAREBONE"
          ],
          [
           "QK80 WK Navy 80% Layout Barebone Mechanical Keyboard"
          ],
          [
           "RAZER VIPER MINI SIGNATURE EDITION - Gaming Mouse"
          ],
          [
           "KC Keycaps Makinami80 XDA 136 Keys"
          ],
          [
           "CORSAIR HS55 SURROUND Wired Gaming Headset"
          ],
          [
           "STREAMPLIFY 2IN1 (CAM + MIC TRIPOD)"
          ],
          [
           "Fantech ATO Deskmat MYTHIA EDITION MP905 - Gaming Mousepad"
          ],
          [
           "Rexus Vonix RX 995 / Rexus 995 - Gaming Headset"
          ],
          [
           "Thrustmaster TSSH SEQUENTIAL SHIFTER & HANDBRAKE SPARCO"
          ],
          [
           "Rexus XIERRA G11 - Mouse Gaming"
          ],
          [
           "Corsair PBT DOUBLE-SHOT PRO Keycap Mod Kit"
          ],
          [
           "ASUS ROG Strix Scope TKL Mechanical - Gaming Keyboard"
          ],
          [
           "Corsair K70 MK.2 - Gaming Keyboard"
          ],
          [
           "Corsair Void Elite Surround - Gaming Headset"
          ],
          [
           "Corsair Harpoon Gaming Mouse"
          ],
          [
           "Corsair M65 Pro RGB White Mouse"
          ],
          [
           "Corsair M65 Pro Black - Gaming Mouse"
          ],
          [
           "Corsair Dark Core SE - Gaming Mouse"
          ],
          [
           "Logitech G Pro Mechanical Gaming Keyboard"
          ],
          [
           "PROMO CORSAIR MARET - BUNDLE"
          ]
         ],
         "hovertemplate": "harga_awal=%{x}<br>harga_jual=%{y}<br>rating=%{marker.color}<br>nama_produk=%{customdata[0]}<extra></extra>",
         "legendgroup": "",
         "marker": {
          "color": [
           5,
           4.9,
           5,
           5,
           4.9,
           4.8,
           4.9,
           5,
           4.9,
           5,
           5,
           5,
           4.9,
           5,
           4.8,
           4.9,
           5,
           5,
           5,
           5,
           5,
           5,
           4.9,
           5,
           5,
           5,
           4.9,
           5,
           5,
           5,
           4.9,
           5,
           5,
           4.9,
           4.9,
           5,
           4.9,
           5,
           5,
           4.9,
           4.9,
           5,
           5,
           5,
           5,
           5,
           5,
           4.9,
           5,
           4.9,
           4.6,
           5,
           4.9,
           5,
           4.9,
           5,
           5,
           5,
           4.9,
           5,
           5,
           5,
           5,
           4.9,
           5,
           5,
           5,
           5,
           5,
           5,
           5,
           4.9,
           5,
           5,
           5,
           5,
           4.9,
           4.9,
           5,
           5,
           5,
           5,
           5,
           4.9,
           4.9,
           5,
           4.9,
           5,
           4.9,
           5,
           5,
           5,
           4.9,
           5,
           5,
           5,
           4.7,
           5,
           4.9,
           5,
           5,
           5,
           5,
           4.9,
           4.9,
           5,
           5,
           5,
           5,
           5,
           4.9,
           5,
           5,
           5,
           4.8,
           5,
           4.9,
           4.9,
           4.9,
           5,
           4.9,
           5,
           5,
           5,
           4.9,
           5,
           5,
           5,
           5,
           5,
           5,
           5,
           5,
           4.9,
           5,
           4.9,
           4.8,
           4.9,
           5,
           4.9,
           5,
           5,
           5,
           5,
           5,
           5,
           4.9,
           4.9,
           5,
           4.9,
           4.9,
           5,
           5,
           5,
           5,
           5,
           4.9,
           5,
           5,
           5,
           5,
           4.8,
           5,
           4.9,
           4.9,
           5,
           0,
           5,
           4.9,
           5,
           5,
           4.9,
           4.9,
           5,
           4.9,
           4.9,
           5,
           5,
           4.9,
           4.9,
           5,
           5,
           5,
           4.9,
           5,
           4.9,
           4.8,
           4.9,
           4.9,
           5,
           4.9,
           5,
           4.9,
           4.9,
           5,
           4.9,
           5,
           5,
           4.7,
           4.9,
           5,
           4.9,
           4.9,
           5,
           5,
           4.9,
           5,
           5,
           4.9,
           4.9,
           5,
           5,
           4.9,
           5,
           4.8,
           4.9,
           5,
           4.9,
           4.8,
           5,
           5,
           4.9,
           4.9,
           5,
           4.9,
           4.9,
           4.9,
           4.9,
           5,
           4.9,
           5,
           4.9,
           4.9,
           5,
           4.9,
           4.7,
           5,
           5,
           5,
           5,
           4.9,
           4.9,
           5,
           5,
           5,
           4.9,
           5,
           5,
           4.9,
           4.9,
           5,
           5,
           4.9,
           4.8,
           4.8,
           4.8,
           5,
           5,
           4.9,
           4.9,
           5,
           5,
           4.9,
           5,
           4.9,
           4.9,
           5,
           4.9,
           5,
           4.9,
           5,
           5,
           4.8,
           4.8,
           5,
           5,
           4.9,
           4.9,
           4.9,
           5,
           4.8,
           5,
           5,
           5,
           5,
           5,
           5,
           5,
           5,
           4.9,
           5,
           5,
           5,
           5,
           5,
           5,
           5,
           5,
           5,
           5,
           5,
           5,
           4.9,
           4.7,
           5,
           5,
           5,
           4.8,
           5,
           5,
           4.9,
           5,
           5,
           5,
           4.9,
           5,
           4.6,
           5,
           5,
           4.5,
           5,
           4.8,
           5,
           5,
           4.9,
           5,
           4.8,
           5,
           5,
           5,
           5,
           5,
           5,
           5,
           5,
           5,
           4.9,
           5,
           5,
           4.9,
           4.8,
           5,
           4.9,
           5,
           5,
           5,
           4.9,
           4.9,
           5,
           4.9,
           4.6,
           4.9,
           4.9,
           4.9,
           4.8,
           5,
           4.9,
           5,
           4.7,
           4.8,
           5,
           4.6,
           4.9,
           5,
           5,
           5,
           4.8,
           5,
           5,
           4.9,
           5,
           4.9,
           4.7,
           4.8,
           5,
           5,
           5,
           4.9,
           5,
           5,
           4.9,
           5,
           5,
           4.9,
           5,
           5,
           5,
           5,
           5,
           5,
           4.9,
           5,
           5,
           4.1,
           5,
           4.8,
           5,
           5,
           4.7,
           4.8,
           4.9,
           5,
           5,
           4.9,
           4.9,
           5,
           4.6,
           5,
           5,
           5,
           4.8,
           4.9,
           5,
           5,
           5,
           5,
           5,
           4.9,
           5,
           5,
           5,
           5,
           5,
           5,
           5,
           4.9,
           5,
           5,
           4.9,
           5,
           4.9,
           4.9,
           4.8,
           5,
           5,
           4.9,
           5,
           4.8,
           5,
           5,
           5,
           4.6,
           4.8,
           4.9,
           5,
           4.8,
           5,
           5,
           5,
           4.9,
           4.9,
           5,
           5,
           5,
           5,
           4.9,
           5,
           4.9,
           4.9,
           5,
           5,
           5,
           5,
           5,
           5,
           5,
           4.8,
           5,
           5,
           4.9,
           5,
           5,
           5,
           5,
           5,
           5,
           5,
           5,
           4.9,
           5,
           4.9,
           4.9,
           5,
           5,
           5,
           4.8,
           5,
           5,
           5,
           5,
           4.5,
           4.9,
           5,
           4.9,
           4.9,
           4.9,
           5,
           5,
           5,
           4.6,
           5,
           4.6,
           5,
           5,
           5,
           4.6,
           5,
           5,
           5,
           4.8,
           5,
           5,
           5,
           4.5,
           5,
           4.9,
           4.8,
           5,
           4.8,
           4.9,
           4.8,
           4.9,
           5,
           5,
           5,
           5,
           5,
           5,
           5,
           5,
           5,
           5,
           5,
           5,
           4.9,
           4.8,
           5,
           4.9,
           5,
           4.7,
           5,
           5,
           5,
           5,
           5,
           5,
           5,
           5,
           5,
           5,
           5,
           4.9,
           5,
           4.8,
           5,
           4.9,
           5,
           4.8,
           4.9,
           5,
           5,
           5,
           5,
           5,
           5,
           4.6,
           5,
           5,
           5,
           5,
           5,
           5,
           5,
           5,
           5,
           5,
           4.9,
           5,
           5,
           5,
           4.7,
           5,
           5,
           4.8,
           5,
           5,
           5,
           4.6,
           5,
           4.9,
           5,
           4.5,
           5,
           5,
           5,
           5,
           5,
           5,
           5,
           5,
           5,
           5,
           4.8,
           5,
           5,
           5,
           5,
           5,
           5,
           5,
           5,
           5,
           4.3,
           5,
           5,
           5,
           5,
           5,
           5,
           5,
           5,
           0,
           5,
           5,
           5,
           4.9,
           5,
           5,
           5,
           4.9,
           5,
           5,
           5,
           5,
           5,
           5,
           4.8,
           4,
           4.9,
           5,
           4.9,
           5,
           4.4,
           4.9,
           5,
           4.8,
           4.9,
           5,
           4.9,
           5,
           4.8,
           5,
           4.8,
           5,
           5,
           5,
           5,
           5,
           5,
           5,
           5,
           5,
           5,
           4.8,
           5,
           5,
           5,
           5,
           5,
           5,
           5,
           5,
           5,
           5,
           4.1,
           5,
           4.8,
           5,
           4.9,
           5,
           5,
           5,
           5,
           5,
           5,
           5,
           4,
           5,
           5,
           4.8,
           4.7,
           5,
           5,
           5,
           5,
           4.9,
           5,
           5,
           5,
           4.3,
           5,
           5,
           5,
           5,
           5,
           5,
           5,
           5,
           5,
           5,
           5,
           4.9,
           5,
           5,
           5,
           5,
           5,
           5,
           5,
           5,
           4.7,
           5,
           5,
           5,
           5,
           5,
           5,
           5,
           5,
           4.5,
           5,
           5,
           5,
           5,
           5,
           5,
           5,
           5,
           5,
           4.8,
           5,
           4.8,
           5,
           4.8,
           5,
           4.2,
           5,
           5,
           4.7,
           4.7,
           5,
           5,
           5,
           5,
           5,
           5,
           5,
           4.8,
           5,
           5,
           4.7,
           4.8,
           5,
           5,
           5,
           5,
           5,
           5,
           5,
           5,
           5,
           5,
           4.2,
           5,
           5,
           4,
           4.8,
           5,
           5,
           5,
           5,
           5,
           5,
           5,
           5,
           5,
           5,
           4.8,
           5,
           5,
           5,
           5,
           5,
           5,
           5,
           5,
           4.6,
           5,
           4.8,
           5,
           5,
           5,
           5,
           4.3,
           4.8,
           5,
           5,
           5,
           5,
           5,
           5,
           5,
           5,
           5,
           5,
           5,
           5,
           5,
           4.6,
           5,
           5,
           5,
           4.4,
           5,
           5,
           5,
           5,
           5,
           5,
           5,
           5,
           5,
           5,
           5,
           5,
           5,
           4.8,
           5,
           5,
           5,
           5,
           5,
           4.8,
           5,
           5,
           5,
           5,
           5,
           5,
           5,
           4.8,
           5,
           5,
           4.8,
           5,
           5,
           4.8,
           5,
           5,
           5,
           5,
           5,
           5,
           5,
           4,
           5,
           5,
           5,
           4.8,
           5,
           4.3,
           5,
           5,
           5,
           5,
           5,
           5,
           5,
           5,
           5,
           5,
           5,
           5,
           5,
           5,
           5,
           5,
           5,
           4.8,
           5,
           5,
           4.8,
           5,
           5,
           5,
           5,
           5,
           5,
           5,
           5,
           5,
           5,
           5,
           5,
           4.8,
           5,
           5,
           5,
           0,
           5,
           4.5,
           4.3,
           5,
           5,
           5,
           5,
           5,
           5,
           5,
           5,
           5,
           5,
           5,
           5,
           5,
           5,
           5,
           5,
           5,
           4.5,
           5,
           5,
           4.8,
           5,
           5,
           5,
           5,
           4,
           5,
           3,
           3.3,
           5,
           5,
           5,
           5,
           5,
           5,
           5,
           5,
           4,
           5,
           5,
           5,
           5,
           5,
           0,
           5,
           5,
           5,
           5,
           5,
           5,
           5,
           5,
           5,
           0,
           5,
           5,
           5,
           5,
           5,
           5,
           0,
           5,
           5,
           4.6,
           5,
           5,
           5,
           5,
           5,
           5,
           5,
           5,
           4,
           5,
           5,
           5,
           4.8,
           5,
           5,
           5,
           5,
           5,
           5,
           5,
           5,
           5,
           0,
           0,
           5,
           5,
           5,
           5,
           3.7,
           5,
           4.7,
           5,
           0,
           3,
           5,
           5,
           5,
           4.8,
           5,
           5,
           5,
           5,
           5,
           5,
           5,
           5,
           4.7,
           5,
           5,
           5,
           4.3,
           0,
           0,
           5,
           4.3,
           5,
           5,
           5,
           5,
           5,
           5,
           5,
           5,
           5,
           5,
           5,
           5,
           5,
           5,
           5,
           5,
           4,
           5,
           0,
           5,
           5,
           5,
           5,
           5,
           0,
           4.7,
           5,
           5,
           5,
           5,
           5,
           5,
           5,
           5,
           3,
           5,
           5,
           5,
           5,
           4,
           5,
           5,
           5,
           5,
           5,
           5,
           5,
           4.3,
           5,
           5,
           5,
           5,
           5,
           5,
           5,
           5,
           5,
           5,
           5,
           0,
           0,
           5,
           0,
           5,
           5,
           5,
           5,
           5,
           5,
           5,
           0,
           0,
           0,
           5,
           5,
           0,
           3,
           5,
           5,
           3,
           5,
           0,
           5,
           5,
           5,
           5,
           5,
           5,
           5,
           5,
           0,
           5,
           5,
           0,
           5,
           5,
           5,
           5,
           5,
           5,
           5,
           0,
           0,
           0,
           5,
           5,
           5,
           5,
           0,
           5,
           5,
           5,
           5,
           5,
           5,
           5,
           0,
           4.7,
           0,
           0,
           0,
           5,
           5,
           5,
           5,
           5,
           5,
           5,
           5,
           5,
           5,
           5,
           5,
           5,
           0,
           5,
           4.5,
           4.5,
           5,
           5,
           0,
           1,
           0,
           5,
           0,
           5,
           5,
           5,
           5,
           5,
           5,
           5,
           0,
           5,
           5,
           0,
           5,
           5,
           5,
           0,
           5,
           4.5,
           5,
           4.5,
           5,
           5,
           5,
           5,
           5,
           5,
           5,
           5,
           5,
           4.5,
           5,
           5,
           5,
           5,
           0,
           5,
           0,
           5,
           5,
           5,
           5,
           0,
           5,
           5,
           5,
           0,
           0,
           0,
           0,
           5,
           0,
           0,
           5,
           5,
           0,
           5,
           5,
           0,
           5,
           5,
           0,
           0,
           5,
           5,
           5,
           5,
           0,
           5,
           0,
           5,
           5,
           5,
           5,
           5,
           5,
           0,
           5,
           5,
           0,
           5,
           5,
           0,
           0,
           5,
           5,
           5,
           5,
           0,
           5,
           5,
           5,
           5,
           5,
           0,
           0,
           4.5,
           0,
           5,
           0,
           5,
           5,
           5,
           0,
           0,
           5,
           5,
           0,
           5,
           5,
           0,
           5,
           5,
           0,
           5,
           0,
           5,
           5,
           0,
           0,
           2,
           5,
           5,
           5,
           5,
           5,
           5,
           5,
           5,
           5,
           5,
           4.5,
           5,
           5,
           5,
           0,
           0,
           5,
           0,
           4,
           5,
           0,
           5,
           0,
           5,
           5,
           5,
           5,
           5,
           5,
           5,
           5,
           5,
           5,
           5,
           5,
           0,
           5,
           5,
           0,
           5,
           5,
           5,
           0,
           5,
           5,
           5,
           5,
           0,
           5,
           5,
           5,
           5,
           5,
           5,
           0,
           2,
           0,
           5,
           5,
           0,
           5,
           0,
           5,
           0,
           5,
           5,
           5,
           0,
           0,
           5,
           0,
           5,
           5,
           3,
           5,
           5,
           0,
           5,
           5,
           0,
           5,
           0,
           0,
           0,
           0,
           0,
           0,
           5,
           5,
           5,
           0,
           5,
           0,
           5,
           4,
           0,
           0,
           5,
           5,
           5,
           0,
           5,
           5,
           5,
           5,
           0,
           0,
           5,
           0,
           5,
           0,
           5,
           0,
           0,
           5,
           0,
           0,
           0,
           0,
           0,
           0,
           0,
           0,
           5,
           5,
           0,
           0,
           5,
           0,
           0,
           0,
           5,
           5,
           0,
           5,
           5,
           5,
           0,
           5,
           0,
           0,
           0,
           5,
           0,
           5,
           5,
           5,
           5,
           0,
           5,
           0,
           5,
           5,
           0,
           0,
           0,
           0,
           5,
           0,
           0,
           5,
           5,
           0,
           0,
           0,
           5,
           5,
           5,
           5,
           0,
           5,
           0,
           5,
           0,
           0,
           5,
           0,
           5,
           0,
           0,
           5,
           0,
           0,
           5,
           0,
           5,
           5,
           0,
           5,
           3,
           0,
           0,
           0,
           5,
           0,
           5,
           5,
           3,
           5,
           0,
           0,
           0,
           5,
           0,
           0,
           0,
           5,
           5,
           5,
           0,
           5,
           5,
           5,
           4,
           0,
           5,
           0,
           0,
           5,
           0,
           0,
           5,
           5,
           5,
           0,
           0,
           5,
           5,
           5,
           0,
           5,
           5,
           0,
           0,
           0,
           0,
           5,
           5,
           5,
           0,
           5,
           5,
           4,
           0,
           0,
           5,
           5,
           0,
           0,
           5,
           5,
           0,
           0,
           5,
           0,
           5,
           5,
           5,
           0,
           5,
           5,
           0,
           0,
           0,
           0,
           5,
           5,
           0,
           5,
           0,
           0,
           5,
           5,
           5,
           5,
           5,
           0,
           0,
           3,
           0,
           0,
           5,
           5,
           5,
           5,
           5,
           5,
           0,
           0,
           5,
           5,
           0,
           5,
           0,
           0,
           5,
           0,
           5,
           0,
           5,
           0,
           0,
           0,
           0,
           5,
           5,
           5,
           5,
           0,
           5,
           5,
           0,
           5,
           5,
           5,
           0,
           5,
           5,
           0,
           5,
           5,
           5,
           0,
           0,
           5,
           0,
           5,
           0,
           5,
           5,
           0,
           0,
           0,
           4,
           5,
           0,
           0,
           0,
           5,
           5,
           5,
           5,
           0,
           5,
           0,
           5,
           5,
           0,
           0,
           5,
           0,
           0,
           0,
           0,
           4.9,
           0,
           0,
           0,
           0,
           0,
           0,
           0,
           0,
           0,
           0,
           0,
           0,
           0,
           0,
           0,
           0,
           0,
           0,
           0,
           0,
           0,
           0,
           0,
           0,
           0,
           0,
           0,
           0,
           0,
           0,
           0,
           0,
           0,
           0,
           0,
           0,
           0,
           0,
           0,
           0,
           0,
           0,
           0,
           0,
           0,
           0,
           0,
           0,
           0,
           0,
           0,
           0,
           0,
           0,
           0,
           0,
           0,
           0,
           0,
           0,
           0,
           0,
           0,
           0,
           0,
           0,
           0,
           0,
           0,
           0,
           0,
           0,
           0,
           0,
           0,
           0,
           0,
           0,
           0,
           0,
           0,
           0,
           0,
           0,
           0,
           0,
           0,
           0,
           0,
           0,
           0,
           0,
           0,
           0,
           0,
           0,
           0,
           0,
           0,
           0,
           0,
           0,
           0,
           0,
           0,
           0,
           0,
           0,
           0,
           0,
           0,
           0,
           0,
           0,
           0,
           0,
           0,
           0,
           0,
           0,
           0,
           0,
           0,
           0,
           0,
           0,
           0,
           0,
           0,
           0,
           0,
           0,
           0,
           0,
           0,
           0,
           0,
           0,
           0,
           0,
           0,
           0,
           0,
           0,
           0,
           0,
           0,
           0,
           0,
           0,
           0,
           0,
           0,
           0,
           0,
           0,
           0,
           0,
           0,
           0,
           0,
           0,
           0,
           0,
           0,
           0,
           0,
           0,
           0,
           0,
           0,
           0,
           0,
           0,
           0,
           0,
           0,
           0,
           0,
           0,
           0,
           0,
           0,
           0,
           0,
           0,
           0,
           0,
           0,
           0,
           0,
           0,
           0,
           0,
           0,
           0,
           0,
           0,
           0,
           0,
           0,
           0,
           0,
           0,
           0,
           0,
           0,
           0,
           0,
           0,
           0,
           0,
           0,
           0,
           0,
           0,
           0,
           0,
           0,
           0,
           0,
           0,
           0,
           0,
           0,
           0,
           0,
           0,
           0,
           0,
           0,
           0,
           0,
           0,
           0,
           0,
           0,
           0,
           0,
           0,
           0,
           0,
           0,
           0,
           0,
           0,
           0,
           0,
           0,
           0,
           0,
           0,
           0,
           0,
           0,
           0,
           0,
           0,
           0,
           0,
           0,
           0,
           0,
           0,
           0,
           0,
           0,
           0,
           0,
           0,
           0,
           0,
           0,
           0,
           0,
           0,
           0,
           0,
           0,
           0,
           0,
           0,
           0,
           0,
           0,
           0,
           0,
           0,
           0,
           0,
           0,
           0,
           0,
           0,
           0,
           0,
           0,
           0,
           0,
           0,
           0,
           0,
           0,
           0,
           0,
           0,
           0,
           0,
           0,
           0,
           0,
           0,
           0,
           0,
           0,
           0,
           0,
           0,
           0,
           0,
           0,
           0,
           0,
           0,
           0,
           0,
           0,
           0,
           0,
           0,
           0,
           0,
           0,
           0,
           0,
           0,
           0,
           0,
           0,
           0,
           0,
           0,
           0,
           0,
           0,
           0,
           0,
           0,
           0,
           0,
           0,
           0,
           0,
           0,
           0,
           0,
           0,
           0,
           0,
           0,
           0,
           0,
           0,
           0,
           0,
           0,
           0,
           0,
           0,
           0,
           0,
           0,
           0,
           0,
           0,
           0,
           0,
           0,
           0,
           0,
           0,
           0,
           0,
           0,
           0,
           0,
           0,
           0,
           0,
           0,
           0,
           0,
           0,
           0,
           0,
           0,
           0,
           0,
           0,
           0,
           0,
           0,
           0,
           0,
           0,
           0,
           0,
           0,
           0,
           0,
           0,
           0,
           0,
           0,
           0,
           0,
           0,
           0,
           0,
           0,
           0,
           0,
           0,
           0,
           0,
           0,
           0,
           0,
           0,
           0,
           0,
           0,
           0,
           0,
           0,
           0,
           0,
           0,
           0,
           0,
           0,
           0,
           0,
           0,
           0,
           0,
           0,
           0,
           0,
           0,
           0,
           0,
           0,
           0,
           0,
           0,
           0,
           0,
           0,
           0,
           0,
           0,
           0,
           0,
           0,
           0,
           0,
           0,
           0,
           0,
           0,
           0,
           0,
           0,
           0,
           0,
           0,
           0,
           0,
           0,
           0,
           0,
           0,
           0,
           0,
           0,
           0,
           0,
           0,
           0,
           0,
           0,
           0,
           0,
           0,
           0,
           0,
           0,
           0,
           0,
           0,
           0,
           0,
           0,
           0,
           0,
           0,
           0,
           0,
           0,
           0,
           0,
           0,
           0,
           0,
           0,
           0,
           0,
           0,
           0,
           0,
           0,
           0,
           0,
           0,
           0,
           0,
           0,
           0,
           0,
           0,
           0,
           0,
           0,
           0,
           0,
           0,
           0,
           0,
           0,
           0,
           0,
           0,
           0,
           0,
           0,
           0,
           0,
           0,
           0,
           0,
           0,
           0,
           0,
           0,
           0,
           0,
           0,
           0,
           0,
           0,
           0,
           0,
           0,
           0,
           0,
           0,
           0,
           0,
           0,
           0,
           0,
           0,
           0,
           0,
           0,
           0,
           0,
           0,
           0,
           0,
           0,
           0,
           0,
           0,
           0,
           0,
           0,
           0,
           0,
           0,
           0,
           0,
           0,
           0,
           0,
           0,
           0,
           0,
           0,
           0,
           0,
           0,
           0,
           0,
           0,
           0,
           0,
           0,
           0,
           0,
           0,
           0,
           0,
           0,
           0,
           0,
           0,
           0,
           0,
           0,
           0,
           0,
           0,
           0,
           0,
           0,
           0,
           0,
           0,
           0,
           0,
           0,
           0,
           0,
           5,
           5,
           4.9,
           5,
           4.9,
           4.9,
           5,
           5,
           5,
           5,
           5,
           5,
           5,
           5,
           4.9,
           5,
           4.9,
           5,
           5,
           5,
           5,
           5,
           4.9,
           5,
           0,
           5,
           4.9,
           4.9,
           4.9,
           0,
           0,
           0,
           5,
           0,
           5,
           5,
           4.9,
           0,
           4.9,
           5,
           4.9,
           4.9,
           5,
           5,
           4.9,
           5,
           5,
           5,
           5,
           4.9,
           4.9,
           5,
           5,
           4.9,
           4.9,
           5,
           5,
           4.9,
           5,
           5,
           4.9,
           5,
           4.9,
           4.9,
           5,
           5,
           5,
           5,
           4.9,
           4.8,
           4.9,
           4.9,
           4.9,
           4.9,
           5,
           5,
           5,
           5,
           5,
           5,
           5,
           5,
           4.9,
           5,
           4.9,
           0,
           5,
           0,
           4.9,
           5,
           5,
           4.9,
           5,
           5,
           5,
           5,
           4.9,
           5,
           5,
           0,
           4.8,
           4.9,
           4.9,
           5,
           4.9,
           4.9,
           5,
           4.8,
           5,
           5,
           0,
           5,
           4.9,
           4.9,
           5,
           5,
           4.9,
           5,
           5,
           5,
           5,
           5,
           5,
           5,
           4.9,
           4.9,
           4.9,
           0,
           0,
           5,
           5,
           5,
           5,
           4.9,
           5,
           4.9,
           4.9,
           5,
           5,
           5,
           4.8,
           5,
           4.9,
           5,
           5,
           4.9,
           5,
           5,
           4.9,
           5,
           5,
           5,
           4.8,
           4.9,
           4.9,
           4.7,
           4.9,
           5,
           5,
           5,
           4.9,
           5,
           0,
           5,
           5,
           4.9,
           5,
           5,
           4.8,
           5,
           5,
           5,
           4.9,
           5,
           5,
           5,
           5,
           5,
           5,
           5,
           5,
           5,
           5,
           5,
           5,
           5,
           5,
           5,
           5,
           5,
           5,
           4.8,
           5,
           5,
           5,
           4.9,
           5,
           4.8,
           4.9,
           5,
           5,
           5,
           5,
           4.4,
           5,
           4.7,
           5,
           5,
           4.9,
           5,
           5,
           4.8,
           5,
           5,
           5,
           5,
           5,
           5,
           5,
           4.8,
           5,
           5,
           4.8,
           5,
           5,
           5,
           5,
           5,
           4,
           5,
           5,
           5,
           4.5,
           5,
           5,
           5,
           4.8,
           5,
           5,
           5,
           0,
           5,
           5,
           5,
           5,
           5,
           5,
           5,
           5,
           5,
           5,
           4.8,
           5,
           5,
           5,
           5,
           5,
           5,
           0,
           5,
           5,
           5,
           5,
           5,
           5,
           5,
           5,
           5,
           5,
           5,
           5,
           5,
           5,
           0,
           0,
           5,
           5,
           5,
           5,
           5,
           5,
           5,
           5,
           5,
           5,
           0,
           0,
           5,
           5,
           0,
           3,
           0,
           4.5,
           0,
           0,
           5,
           0,
           0,
           5,
           0,
           0,
           5,
           0,
           5,
           0,
           5,
           0,
           5,
           5,
           5,
           0,
           0,
           0,
           5,
           0,
           0,
           0,
           5,
           5,
           0,
           0,
           5,
           5,
           0,
           5,
           0,
           0,
           5
          ],
          "coloraxis": "coloraxis",
          "symbol": "circle"
         },
         "mode": "markers",
         "name": "",
         "scene": "scene",
         "showlegend": false,
         "type": "scatter3d",
         "x": [
          4600,
          10499,
          3500,
          3500,
          3100,
          6400,
          19000,
          5000,
          1299000,
          5200,
          95000,
          9900,
          9999,
          5000,
          10500,
          3100,
          309000,
          2999,
          4400,
          3500,
          55000,
          5000,
          3750,
          5000,
          519000,
          2049000,
          8900,
          899000,
          5000,
          135000,
          199000,
          6199,
          11200,
          54000,
          28000,
          299000,
          5600,
          139000,
          26400,
          225000,
          15000,
          4490,
          260000,
          1499000,
          999000,
          5400,
          7000,
          5000,
          6200,
          22500,
          3750,
          7500,
          259000,
          165000,
          3000,
          790000,
          242000,
          999000,
          360000,
          1780000,
          320000,
          299000,
          1435000,
          50000,
          2399000,
          149000,
          240000,
          799000,
          260000,
          695000,
          999000,
          4999,
          229000,
          635000,
          789000,
          8500,
          259000,
          675000,
          455000,
          249000,
          595000,
          2950,
          95000,
          149000,
          145000,
          5000,
          569000,
          239000,
          375000,
          1499000,
          6900,
          94000,
          325000,
          8000,
          1780000,
          125000,
          499000,
          4999,
          240000,
          109000,
          779000,
          239000,
          4450,
          149000,
          1969000,
          145000,
          599000,
          1509000,
          590000,
          500000,
          9999,
          1099000,
          499000,
          285000,
          159000,
          6950,
          799000,
          180000,
          70000,
          165000,
          409000,
          30000,
          199000,
          50000,
          1280000,
          199000,
          1069000,
          779000,
          75000,
          325000,
          1339000,
          399000,
          399000,
          149000,
          469000,
          632000,
          399000,
          139000,
          940000,
          998000,
          1099000,
          7999,
          5200,
          798000,
          3500,
          479000,
          1149000,
          339000,
          790000,
          940000,
          799000,
          1149000,
          1099000,
          2099000,
          1200000,
          2505000,
          819000,
          409000,
          1025000,
          925000,
          389000,
          1850000,
          110000,
          79000,
          670000,
          1729000,
          3500,
          699000,
          209000,
          265000,
          220000,
          99000,
          1189000,
          210000,
          319000,
          459000,
          1199000,
          319000,
          295000,
          73000,
          1550000,
          550000,
          220000,
          359000,
          1720000,
          359000,
          139000,
          299000,
          799000,
          2049000,
          5000,
          3500000,
          1199000,
          299000,
          99000,
          559000,
          7999,
          2900000,
          49999,
          299000,
          250000,
          85000,
          2000000,
          1259000,
          1740000,
          1319000,
          1999000,
          1450000,
          55000,
          15000,
          1120000,
          899000,
          599000,
          49999,
          149000,
          295000,
          1899000,
          349000,
          34000,
          249000,
          1800000,
          499000,
          250000,
          55000,
          165000,
          1760000,
          19000,
          2449000,
          1720000,
          40000,
          1439000,
          119000,
          2010000,
          175000,
          35000,
          795000,
          165000,
          169000,
          1050000,
          3879000,
          1399000,
          270000,
          79000,
          1699000,
          815000,
          49999,
          35000,
          459000,
          399000,
          915000,
          220000,
          889000,
          122000,
          349000,
          259000,
          209000,
          2900,
          109000,
          34900,
          71000,
          169000,
          99000,
          203500,
          194000,
          205000,
          499000,
          699000,
          375000,
          1949000,
          625000,
          629000,
          999000,
          3490000,
          120000,
          425000,
          449000,
          749000,
          249000,
          15000,
          599000,
          999000,
          199000,
          50000,
          375000,
          25300,
          895000,
          399000,
          1349000,
          360000,
          1390000,
          1380000,
          659000,
          1799000,
          25300,
          399000,
          2350000,
          79000,
          1698000,
          250000,
          55000,
          295000,
          2399000,
          179000,
          1000000,
          3499000,
          199000,
          155000,
          1200000,
          245000,
          895000,
          1599000,
          159000,
          2099000,
          471000,
          125000,
          479000,
          79000,
          170000,
          310000,
          449000,
          229000,
          759000,
          5750000,
          49000,
          2715000,
          90000,
          210000,
          69000,
          599000,
          1499000,
          499000,
          1899000,
          1349000,
          830000,
          1198000,
          73000,
          170000,
          1150000,
          356000,
          125000,
          1299000,
          399000,
          1850000,
          989000,
          719000,
          295000,
          499000,
          199000,
          150000,
          139000,
          135000,
          939000,
          449000,
          139000,
          270000,
          2195000,
          3240000,
          2350000,
          1999000,
          1799000,
          1699000,
          299000,
          77000,
          265000,
          399000,
          1999000,
          555000,
          695000,
          300000,
          99000,
          1645000,
          109000,
          599000,
          889000,
          299000,
          310000,
          10000,
          185000,
          1899000,
          4499000,
          599000,
          199000,
          49000,
          135000,
          949000,
          19000,
          2649000,
          269000,
          1840000,
          70000,
          35000,
          1499000,
          329000,
          149000,
          1299000,
          3550000,
          999000,
          1999000,
          239000,
          109000,
          3499000,
          3450000,
          2899000,
          499000,
          1499000,
          1349000,
          419000,
          699000,
          550000,
          300000,
          795000,
          99000,
          749000,
          129000,
          6500,
          249000,
          300000,
          299000,
          185000,
          3695000,
          1785000,
          99000,
          129000,
          190000,
          1499000,
          1495000,
          1999000,
          1999000,
          199000,
          795000,
          199000,
          209000,
          50000,
          250000,
          125000,
          1349000,
          2745000,
          105000,
          420000,
          299000,
          300000,
          115000,
          255000,
          50000,
          529000,
          1049000,
          1599000,
          499000,
          1050000,
          249000,
          299000,
          1150000,
          1249000,
          429000,
          329000,
          2249000,
          2170000,
          2290000,
          1680000,
          1590000,
          2075000,
          299000,
          89000,
          200000,
          129000,
          3999000,
          185000,
          399000,
          1989000,
          229000,
          3099000,
          599000,
          299000,
          1249000,
          155000,
          899000,
          299000,
          79000,
          69000,
          1797000,
          230000,
          8499000,
          229000,
          559000,
          499000,
          469000,
          1249000,
          2299000,
          3299000,
          300000,
          539000,
          1499000,
          169000,
          999000,
          400000,
          549000,
          1599000,
          1049000,
          250000,
          582000,
          1749000,
          1650000,
          140000,
          1399000,
          1199000,
          399000,
          1499999,
          499000,
          1479000,
          3400000,
          420000,
          1829000,
          399000,
          349000,
          850000,
          1480000,
          80000,
          99000,
          349000,
          599000,
          599000,
          399000,
          3400000,
          99000,
          335000,
          121000,
          2670000,
          1799000,
          1895000,
          1099000,
          3330000,
          3000000,
          499000,
          1797000,
          2299000,
          199000,
          330000,
          2499000,
          10000,
          59000,
          599000,
          330000,
          4650000,
          77000,
          400000,
          400000,
          179000,
          1199000,
          2250000,
          1715000,
          1840000,
          205000,
          3500000,
          1620000,
          79000,
          140000,
          350000,
          170000,
          2350000,
          89000,
          789000,
          999000,
          359000,
          649000,
          449000,
          299000,
          100000,
          1699000,
          288000,
          123845,
          1875000,
          379000,
          135000,
          95000,
          99000,
          1680000,
          75000,
          4199000,
          2700000,
          459000,
          150000,
          649000,
          2195000,
          499000,
          1955000,
          175000,
          499000,
          170000,
          479000,
          99000,
          1499000,
          220000,
          3450000,
          450000,
          295000,
          1999000,
          389000,
          490000,
          2499000,
          3249000,
          935000,
          250000,
          1564700,
          4059000,
          3800000,
          45000,
          1650000,
          499000,
          1299000,
          2399000,
          250000,
          355000,
          499000,
          2969000,
          2078000,
          2999000,
          4999000,
          699000,
          199000,
          549000,
          429000,
          3499000,
          2260000,
          79000,
          2190000,
          3599000,
          1149000,
          379000,
          2170000,
          230000,
          1799000,
          2839000,
          398000,
          7500000,
          199000,
          1460000,
          1645000,
          65000,
          299000,
          299000,
          2999000,
          140000,
          1999000,
          4029000,
          2999000,
          499000,
          199000,
          199000,
          699000,
          6500,
          309000,
          379000,
          369000,
          7999,
          179000,
          99000,
          449000,
          2355000,
          299000,
          5750000,
          1590000,
          20300,
          3199000,
          85000,
          1599000,
          499000,
          819000,
          57500,
          199000,
          1450000,
          1000000,
          1950000,
          1645000,
          820000,
          49999,
          449000,
          749000,
          335000,
          475000,
          2589000,
          1149000,
          1999000,
          699000,
          250000,
          599000,
          99000,
          699000,
          1990000,
          599000,
          399000,
          295000,
          350000,
          98000,
          460000,
          399000,
          999000,
          1299000,
          299000,
          499000,
          299000,
          399000,
          471000,
          799000,
          1740000,
          215000,
          525000,
          199000,
          289000,
          99000,
          3049000,
          3030000,
          1550000,
          1425000,
          540000,
          749000,
          649000,
          1699000,
          299000,
          999000,
          549000,
          199000,
          299000,
          699000,
          449000,
          599000,
          1229000,
          3499000,
          300000,
          99000,
          250000,
          995000,
          495000,
          329000,
          2499000,
          400000,
          329000,
          2949000,
          75000,
          118000,
          250000,
          205000,
          211000,
          250000,
          1698000,
          1969000,
          49999,
          3230000,
          1950000,
          3532000,
          149000,
          10863000,
          1899000,
          5999000,
          179000,
          319000,
          229000,
          2530000,
          125000,
          1590000,
          3799000,
          4199000,
          150000,
          770000,
          2490000,
          260000,
          839000,
          379000,
          45000,
          649000,
          499000,
          150000,
          4500000,
          199000,
          299000,
          499000,
          279000,
          50000,
          155000,
          3999000,
          15360000,
          449000,
          39000,
          3998000,
          1699000,
          299000,
          289000,
          1049000,
          3499000,
          80000,
          449000,
          1975000,
          2473000,
          1495000,
          2499000,
          75000,
          80000,
          445000,
          130000,
          280000,
          549000,
          489000,
          650000,
          4240000,
          950000,
          3880000,
          549000,
          750000,
          799000,
          2399000,
          599000,
          579000,
          79000,
          349000,
          199000,
          269000,
          1619000,
          269000,
          399000,
          375000,
          279000,
          2110000,
          499000,
          799000,
          399000,
          139000,
          79000,
          340000,
          1449000,
          3798000,
          2599000,
          1019000,
          55000,
          815000,
          529000,
          899000,
          490000,
          449000,
          1619000,
          299000,
          923000,
          399000,
          1365000,
          879000,
          1930000,
          1470000,
          276000,
          3995000,
          1250000,
          3687000,
          125000,
          3499000,
          265000,
          6040000,
          2900000,
          490000,
          420000,
          105000,
          1484000,
          480000,
          1699000,
          3800000,
          479000,
          479000,
          1999000,
          540000,
          365000,
          1799000,
          150000,
          1675000,
          2080000,
          1198000,
          669000,
          695000,
          189000,
          50000,
          1549000,
          90750,
          399000,
          183000,
          1749000,
          2199000,
          1390000,
          2719000,
          499000,
          980000,
          399000,
          1749000,
          1000000,
          2269000,
          749000,
          3230000,
          699000,
          6650000,
          999000,
          2049000,
          1985000,
          499000,
          130000,
          89000,
          5499000,
          2510000,
          8499000,
          1867300,
          2372500,
          1595000,
          2020000,
          3899000,
          5900000,
          97000,
          789000,
          420000,
          1980000,
          1900000,
          475000,
          140000,
          433000,
          2390000,
          1999000,
          999000,
          129000,
          199000,
          389000,
          799000,
          599000,
          500000,
          250000,
          549000,
          229000,
          499000,
          1399000,
          4599000,
          349000,
          1999000,
          2395000,
          1875000,
          599000,
          2998000,
          205000,
          3499000,
          99000,
          1319000,
          995000,
          515000,
          1699000,
          2045000,
          999000,
          3200000,
          2340000,
          139000,
          2499000,
          219000,
          790000,
          1799000,
          330000,
          1749000,
          50400,
          24900,
          399000,
          1390000,
          3499000,
          385990,
          2168450,
          60000,
          5200000,
          900000,
          510000,
          339000,
          1499000,
          8999000,
          499000,
          999000,
          629000,
          235000,
          109000,
          765000,
          1199000,
          1315000,
          493730,
          4499000,
          1174000,
          190000,
          3363000,
          1215000,
          4100000,
          90000,
          135000,
          4299000,
          799000,
          215000,
          1215000,
          2300000,
          199000,
          4869000,
          1839000,
          450000,
          850000,
          1115000,
          629000,
          1749000,
          1549000,
          2599000,
          249000,
          319000,
          250000,
          399000,
          269000,
          1099000,
          599000,
          599000,
          199000,
          1239000,
          1999000,
          6199000,
          99000,
          439000,
          2249000,
          369000,
          1759000,
          1875000,
          599000,
          499000,
          549000,
          999000,
          350000,
          310000,
          235000,
          369000,
          1699000,
          299000,
          269000,
          899000,
          5600000,
          599000,
          725000,
          375000,
          2799000,
          4299000,
          499000,
          1749000,
          2199000,
          410500,
          1099000,
          699000,
          5835000,
          3400000,
          165000,
          1170000,
          150000,
          815000,
          1210000,
          4999000,
          1766500,
          349000,
          209000,
          149000,
          1550000,
          815000,
          440000,
          115500,
          1290000,
          2372500,
          9100000,
          1199000,
          189000,
          1765000,
          257500,
          55000,
          33000,
          2805000,
          99900,
          1699000,
          1040000,
          3299000,
          249000,
          1180000,
          255000,
          589000,
          335500,
          200000,
          3799000,
          1250000,
          1150000,
          357500,
          1499000,
          3000000,
          1244000,
          600000,
          1549000,
          1289000,
          799000,
          639000,
          129000,
          249000,
          249000,
          105000,
          429000,
          469000,
          899000,
          1599000,
          449000,
          389000,
          999000,
          2999000,
          3499000,
          99000,
          399000,
          499000,
          720000,
          120000,
          2469000,
          230000,
          49000,
          99000,
          499000,
          2339000,
          4000000,
          339000,
          299000,
          3150000,
          2599000,
          599000,
          3279000,
          1689000,
          1649000,
          899000,
          2615000,
          149000,
          375000,
          4450000,
          2899000,
          1899000,
          799000,
          93500,
          1155000,
          1399000,
          299000,
          65000,
          101000,
          2549000,
          455000,
          30000,
          75000,
          1495000,
          122200,
          253000,
          302500,
          299000,
          1899000,
          579000,
          299000,
          2699000,
          1999000,
          586000,
          880000,
          899000,
          260000,
          2990000,
          889000,
          2500000,
          950000,
          3500000,
          4950000,
          296000,
          232345,
          310000,
          6459000,
          10835000,
          1149000,
          275000,
          619000,
          2090000,
          40000,
          1499000,
          1050000,
          180000,
          499000,
          265000,
          489000,
          150000,
          999000,
          1700000,
          600000,
          1450000,
          2550000,
          1848000,
          2599000,
          195000,
          3499000,
          1915000,
          2700000,
          2700000,
          1680000,
          4399000,
          2999000,
          69000,
          110000,
          240000,
          696000,
          349000,
          200000,
          4750000,
          8039000,
          1800000,
          749000,
          155000,
          1180000,
          1050000,
          360000,
          2090000,
          445000,
          2049000,
          3299000,
          2599000,
          4599000,
          1690000,
          700000,
          1027000,
          3880000,
          1719000,
          799000,
          24721000,
          1999000,
          99000,
          249000,
          139000,
          849000,
          949000,
          1499000,
          369000,
          299000,
          3199000,
          59000,
          599000,
          389000,
          299000,
          999000,
          499000,
          900000,
          749000,
          299000,
          649000,
          299000,
          219000,
          250000,
          699000,
          999000,
          399000,
          2350000,
          2199000,
          799000,
          1249000,
          2029000,
          359000,
          439000,
          2999000,
          2090000,
          1899000,
          1749000,
          899000,
          399000,
          129000,
          339000,
          279000,
          749000,
          99000,
          350000,
          350000,
          350000,
          350000,
          185000,
          290000,
          450000,
          2999000,
          1900000,
          1500000,
          1600000,
          1550000,
          1780000,
          219000,
          600000,
          341000,
          2099000,
          299000,
          2379000,
          429000,
          20000,
          1504600,
          19000,
          70500,
          471000,
          550000,
          980000,
          1099000,
          4050000,
          749000,
          1629000,
          399000,
          3100000,
          5450000,
          4350000,
          3169000,
          655000,
          2934000,
          869000,
          618450,
          11985000,
          3084500,
          490000,
          1149000,
          3850000,
          1965000,
          2730000,
          2499000,
          2000000,
          129000,
          99000,
          675000,
          850000,
          489000,
          755000,
          495000,
          1348000,
          480000,
          3980000,
          6999000,
          359000,
          1799000,
          1668000,
          2523800,
          1867500,
          199000,
          415000,
          3300000,
          170000,
          855000,
          850000,
          1540000,
          450000,
          260000,
          259000,
          219000,
          255000,
          2000000,
          2298000,
          249000,
          2750000,
          6850000,
          109000,
          119000,
          109000,
          849000,
          4844000,
          5605000,
          3704500,
          4199000,
          449000,
          1540000,
          479000,
          490000,
          159000,
          55000,
          100000,
          2899000,
          729000,
          3100000,
          3239000,
          9900000,
          195000,
          305000,
          250000,
          640000,
          390000,
          615000,
          159500,
          8500000,
          203000,
          948000,
          2950000,
          2589000,
          1999000,
          1749000,
          1749000,
          369000,
          2950,
          499000,
          899000,
          973500,
          1599000,
          3099000,
          269000,
          389000,
          3999000,
          329000,
          3100000,
          530000,
          449000,
          449000,
          449000,
          199000,
          499000,
          99000,
          3999000,
          900000,
          199000,
          2999000,
          2490000,
          179000,
          199000,
          1099000,
          5199000,
          699000,
          2999000,
          199000,
          249000,
          3999000,
          2549000,
          649000,
          1399000,
          249000,
          1610000,
          1475000,
          2999000,
          249000,
          99000,
          2499000,
          3499000,
          549000,
          449000,
          249000,
          79000,
          449000,
          899000,
          2280000,
          779000,
          1599000,
          3399000,
          19900000,
          349000,
          329000,
          1749000,
          2799000,
          3399000,
          3999000,
          899000,
          7139000,
          4439000,
          8250000,
          249000,
          199000,
          279000,
          3999000,
          549000,
          3499000,
          185000,
          249000,
          149000,
          2180000,
          1600000,
          2599000,
          2199000,
          3999000,
          799000,
          1649000,
          5180000,
          350000,
          350000,
          510000,
          310000,
          24000000,
          3700000,
          3500000,
          3750000,
          3300000,
          1900000,
          1425000,
          1650000,
          1700000,
          2150000,
          1600000,
          2050000,
          1780000,
          1780000,
          1600000,
          1550000,
          349000,
          12949000,
          2649000,
          5579000,
          1799000,
          550000,
          240000,
          990000,
          349000,
          300000,
          141000,
          2750000,
          2450000,
          2035000,
          2800000,
          240000,
          135000,
          2899000,
          2508900,
          210400,
          849000,
          29900,
          302800,
          111300,
          282300,
          182200,
          430000,
          440000,
          440000,
          5110000,
          250000,
          629000,
          80000,
          8250000,
          4500000,
          2000000,
          3100000,
          235000,
          5615000,
          4168000,
          249000,
          4950000,
          400000,
          12530000,
          7706000,
          308450,
          3084500,
          5499000,
          6959000,
          2650000,
          722193,
          3140000,
          2010000,
          679000,
          649000,
          2850000,
          199000,
          690000,
          799000,
          599000,
          8499000,
          4099000,
          249000,
          2900000,
          8380000,
          1025000,
          870000,
          915000,
          1900000,
          18177000,
          4950000,
          2499000,
          3200000,
          4200000,
          6499000,
          2990000,
          9900000,
          4030000,
          230000,
          360000,
          2530000,
          3099000,
          2776000,
          2519000,
          1405000,
          365000,
          335000,
          310000,
          1259000,
          330000,
          89000,
          1140000,
          2100000,
          540000,
          5400000,
          5250000,
          3645000,
          3645000,
          750000,
          5500000,
          8520000,
          7750000,
          3229100,
          568000,
          180000,
          85000,
          75000,
          140000,
          135000,
          7770000,
          2125000,
          2195000,
          99000,
          849000,
          6015000,
          2149000,
          2249000,
          3347000,
          1240000,
          1799000,
          1227500,
          852500,
          7471000,
          5450000,
          180000,
          499000,
          190000,
          1999000,
          3185000,
          210000,
          560000,
          9499000,
          6699000,
          750000,
          679000,
          3180000,
          1180000,
          170000,
          4895000,
          150000,
          259800,
          2475000,
          2899000,
          190000,
          184000,
          3299000,
          425000,
          80000,
          375000,
          330000,
          1499000,
          275000,
          3099000,
          2485000,
          297000,
          2789000,
          3800000,
          1999000,
          1295000,
          550000,
          450000,
          198000,
          1115000,
          649000,
          550000,
          25000,
          979000,
          1199000,
          699000,
          1885000,
          1999000,
          1549000,
          2999000,
          389000,
          279000,
          299000,
          389000,
          299000,
          369000,
          389000,
          349000,
          4800,
          379000,
          379000,
          369000,
          369000,
          299000,
          189000,
          3100,
          3200,
          6000,
          3450,
          88000,
          100000,
          99000,
          10449000,
          2999000,
          339000,
          599000,
          3099000,
          2999000,
          1399000,
          230000,
          2749000,
          255000,
          390000,
          1699000,
          2899000,
          399000,
          359000,
          389000,
          449000,
          199000,
          2699000,
          199000,
          1999000,
          599000,
          1615000,
          3439000,
          1999000,
          6000000,
          650000,
          1699000,
          5699000,
          5699000,
          2239000,
          1799000,
          3400000,
          2999000,
          599000,
          1899000,
          2700000,
          2990000,
          3099000,
          349000,
          495000,
          495000,
          299000,
          285000,
          1499000,
          5899000,
          6999000,
          450000,
          399000,
          2339000,
          4299000,
          239000,
          129000,
          4200000,
          3250000,
          899000,
          3399000,
          3099000,
          3399000,
          85990000,
          81990000,
          56990000,
          67990000,
          52990000,
          45990000,
          58990000,
          52990000,
          53990000,
          39990000,
          53990000,
          6450000,
          2299000,
          3999000,
          1249000,
          2749000,
          599000,
          599000,
          399000,
          240000,
          4399000,
          2689000,
          3499000,
          3499000,
          7590000,
          3499000,
          2599000,
          999000,
          7999000,
          8999000,
          10999000,
          9999000,
          3599000,
          2999000,
          495000,
          1299000,
          4500000,
          3000000,
          17999000,
          3900000,
          2550000,
          230000,
          2850000,
          1499000,
          5499000,
          7699000,
          4999000,
          3999000,
          3999000,
          2999000,
          3999999,
          122000,
          2284000,
          350000,
          350000,
          350000,
          510000,
          510000,
          510000,
          510000,
          310000,
          310000,
          310000,
          6800000,
          5129000,
          3159000,
          380000,
          4500000,
          4500000,
          4300000,
          4500000,
          3350000,
          3200000,
          195000,
          3750000,
          3500000,
          3500000,
          3400000,
          1600000,
          1525000,
          1900000,
          1700000,
          1700000,
          1525000,
          1350000,
          1500000,
          1780000,
          1500000,
          1500000,
          1350000,
          1875000,
          1600000,
          1800000,
          1780000,
          1425000,
          1425000,
          1780000,
          1600000,
          1425000,
          1875000,
          1960000,
          1960000,
          1780000,
          1425000,
          1650000,
          1650000,
          1780000,
          1425000,
          1600000,
          1425000,
          1600000,
          1425000,
          1250000,
          699000,
          6999000,
          6999000,
          2449000,
          560000,
          199000,
          925000,
          1485000,
          2650000,
          7190000,
          899000,
          599000,
          3200000,
          3350000,
          3150000,
          2350000,
          3100000,
          2900000,
          2900000,
          3300000,
          3500000,
          3500000,
          3300000,
          5350000,
          12200000,
          299000,
          299000,
          4399000,
          1199000,
          1200000,
          699000,
          2706000,
          420000,
          1890000,
          1600000,
          342500,
          171600,
          2408400,
          51300,
          36000,
          99000,
          202200,
          259000,
          101300,
          101400,
          151400,
          131200,
          8190000,
          6390000,
          17863000,
          4999000,
          3699000,
          1630000,
          449000,
          679000,
          484030,
          435000,
          24000000,
          1599999,
          1450000,
          209000,
          4999000,
          10119000,
          2399000,
          2999000,
          7500000,
          1999000,
          4600000,
          5500000,
          6650000,
          99000,
          890000,
          749000,
          749000,
          840000,
          2749000,
          1390000,
          56000000,
          3000000,
          3150000,
          4750000,
          3000000,
          3000000,
          3000000,
          3500000,
          3000000,
          3200000,
          2020000,
          4800000,
          3500000,
          2049000,
          2490000,
          599000,
          20860000,
          8970000,
          3489000,
          1349000,
          2805000,
          2890000,
          1290000,
          349000,
          599000,
          4899999,
          1698000,
          24900000,
          3490000,
          4495000,
          265000,
          3238000,
          6300000,
          2464500,
          463450,
          540950,
          308450,
          295000,
          2168450,
          1005960,
          1379500,
          695950,
          540950,
          540950,
          3859500,
          4169500,
          2975000,
          3775000,
          4169500,
          5720000,
          7735000,
          5290000,
          1420000,
          970000,
          260000,
          2490000,
          1990000,
          1790000,
          280000,
          13750000,
          3650000,
          14599000,
          22940000,
          34410000,
          999000,
          1369000,
          1669000,
          730000,
          3199000,
          2999000,
          999000,
          375000,
          75000,
          4400000,
          3750000,
          8250000,
          8250000,
          4359000,
          485000,
          4990000,
          249000,
          504500,
          252300,
          4999000,
          2500000,
          70000,
          5599000,
          252000,
          5200000,
          935000,
          1250000,
          3685000,
          2789000,
          1020000,
          600000,
          300000,
          550000,
          375000,
          650000,
          950000,
          950000,
          600000,
          1150000,
          1500000,
          1300000,
          950000,
          950000,
          950000,
          700000,
          600000,
          900000,
          800000,
          1300000,
          950000,
          4327000,
          47307000,
          34255000,
          2090000,
          3500000,
          3689000,
          505000,
          4500000,
          6750000,
          5250000,
          1600000,
          1200000,
          55167000,
          1790000,
          2725000,
          3799000,
          1150000,
          23900000,
          950000,
          6499000,
          1799000,
          4510000,
          7549000,
          12749000,
          13610000,
          2352000,
          2505000,
          769000,
          1945000,
          1890000,
          5249000,
          5249000,
          9750000,
          2900000,
          1299000,
          1049000,
          699000,
          599000,
          329000,
          1399000,
          2599000,
          580000,
          230000,
          185000,
          180000,
          280000,
          180000,
          225000,
          50000,
          490000,
          450000,
          250000,
          290000,
          225000,
          280000,
          450000,
          950000,
          1540000,
          349000,
          250000,
          265000,
          230000,
          248000,
          155000,
          169000,
          169000,
          165000,
          565000,
          5100000,
          2340000,
          5300000,
          325000,
          540000,
          2700000,
          4995000,
          1400000,
          3200000,
          4500000,
          3480000,
          4220000,
          10200000,
          6642000,
          11300000,
          14000000,
          600000,
          567000,
          200000,
          115000,
          80000,
          3490000,
          3990000,
          2399000,
          7770000,
          6850000,
          699000,
          399000,
          1899000,
          5289000,
          7971000,
          10530000,
          21285000,
          30126000,
          20736000,
          15150000,
          3399000,
          7200000,
          4570000,
          4800000,
          2250000,
          179000,
          2249000,
          2189000,
          605000,
          502000,
          3999000,
          1575000,
          18300000,
          8399000,
          785000,
          10389900,
          5249900,
          4059000,
          957500,
          2625000,
          1799000,
          1149000,
          19304000,
          10500000,
          740000,
          2895000,
          3050000,
          5177000,
          1450000,
          740000,
          760000,
          1120000,
          460000,
          9987000,
          18530000,
          3599000,
          1239000,
          1499000,
          3000000,
          3000000,
          3000000,
          4932000,
          1599000,
          76677000,
          445000,
          1750000,
          2500000,
          2180000,
          1180000,
          150000,
          955000,
          775000,
          1000000,
          150000,
          283000,
          350000,
          595000,
          495000,
          795000,
          950000,
          250000,
          330000,
          5199000,
          9480000,
          7520000,
          2580000,
          9790000,
          12000000,
          1560000,
          3820000,
          8190000,
          8200000,
          45000000,
          19499000,
          7499000,
          1299000,
          7000000,
          9560000,
          9094900,
          14289900,
          12300000,
          5100000,
          720000,
          3971000,
          293000,
          499000,
          425000,
          1199000,
          599000,
          231000,
          1292500,
          462000,
          566500,
          295000,
          500000,
          160000,
          2799000,
          10900000,
          9880000,
          6770000,
          4750000,
          5870000,
          153000,
          950000,
          3250000,
          2800000,
          2712000,
          3450000,
          3960000,
          6250000,
          6250000,
          5800000,
          8000000,
          9360000,
          1699000,
          4099000,
          2599000,
          313500,
          210000,
          4118970,
          3599000,
          3088970,
          257500,
          5665000,
          335500,
          2775000,
          767000,
          767000,
          631000,
          597000,
          950000,
          9400000,
          9327000,
          2557000,
          1617000,
          950000,
          3000000,
          650000,
          2040000,
          3500,
          4900,
          2200,
          3200,
          13000,
          9900,
          489000,
          6000,
          5999,
          9900,
          499000,
          11000,
          329000,
          995000,
          699000,
          1280000,
          270000,
          2449000,
          1435000,
          7900,
          4400,
          479000,
          450000,
          145000,
          830000,
          500000,
          84900,
          1599000,
          119000,
          359000,
          45000,
          459000,
          719000,
          25000,
          179000,
          1350000,
          35000,
          2010000,
          1550000,
          3750,
          419000,
          589000,
          215000,
          1399000,
          405000,
          99000,
          299000,
          999000,
          128000,
          120000,
          69000,
          3750,
          189000,
          290000,
          525000,
          1369000,
          599000,
          279000,
          30000,
          899000,
          79000,
          379000,
          309000,
          5400,
          830000,
          149000,
          999000,
          499000,
          349000,
          1099000,
          659000,
          269000,
          229000,
          429000,
          2795000,
          2249000,
          999000,
          849000,
          49000,
          1799000,
          60000,
          269000,
          390000,
          549000,
          899000,
          249000,
          899000,
          1032000,
          1999000,
          99000,
          229000,
          38000,
          1349000,
          749000,
          3500000,
          499000,
          699000,
          599000,
          795000,
          530000,
          3280000,
          499000,
          1949000,
          1369000,
          1949000,
          199000,
          125000,
          50000,
          70000,
          199000,
          825000,
          3900,
          449000,
          299000,
          3499000,
          1999000,
          689000,
          99000,
          60000,
          229000,
          3030000,
          60000,
          1280000,
          249000,
          880000,
          299000,
          649000,
          79000,
          1399000,
          1299000,
          459000,
          1199000,
          779000,
          899000,
          999000,
          299000,
          3800000,
          1499000,
          799000,
          1389000,
          1455000,
          1990000,
          2999000,
          2798000,
          999000,
          379000,
          14000,
          1499000,
          2999000,
          1349000,
          299000,
          2000000,
          2399000,
          199000,
          419000,
          399000,
          499000,
          149000,
          439000,
          1549000,
          2795000,
          883000,
          25000,
          99000,
          1699000,
          610000,
          3000000,
          599000,
          99000,
          3190000,
          3799000,
          640000,
          140000,
          145000,
          1999000,
          1499000,
          2250000,
          1749000,
          299000,
          189900,
          385000,
          379000,
          239000,
          139000,
          99000,
          2699000,
          990000,
          1850000,
          3299000,
          72000,
          2499000,
          3599000,
          299000,
          499000,
          659000,
          499000,
          3499000,
          509000,
          1357000,
          90000,
          485000,
          379000,
          1399000,
          149000,
          299000,
          2799000,
          225000,
          150000,
          2899000,
          379000,
          499000,
          379000,
          365000,
          99000,
          299000,
          299000,
          299000,
          1855000,
          149000,
          899000,
          449000,
          315000,
          249000,
          299000,
          1999000,
          620000,
          1560000,
          499000,
          849000,
          529000,
          1189000,
          379000,
          399000,
          279000,
          279000,
          1699000,
          329000,
          210000,
          249000,
          1999000,
          1699000,
          1349000,
          799000,
          1399000,
          1399000,
          159000,
          2650000,
          1499000,
          1296000,
          190000,
          299000,
          339000,
          329000,
          349000,
          49000,
          999000,
          299000,
          349000,
          549000,
          1675000,
          175000,
          1275000,
          410000,
          379000,
          4999000,
          999000,
          2999000,
          3399000,
          249000,
          181800,
          399000,
          299000,
          129000,
          229000,
          659000,
          3199000,
          3137000,
          1699000,
          2999000,
          499000,
          640000,
          475000,
          120000,
          499000,
          799000,
          299000,
          3199000,
          3999000,
          3999000,
          3816000,
          3999000,
          3167000,
          4399000,
          1099000,
          99000,
          1149000,
          349000,
          1739000,
          1739000,
          229000,
          1079000,
          649000,
          2459000,
          2899000,
          4999000,
          3999000,
          3999000,
          3999000,
          3999000,
          3517000,
          8420000,
          379000,
          1199000,
          1599000,
          499000,
          80000,
          5850000,
          109000,
          479000,
          1899000,
          1999000,
          999000,
          375000,
          959000,
          1019000,
          1649000,
          1947000,
          3599000
         ],
         "y": [
          3599,
          7999,
          3500,
          3500,
          3100,
          6400,
          19000,
          2900,
          957000,
          5200,
          95000,
          8900,
          7500,
          5000,
          10500,
          3100,
          259000,
          2999,
          4400,
          3500,
          39000,
          5000,
          3750,
          2950,
          499000,
          1959000,
          8900,
          849000,
          2900,
          135000,
          199000,
          6199,
          11200,
          54000,
          28000,
          269000,
          5600,
          139000,
          26400,
          225000,
          15000,
          4490,
          245000,
          699000,
          699000,
          5400,
          6799,
          2900,
          6200,
          22500,
          3500,
          7500,
          259000,
          165000,
          2599,
          740000,
          242000,
          490000,
          360000,
          1780000,
          320000,
          89000,
          1435000,
          50000,
          2199000,
          149000,
          215000,
          665000,
          245000,
          649000,
          628000,
          4200,
          229000,
          335000,
          559000,
          8500,
          259000,
          675000,
          455000,
          230000,
          595000,
          2950,
          84000,
          89000,
          145000,
          5000,
          385000,
          239000,
          195000,
          1290000,
          6900,
          94000,
          325000,
          8000,
          1780000,
          125000,
          499000,
          4200,
          240000,
          109000,
          779000,
          239000,
          4450,
          149000,
          1665000,
          145000,
          379000,
          1295000,
          499000,
          289000,
          9999,
          669000,
          377330,
          230000,
          149000,
          6950,
          649000,
          180000,
          70000,
          165000,
          409000,
          30000,
          49000,
          50000,
          1129000,
          69000,
          909000,
          779000,
          75000,
          325000,
          1309000,
          289000,
          169000,
          145000,
          405000,
          632000,
          399000,
          139000,
          595000,
          599000,
          1099000,
          7999,
          3999,
          629000,
          2500,
          479000,
          695000,
          339000,
          790000,
          799000,
          699000,
          1149000,
          669000,
          999000,
          999000,
          1899000,
          819000,
          387000,
          595000,
          925000,
          389000,
          1199000,
          110000,
          79000,
          670000,
          1729000,
          3500,
          589000,
          209000,
          189000,
          220000,
          99000,
          1149000,
          210000,
          155000,
          250000,
          490000,
          298000,
          295000,
          73000,
          1399000,
          449000,
          155000,
          359000,
          999000,
          359000,
          139000,
          299000,
          290000,
          2049000,
          3500,
          2750000,
          589000,
          199000,
          99000,
          399000,
          7999,
          2900000,
          49999,
          165000,
          250000,
          65000,
          1449000,
          1259000,
          1540000,
          1099000,
          1999000,
          1450000,
          55000,
          15000,
          999000,
          899000,
          579000,
          49999,
          149000,
          287500,
          1699000,
          349000,
          34000,
          75000,
          750000,
          499000,
          139000,
          55000,
          165000,
          1760000,
          19000,
          1899000,
          1395000,
          40000,
          1439000,
          119000,
          1675000,
          175000,
          35000,
          795000,
          165000,
          169000,
          919000,
          3879000,
          595000,
          219000,
          79000,
          1699000,
          495000,
          49999,
          16000,
          459000,
          219000,
          900000,
          145000,
          889000,
          122000,
          329000,
          259000,
          209000,
          2900,
          89000,
          34900,
          71000,
          169000,
          75000,
          203500,
          194000,
          205000,
          139000,
          309000,
          375000,
          1949000,
          575000,
          629000,
          999000,
          3490000,
          120000,
          399000,
          449000,
          699000,
          249000,
          15000,
          290000,
          999000,
          199000,
          50000,
          375000,
          25300,
          895000,
          399000,
          1149000,
          360000,
          1390000,
          1299000,
          659000,
          1599000,
          25300,
          325000,
          2350000,
          75000,
          1395000,
          250000,
          55000,
          265000,
          2195000,
          179000,
          595000,
          3499000,
          148000,
          155000,
          1200000,
          245000,
          895000,
          1495000,
          159000,
          1799000,
          471000,
          125000,
          399000,
          79000,
          149000,
          310000,
          279000,
          229000,
          449000,
          5750000,
          49000,
          2649000,
          90000,
          210000,
          69000,
          499000,
          1499000,
          499000,
          1899000,
          1349000,
          830000,
          699000,
          73000,
          170000,
          1150000,
          356000,
          125000,
          815000,
          249000,
          1490000,
          989000,
          669000,
          295000,
          239000,
          199000,
          150000,
          139000,
          135000,
          939000,
          449000,
          139000,
          270000,
          2195000,
          2699000,
          1999000,
          1999000,
          1799000,
          1395000,
          299000,
          77000,
          99000,
          399000,
          1519000,
          239000,
          695000,
          295000,
          99000,
          845000,
          109000,
          599000,
          889000,
          75000,
          310000,
          10000,
          179000,
          1899000,
          2445000,
          275000,
          115000,
          49000,
          135000,
          949000,
          19000,
          2649000,
          269000,
          1320000,
          70000,
          35000,
          1499000,
          169000,
          149000,
          799000,
          3199000,
          750000,
          1565000,
          239000,
          109000,
          3499000,
          2699000,
          2239000,
          499000,
          499000,
          1349000,
          375000,
          139000,
          425000,
          199000,
          615000,
          99000,
          749000,
          129000,
          6199,
          249000,
          179000,
          299000,
          170000,
          3695000,
          1395000,
          99000,
          129000,
          190000,
          1499000,
          1315000,
          1179000,
          1549000,
          199000,
          615000,
          199000,
          193000,
          50000,
          250000,
          125000,
          1349000,
          2199000,
          105000,
          420000,
          199000,
          199000,
          115000,
          255000,
          50000,
          529000,
          1049000,
          1599000,
          329000,
          1050000,
          199000,
          189000,
          835000,
          709000,
          312000,
          329000,
          2249000,
          2170000,
          2290000,
          1345000,
          1399000,
          2075000,
          299000,
          89000,
          145000,
          99000,
          2498000,
          185000,
          199000,
          1989000,
          229000,
          3099000,
          469000,
          299000,
          799000,
          155000,
          899000,
          149000,
          79000,
          69000,
          1797000,
          179000,
          6389000,
          229000,
          418000,
          199000,
          429000,
          1249000,
          979000,
          2725000,
          199000,
          499000,
          1499000,
          159000,
          699000,
          400000,
          519000,
          1099000,
          1049000,
          219000,
          582000,
          1749000,
          1650000,
          140000,
          675000,
          1199000,
          265000,
          1199000,
          199000,
          1479000,
          2750000,
          420000,
          1829000,
          399000,
          349000,
          850000,
          1045000,
          80000,
          99000,
          349000,
          599000,
          249000,
          399000,
          2899000,
          29000,
          327500,
          121000,
          1999000,
          1799000,
          1540000,
          1099000,
          3330000,
          3000000,
          499000,
          1797000,
          1399000,
          199000,
          330000,
          2499000,
          10000,
          59000,
          330000,
          319999,
          4650000,
          77000,
          400000,
          400000,
          179000,
          799000,
          2099000,
          1715000,
          1320000,
          205000,
          3500000,
          1620000,
          79000,
          140000,
          350000,
          170000,
          1999000,
          89000,
          789000,
          745000,
          359000,
          375000,
          449000,
          179000,
          100000,
          1199000,
          215000,
          123845,
          1875000,
          379000,
          135000,
          95000,
          99000,
          1410000,
          75000,
          3099000,
          2700000,
          459000,
          90000,
          649000,
          1925000,
          199000,
          1580000,
          175000,
          379000,
          170000,
          479000,
          99000,
          1499000,
          220000,
          2699000,
          450000,
          295000,
          1999000,
          389000,
          490000,
          2499000,
          3249000,
          935000,
          250000,
          1564700,
          4059000,
          1199000,
          45000,
          1650000,
          349000,
          1299000,
          1485000,
          250000,
          355000,
          499000,
          1799000,
          2078000,
          2999000,
          2199000,
          369000,
          110000,
          549000,
          355000,
          3129000,
          1925000,
          79000,
          1889000,
          2812000,
          1149000,
          379000,
          2170000,
          230000,
          1799000,
          2839000,
          398000,
          7500000,
          199000,
          1099000,
          1265000,
          65000,
          299000,
          279000,
          2999000,
          140000,
          1999000,
          3969000,
          2490000,
          499000,
          99000,
          135000,
          449000,
          6000,
          279000,
          349000,
          349000,
          7999,
          179000,
          99000,
          449000,
          1870000,
          269000,
          5750000,
          1590000,
          20300,
          1999000,
          85000,
          1599000,
          499000,
          819000,
          57500,
          199000,
          1450000,
          1000000,
          1950000,
          1265000,
          820000,
          49999,
          449000,
          749000,
          279000,
          475000,
          1959000,
          1029000,
          1299000,
          340000,
          160000,
          319000,
          35000,
          629000,
          1990000,
          469000,
          249000,
          290000,
          195000,
          98000,
          250000,
          399000,
          750000,
          1299000,
          299000,
          499000,
          149000,
          399000,
          471000,
          395000,
          1430000,
          215000,
          510000,
          169000,
          289000,
          99000,
          3049000,
          3030000,
          1265000,
          1425000,
          540000,
          749000,
          649000,
          1249000,
          85000,
          999000,
          289000,
          149000,
          179000,
          399000,
          299000,
          415000,
          1229000,
          3129000,
          199000,
          65000,
          250000,
          730000,
          495000,
          329000,
          2499000,
          400000,
          329000,
          2949000,
          75000,
          118000,
          250000,
          205000,
          211000,
          250000,
          1359000,
          1969000,
          49999,
          3230000,
          1950000,
          3532000,
          35000,
          10863000,
          1899000,
          5999000,
          179000,
          319000,
          229000,
          2530000,
          125000,
          1590000,
          2699000,
          3199000,
          150000,
          749000,
          2199000,
          260000,
          839000,
          339000,
          45000,
          649000,
          499000,
          99000,
          3499000,
          135000,
          299000,
          199000,
          279000,
          50000,
          155000,
          2299000,
          12310000,
          449000,
          39000,
          3049000,
          1199000,
          299000,
          289000,
          1049000,
          3499000,
          80000,
          449000,
          1975000,
          2473000,
          1315000,
          2499000,
          75000,
          80000,
          445000,
          130000,
          280000,
          549000,
          489000,
          629000,
          4240000,
          950000,
          3880000,
          499000,
          750000,
          549000,
          1799000,
          489000,
          240000,
          35000,
          149000,
          160000,
          229000,
          1470000,
          269000,
          379000,
          375000,
          219000,
          1520000,
          199000,
          799000,
          399000,
          139000,
          79000,
          340000,
          1449000,
          2999000,
          2149000,
          1019000,
          55000,
          495000,
          529000,
          899000,
          490000,
          449000,
          1619000,
          299000,
          923000,
          399000,
          1365000,
          879000,
          1930000,
          1470000,
          276000,
          3995000,
          1250000,
          3687000,
          125000,
          3499000,
          265000,
          6040000,
          2900000,
          490000,
          420000,
          105000,
          1484000,
          480000,
          1699000,
          3250000,
          474000,
          474000,
          1999000,
          359000,
          335000,
          1590000,
          99000,
          1595000,
          1895000,
          1198000,
          669000,
          475000,
          189000,
          50000,
          999000,
          90750,
          399000,
          183000,
          1570000,
          2199000,
          1239000,
          2719000,
          499000,
          980000,
          399000,
          1749000,
          1000000,
          2269000,
          739000,
          3230000,
          699000,
          6650000,
          499000,
          1790000,
          1320000,
          499000,
          130000,
          89000,
          3999000,
          2510000,
          6389000,
          1867300,
          2372500,
          1045000,
          2020000,
          3899000,
          5900000,
          97000,
          789000,
          199000,
          1980000,
          945000,
          475000,
          140000,
          433000,
          2390000,
          1999000,
          789000,
          129000,
          199000,
          319000,
          799000,
          599000,
          189000,
          99000,
          279000,
          99000,
          339000,
          995000,
          3999000,
          189000,
          1999000,
          2050000,
          1730000,
          405000,
          2499000,
          205000,
          3499000,
          99000,
          1319000,
          730000,
          455000,
          1699000,
          1760000,
          669000,
          3200000,
          1980000,
          139000,
          1500000,
          219000,
          779000,
          1799000,
          299000,
          1749000,
          50400,
          24900,
          399000,
          1390000,
          3439000,
          385990,
          2168450,
          60000,
          5200000,
          900000,
          510000,
          339000,
          1499000,
          6999000,
          499000,
          999000,
          629000,
          235000,
          109000,
          765000,
          1199000,
          1265000,
          493730,
          4499000,
          799000,
          190000,
          3363000,
          1215000,
          4100000,
          90000,
          135000,
          4299000,
          799000,
          215000,
          1215000,
          2300000,
          199000,
          4869000,
          1839000,
          401000,
          659000,
          1115000,
          629000,
          1749000,
          1549000,
          2359000,
          249000,
          319000,
          199000,
          159000,
          269000,
          849000,
          190000,
          355000,
          135000,
          1239000,
          1199000,
          5599000,
          69000,
          439000,
          2249000,
          369000,
          1600000,
          1785000,
          405000,
          289000,
          549000,
          999000,
          195000,
          195000,
          199000,
          369000,
          1699000,
          299000,
          269000,
          899000,
          5600000,
          599000,
          725000,
          375000,
          2799000,
          4299000,
          499000,
          1749000,
          2199000,
          410500,
          1099000,
          685000,
          5835000,
          3400000,
          165000,
          1170000,
          150000,
          815000,
          1210000,
          4499000,
          1766500,
          349000,
          209000,
          149000,
          1550000,
          815000,
          440000,
          115500,
          1290000,
          2372500,
          9100000,
          949000,
          189000,
          1345000,
          257500,
          55000,
          33000,
          2805000,
          99900,
          1699000,
          1040000,
          3299000,
          249000,
          1180000,
          255000,
          589000,
          335500,
          200000,
          3799000,
          1250000,
          1150000,
          357500,
          1499000,
          3000000,
          1244000,
          600000,
          1549000,
          1289000,
          799000,
          589000,
          129000,
          249000,
          249000,
          105000,
          429000,
          469000,
          325000,
          749000,
          339000,
          359000,
          999000,
          2745000,
          3129000,
          25000,
          209000,
          359000,
          720000,
          98000,
          2049000,
          230000,
          29000,
          49000,
          365000,
          2339000,
          3499000,
          339000,
          299000,
          2800000,
          2049000,
          360000,
          3279000,
          1689000,
          1649000,
          899000,
          2145000,
          149000,
          375000,
          3990000,
          2899000,
          1299000,
          799000,
          93500,
          1155000,
          1399000,
          219000,
          26500,
          101000,
          2549000,
          401000,
          30000,
          75000,
          999000,
          122200,
          253000,
          302500,
          299000,
          1899000,
          579000,
          224000,
          2699000,
          1999000,
          586000,
          880000,
          899000,
          260000,
          2990000,
          889000,
          2500000,
          950000,
          3500000,
          3949000,
          296000,
          232345,
          310000,
          6459000,
          10835000,
          1149000,
          275000,
          619000,
          1320000,
          40000,
          1499000,
          1050000,
          180000,
          499000,
          265000,
          489000,
          59000,
          589000,
          1700000,
          600000,
          1450000,
          2550000,
          1848000,
          2599000,
          195000,
          2299000,
          1265000,
          2700000,
          2700000,
          1680000,
          4399000,
          2999000,
          69000,
          110000,
          240000,
          696000,
          349000,
          200000,
          4750000,
          8039000,
          750000,
          749000,
          155000,
          1180000,
          1050000,
          360000,
          1845000,
          445000,
          2049000,
          3299000,
          1999000,
          4599000,
          1559000,
          599000,
          1027000,
          3880000,
          1719000,
          799000,
          24721000,
          1999000,
          99000,
          249000,
          139000,
          849000,
          949000,
          1499000,
          369000,
          175000,
          2879000,
          59000,
          260000,
          389000,
          225000,
          999000,
          342000,
          405000,
          449000,
          149000,
          324000,
          195000,
          219000,
          159999,
          699000,
          735000,
          310000,
          2249000,
          2199000,
          535000,
          1249000,
          2029000,
          359000,
          439000,
          2400000,
          2090000,
          1499000,
          1749000,
          759000,
          399000,
          99000,
          219000,
          279000,
          749000,
          99000,
          195000,
          195000,
          195000,
          195000,
          185000,
          290000,
          442500,
          2999000,
          1900000,
          1500000,
          1600000,
          1550000,
          1780000,
          209000,
          499000,
          341000,
          1799000,
          299000,
          2379000,
          429000,
          20000,
          1504600,
          19000,
          70500,
          471000,
          550000,
          980000,
          1099000,
          4050000,
          749000,
          1629000,
          399000,
          3100000,
          5450000,
          4350000,
          3169000,
          340000,
          2934000,
          869000,
          618450,
          11985000,
          3084500,
          490000,
          1149000,
          3250000,
          1540000,
          2730000,
          1529000,
          2000000,
          129000,
          99000,
          675000,
          850000,
          489000,
          755000,
          495000,
          1348000,
          480000,
          3980000,
          6999000,
          359000,
          1498000,
          1399000,
          2523800,
          1867500,
          199000,
          415000,
          3300000,
          170000,
          855000,
          850000,
          1045000,
          450000,
          260000,
          259000,
          219000,
          255000,
          2000000,
          2298000,
          249000,
          2750000,
          6850000,
          109000,
          119000,
          109000,
          699000,
          4844000,
          5605000,
          3704500,
          4199000,
          449000,
          1540000,
          479000,
          490000,
          159000,
          55000,
          100000,
          2899000,
          729000,
          3100000,
          3239000,
          8370000,
          195000,
          305000,
          250000,
          640000,
          390000,
          615000,
          159500,
          8500000,
          203000,
          948000,
          2190000,
          2555000,
          1999000,
          1749000,
          1749000,
          369000,
          2950,
          199000,
          489000,
          973500,
          1195000,
          3099000,
          269000,
          389000,
          1990000,
          299000,
          2350000,
          530000,
          379000,
          359000,
          359000,
          129000,
          399000,
          25000,
          3999000,
          405000,
          95000,
          2999000,
          1735000,
          99000,
          199000,
          979000,
          5199000,
          599000,
          2399000,
          129000,
          159000,
          3999000,
          2445000,
          399000,
          1099000,
          229000,
          1610000,
          1045000,
          2999000,
          195000,
          69000,
          2499000,
          3499000,
          549000,
          359000,
          249000,
          79000,
          449000,
          750000,
          2090000,
          779000,
          1149000,
          3399000,
          19900000,
          349000,
          329000,
          1749000,
          1999000,
          3199000,
          3599000,
          899000,
          7059000,
          4439000,
          8250000,
          249000,
          199000,
          279000,
          3999000,
          549000,
          3499000,
          185000,
          249000,
          149000,
          1735000,
          1600000,
          2599000,
          2199000,
          3999000,
          759000,
          1599000,
          5180000,
          195000,
          195000,
          430000,
          195000,
          24000000,
          3700000,
          3500000,
          3750000,
          3300000,
          1900000,
          1425000,
          1650000,
          1700000,
          2150000,
          1600000,
          2050000,
          1780000,
          1780000,
          1600000,
          1550000,
          209000,
          12949000,
          2649000,
          5499000,
          1799000,
          550000,
          240000,
          990000,
          349000,
          300000,
          141000,
          1949000,
          1650000,
          2035000,
          2300000,
          240000,
          135000,
          2899000,
          2508900,
          210400,
          849000,
          29900,
          302800,
          111300,
          282300,
          182200,
          430000,
          440000,
          440000,
          5110000,
          250000,
          629000,
          80000,
          8250000,
          4500000,
          2000000,
          3100000,
          235000,
          5615000,
          4168000,
          249000,
          3949000,
          400000,
          12530000,
          7706000,
          308450,
          3084500,
          4599000,
          6959000,
          2650000,
          722193,
          3140000,
          2010000,
          679000,
          649000,
          2850000,
          199000,
          690000,
          799000,
          599000,
          5888000,
          4099000,
          249000,
          2900000,
          8380000,
          1025000,
          870000,
          915000,
          1900000,
          18177000,
          3949000,
          2499000,
          3200000,
          4200000,
          6499000,
          2990000,
          9900000,
          4030000,
          230000,
          360000,
          2199000,
          2499000,
          2776000,
          2519000,
          1045000,
          365000,
          335000,
          310000,
          1259000,
          330000,
          89000,
          1140000,
          2100000,
          540000,
          5400000,
          5250000,
          3645000,
          3645000,
          750000,
          5500000,
          8520000,
          7750000,
          3229100,
          568000,
          180000,
          85000,
          75000,
          140000,
          135000,
          7770000,
          2079000,
          2195000,
          99000,
          699000,
          6015000,
          2149000,
          2249000,
          3347000,
          1240000,
          1799000,
          1227500,
          852500,
          7471000,
          5450000,
          180000,
          499000,
          190000,
          1999000,
          3185000,
          210000,
          560000,
          9499000,
          6699000,
          750000,
          679000,
          3180000,
          1180000,
          170000,
          4895000,
          150000,
          259800,
          2475000,
          1175000,
          190000,
          184000,
          3299000,
          425000,
          80000,
          375000,
          330000,
          1499000,
          275000,
          3099000,
          2485000,
          297000,
          2789000,
          3800000,
          1999000,
          1295000,
          550000,
          450000,
          198000,
          1115000,
          649000,
          550000,
          25000,
          979000,
          1199000,
          699000,
          1885000,
          1999000,
          1549000,
          2659000,
          389000,
          279000,
          299000,
          389000,
          299000,
          369000,
          389000,
          349000,
          4800,
          379000,
          379000,
          369000,
          369000,
          299000,
          189000,
          3100,
          3200,
          6000,
          3450,
          88000,
          69000,
          99000,
          10449000,
          2799000,
          339000,
          229000,
          3099000,
          2799000,
          1399000,
          230000,
          2749000,
          245000,
          375000,
          1399000,
          2439000,
          399000,
          339999,
          389000,
          359000,
          129000,
          2499000,
          95000,
          1999000,
          108000,
          1615000,
          3439000,
          1795000,
          6000000,
          435000,
          1375000,
          5699000,
          5699000,
          2239000,
          1799000,
          3400000,
          2999000,
          465000,
          1699000,
          2700000,
          1699000,
          3099000,
          189000,
          495000,
          495000,
          299000,
          285000,
          1499000,
          5899000,
          6999000,
          450000,
          219000,
          1299000,
          3399000,
          239000,
          129000,
          4069000,
          3250000,
          899000,
          3399000,
          3099000,
          3399000,
          85990000,
          81990000,
          56990000,
          67990000,
          52990000,
          45990000,
          58990000,
          52990000,
          53990000,
          39990000,
          53990000,
          5800000,
          2299000,
          3599100,
          1249000,
          2749000,
          405000,
          405000,
          389000,
          180000,
          4399000,
          2689000,
          3499000,
          2279000,
          7590000,
          2999000,
          2599000,
          999000,
          7499000,
          8999000,
          10999000,
          9999000,
          3599000,
          2999000,
          495000,
          1299000,
          4500000,
          3000000,
          17999000,
          3900000,
          2550000,
          230000,
          2850000,
          1499000,
          5499000,
          7699000,
          4999000,
          3999000,
          3999000,
          2399000,
          3999999,
          122000,
          2284000,
          195000,
          195000,
          195000,
          430000,
          430000,
          430000,
          430000,
          195000,
          195000,
          195000,
          6800000,
          5129000,
          3159000,
          380000,
          4500000,
          4500000,
          4300000,
          4500000,
          3350000,
          3200000,
          195000,
          3750000,
          3500000,
          3500000,
          3400000,
          1600000,
          1525000,
          1900000,
          1700000,
          1700000,
          1525000,
          1350000,
          1500000,
          1780000,
          1500000,
          1500000,
          1350000,
          1875000,
          1600000,
          1800000,
          1780000,
          1425000,
          1425000,
          1780000,
          1600000,
          1425000,
          1875000,
          1960000,
          1960000,
          1780000,
          1425000,
          1650000,
          1650000,
          1780000,
          1425000,
          1600000,
          1425000,
          1600000,
          1425000,
          1250000,
          699000,
          6999000,
          6999000,
          2449000,
          560000,
          199000,
          925000,
          1485000,
          2650000,
          3500000,
          899000,
          599000,
          3200000,
          3350000,
          3150000,
          2350000,
          3100000,
          2900000,
          2900000,
          3300000,
          3500000,
          3500000,
          3300000,
          5350000,
          12200000,
          299000,
          299000,
          4399000,
          1199000,
          999000,
          699000,
          2706000,
          420000,
          1890000,
          1600000,
          342500,
          171600,
          2408400,
          51300,
          36000,
          99000,
          202200,
          259000,
          101300,
          101400,
          151400,
          131200,
          8190000,
          6390000,
          17863000,
          4999000,
          3699000,
          1630000,
          449000,
          679000,
          484030,
          435000,
          24000000,
          1599999,
          1450000,
          209000,
          4999000,
          10119000,
          2399000,
          2999000,
          7500000,
          1999000,
          4600000,
          5500000,
          6650000,
          99000,
          890000,
          349000,
          349000,
          840000,
          2749000,
          1245000,
          56000000,
          3000000,
          3150000,
          4750000,
          3000000,
          3000000,
          3000000,
          3500000,
          3000000,
          3200000,
          2020000,
          4800000,
          3500000,
          2049000,
          2490000,
          599000,
          20860000,
          8970000,
          3489000,
          1349000,
          2805000,
          2890000,
          1290000,
          349000,
          599000,
          4899999,
          1698000,
          24900000,
          3490000,
          4495000,
          265000,
          3238000,
          6300000,
          2464500,
          463450,
          540950,
          308450,
          295000,
          2168450,
          1005960,
          1379500,
          695950,
          540950,
          540950,
          3859500,
          4169500,
          2975000,
          3775000,
          4169500,
          5720000,
          7735000,
          5290000,
          1420000,
          970000,
          260000,
          2490000,
          1990000,
          1790000,
          280000,
          13750000,
          3650000,
          14599000,
          22940000,
          34410000,
          699000,
          1369000,
          1669000,
          730000,
          3199000,
          2999000,
          999000,
          375000,
          75000,
          4400000,
          3750000,
          8250000,
          8250000,
          4359000,
          485000,
          4990000,
          249000,
          504500,
          252300,
          4999000,
          2500000,
          70000,
          5599000,
          252000,
          5200000,
          935000,
          1250000,
          3685000,
          2789000,
          1020000,
          600000,
          300000,
          550000,
          375000,
          650000,
          950000,
          950000,
          600000,
          1150000,
          1500000,
          1300000,
          950000,
          950000,
          950000,
          700000,
          600000,
          900000,
          800000,
          1300000,
          950000,
          4327000,
          47307000,
          34255000,
          2090000,
          3500000,
          3689000,
          505000,
          4500000,
          6750000,
          5250000,
          1600000,
          1200000,
          55167000,
          1790000,
          2725000,
          3799000,
          1150000,
          23900000,
          759000,
          6499000,
          1799000,
          4510000,
          7549000,
          12749000,
          13610000,
          2352000,
          2505000,
          769000,
          1320000,
          1890000,
          3650000,
          5249000,
          9750000,
          2900000,
          1299000,
          1049000,
          699000,
          599000,
          329000,
          1399000,
          2599000,
          580000,
          230000,
          185000,
          180000,
          280000,
          180000,
          225000,
          50000,
          490000,
          450000,
          250000,
          290000,
          225000,
          280000,
          450000,
          950000,
          1045000,
          349000,
          250000,
          265000,
          230000,
          248000,
          155000,
          169000,
          169000,
          165000,
          565000,
          5100000,
          2340000,
          5300000,
          325000,
          540000,
          2295000,
          4995000,
          1400000,
          3200000,
          4500000,
          3480000,
          4220000,
          10200000,
          6642000,
          11300000,
          14000000,
          600000,
          567000,
          200000,
          115000,
          80000,
          3490000,
          3990000,
          2399000,
          7770000,
          6850000,
          699000,
          399000,
          1899000,
          5289000,
          7971000,
          10530000,
          21285000,
          30126000,
          20736000,
          15150000,
          3399000,
          7200000,
          4570000,
          4800000,
          2250000,
          179000,
          2249000,
          2189000,
          250000,
          250000,
          3999000,
          1575000,
          18300000,
          8399000,
          785000,
          10389900,
          5249900,
          4059000,
          957500,
          2625000,
          1799000,
          1149000,
          19304000,
          10500000,
          740000,
          2895000,
          3050000,
          5177000,
          1450000,
          740000,
          760000,
          1120000,
          460000,
          9987000,
          18530000,
          3599000,
          1239000,
          1499000,
          3000000,
          3000000,
          3000000,
          4932000,
          1599000,
          76677000,
          445000,
          1750000,
          2500000,
          2180000,
          1180000,
          150000,
          955000,
          775000,
          1000000,
          150000,
          283000,
          350000,
          595000,
          495000,
          795000,
          950000,
          250000,
          330000,
          5199000,
          9480000,
          7520000,
          2580000,
          9790000,
          12000000,
          1560000,
          3820000,
          8190000,
          8200000,
          45000000,
          19499000,
          7499000,
          1299000,
          7000000,
          9560000,
          9094900,
          14289900,
          12300000,
          5100000,
          720000,
          3971000,
          293000,
          499000,
          425000,
          1199000,
          599000,
          79000,
          1292500,
          462000,
          566500,
          295000,
          500000,
          160000,
          2799000,
          10900000,
          9880000,
          6770000,
          4750000,
          5870000,
          153000,
          950000,
          3250000,
          2800000,
          2712000,
          3450000,
          3960000,
          6250000,
          6250000,
          4950000,
          8000000,
          7385000,
          1699000,
          4099000,
          2599000,
          313500,
          210000,
          4118970,
          3599000,
          3088970,
          257500,
          5665000,
          335500,
          2775000,
          767000,
          767000,
          631000,
          597000,
          950000,
          9400000,
          9327000,
          2557000,
          1617000,
          950000,
          3000000,
          650000,
          1390000,
          2900,
          4900,
          2200,
          3200,
          13000,
          9900,
          489000,
          5800,
          4500,
          9900,
          499000,
          11000,
          329000,
          995000,
          699000,
          1280000,
          270000,
          2449000,
          1435000,
          7900,
          4400,
          479000,
          450000,
          145000,
          830000,
          500000,
          84900,
          1599000,
          119000,
          359000,
          45000,
          459000,
          719000,
          25000,
          179000,
          1350000,
          35000,
          2010000,
          1399000,
          3750,
          419000,
          589000,
          215000,
          1399000,
          405000,
          99000,
          299000,
          999000,
          128000,
          120000,
          69000,
          3750,
          189000,
          199999,
          525000,
          1369000,
          599000,
          279000,
          30000,
          899000,
          79000,
          379000,
          309000,
          5400,
          830000,
          149000,
          999000,
          499000,
          349000,
          1099000,
          659000,
          269000,
          229000,
          429000,
          2795000,
          2249000,
          999000,
          849000,
          49000,
          1799000,
          60000,
          269000,
          365000,
          549000,
          899000,
          249000,
          899000,
          1032000,
          1999000,
          99000,
          229000,
          38000,
          1099000,
          749000,
          1249000,
          239000,
          699000,
          599000,
          795000,
          530000,
          2199000,
          499000,
          1949000,
          1369000,
          1949000,
          199000,
          125000,
          50000,
          70000,
          199000,
          825000,
          3900,
          249000,
          299000,
          2699000,
          1999000,
          689000,
          99000,
          60000,
          229000,
          1699000,
          60000,
          1280000,
          249000,
          880000,
          299000,
          649000,
          79000,
          1399000,
          1299000,
          459000,
          1199000,
          779000,
          899000,
          899000,
          299000,
          1199000,
          1499000,
          799000,
          1389000,
          1455000,
          1990000,
          2999000,
          2798000,
          999000,
          379000,
          14000,
          1499000,
          2999000,
          1349000,
          299000,
          2000000,
          2399000,
          199000,
          419000,
          249000,
          485000,
          149000,
          439000,
          1549000,
          2795000,
          883000,
          25000,
          99000,
          1699000,
          610000,
          3000000,
          499000,
          99000,
          3190000,
          3799000,
          640000,
          140000,
          145000,
          1359000,
          1299000,
          2250000,
          1749000,
          299000,
          189900,
          385000,
          379000,
          239000,
          139000,
          99000,
          2699000,
          990000,
          1599000,
          3299000,
          72000,
          2499000,
          3599000,
          299000,
          239000,
          659000,
          499000,
          3499000,
          509000,
          1357000,
          90000,
          485000,
          299000,
          1399000,
          149000,
          299000,
          2799000,
          225000,
          150000,
          2899000,
          345000,
          499000,
          379000,
          365000,
          99000,
          299000,
          299000,
          299000,
          1855000,
          149000,
          899000,
          449000,
          315000,
          249000,
          299000,
          1999000,
          620000,
          1560000,
          499000,
          849000,
          529000,
          1189000,
          299000,
          249000,
          279000,
          279000,
          1699000,
          329000,
          210000,
          249000,
          1999000,
          1699000,
          1349000,
          799000,
          1399000,
          1399000,
          159000,
          2650000,
          1499000,
          1296000,
          190000,
          284900,
          339000,
          329000,
          349000,
          49000,
          999000,
          299000,
          349000,
          549000,
          1675000,
          175000,
          1275000,
          410000,
          379000,
          4199000,
          999000,
          2999000,
          3399000,
          249000,
          181800,
          399000,
          299000,
          129000,
          229000,
          659000,
          2879000,
          3137000,
          1699000,
          2999000,
          499000,
          640000,
          475000,
          120000,
          499000,
          799000,
          299000,
          3199000,
          3299000,
          3299000,
          3816000,
          3299000,
          3167000,
          3599000,
          1099000,
          99000,
          1149000,
          349000,
          1739000,
          1739000,
          229000,
          1079000,
          649000,
          2459000,
          2899000,
          3969000,
          3299000,
          3299000,
          3299000,
          3299000,
          3517000,
          8420000,
          379000,
          1199000,
          1599000,
          499000,
          80000,
          5850000,
          109000,
          479000,
          1899000,
          1999000,
          999000,
          375000,
          959000,
          1019000,
          1649000,
          1545000,
          3599000
         ],
         "z": [
          5,
          4.9,
          5,
          5,
          4.9,
          4.8,
          4.9,
          5,
          4.9,
          5,
          5,
          5,
          4.9,
          5,
          4.8,
          4.9,
          5,
          5,
          5,
          5,
          5,
          5,
          4.9,
          5,
          5,
          5,
          4.9,
          5,
          5,
          5,
          4.9,
          5,
          5,
          4.9,
          4.9,
          5,
          4.9,
          5,
          5,
          4.9,
          4.9,
          5,
          5,
          5,
          5,
          5,
          5,
          4.9,
          5,
          4.9,
          4.6,
          5,
          4.9,
          5,
          4.9,
          5,
          5,
          5,
          4.9,
          5,
          5,
          5,
          5,
          4.9,
          5,
          5,
          5,
          5,
          5,
          5,
          5,
          4.9,
          5,
          5,
          5,
          5,
          4.9,
          4.9,
          5,
          5,
          5,
          5,
          5,
          4.9,
          4.9,
          5,
          4.9,
          5,
          4.9,
          5,
          5,
          5,
          4.9,
          5,
          5,
          5,
          4.7,
          5,
          4.9,
          5,
          5,
          5,
          5,
          4.9,
          4.9,
          5,
          5,
          5,
          5,
          5,
          4.9,
          5,
          5,
          5,
          4.8,
          5,
          4.9,
          4.9,
          4.9,
          5,
          4.9,
          5,
          5,
          5,
          4.9,
          5,
          5,
          5,
          5,
          5,
          5,
          5,
          5,
          4.9,
          5,
          4.9,
          4.8,
          4.9,
          5,
          4.9,
          5,
          5,
          5,
          5,
          5,
          5,
          4.9,
          4.9,
          5,
          4.9,
          4.9,
          5,
          5,
          5,
          5,
          5,
          4.9,
          5,
          5,
          5,
          5,
          4.8,
          5,
          4.9,
          4.9,
          5,
          0,
          5,
          4.9,
          5,
          5,
          4.9,
          4.9,
          5,
          4.9,
          4.9,
          5,
          5,
          4.9,
          4.9,
          5,
          5,
          5,
          4.9,
          5,
          4.9,
          4.8,
          4.9,
          4.9,
          5,
          4.9,
          5,
          4.9,
          4.9,
          5,
          4.9,
          5,
          5,
          4.7,
          4.9,
          5,
          4.9,
          4.9,
          5,
          5,
          4.9,
          5,
          5,
          4.9,
          4.9,
          5,
          5,
          4.9,
          5,
          4.8,
          4.9,
          5,
          4.9,
          4.8,
          5,
          5,
          4.9,
          4.9,
          5,
          4.9,
          4.9,
          4.9,
          4.9,
          5,
          4.9,
          5,
          4.9,
          4.9,
          5,
          4.9,
          4.7,
          5,
          5,
          5,
          5,
          4.9,
          4.9,
          5,
          5,
          5,
          4.9,
          5,
          5,
          4.9,
          4.9,
          5,
          5,
          4.9,
          4.8,
          4.8,
          4.8,
          5,
          5,
          4.9,
          4.9,
          5,
          5,
          4.9,
          5,
          4.9,
          4.9,
          5,
          4.9,
          5,
          4.9,
          5,
          5,
          4.8,
          4.8,
          5,
          5,
          4.9,
          4.9,
          4.9,
          5,
          4.8,
          5,
          5,
          5,
          5,
          5,
          5,
          5,
          5,
          4.9,
          5,
          5,
          5,
          5,
          5,
          5,
          5,
          5,
          5,
          5,
          5,
          5,
          4.9,
          4.7,
          5,
          5,
          5,
          4.8,
          5,
          5,
          4.9,
          5,
          5,
          5,
          4.9,
          5,
          4.6,
          5,
          5,
          4.5,
          5,
          4.8,
          5,
          5,
          4.9,
          5,
          4.8,
          5,
          5,
          5,
          5,
          5,
          5,
          5,
          5,
          5,
          4.9,
          5,
          5,
          4.9,
          4.8,
          5,
          4.9,
          5,
          5,
          5,
          4.9,
          4.9,
          5,
          4.9,
          4.6,
          4.9,
          4.9,
          4.9,
          4.8,
          5,
          4.9,
          5,
          4.7,
          4.8,
          5,
          4.6,
          4.9,
          5,
          5,
          5,
          4.8,
          5,
          5,
          4.9,
          5,
          4.9,
          4.7,
          4.8,
          5,
          5,
          5,
          4.9,
          5,
          5,
          4.9,
          5,
          5,
          4.9,
          5,
          5,
          5,
          5,
          5,
          5,
          4.9,
          5,
          5,
          4.1,
          5,
          4.8,
          5,
          5,
          4.7,
          4.8,
          4.9,
          5,
          5,
          4.9,
          4.9,
          5,
          4.6,
          5,
          5,
          5,
          4.8,
          4.9,
          5,
          5,
          5,
          5,
          5,
          4.9,
          5,
          5,
          5,
          5,
          5,
          5,
          5,
          4.9,
          5,
          5,
          4.9,
          5,
          4.9,
          4.9,
          4.8,
          5,
          5,
          4.9,
          5,
          4.8,
          5,
          5,
          5,
          4.6,
          4.8,
          4.9,
          5,
          4.8,
          5,
          5,
          5,
          4.9,
          4.9,
          5,
          5,
          5,
          5,
          4.9,
          5,
          4.9,
          4.9,
          5,
          5,
          5,
          5,
          5,
          5,
          5,
          4.8,
          5,
          5,
          4.9,
          5,
          5,
          5,
          5,
          5,
          5,
          5,
          5,
          4.9,
          5,
          4.9,
          4.9,
          5,
          5,
          5,
          4.8,
          5,
          5,
          5,
          5,
          4.5,
          4.9,
          5,
          4.9,
          4.9,
          4.9,
          5,
          5,
          5,
          4.6,
          5,
          4.6,
          5,
          5,
          5,
          4.6,
          5,
          5,
          5,
          4.8,
          5,
          5,
          5,
          4.5,
          5,
          4.9,
          4.8,
          5,
          4.8,
          4.9,
          4.8,
          4.9,
          5,
          5,
          5,
          5,
          5,
          5,
          5,
          5,
          5,
          5,
          5,
          5,
          4.9,
          4.8,
          5,
          4.9,
          5,
          4.7,
          5,
          5,
          5,
          5,
          5,
          5,
          5,
          5,
          5,
          5,
          5,
          4.9,
          5,
          4.8,
          5,
          4.9,
          5,
          4.8,
          4.9,
          5,
          5,
          5,
          5,
          5,
          5,
          4.6,
          5,
          5,
          5,
          5,
          5,
          5,
          5,
          5,
          5,
          5,
          4.9,
          5,
          5,
          5,
          4.7,
          5,
          5,
          4.8,
          5,
          5,
          5,
          4.6,
          5,
          4.9,
          5,
          4.5,
          5,
          5,
          5,
          5,
          5,
          5,
          5,
          5,
          5,
          5,
          4.8,
          5,
          5,
          5,
          5,
          5,
          5,
          5,
          5,
          5,
          4.3,
          5,
          5,
          5,
          5,
          5,
          5,
          5,
          5,
          0,
          5,
          5,
          5,
          4.9,
          5,
          5,
          5,
          4.9,
          5,
          5,
          5,
          5,
          5,
          5,
          4.8,
          4,
          4.9,
          5,
          4.9,
          5,
          4.4,
          4.9,
          5,
          4.8,
          4.9,
          5,
          4.9,
          5,
          4.8,
          5,
          4.8,
          5,
          5,
          5,
          5,
          5,
          5,
          5,
          5,
          5,
          5,
          4.8,
          5,
          5,
          5,
          5,
          5,
          5,
          5,
          5,
          5,
          5,
          4.1,
          5,
          4.8,
          5,
          4.9,
          5,
          5,
          5,
          5,
          5,
          5,
          5,
          4,
          5,
          5,
          4.8,
          4.7,
          5,
          5,
          5,
          5,
          4.9,
          5,
          5,
          5,
          4.3,
          5,
          5,
          5,
          5,
          5,
          5,
          5,
          5,
          5,
          5,
          5,
          4.9,
          5,
          5,
          5,
          5,
          5,
          5,
          5,
          5,
          4.7,
          5,
          5,
          5,
          5,
          5,
          5,
          5,
          5,
          4.5,
          5,
          5,
          5,
          5,
          5,
          5,
          5,
          5,
          5,
          4.8,
          5,
          4.8,
          5,
          4.8,
          5,
          4.2,
          5,
          5,
          4.7,
          4.7,
          5,
          5,
          5,
          5,
          5,
          5,
          5,
          4.8,
          5,
          5,
          4.7,
          4.8,
          5,
          5,
          5,
          5,
          5,
          5,
          5,
          5,
          5,
          5,
          4.2,
          5,
          5,
          4,
          4.8,
          5,
          5,
          5,
          5,
          5,
          5,
          5,
          5,
          5,
          5,
          4.8,
          5,
          5,
          5,
          5,
          5,
          5,
          5,
          5,
          4.6,
          5,
          4.8,
          5,
          5,
          5,
          5,
          4.3,
          4.8,
          5,
          5,
          5,
          5,
          5,
          5,
          5,
          5,
          5,
          5,
          5,
          5,
          5,
          4.6,
          5,
          5,
          5,
          4.4,
          5,
          5,
          5,
          5,
          5,
          5,
          5,
          5,
          5,
          5,
          5,
          5,
          5,
          4.8,
          5,
          5,
          5,
          5,
          5,
          4.8,
          5,
          5,
          5,
          5,
          5,
          5,
          5,
          4.8,
          5,
          5,
          4.8,
          5,
          5,
          4.8,
          5,
          5,
          5,
          5,
          5,
          5,
          5,
          4,
          5,
          5,
          5,
          4.8,
          5,
          4.3,
          5,
          5,
          5,
          5,
          5,
          5,
          5,
          5,
          5,
          5,
          5,
          5,
          5,
          5,
          5,
          5,
          5,
          4.8,
          5,
          5,
          4.8,
          5,
          5,
          5,
          5,
          5,
          5,
          5,
          5,
          5,
          5,
          5,
          5,
          4.8,
          5,
          5,
          5,
          0,
          5,
          4.5,
          4.3,
          5,
          5,
          5,
          5,
          5,
          5,
          5,
          5,
          5,
          5,
          5,
          5,
          5,
          5,
          5,
          5,
          5,
          4.5,
          5,
          5,
          4.8,
          5,
          5,
          5,
          5,
          4,
          5,
          3,
          3.3,
          5,
          5,
          5,
          5,
          5,
          5,
          5,
          5,
          4,
          5,
          5,
          5,
          5,
          5,
          0,
          5,
          5,
          5,
          5,
          5,
          5,
          5,
          5,
          5,
          0,
          5,
          5,
          5,
          5,
          5,
          5,
          0,
          5,
          5,
          4.6,
          5,
          5,
          5,
          5,
          5,
          5,
          5,
          5,
          4,
          5,
          5,
          5,
          4.8,
          5,
          5,
          5,
          5,
          5,
          5,
          5,
          5,
          5,
          0,
          0,
          5,
          5,
          5,
          5,
          3.7,
          5,
          4.7,
          5,
          0,
          3,
          5,
          5,
          5,
          4.8,
          5,
          5,
          5,
          5,
          5,
          5,
          5,
          5,
          4.7,
          5,
          5,
          5,
          4.3,
          0,
          0,
          5,
          4.3,
          5,
          5,
          5,
          5,
          5,
          5,
          5,
          5,
          5,
          5,
          5,
          5,
          5,
          5,
          5,
          5,
          4,
          5,
          0,
          5,
          5,
          5,
          5,
          5,
          0,
          4.7,
          5,
          5,
          5,
          5,
          5,
          5,
          5,
          5,
          3,
          5,
          5,
          5,
          5,
          4,
          5,
          5,
          5,
          5,
          5,
          5,
          5,
          4.3,
          5,
          5,
          5,
          5,
          5,
          5,
          5,
          5,
          5,
          5,
          5,
          0,
          0,
          5,
          0,
          5,
          5,
          5,
          5,
          5,
          5,
          5,
          0,
          0,
          0,
          5,
          5,
          0,
          3,
          5,
          5,
          3,
          5,
          0,
          5,
          5,
          5,
          5,
          5,
          5,
          5,
          5,
          0,
          5,
          5,
          0,
          5,
          5,
          5,
          5,
          5,
          5,
          5,
          0,
          0,
          0,
          5,
          5,
          5,
          5,
          0,
          5,
          5,
          5,
          5,
          5,
          5,
          5,
          0,
          4.7,
          0,
          0,
          0,
          5,
          5,
          5,
          5,
          5,
          5,
          5,
          5,
          5,
          5,
          5,
          5,
          5,
          0,
          5,
          4.5,
          4.5,
          5,
          5,
          0,
          1,
          0,
          5,
          0,
          5,
          5,
          5,
          5,
          5,
          5,
          5,
          0,
          5,
          5,
          0,
          5,
          5,
          5,
          0,
          5,
          4.5,
          5,
          4.5,
          5,
          5,
          5,
          5,
          5,
          5,
          5,
          5,
          5,
          4.5,
          5,
          5,
          5,
          5,
          0,
          5,
          0,
          5,
          5,
          5,
          5,
          0,
          5,
          5,
          5,
          0,
          0,
          0,
          0,
          5,
          0,
          0,
          5,
          5,
          0,
          5,
          5,
          0,
          5,
          5,
          0,
          0,
          5,
          5,
          5,
          5,
          0,
          5,
          0,
          5,
          5,
          5,
          5,
          5,
          5,
          0,
          5,
          5,
          0,
          5,
          5,
          0,
          0,
          5,
          5,
          5,
          5,
          0,
          5,
          5,
          5,
          5,
          5,
          0,
          0,
          4.5,
          0,
          5,
          0,
          5,
          5,
          5,
          0,
          0,
          5,
          5,
          0,
          5,
          5,
          0,
          5,
          5,
          0,
          5,
          0,
          5,
          5,
          0,
          0,
          2,
          5,
          5,
          5,
          5,
          5,
          5,
          5,
          5,
          5,
          5,
          4.5,
          5,
          5,
          5,
          0,
          0,
          5,
          0,
          4,
          5,
          0,
          5,
          0,
          5,
          5,
          5,
          5,
          5,
          5,
          5,
          5,
          5,
          5,
          5,
          5,
          0,
          5,
          5,
          0,
          5,
          5,
          5,
          0,
          5,
          5,
          5,
          5,
          0,
          5,
          5,
          5,
          5,
          5,
          5,
          0,
          2,
          0,
          5,
          5,
          0,
          5,
          0,
          5,
          0,
          5,
          5,
          5,
          0,
          0,
          5,
          0,
          5,
          5,
          3,
          5,
          5,
          0,
          5,
          5,
          0,
          5,
          0,
          0,
          0,
          0,
          0,
          0,
          5,
          5,
          5,
          0,
          5,
          0,
          5,
          4,
          0,
          0,
          5,
          5,
          5,
          0,
          5,
          5,
          5,
          5,
          0,
          0,
          5,
          0,
          5,
          0,
          5,
          0,
          0,
          5,
          0,
          0,
          0,
          0,
          0,
          0,
          0,
          0,
          5,
          5,
          0,
          0,
          5,
          0,
          0,
          0,
          5,
          5,
          0,
          5,
          5,
          5,
          0,
          5,
          0,
          0,
          0,
          5,
          0,
          5,
          5,
          5,
          5,
          0,
          5,
          0,
          5,
          5,
          0,
          0,
          0,
          0,
          5,
          0,
          0,
          5,
          5,
          0,
          0,
          0,
          5,
          5,
          5,
          5,
          0,
          5,
          0,
          5,
          0,
          0,
          5,
          0,
          5,
          0,
          0,
          5,
          0,
          0,
          5,
          0,
          5,
          5,
          0,
          5,
          3,
          0,
          0,
          0,
          5,
          0,
          5,
          5,
          3,
          5,
          0,
          0,
          0,
          5,
          0,
          0,
          0,
          5,
          5,
          5,
          0,
          5,
          5,
          5,
          4,
          0,
          5,
          0,
          0,
          5,
          0,
          0,
          5,
          5,
          5,
          0,
          0,
          5,
          5,
          5,
          0,
          5,
          5,
          0,
          0,
          0,
          0,
          5,
          5,
          5,
          0,
          5,
          5,
          4,
          0,
          0,
          5,
          5,
          0,
          0,
          5,
          5,
          0,
          0,
          5,
          0,
          5,
          5,
          5,
          0,
          5,
          5,
          0,
          0,
          0,
          0,
          5,
          5,
          0,
          5,
          0,
          0,
          5,
          5,
          5,
          5,
          5,
          0,
          0,
          3,
          0,
          0,
          5,
          5,
          5,
          5,
          5,
          5,
          0,
          0,
          5,
          5,
          0,
          5,
          0,
          0,
          5,
          0,
          5,
          0,
          5,
          0,
          0,
          0,
          0,
          5,
          5,
          5,
          5,
          0,
          5,
          5,
          0,
          5,
          5,
          5,
          0,
          5,
          5,
          0,
          5,
          5,
          5,
          0,
          0,
          5,
          0,
          5,
          0,
          5,
          5,
          0,
          0,
          0,
          4,
          5,
          0,
          0,
          0,
          5,
          5,
          5,
          5,
          0,
          5,
          0,
          5,
          5,
          0,
          0,
          5,
          0,
          0,
          0,
          0,
          4.9,
          0,
          0,
          0,
          0,
          0,
          0,
          0,
          0,
          0,
          0,
          0,
          0,
          0,
          0,
          0,
          0,
          0,
          0,
          0,
          0,
          0,
          0,
          0,
          0,
          0,
          0,
          0,
          0,
          0,
          0,
          0,
          0,
          0,
          0,
          0,
          0,
          0,
          0,
          0,
          0,
          0,
          0,
          0,
          0,
          0,
          0,
          0,
          0,
          0,
          0,
          0,
          0,
          0,
          0,
          0,
          0,
          0,
          0,
          0,
          0,
          0,
          0,
          0,
          0,
          0,
          0,
          0,
          0,
          0,
          0,
          0,
          0,
          0,
          0,
          0,
          0,
          0,
          0,
          0,
          0,
          0,
          0,
          0,
          0,
          0,
          0,
          0,
          0,
          0,
          0,
          0,
          0,
          0,
          0,
          0,
          0,
          0,
          0,
          0,
          0,
          0,
          0,
          0,
          0,
          0,
          0,
          0,
          0,
          0,
          0,
          0,
          0,
          0,
          0,
          0,
          0,
          0,
          0,
          0,
          0,
          0,
          0,
          0,
          0,
          0,
          0,
          0,
          0,
          0,
          0,
          0,
          0,
          0,
          0,
          0,
          0,
          0,
          0,
          0,
          0,
          0,
          0,
          0,
          0,
          0,
          0,
          0,
          0,
          0,
          0,
          0,
          0,
          0,
          0,
          0,
          0,
          0,
          0,
          0,
          0,
          0,
          0,
          0,
          0,
          0,
          0,
          0,
          0,
          0,
          0,
          0,
          0,
          0,
          0,
          0,
          0,
          0,
          0,
          0,
          0,
          0,
          0,
          0,
          0,
          0,
          0,
          0,
          0,
          0,
          0,
          0,
          0,
          0,
          0,
          0,
          0,
          0,
          0,
          0,
          0,
          0,
          0,
          0,
          0,
          0,
          0,
          0,
          0,
          0,
          0,
          0,
          0,
          0,
          0,
          0,
          0,
          0,
          0,
          0,
          0,
          0,
          0,
          0,
          0,
          0,
          0,
          0,
          0,
          0,
          0,
          0,
          0,
          0,
          0,
          0,
          0,
          0,
          0,
          0,
          0,
          0,
          0,
          0,
          0,
          0,
          0,
          0,
          0,
          0,
          0,
          0,
          0,
          0,
          0,
          0,
          0,
          0,
          0,
          0,
          0,
          0,
          0,
          0,
          0,
          0,
          0,
          0,
          0,
          0,
          0,
          0,
          0,
          0,
          0,
          0,
          0,
          0,
          0,
          0,
          0,
          0,
          0,
          0,
          0,
          0,
          0,
          0,
          0,
          0,
          0,
          0,
          0,
          0,
          0,
          0,
          0,
          0,
          0,
          0,
          0,
          0,
          0,
          0,
          0,
          0,
          0,
          0,
          0,
          0,
          0,
          0,
          0,
          0,
          0,
          0,
          0,
          0,
          0,
          0,
          0,
          0,
          0,
          0,
          0,
          0,
          0,
          0,
          0,
          0,
          0,
          0,
          0,
          0,
          0,
          0,
          0,
          0,
          0,
          0,
          0,
          0,
          0,
          0,
          0,
          0,
          0,
          0,
          0,
          0,
          0,
          0,
          0,
          0,
          0,
          0,
          0,
          0,
          0,
          0,
          0,
          0,
          0,
          0,
          0,
          0,
          0,
          0,
          0,
          0,
          0,
          0,
          0,
          0,
          0,
          0,
          0,
          0,
          0,
          0,
          0,
          0,
          0,
          0,
          0,
          0,
          0,
          0,
          0,
          0,
          0,
          0,
          0,
          0,
          0,
          0,
          0,
          0,
          0,
          0,
          0,
          0,
          0,
          0,
          0,
          0,
          0,
          0,
          0,
          0,
          0,
          0,
          0,
          0,
          0,
          0,
          0,
          0,
          0,
          0,
          0,
          0,
          0,
          0,
          0,
          0,
          0,
          0,
          0,
          0,
          0,
          0,
          0,
          0,
          0,
          0,
          0,
          0,
          0,
          0,
          0,
          0,
          0,
          0,
          0,
          0,
          0,
          0,
          0,
          0,
          0,
          0,
          0,
          0,
          0,
          0,
          0,
          0,
          0,
          0,
          0,
          0,
          0,
          0,
          0,
          0,
          0,
          0,
          0,
          0,
          0,
          0,
          0,
          0,
          0,
          0,
          0,
          0,
          0,
          0,
          0,
          0,
          0,
          0,
          0,
          0,
          0,
          0,
          0,
          0,
          0,
          0,
          0,
          0,
          0,
          0,
          0,
          0,
          0,
          0,
          0,
          0,
          0,
          0,
          0,
          0,
          0,
          0,
          0,
          0,
          0,
          0,
          0,
          0,
          0,
          0,
          0,
          0,
          0,
          0,
          0,
          0,
          0,
          0,
          0,
          0,
          0,
          0,
          0,
          0,
          0,
          0,
          0,
          0,
          0,
          0,
          0,
          0,
          0,
          0,
          0,
          0,
          0,
          0,
          0,
          0,
          0,
          0,
          0,
          0,
          0,
          0,
          0,
          0,
          0,
          0,
          0,
          0,
          0,
          0,
          0,
          0,
          0,
          0,
          0,
          0,
          0,
          0,
          0,
          0,
          0,
          0,
          0,
          0,
          0,
          0,
          0,
          0,
          0,
          0,
          0,
          0,
          0,
          0,
          0,
          0,
          0,
          0,
          0,
          0,
          0,
          0,
          0,
          0,
          0,
          0,
          0,
          0,
          0,
          0,
          0,
          0,
          0,
          0,
          0,
          0,
          0,
          0,
          0,
          0,
          0,
          0,
          0,
          0,
          0,
          0,
          0,
          0,
          0,
          0,
          0,
          0,
          0,
          0,
          0,
          0,
          0,
          0,
          0,
          0,
          0,
          0,
          0,
          0,
          0,
          0,
          5,
          5,
          4.9,
          5,
          4.9,
          4.9,
          5,
          5,
          5,
          5,
          5,
          5,
          5,
          5,
          4.9,
          5,
          4.9,
          5,
          5,
          5,
          5,
          5,
          4.9,
          5,
          0,
          5,
          4.9,
          4.9,
          4.9,
          0,
          0,
          0,
          5,
          0,
          5,
          5,
          4.9,
          0,
          4.9,
          5,
          4.9,
          4.9,
          5,
          5,
          4.9,
          5,
          5,
          5,
          5,
          4.9,
          4.9,
          5,
          5,
          4.9,
          4.9,
          5,
          5,
          4.9,
          5,
          5,
          4.9,
          5,
          4.9,
          4.9,
          5,
          5,
          5,
          5,
          4.9,
          4.8,
          4.9,
          4.9,
          4.9,
          4.9,
          5,
          5,
          5,
          5,
          5,
          5,
          5,
          5,
          4.9,
          5,
          4.9,
          0,
          5,
          0,
          4.9,
          5,
          5,
          4.9,
          5,
          5,
          5,
          5,
          4.9,
          5,
          5,
          0,
          4.8,
          4.9,
          4.9,
          5,
          4.9,
          4.9,
          5,
          4.8,
          5,
          5,
          0,
          5,
          4.9,
          4.9,
          5,
          5,
          4.9,
          5,
          5,
          5,
          5,
          5,
          5,
          5,
          4.9,
          4.9,
          4.9,
          0,
          0,
          5,
          5,
          5,
          5,
          4.9,
          5,
          4.9,
          4.9,
          5,
          5,
          5,
          4.8,
          5,
          4.9,
          5,
          5,
          4.9,
          5,
          5,
          4.9,
          5,
          5,
          5,
          4.8,
          4.9,
          4.9,
          4.7,
          4.9,
          5,
          5,
          5,
          4.9,
          5,
          0,
          5,
          5,
          4.9,
          5,
          5,
          4.8,
          5,
          5,
          5,
          4.9,
          5,
          5,
          5,
          5,
          5,
          5,
          5,
          5,
          5,
          5,
          5,
          5,
          5,
          5,
          5,
          5,
          5,
          5,
          4.8,
          5,
          5,
          5,
          4.9,
          5,
          4.8,
          4.9,
          5,
          5,
          5,
          5,
          4.4,
          5,
          4.7,
          5,
          5,
          4.9,
          5,
          5,
          4.8,
          5,
          5,
          5,
          5,
          5,
          5,
          5,
          4.8,
          5,
          5,
          4.8,
          5,
          5,
          5,
          5,
          5,
          4,
          5,
          5,
          5,
          4.5,
          5,
          5,
          5,
          4.8,
          5,
          5,
          5,
          0,
          5,
          5,
          5,
          5,
          5,
          5,
          5,
          5,
          5,
          5,
          4.8,
          5,
          5,
          5,
          5,
          5,
          5,
          0,
          5,
          5,
          5,
          5,
          5,
          5,
          5,
          5,
          5,
          5,
          5,
          5,
          5,
          5,
          0,
          0,
          5,
          5,
          5,
          5,
          5,
          5,
          5,
          5,
          5,
          5,
          0,
          0,
          5,
          5,
          0,
          3,
          0,
          4.5,
          0,
          0,
          5,
          0,
          0,
          5,
          0,
          0,
          5,
          0,
          5,
          0,
          5,
          0,
          5,
          5,
          5,
          0,
          0,
          0,
          5,
          0,
          0,
          0,
          5,
          5,
          0,
          0,
          5,
          5,
          0,
          5,
          0,
          0,
          5
         ]
        }
       ],
       "layout": {
        "coloraxis": {
         "colorbar": {
          "title": {
           "text": "rating"
          }
         },
         "colorscale": [
          [
           0,
           "#0d0887"
          ],
          [
           0.1111111111111111,
           "#46039f"
          ],
          [
           0.2222222222222222,
           "#7201a8"
          ],
          [
           0.3333333333333333,
           "#9c179e"
          ],
          [
           0.4444444444444444,
           "#bd3786"
          ],
          [
           0.5555555555555556,
           "#d8576b"
          ],
          [
           0.6666666666666666,
           "#ed7953"
          ],
          [
           0.7777777777777778,
           "#fb9f3a"
          ],
          [
           0.8888888888888888,
           "#fdca26"
          ],
          [
           1,
           "#f0f921"
          ]
         ]
        },
        "legend": {
         "tracegroupgap": 0
        },
        "scene": {
         "domain": {
          "x": [
           0,
           1
          ],
          "y": [
           0,
           1
          ]
         },
         "xaxis": {
          "title": {
           "text": "harga_awal"
          }
         },
         "yaxis": {
          "title": {
           "text": "harga_jual"
          }
         },
         "zaxis": {
          "title": {
           "text": "rating"
          }
         }
        },
        "template": {
         "data": {
          "bar": [
           {
            "error_x": {
             "color": "#2a3f5f"
            },
            "error_y": {
             "color": "#2a3f5f"
            },
            "marker": {
             "line": {
              "color": "#E5ECF6",
              "width": 0.5
             },
             "pattern": {
              "fillmode": "overlay",
              "size": 10,
              "solidity": 0.2
             }
            },
            "type": "bar"
           }
          ],
          "barpolar": [
           {
            "marker": {
             "line": {
              "color": "#E5ECF6",
              "width": 0.5
             },
             "pattern": {
              "fillmode": "overlay",
              "size": 10,
              "solidity": 0.2
             }
            },
            "type": "barpolar"
           }
          ],
          "carpet": [
           {
            "aaxis": {
             "endlinecolor": "#2a3f5f",
             "gridcolor": "white",
             "linecolor": "white",
             "minorgridcolor": "white",
             "startlinecolor": "#2a3f5f"
            },
            "baxis": {
             "endlinecolor": "#2a3f5f",
             "gridcolor": "white",
             "linecolor": "white",
             "minorgridcolor": "white",
             "startlinecolor": "#2a3f5f"
            },
            "type": "carpet"
           }
          ],
          "choropleth": [
           {
            "colorbar": {
             "outlinewidth": 0,
             "ticks": ""
            },
            "type": "choropleth"
           }
          ],
          "contour": [
           {
            "colorbar": {
             "outlinewidth": 0,
             "ticks": ""
            },
            "colorscale": [
             [
              0,
              "#0d0887"
             ],
             [
              0.1111111111111111,
              "#46039f"
             ],
             [
              0.2222222222222222,
              "#7201a8"
             ],
             [
              0.3333333333333333,
              "#9c179e"
             ],
             [
              0.4444444444444444,
              "#bd3786"
             ],
             [
              0.5555555555555556,
              "#d8576b"
             ],
             [
              0.6666666666666666,
              "#ed7953"
             ],
             [
              0.7777777777777778,
              "#fb9f3a"
             ],
             [
              0.8888888888888888,
              "#fdca26"
             ],
             [
              1,
              "#f0f921"
             ]
            ],
            "type": "contour"
           }
          ],
          "contourcarpet": [
           {
            "colorbar": {
             "outlinewidth": 0,
             "ticks": ""
            },
            "type": "contourcarpet"
           }
          ],
          "heatmap": [
           {
            "colorbar": {
             "outlinewidth": 0,
             "ticks": ""
            },
            "colorscale": [
             [
              0,
              "#0d0887"
             ],
             [
              0.1111111111111111,
              "#46039f"
             ],
             [
              0.2222222222222222,
              "#7201a8"
             ],
             [
              0.3333333333333333,
              "#9c179e"
             ],
             [
              0.4444444444444444,
              "#bd3786"
             ],
             [
              0.5555555555555556,
              "#d8576b"
             ],
             [
              0.6666666666666666,
              "#ed7953"
             ],
             [
              0.7777777777777778,
              "#fb9f3a"
             ],
             [
              0.8888888888888888,
              "#fdca26"
             ],
             [
              1,
              "#f0f921"
             ]
            ],
            "type": "heatmap"
           }
          ],
          "heatmapgl": [
           {
            "colorbar": {
             "outlinewidth": 0,
             "ticks": ""
            },
            "colorscale": [
             [
              0,
              "#0d0887"
             ],
             [
              0.1111111111111111,
              "#46039f"
             ],
             [
              0.2222222222222222,
              "#7201a8"
             ],
             [
              0.3333333333333333,
              "#9c179e"
             ],
             [
              0.4444444444444444,
              "#bd3786"
             ],
             [
              0.5555555555555556,
              "#d8576b"
             ],
             [
              0.6666666666666666,
              "#ed7953"
             ],
             [
              0.7777777777777778,
              "#fb9f3a"
             ],
             [
              0.8888888888888888,
              "#fdca26"
             ],
             [
              1,
              "#f0f921"
             ]
            ],
            "type": "heatmapgl"
           }
          ],
          "histogram": [
           {
            "marker": {
             "pattern": {
              "fillmode": "overlay",
              "size": 10,
              "solidity": 0.2
             }
            },
            "type": "histogram"
           }
          ],
          "histogram2d": [
           {
            "colorbar": {
             "outlinewidth": 0,
             "ticks": ""
            },
            "colorscale": [
             [
              0,
              "#0d0887"
             ],
             [
              0.1111111111111111,
              "#46039f"
             ],
             [
              0.2222222222222222,
              "#7201a8"
             ],
             [
              0.3333333333333333,
              "#9c179e"
             ],
             [
              0.4444444444444444,
              "#bd3786"
             ],
             [
              0.5555555555555556,
              "#d8576b"
             ],
             [
              0.6666666666666666,
              "#ed7953"
             ],
             [
              0.7777777777777778,
              "#fb9f3a"
             ],
             [
              0.8888888888888888,
              "#fdca26"
             ],
             [
              1,
              "#f0f921"
             ]
            ],
            "type": "histogram2d"
           }
          ],
          "histogram2dcontour": [
           {
            "colorbar": {
             "outlinewidth": 0,
             "ticks": ""
            },
            "colorscale": [
             [
              0,
              "#0d0887"
             ],
             [
              0.1111111111111111,
              "#46039f"
             ],
             [
              0.2222222222222222,
              "#7201a8"
             ],
             [
              0.3333333333333333,
              "#9c179e"
             ],
             [
              0.4444444444444444,
              "#bd3786"
             ],
             [
              0.5555555555555556,
              "#d8576b"
             ],
             [
              0.6666666666666666,
              "#ed7953"
             ],
             [
              0.7777777777777778,
              "#fb9f3a"
             ],
             [
              0.8888888888888888,
              "#fdca26"
             ],
             [
              1,
              "#f0f921"
             ]
            ],
            "type": "histogram2dcontour"
           }
          ],
          "mesh3d": [
           {
            "colorbar": {
             "outlinewidth": 0,
             "ticks": ""
            },
            "type": "mesh3d"
           }
          ],
          "parcoords": [
           {
            "line": {
             "colorbar": {
              "outlinewidth": 0,
              "ticks": ""
             }
            },
            "type": "parcoords"
           }
          ],
          "pie": [
           {
            "automargin": true,
            "type": "pie"
           }
          ],
          "scatter": [
           {
            "fillpattern": {
             "fillmode": "overlay",
             "size": 10,
             "solidity": 0.2
            },
            "type": "scatter"
           }
          ],
          "scatter3d": [
           {
            "line": {
             "colorbar": {
              "outlinewidth": 0,
              "ticks": ""
             }
            },
            "marker": {
             "colorbar": {
              "outlinewidth": 0,
              "ticks": ""
             }
            },
            "type": "scatter3d"
           }
          ],
          "scattercarpet": [
           {
            "marker": {
             "colorbar": {
              "outlinewidth": 0,
              "ticks": ""
             }
            },
            "type": "scattercarpet"
           }
          ],
          "scattergeo": [
           {
            "marker": {
             "colorbar": {
              "outlinewidth": 0,
              "ticks": ""
             }
            },
            "type": "scattergeo"
           }
          ],
          "scattergl": [
           {
            "marker": {
             "colorbar": {
              "outlinewidth": 0,
              "ticks": ""
             }
            },
            "type": "scattergl"
           }
          ],
          "scattermapbox": [
           {
            "marker": {
             "colorbar": {
              "outlinewidth": 0,
              "ticks": ""
             }
            },
            "type": "scattermapbox"
           }
          ],
          "scatterpolar": [
           {
            "marker": {
             "colorbar": {
              "outlinewidth": 0,
              "ticks": ""
             }
            },
            "type": "scatterpolar"
           }
          ],
          "scatterpolargl": [
           {
            "marker": {
             "colorbar": {
              "outlinewidth": 0,
              "ticks": ""
             }
            },
            "type": "scatterpolargl"
           }
          ],
          "scatterternary": [
           {
            "marker": {
             "colorbar": {
              "outlinewidth": 0,
              "ticks": ""
             }
            },
            "type": "scatterternary"
           }
          ],
          "surface": [
           {
            "colorbar": {
             "outlinewidth": 0,
             "ticks": ""
            },
            "colorscale": [
             [
              0,
              "#0d0887"
             ],
             [
              0.1111111111111111,
              "#46039f"
             ],
             [
              0.2222222222222222,
              "#7201a8"
             ],
             [
              0.3333333333333333,
              "#9c179e"
             ],
             [
              0.4444444444444444,
              "#bd3786"
             ],
             [
              0.5555555555555556,
              "#d8576b"
             ],
             [
              0.6666666666666666,
              "#ed7953"
             ],
             [
              0.7777777777777778,
              "#fb9f3a"
             ],
             [
              0.8888888888888888,
              "#fdca26"
             ],
             [
              1,
              "#f0f921"
             ]
            ],
            "type": "surface"
           }
          ],
          "table": [
           {
            "cells": {
             "fill": {
              "color": "#EBF0F8"
             },
             "line": {
              "color": "white"
             }
            },
            "header": {
             "fill": {
              "color": "#C8D4E3"
             },
             "line": {
              "color": "white"
             }
            },
            "type": "table"
           }
          ]
         },
         "layout": {
          "annotationdefaults": {
           "arrowcolor": "#2a3f5f",
           "arrowhead": 0,
           "arrowwidth": 1
          },
          "autotypenumbers": "strict",
          "coloraxis": {
           "colorbar": {
            "outlinewidth": 0,
            "ticks": ""
           }
          },
          "colorscale": {
           "diverging": [
            [
             0,
             "#8e0152"
            ],
            [
             0.1,
             "#c51b7d"
            ],
            [
             0.2,
             "#de77ae"
            ],
            [
             0.3,
             "#f1b6da"
            ],
            [
             0.4,
             "#fde0ef"
            ],
            [
             0.5,
             "#f7f7f7"
            ],
            [
             0.6,
             "#e6f5d0"
            ],
            [
             0.7,
             "#b8e186"
            ],
            [
             0.8,
             "#7fbc41"
            ],
            [
             0.9,
             "#4d9221"
            ],
            [
             1,
             "#276419"
            ]
           ],
           "sequential": [
            [
             0,
             "#0d0887"
            ],
            [
             0.1111111111111111,
             "#46039f"
            ],
            [
             0.2222222222222222,
             "#7201a8"
            ],
            [
             0.3333333333333333,
             "#9c179e"
            ],
            [
             0.4444444444444444,
             "#bd3786"
            ],
            [
             0.5555555555555556,
             "#d8576b"
            ],
            [
             0.6666666666666666,
             "#ed7953"
            ],
            [
             0.7777777777777778,
             "#fb9f3a"
            ],
            [
             0.8888888888888888,
             "#fdca26"
            ],
            [
             1,
             "#f0f921"
            ]
           ],
           "sequentialminus": [
            [
             0,
             "#0d0887"
            ],
            [
             0.1111111111111111,
             "#46039f"
            ],
            [
             0.2222222222222222,
             "#7201a8"
            ],
            [
             0.3333333333333333,
             "#9c179e"
            ],
            [
             0.4444444444444444,
             "#bd3786"
            ],
            [
             0.5555555555555556,
             "#d8576b"
            ],
            [
             0.6666666666666666,
             "#ed7953"
            ],
            [
             0.7777777777777778,
             "#fb9f3a"
            ],
            [
             0.8888888888888888,
             "#fdca26"
            ],
            [
             1,
             "#f0f921"
            ]
           ]
          },
          "colorway": [
           "#636efa",
           "#EF553B",
           "#00cc96",
           "#ab63fa",
           "#FFA15A",
           "#19d3f3",
           "#FF6692",
           "#B6E880",
           "#FF97FF",
           "#FECB52"
          ],
          "font": {
           "color": "#2a3f5f"
          },
          "geo": {
           "bgcolor": "white",
           "lakecolor": "white",
           "landcolor": "#E5ECF6",
           "showlakes": true,
           "showland": true,
           "subunitcolor": "white"
          },
          "hoverlabel": {
           "align": "left"
          },
          "hovermode": "closest",
          "mapbox": {
           "style": "light"
          },
          "paper_bgcolor": "white",
          "plot_bgcolor": "#E5ECF6",
          "polar": {
           "angularaxis": {
            "gridcolor": "white",
            "linecolor": "white",
            "ticks": ""
           },
           "bgcolor": "#E5ECF6",
           "radialaxis": {
            "gridcolor": "white",
            "linecolor": "white",
            "ticks": ""
           }
          },
          "scene": {
           "xaxis": {
            "backgroundcolor": "#E5ECF6",
            "gridcolor": "white",
            "gridwidth": 2,
            "linecolor": "white",
            "showbackground": true,
            "ticks": "",
            "zerolinecolor": "white"
           },
           "yaxis": {
            "backgroundcolor": "#E5ECF6",
            "gridcolor": "white",
            "gridwidth": 2,
            "linecolor": "white",
            "showbackground": true,
            "ticks": "",
            "zerolinecolor": "white"
           },
           "zaxis": {
            "backgroundcolor": "#E5ECF6",
            "gridcolor": "white",
            "gridwidth": 2,
            "linecolor": "white",
            "showbackground": true,
            "ticks": "",
            "zerolinecolor": "white"
           }
          },
          "shapedefaults": {
           "line": {
            "color": "#2a3f5f"
           }
          },
          "ternary": {
           "aaxis": {
            "gridcolor": "white",
            "linecolor": "white",
            "ticks": ""
           },
           "baxis": {
            "gridcolor": "white",
            "linecolor": "white",
            "ticks": ""
           },
           "bgcolor": "#E5ECF6",
           "caxis": {
            "gridcolor": "white",
            "linecolor": "white",
            "ticks": ""
           }
          },
          "title": {
           "x": 0.05
          },
          "xaxis": {
           "automargin": true,
           "gridcolor": "white",
           "linecolor": "white",
           "ticks": "",
           "title": {
            "standoff": 15
           },
           "zerolinecolor": "white",
           "zerolinewidth": 2
          },
          "yaxis": {
           "automargin": true,
           "gridcolor": "white",
           "linecolor": "white",
           "ticks": "",
           "title": {
            "standoff": 15
           },
           "zerolinecolor": "white",
           "zerolinewidth": 2
          }
         }
        },
        "title": {
         "text": "Interactive 3D Scatter Plot of Rating, Actual Price, and Discounted Price"
        }
       }
      }
     },
     "metadata": {},
     "output_type": "display_data"
    }
   ],
   "source": [
    "import plotly.express as px\n",
    "\n",
    "# Create an interactive 3D scatter plot with Plotly\n",
    "fig = px.scatter_3d(df_product, x='harga_awal', y='harga_jual', z='rating', color='rating',\n",
    "                     hover_data=['nama_produk'], title='Interactive 3D Scatter Plot of Rating, Actual Price, and Discounted Price')\n",
    "fig.show()"
   ]
  },
  {
   "cell_type": "markdown",
   "metadata": {},
   "source": [
    "# Collaborative Filtering"
   ]
  },
  {
   "cell_type": "code",
   "execution_count": null,
   "metadata": {},
   "outputs": [
    {
     "data": {
      "text/html": [
       "<div>\n",
       "<style scoped>\n",
       "    .dataframe tbody tr th:only-of-type {\n",
       "        vertical-align: middle;\n",
       "    }\n",
       "\n",
       "    .dataframe tbody tr th {\n",
       "        vertical-align: top;\n",
       "    }\n",
       "\n",
       "    .dataframe thead th {\n",
       "        text-align: right;\n",
       "    }\n",
       "</style>\n",
       "<table border=\"1\" class=\"dataframe\">\n",
       "  <thead>\n",
       "    <tr style=\"text-align: right;\">\n",
       "      <th></th>\n",
       "      <th>id_produk</th>\n",
       "      <th>rating_user</th>\n",
       "      <th>id_user</th>\n",
       "    </tr>\n",
       "  </thead>\n",
       "  <tbody>\n",
       "    <tr>\n",
       "      <th>0</th>\n",
       "      <td>PI2563</td>\n",
       "      <td>5</td>\n",
       "      <td>UI0001</td>\n",
       "    </tr>\n",
       "    <tr>\n",
       "      <th>1</th>\n",
       "      <td>PI2564</td>\n",
       "      <td>5</td>\n",
       "      <td>UI0002</td>\n",
       "    </tr>\n",
       "    <tr>\n",
       "      <th>2</th>\n",
       "      <td>PI2567</td>\n",
       "      <td>5</td>\n",
       "      <td>UI0003</td>\n",
       "    </tr>\n",
       "    <tr>\n",
       "      <th>3</th>\n",
       "      <td>PI2569</td>\n",
       "      <td>5</td>\n",
       "      <td>UI0004</td>\n",
       "    </tr>\n",
       "    <tr>\n",
       "      <th>4</th>\n",
       "      <td>PI2573</td>\n",
       "      <td>5</td>\n",
       "      <td>UI0005</td>\n",
       "    </tr>\n",
       "  </tbody>\n",
       "</table>\n",
       "</div>"
      ],
      "text/plain": [
       "  id_produk  rating_user id_user\n",
       "0    PI2563            5  UI0001\n",
       "1    PI2564            5  UI0002\n",
       "2    PI2567            5  UI0003\n",
       "3    PI2569            5  UI0004\n",
       "4    PI2573            5  UI0005"
      ]
     },
     "execution_count": 153,
     "metadata": {},
     "output_type": "execute_result"
    }
   ],
   "source": [
    "df_cf = df_review[['id_produk', 'rating_user', 'id_user']]\n",
    "\n",
    "df_cf.head()"
   ]
  },
  {
   "cell_type": "code",
   "execution_count": null,
   "metadata": {},
   "outputs": [
    {
     "name": "stdout",
     "output_type": "stream",
     "text": [
      "<class 'pandas.core.frame.DataFrame'>\n",
      "RangeIndex: 10809 entries, 0 to 10808\n",
      "Data columns (total 3 columns):\n",
      " #   Column       Non-Null Count  Dtype \n",
      "---  ------       --------------  ----- \n",
      " 0   id_produk    10809 non-null  object\n",
      " 1   rating_user  10809 non-null  int64 \n",
      " 2   id_user      10809 non-null  object\n",
      "dtypes: int64(1), object(2)\n",
      "memory usage: 253.5+ KB\n"
     ]
    }
   ],
   "source": [
    "df_cf.info()"
   ]
  },
  {
   "cell_type": "code",
   "execution_count": null,
   "metadata": {},
   "outputs": [
    {
     "name": "stdout",
     "output_type": "stream",
     "text": [
      "Null value setelah proses final pre-processing :\n"
     ]
    },
    {
     "data": {
      "text/html": [
       "<div>\n",
       "<style scoped>\n",
       "    .dataframe tbody tr th:only-of-type {\n",
       "        vertical-align: middle;\n",
       "    }\n",
       "\n",
       "    .dataframe tbody tr th {\n",
       "        vertical-align: top;\n",
       "    }\n",
       "\n",
       "    .dataframe thead th {\n",
       "        text-align: right;\n",
       "    }\n",
       "</style>\n",
       "<table border=\"1\" class=\"dataframe\">\n",
       "  <thead>\n",
       "    <tr style=\"text-align: right;\">\n",
       "      <th></th>\n",
       "      <th>id_produk</th>\n",
       "      <th>rating_user</th>\n",
       "      <th>id_user</th>\n",
       "    </tr>\n",
       "  </thead>\n",
       "  <tbody>\n",
       "    <tr>\n",
       "      <th>0</th>\n",
       "      <td>0</td>\n",
       "      <td>0</td>\n",
       "      <td>0</td>\n",
       "    </tr>\n",
       "  </tbody>\n",
       "</table>\n",
       "</div>"
      ],
      "text/plain": [
       "   id_produk  rating_user  id_user\n",
       "0          0            0        0"
      ]
     },
     "execution_count": 155,
     "metadata": {},
     "output_type": "execute_result"
    }
   ],
   "source": [
    "print(\"Null value setelah proses final pre-processing :\")\n",
    "df_cf.isna().sum().to_frame().T"
   ]
  },
  {
   "cell_type": "code",
   "execution_count": null,
   "metadata": {},
   "outputs": [],
   "source": [
    "selected_users = df_cf[\"id_user\"].value_counts()\n",
    "data = df_cf[df_cf[\"id_user\"].isin(selected_users[selected_users >= 3].index)]"
   ]
  },
  {
   "cell_type": "code",
   "execution_count": null,
   "metadata": {},
   "outputs": [
    {
     "data": {
      "text/html": [
       "<div>\n",
       "<style scoped>\n",
       "    .dataframe tbody tr th:only-of-type {\n",
       "        vertical-align: middle;\n",
       "    }\n",
       "\n",
       "    .dataframe tbody tr th {\n",
       "        vertical-align: top;\n",
       "    }\n",
       "\n",
       "    .dataframe thead th {\n",
       "        text-align: right;\n",
       "    }\n",
       "</style>\n",
       "<table border=\"1\" class=\"dataframe\">\n",
       "  <thead>\n",
       "    <tr style=\"text-align: right;\">\n",
       "      <th>id_user</th>\n",
       "      <th>UI0001</th>\n",
       "      <th>UI0004</th>\n",
       "      <th>UI0005</th>\n",
       "      <th>UI0006</th>\n",
       "      <th>UI0007</th>\n",
       "      <th>UI0008</th>\n",
       "      <th>UI0009</th>\n",
       "      <th>UI0010</th>\n",
       "      <th>UI0011</th>\n",
       "      <th>UI0012</th>\n",
       "      <th>...</th>\n",
       "      <th>UI2994</th>\n",
       "      <th>UI3008</th>\n",
       "      <th>UI3079</th>\n",
       "      <th>UI3111</th>\n",
       "      <th>UI3213</th>\n",
       "      <th>UI3273</th>\n",
       "      <th>UI3325</th>\n",
       "      <th>UI3395</th>\n",
       "      <th>UI3406</th>\n",
       "      <th>UI3445</th>\n",
       "    </tr>\n",
       "    <tr>\n",
       "      <th>id_produk</th>\n",
       "      <th></th>\n",
       "      <th></th>\n",
       "      <th></th>\n",
       "      <th></th>\n",
       "      <th></th>\n",
       "      <th></th>\n",
       "      <th></th>\n",
       "      <th></th>\n",
       "      <th></th>\n",
       "      <th></th>\n",
       "      <th></th>\n",
       "      <th></th>\n",
       "      <th></th>\n",
       "      <th></th>\n",
       "      <th></th>\n",
       "      <th></th>\n",
       "      <th></th>\n",
       "      <th></th>\n",
       "      <th></th>\n",
       "      <th></th>\n",
       "      <th></th>\n",
       "    </tr>\n",
       "  </thead>\n",
       "  <tbody>\n",
       "    <tr>\n",
       "      <th>PI0001</th>\n",
       "      <td>0.0</td>\n",
       "      <td>0.0</td>\n",
       "      <td>0.0</td>\n",
       "      <td>0.0</td>\n",
       "      <td>5.0</td>\n",
       "      <td>0.0</td>\n",
       "      <td>0.0</td>\n",
       "      <td>0.0</td>\n",
       "      <td>0.0</td>\n",
       "      <td>0.0</td>\n",
       "      <td>...</td>\n",
       "      <td>0.0</td>\n",
       "      <td>0.0</td>\n",
       "      <td>0.0</td>\n",
       "      <td>0.0</td>\n",
       "      <td>0.0</td>\n",
       "      <td>0.0</td>\n",
       "      <td>0.0</td>\n",
       "      <td>0.0</td>\n",
       "      <td>0.0</td>\n",
       "      <td>0.0</td>\n",
       "    </tr>\n",
       "    <tr>\n",
       "      <th>PI0002</th>\n",
       "      <td>0.0</td>\n",
       "      <td>0.0</td>\n",
       "      <td>0.0</td>\n",
       "      <td>0.0</td>\n",
       "      <td>0.0</td>\n",
       "      <td>0.0</td>\n",
       "      <td>0.0</td>\n",
       "      <td>0.0</td>\n",
       "      <td>0.0</td>\n",
       "      <td>0.0</td>\n",
       "      <td>...</td>\n",
       "      <td>0.0</td>\n",
       "      <td>0.0</td>\n",
       "      <td>0.0</td>\n",
       "      <td>0.0</td>\n",
       "      <td>0.0</td>\n",
       "      <td>0.0</td>\n",
       "      <td>0.0</td>\n",
       "      <td>0.0</td>\n",
       "      <td>0.0</td>\n",
       "      <td>0.0</td>\n",
       "    </tr>\n",
       "    <tr>\n",
       "      <th>PI0003</th>\n",
       "      <td>0.0</td>\n",
       "      <td>0.0</td>\n",
       "      <td>0.0</td>\n",
       "      <td>0.0</td>\n",
       "      <td>0.0</td>\n",
       "      <td>0.0</td>\n",
       "      <td>0.0</td>\n",
       "      <td>0.0</td>\n",
       "      <td>0.0</td>\n",
       "      <td>0.0</td>\n",
       "      <td>...</td>\n",
       "      <td>0.0</td>\n",
       "      <td>0.0</td>\n",
       "      <td>0.0</td>\n",
       "      <td>0.0</td>\n",
       "      <td>0.0</td>\n",
       "      <td>0.0</td>\n",
       "      <td>0.0</td>\n",
       "      <td>0.0</td>\n",
       "      <td>0.0</td>\n",
       "      <td>0.0</td>\n",
       "    </tr>\n",
       "    <tr>\n",
       "      <th>PI0004</th>\n",
       "      <td>0.0</td>\n",
       "      <td>5.0</td>\n",
       "      <td>0.0</td>\n",
       "      <td>0.0</td>\n",
       "      <td>0.0</td>\n",
       "      <td>0.0</td>\n",
       "      <td>0.0</td>\n",
       "      <td>0.0</td>\n",
       "      <td>0.0</td>\n",
       "      <td>0.0</td>\n",
       "      <td>...</td>\n",
       "      <td>0.0</td>\n",
       "      <td>0.0</td>\n",
       "      <td>0.0</td>\n",
       "      <td>0.0</td>\n",
       "      <td>0.0</td>\n",
       "      <td>0.0</td>\n",
       "      <td>0.0</td>\n",
       "      <td>0.0</td>\n",
       "      <td>0.0</td>\n",
       "      <td>0.0</td>\n",
       "    </tr>\n",
       "    <tr>\n",
       "      <th>PI0005</th>\n",
       "      <td>0.0</td>\n",
       "      <td>0.0</td>\n",
       "      <td>0.0</td>\n",
       "      <td>0.0</td>\n",
       "      <td>0.0</td>\n",
       "      <td>0.0</td>\n",
       "      <td>0.0</td>\n",
       "      <td>5.0</td>\n",
       "      <td>0.0</td>\n",
       "      <td>0.0</td>\n",
       "      <td>...</td>\n",
       "      <td>0.0</td>\n",
       "      <td>0.0</td>\n",
       "      <td>0.0</td>\n",
       "      <td>0.0</td>\n",
       "      <td>0.0</td>\n",
       "      <td>0.0</td>\n",
       "      <td>0.0</td>\n",
       "      <td>0.0</td>\n",
       "      <td>0.0</td>\n",
       "      <td>0.0</td>\n",
       "    </tr>\n",
       "  </tbody>\n",
       "</table>\n",
       "<p>5 rows × 802 columns</p>\n",
       "</div>"
      ],
      "text/plain": [
       "id_user    UI0001  UI0004  UI0005  UI0006  UI0007  UI0008  UI0009  UI0010  \\\n",
       "id_produk                                                                   \n",
       "PI0001        0.0     0.0     0.0     0.0     5.0     0.0     0.0     0.0   \n",
       "PI0002        0.0     0.0     0.0     0.0     0.0     0.0     0.0     0.0   \n",
       "PI0003        0.0     0.0     0.0     0.0     0.0     0.0     0.0     0.0   \n",
       "PI0004        0.0     5.0     0.0     0.0     0.0     0.0     0.0     0.0   \n",
       "PI0005        0.0     0.0     0.0     0.0     0.0     0.0     0.0     5.0   \n",
       "\n",
       "id_user    UI0011  UI0012  ...  UI2994  UI3008  UI3079  UI3111  UI3213  \\\n",
       "id_produk                  ...                                           \n",
       "PI0001        0.0     0.0  ...     0.0     0.0     0.0     0.0     0.0   \n",
       "PI0002        0.0     0.0  ...     0.0     0.0     0.0     0.0     0.0   \n",
       "PI0003        0.0     0.0  ...     0.0     0.0     0.0     0.0     0.0   \n",
       "PI0004        0.0     0.0  ...     0.0     0.0     0.0     0.0     0.0   \n",
       "PI0005        0.0     0.0  ...     0.0     0.0     0.0     0.0     0.0   \n",
       "\n",
       "id_user    UI3273  UI3325  UI3395  UI3406  UI3445  \n",
       "id_produk                                          \n",
       "PI0001        0.0     0.0     0.0     0.0     0.0  \n",
       "PI0002        0.0     0.0     0.0     0.0     0.0  \n",
       "PI0003        0.0     0.0     0.0     0.0     0.0  \n",
       "PI0004        0.0     0.0     0.0     0.0     0.0  \n",
       "PI0005        0.0     0.0     0.0     0.0     0.0  \n",
       "\n",
       "[5 rows x 802 columns]"
      ]
     },
     "execution_count": 157,
     "metadata": {},
     "output_type": "execute_result"
    }
   ],
   "source": [
    "data_pivot = data.pivot_table(index=\"id_produk\",columns=\"id_user\",values=\"rating_user\").fillna(0)\n",
    "data_pivot.head()"
   ]
  },
  {
   "cell_type": "markdown",
   "metadata": {},
   "source": [
    "# Content Based Filtering"
   ]
  },
  {
   "cell_type": "code",
   "execution_count": null,
   "metadata": {},
   "outputs": [],
   "source": [
    "import numpy as np\n",
    "import pandas as pd\n",
    "import math\n",
    "import pyfiglet\n",
    "import json\n",
    "import time\n",
    "import os\n",
    "import matplotlib.pyplot as plt\n",
    "import seaborn as sns\n",
    "from sklearn.metrics.pairwise import cosine_similarity\n",
    "from sklearn.model_selection import train_test_split\n",
    "from sklearn.neighbors import NearestNeighbors\n",
    "# from sklearn.externals import joblib\n",
    "import scipy.sparse\n",
    "from scipy.sparse import csr_matrix\n",
    "from scipy.sparse.linalg import svds\n",
    "pd.options.mode.chained_assignment = None"
   ]
  },
  {
   "cell_type": "code",
   "execution_count": null,
   "metadata": {},
   "outputs": [
    {
     "name": "stdout",
     "output_type": "stream",
     "text": [
      "Mencari rekomendasi untuk produk no 416 yaitu PI0482.\n"
     ]
    }
   ],
   "source": [
    "from scipy.sparse import csr_matrix\n",
    "from sklearn.neighbors import NearestNeighbors\n",
    "\n",
    "data_matrix = csr_matrix(data_pivot.values)\n",
    "\n",
    "model_knn = NearestNeighbors(metric = \"cosine\", algorithm = \"brute\")\n",
    "model_knn.fit(data_matrix)\n",
    "\n",
    "query_no = np.random.choice(data_pivot.shape[0])\n",
    "print(f\"Mencari rekomendasi untuk produk no {query_no} yaitu {data_pivot.index[query_no]}.\")\n",
    "distances, indices = model_knn.kneighbors(data_pivot.iloc[query_no,:].values.reshape(1, -1), n_neighbors = 6)"
   ]
  },
  {
   "cell_type": "code",
   "execution_count": null,
   "metadata": {},
   "outputs": [
    {
     "name": "stdout",
     "output_type": "stream",
     "text": [
      "Rekomendasi untuk pembeli produk PI0482 :\n",
      "\n"
     ]
    },
    {
     "data": {
      "text/html": [
       "<div>\n",
       "<style scoped>\n",
       "    .dataframe tbody tr th:only-of-type {\n",
       "        vertical-align: middle;\n",
       "    }\n",
       "\n",
       "    .dataframe tbody tr th {\n",
       "        vertical-align: top;\n",
       "    }\n",
       "\n",
       "    .dataframe thead th {\n",
       "        text-align: right;\n",
       "    }\n",
       "</style>\n",
       "<table border=\"1\" class=\"dataframe\">\n",
       "  <thead>\n",
       "    <tr style=\"text-align: right;\">\n",
       "      <th></th>\n",
       "      <th>Produk Name</th>\n",
       "      <th>Rating</th>\n",
       "    </tr>\n",
       "    <tr>\n",
       "      <th>No</th>\n",
       "      <th></th>\n",
       "      <th></th>\n",
       "    </tr>\n",
       "  </thead>\n",
       "  <tbody>\n",
       "    <tr>\n",
       "      <th>1</th>\n",
       "      <td>PI0319</td>\n",
       "      <td>5</td>\n",
       "    </tr>\n",
       "    <tr>\n",
       "      <th>2</th>\n",
       "      <td>PI0627</td>\n",
       "      <td>5</td>\n",
       "    </tr>\n",
       "    <tr>\n",
       "      <th>3</th>\n",
       "      <td>PI2469</td>\n",
       "      <td>5</td>\n",
       "    </tr>\n",
       "    <tr>\n",
       "      <th>4</th>\n",
       "      <td>PI2494</td>\n",
       "      <td>5</td>\n",
       "    </tr>\n",
       "    <tr>\n",
       "      <th>5</th>\n",
       "      <td>PI2457</td>\n",
       "      <td>5</td>\n",
       "    </tr>\n",
       "  </tbody>\n",
       "</table>\n",
       "</div>"
      ],
      "text/plain": [
       "   Produk Name  Rating\n",
       "No                    \n",
       "1       PI0319       5\n",
       "2       PI0627       5\n",
       "3       PI2469       5\n",
       "4       PI2494       5\n",
       "5       PI2457       5"
      ]
     },
     "execution_count": 160,
     "metadata": {},
     "output_type": "execute_result"
    }
   ],
   "source": [
    "no = []\n",
    "name = []\n",
    "distance = []\n",
    "rating = []\n",
    "\n",
    "for i in range(0, len(distances.flatten())):\n",
    "    if i == 0:\n",
    "        print(f\"Rekomendasi untuk pembeli produk {data_pivot.index[query_no]} :\\n\")\n",
    "    else:  \n",
    "        no.append(i)\n",
    "        name.append(data_pivot.index[indices.flatten()[i]])\n",
    "        distance.append(distances.flatten()[i])\n",
    "        \n",
    "        # Get the ratings for the product\n",
    "        product_ratings = df_cf[df_cf[\"id_produk\"] == data_pivot.index[indices.flatten()[i]]][\"rating_user\"].values\n",
    "        \n",
    "        # Check if there are ratings and append accordingly\n",
    "        if len(product_ratings) > 0:\n",
    "            rating.append(product_ratings[0])  # Append the first rating found\n",
    "        else:\n",
    "            rating.append(None)  # Append None if no ratings are found\n",
    "\n",
    "dic = {\"No\": no, \"Produk Name\": name, \"Rating\": rating}\n",
    "recommendation = pd.DataFrame(data=dic)\n",
    "recommendation.set_index(\"No\", inplace=True)\n",
    "recommendation\n"
   ]
  },
  {
   "cell_type": "code",
   "execution_count": null,
   "metadata": {},
   "outputs": [
    {
     "data": {
      "text/html": [
       "<div>\n",
       "<style scoped>\n",
       "    .dataframe tbody tr th:only-of-type {\n",
       "        vertical-align: middle;\n",
       "    }\n",
       "\n",
       "    .dataframe tbody tr th {\n",
       "        vertical-align: top;\n",
       "    }\n",
       "\n",
       "    .dataframe thead th {\n",
       "        text-align: right;\n",
       "    }\n",
       "</style>\n",
       "<table border=\"1\" class=\"dataframe\">\n",
       "  <thead>\n",
       "    <tr style=\"text-align: right;\">\n",
       "      <th></th>\n",
       "      <th>id_produk</th>\n",
       "      <th>id_user</th>\n",
       "      <th>nama_akun</th>\n",
       "      <th>rating_user</th>\n",
       "      <th>ulasan_produk</th>\n",
       "      <th>waktu_review</th>\n",
       "      <th>varian_produk</th>\n",
       "      <th>nama_produk</th>\n",
       "      <th>jumlah_terjual</th>\n",
       "      <th>harga_jual</th>\n",
       "      <th>harga_awal</th>\n",
       "      <th>diskon</th>\n",
       "      <th>deskripsi</th>\n",
       "      <th>rating</th>\n",
       "      <th>rating_counter</th>\n",
       "      <th>link</th>\n",
       "      <th>image_path</th>\n",
       "      <th>kategori</th>\n",
       "    </tr>\n",
       "  </thead>\n",
       "  <tbody>\n",
       "    <tr>\n",
       "      <th>0</th>\n",
       "      <td>PI2563</td>\n",
       "      <td>UI0001</td>\n",
       "      <td>Bimo</td>\n",
       "      <td>5</td>\n",
       "      <td>Nyaman dan praktis tinggal plug and play</td>\n",
       "      <td>Lebih dari 1 tahun lalu</td>\n",
       "      <td>none</td>\n",
       "      <td>Pulsar X2 MINI RandomFrankP Edition WIreless G...</td>\n",
       "      <td>3</td>\n",
       "      <td>1699000</td>\n",
       "      <td>1699000</td>\n",
       "      <td>0.00</td>\n",
       "      <td>JAM OPERASIONAL\\r\\nSenin - Minggu : 10:00 - 19...</td>\n",
       "      <td>5.0</td>\n",
       "      <td>1</td>\n",
       "      <td>https://www.tokopedia.com/goodgamingshop/pulsa...</td>\n",
       "      <td>final-project/data-collection-preprocessing/da...</td>\n",
       "      <td>Komputer &amp; Laptop; Aksesoris PC Gaming; Mouse ...</td>\n",
       "    </tr>\n",
       "    <tr>\n",
       "      <th>1</th>\n",
       "      <td>PI2564</td>\n",
       "      <td>UI0002</td>\n",
       "      <td>S***m</td>\n",
       "      <td>5</td>\n",
       "      <td>Keren memang mojo68 retro, sayang typing sound...</td>\n",
       "      <td>9 bulan lalu</td>\n",
       "      <td>Varian: Gat Silver Pro</td>\n",
       "      <td>Melgeek Mojo68 Retro - Mechanical Keyboard</td>\n",
       "      <td>3</td>\n",
       "      <td>2999000</td>\n",
       "      <td>2999000</td>\n",
       "      <td>0.00</td>\n",
       "      <td>JAM OPERASIONAL\\r\\n✅ Senin - Minggu : 10:00 - ...</td>\n",
       "      <td>5.0</td>\n",
       "      <td>1</td>\n",
       "      <td>https://www.tokopedia.com/goodgamingshop/melge...</td>\n",
       "      <td>final-project/data-collection-preprocessing/da...</td>\n",
       "      <td>Komputer &amp; Laptop; Aksesoris Komputer &amp; Laptop...</td>\n",
       "    </tr>\n",
       "    <tr>\n",
       "      <th>2</th>\n",
       "      <td>PI2567</td>\n",
       "      <td>UI0003</td>\n",
       "      <td>Riski</td>\n",
       "      <td>5</td>\n",
       "      <td>buat yg nyari suara pas ngetik, bisa beli yg s...</td>\n",
       "      <td>Lebih dari 1 tahun lalu</td>\n",
       "      <td>Varian: Brown Switch</td>\n",
       "      <td>Redragon K608 Full size Mechanical - Gaming Ke...</td>\n",
       "      <td>3</td>\n",
       "      <td>475000</td>\n",
       "      <td>475000</td>\n",
       "      <td>0.00</td>\n",
       "      <td>Garansi Resmi Distributor (WAJIB MENYERTAKAN B...</td>\n",
       "      <td>5.0</td>\n",
       "      <td>1</td>\n",
       "      <td>https://www.tokopedia.com/goodgamingshop/redra...</td>\n",
       "      <td>final-project/data-collection-preprocessing/da...</td>\n",
       "      <td>Komputer &amp; Laptop; Aksesoris PC Gaming; Game C...</td>\n",
       "    </tr>\n",
       "    <tr>\n",
       "      <th>3</th>\n",
       "      <td>PI2569</td>\n",
       "      <td>UI0004</td>\n",
       "      <td>S***o</td>\n",
       "      <td>5</td>\n",
       "      <td>rapih, material bagus, nyaman digunakan, dimen...</td>\n",
       "      <td>Lebih dari 1 tahun lalu</td>\n",
       "      <td>none</td>\n",
       "      <td>CORSAIR MM300 EXTENDED GAMING MOUSEPAD SPEED</td>\n",
       "      <td>3</td>\n",
       "      <td>499000</td>\n",
       "      <td>499000</td>\n",
       "      <td>0.00</td>\n",
       "      <td>Superior control for lethal in-game accuracy.\\...</td>\n",
       "      <td>5.0</td>\n",
       "      <td>2</td>\n",
       "      <td>https://www.tokopedia.com/goodgamingshop/corsa...</td>\n",
       "      <td>final-project/data-collection-preprocessing/da...</td>\n",
       "      <td>Komputer &amp; Laptop; Aksesoris PC Gaming; Mouse ...</td>\n",
       "    </tr>\n",
       "    <tr>\n",
       "      <th>4</th>\n",
       "      <td>PI2573</td>\n",
       "      <td>UI0005</td>\n",
       "      <td>Winardi</td>\n",
       "      <td>5</td>\n",
       "      <td>Kedua kali beli Zoom75 disini and never dissap...</td>\n",
       "      <td>3 bulan lalu</td>\n",
       "      <td>none</td>\n",
       "      <td>ZOOM75 Essential Edition Strawberry IceCream B...</td>\n",
       "      <td>2</td>\n",
       "      <td>3299000</td>\n",
       "      <td>3999000</td>\n",
       "      <td>0.18</td>\n",
       "      <td>JAM OPERASIONAL\\r\\n✅ Senin - Minggu : 10:00 - ...</td>\n",
       "      <td>5.0</td>\n",
       "      <td>1</td>\n",
       "      <td>https://www.tokopedia.com/goodgamingshop/zoom7...</td>\n",
       "      <td>final-project/data-collection-preprocessing/da...</td>\n",
       "      <td>Komputer &amp; Laptop; Aksesoris PC Gaming; Keyboa...</td>\n",
       "    </tr>\n",
       "  </tbody>\n",
       "</table>\n",
       "</div>"
      ],
      "text/plain": [
       "  id_produk id_user nama_akun  rating_user  \\\n",
       "0    PI2563  UI0001      Bimo            5   \n",
       "1    PI2564  UI0002     S***m            5   \n",
       "2    PI2567  UI0003     Riski            5   \n",
       "3    PI2569  UI0004     S***o            5   \n",
       "4    PI2573  UI0005   Winardi            5   \n",
       "\n",
       "                                       ulasan_produk             waktu_review  \\\n",
       "0           Nyaman dan praktis tinggal plug and play  Lebih dari 1 tahun lalu   \n",
       "1  Keren memang mojo68 retro, sayang typing sound...             9 bulan lalu   \n",
       "2  buat yg nyari suara pas ngetik, bisa beli yg s...  Lebih dari 1 tahun lalu   \n",
       "3  rapih, material bagus, nyaman digunakan, dimen...  Lebih dari 1 tahun lalu   \n",
       "4  Kedua kali beli Zoom75 disini and never dissap...             3 bulan lalu   \n",
       "\n",
       "            varian_produk                                        nama_produk  \\\n",
       "0                    none  Pulsar X2 MINI RandomFrankP Edition WIreless G...   \n",
       "1  Varian: Gat Silver Pro         Melgeek Mojo68 Retro - Mechanical Keyboard   \n",
       "2    Varian: Brown Switch  Redragon K608 Full size Mechanical - Gaming Ke...   \n",
       "3                    none       CORSAIR MM300 EXTENDED GAMING MOUSEPAD SPEED   \n",
       "4                    none  ZOOM75 Essential Edition Strawberry IceCream B...   \n",
       "\n",
       "   jumlah_terjual  harga_jual  harga_awal  diskon  \\\n",
       "0               3     1699000     1699000    0.00   \n",
       "1               3     2999000     2999000    0.00   \n",
       "2               3      475000      475000    0.00   \n",
       "3               3      499000      499000    0.00   \n",
       "4               2     3299000     3999000    0.18   \n",
       "\n",
       "                                           deskripsi  rating  rating_counter  \\\n",
       "0  JAM OPERASIONAL\\r\\nSenin - Minggu : 10:00 - 19...     5.0               1   \n",
       "1  JAM OPERASIONAL\\r\\n✅ Senin - Minggu : 10:00 - ...     5.0               1   \n",
       "2  Garansi Resmi Distributor (WAJIB MENYERTAKAN B...     5.0               1   \n",
       "3  Superior control for lethal in-game accuracy.\\...     5.0               2   \n",
       "4  JAM OPERASIONAL\\r\\n✅ Senin - Minggu : 10:00 - ...     5.0               1   \n",
       "\n",
       "                                                link  \\\n",
       "0  https://www.tokopedia.com/goodgamingshop/pulsa...   \n",
       "1  https://www.tokopedia.com/goodgamingshop/melge...   \n",
       "2  https://www.tokopedia.com/goodgamingshop/redra...   \n",
       "3  https://www.tokopedia.com/goodgamingshop/corsa...   \n",
       "4  https://www.tokopedia.com/goodgamingshop/zoom7...   \n",
       "\n",
       "                                          image_path  \\\n",
       "0  final-project/data-collection-preprocessing/da...   \n",
       "1  final-project/data-collection-preprocessing/da...   \n",
       "2  final-project/data-collection-preprocessing/da...   \n",
       "3  final-project/data-collection-preprocessing/da...   \n",
       "4  final-project/data-collection-preprocessing/da...   \n",
       "\n",
       "                                            kategori  \n",
       "0  Komputer & Laptop; Aksesoris PC Gaming; Mouse ...  \n",
       "1  Komputer & Laptop; Aksesoris Komputer & Laptop...  \n",
       "2  Komputer & Laptop; Aksesoris PC Gaming; Game C...  \n",
       "3  Komputer & Laptop; Aksesoris PC Gaming; Mouse ...  \n",
       "4  Komputer & Laptop; Aksesoris PC Gaming; Keyboa...  "
      ]
     },
     "execution_count": 161,
     "metadata": {},
     "output_type": "execute_result"
    }
   ],
   "source": [
    "# Menggabungkan kedua DataFrame berdasarkan kolom id_produk\n",
    "df_merged = pd.merge(df_review, df_product, on=['id_produk'], how='left')\n",
    "\n",
    "# Menampilkan hasil\n",
    "df_merged.head()"
   ]
  },
  {
   "cell_type": "code",
   "execution_count": null,
   "metadata": {},
   "outputs": [],
   "source": [
    "df_merged.to_csv('../data-collection-preprocessing/final_product_ulasan-goodgamingshop.csv', index=False)"
   ]
  },
  {
   "cell_type": "code",
   "execution_count": null,
   "metadata": {},
   "outputs": [],
   "source": [
    "from sklearn.feature_extraction.text import TfidfVectorizer\n",
    "\n",
    "tfv = TfidfVectorizer(min_df=3, max_features=None, strip_accents=\"unicode\", analyzer=\"word\",\n",
    "                      token_pattern=r\"\\w{1,}\", ngram_range=(1, 3), stop_words = \"english\")\n",
    "\n",
    "rec_data = pd.read_csv('../data-collection-preprocessing/final_product_ulasan-goodgamingshop.csv')\n",
    "rec_data.drop_duplicates(subset =\"nama_produk\", keep = \"first\", inplace = True)\n",
    "rec_data.reset_index(drop = True, inplace = True)\n",
    "genres = rec_data[\"kategori\"].str.split(\", | , | ,\").astype(str)\n",
    "tfv_matrix = tfv.fit_transform(genres)"
   ]
  },
  {
   "cell_type": "code",
   "execution_count": null,
   "metadata": {},
   "outputs": [],
   "source": [
    "from sklearn.metrics.pairwise import sigmoid_kernel\n",
    "\n",
    "sig = sigmoid_kernel(tfv_matrix, tfv_matrix)\n",
    "\n",
    "rec_indices = pd.Series(rec_data.index, index = rec_data[\"nama_produk\"]).drop_duplicates()\n",
    "\n",
    "\n",
    "def give_recommendation(title, sig = sig):\n",
    "    \n",
    "    idx = rec_indices[title]\n",
    "\n",
    "    sig_score = list(enumerate(sig[idx]))\n",
    "    sig_score = sorted(sig_score, key=lambda x: x[1], reverse=True)\n",
    "    sig_score = sig_score[1:11]\n",
    "    product_indices = [i[0] for i in sig_score]\n",
    "     \n",
    "    rec_dic = {\"No\" : range(1,11), \n",
    "               \"Nama Produk\" : df_merged[\"nama_produk\"].iloc[product_indices].values,\n",
    "               \"Rating\" : df_merged[\"rating_user\"].iloc[product_indices].values}\n",
    "    dataframe = pd.DataFrame(data = rec_dic)\n",
    "    dataframe.set_index(\"No\", inplace = True)\n",
    "    \n",
    "    print(f\"Rekomendasi untuk Pembeli {title} :\\n\")\n",
    "    \n",
    "    return dataframe"
   ]
  },
  {
   "cell_type": "code",
   "execution_count": null,
   "metadata": {},
   "outputs": [
    {
     "name": "stdout",
     "output_type": "stream",
     "text": [
      "Rekomendasi untuk Pembeli Melgeek Mojo68 Retro - Mechanical Keyboard :\n",
      "\n"
     ]
    },
    {
     "data": {
      "text/html": [
       "<div>\n",
       "<style scoped>\n",
       "    .dataframe tbody tr th:only-of-type {\n",
       "        vertical-align: middle;\n",
       "    }\n",
       "\n",
       "    .dataframe tbody tr th {\n",
       "        vertical-align: top;\n",
       "    }\n",
       "\n",
       "    .dataframe thead th {\n",
       "        text-align: right;\n",
       "    }\n",
       "</style>\n",
       "<table border=\"1\" class=\"dataframe\">\n",
       "  <thead>\n",
       "    <tr style=\"text-align: right;\">\n",
       "      <th></th>\n",
       "      <th>Nama Produk</th>\n",
       "      <th>Rating</th>\n",
       "    </tr>\n",
       "    <tr>\n",
       "      <th>No</th>\n",
       "      <th></th>\n",
       "      <th></th>\n",
       "    </tr>\n",
       "  </thead>\n",
       "  <tbody>\n",
       "    <tr>\n",
       "      <th>1</th>\n",
       "      <td>Yiqi Keycaps Plastics PBT Dye-Sub MDA Profile</td>\n",
       "      <td>5</td>\n",
       "    </tr>\n",
       "    <tr>\n",
       "      <th>2</th>\n",
       "      <td>Corsair MM300 - Gaming Mousepad</td>\n",
       "      <td>5</td>\n",
       "    </tr>\n",
       "    <tr>\n",
       "      <th>3</th>\n",
       "      <td>Logitech G733 Lightspeed - Wireless Gaming Hea...</td>\n",
       "      <td>4</td>\n",
       "    </tr>\n",
       "    <tr>\n",
       "      <th>4</th>\n",
       "      <td>Logitech G733 Lightspeed - Wireless Gaming Hea...</td>\n",
       "      <td>5</td>\n",
       "    </tr>\n",
       "    <tr>\n",
       "      <th>5</th>\n",
       "      <td>Logitech G733 Lightspeed - Wireless Gaming Hea...</td>\n",
       "      <td>4</td>\n",
       "    </tr>\n",
       "    <tr>\n",
       "      <th>6</th>\n",
       "      <td>Logitech G733 Lightspeed - Wireless Gaming Hea...</td>\n",
       "      <td>5</td>\n",
       "    </tr>\n",
       "    <tr>\n",
       "      <th>7</th>\n",
       "      <td>Logitech G733 Lightspeed - Wireless Gaming Hea...</td>\n",
       "      <td>5</td>\n",
       "    </tr>\n",
       "    <tr>\n",
       "      <th>8</th>\n",
       "      <td>Rexus Mousepad Daxa Jacquard - MJ01</td>\n",
       "      <td>4</td>\n",
       "    </tr>\n",
       "    <tr>\n",
       "      <th>9</th>\n",
       "      <td>Rexus Mousepad Daxa Jacquard - MJ01</td>\n",
       "      <td>5</td>\n",
       "    </tr>\n",
       "    <tr>\n",
       "      <th>10</th>\n",
       "      <td>Rexus Bluetooth Gamepad Gladius GX300 - Blck H...</td>\n",
       "      <td>5</td>\n",
       "    </tr>\n",
       "  </tbody>\n",
       "</table>\n",
       "</div>"
      ],
      "text/plain": [
       "                                          Nama Produk  Rating\n",
       "No                                                           \n",
       "1       Yiqi Keycaps Plastics PBT Dye-Sub MDA Profile       5\n",
       "2                     Corsair MM300 - Gaming Mousepad       5\n",
       "3   Logitech G733 Lightspeed - Wireless Gaming Hea...       4\n",
       "4   Logitech G733 Lightspeed - Wireless Gaming Hea...       5\n",
       "5   Logitech G733 Lightspeed - Wireless Gaming Hea...       4\n",
       "6   Logitech G733 Lightspeed - Wireless Gaming Hea...       5\n",
       "7   Logitech G733 Lightspeed - Wireless Gaming Hea...       5\n",
       "8                 Rexus Mousepad Daxa Jacquard - MJ01       4\n",
       "9                 Rexus Mousepad Daxa Jacquard - MJ01       5\n",
       "10  Rexus Bluetooth Gamepad Gladius GX300 - Blck H...       5"
      ]
     },
     "execution_count": 165,
     "metadata": {},
     "output_type": "execute_result"
    }
   ],
   "source": [
    "recommendation = give_recommendation(\"Melgeek Mojo68 Retro - Mechanical Keyboard\")\n",
    "recommendation"
   ]
  },
  {
   "cell_type": "markdown",
   "metadata": {},
   "source": [
    "# User Based Filtering"
   ]
  }
 ],
 "metadata": {
  "kernelspec": {
   "display_name": "Python 3",
   "language": "python",
   "name": "python3"
  },
  "language_info": {
   "codemirror_mode": {
    "name": "ipython",
    "version": 3
   },
   "file_extension": ".py",
   "mimetype": "text/x-python",
   "name": "python",
   "nbconvert_exporter": "python",
   "pygments_lexer": "ipython3",
   "version": "3.12.4"
  }
 },
 "nbformat": 4,
 "nbformat_minor": 2
}
